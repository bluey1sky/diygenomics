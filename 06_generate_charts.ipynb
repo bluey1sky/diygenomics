{
 "cells": [
  {
   "cell_type": "code",
   "execution_count": null,
   "id": "2722a13c-4c6d-4ca7-9280-fc4768551379",
   "metadata": {
    "tags": []
   },
   "outputs": [],
   "source": [
    "import ast\n",
    "import altair as alt\n",
    "import json\n",
    "import numpy as np\n",
    "import os\n",
    "import pandas as pd\n",
    "import pprint\n",
    "import re\n",
    "\n",
    "from altair_saver import save\n",
    "from collections import defaultdict\n",
    "from selenium.webdriver import Chrome, ChromeOptions\n",
    "\n",
    "from collections import defaultdict, Counter\n",
    "\n",
    "pd.set_option('display.max_colwidth', None)"
   ]
  },
  {
   "cell_type": "code",
   "execution_count": null,
   "id": "9a2603e8-d838-4fd0-99b5-f70cb9a9b47a",
   "metadata": {},
   "outputs": [],
   "source": [
    "# ! pip install -U selenium==4.2.0"
   ]
  },
  {
   "cell_type": "code",
   "execution_count": null,
   "id": "d0a6f57a-bdf5-488b-83b7-1810e98f2dc9",
   "metadata": {
    "tags": []
   },
   "outputs": [],
   "source": [
    "topic_file = 'topics.json'\n",
    "index_col = 'uuid'\n",
    "\n",
    "original_file = '2021_Wightman-Posthuma_A_genomewide_association_study_with_112_563_individuals_identifies_new_risk_loci_for_Alzheimers_disease'\n",
    "external_id = '2023_05_02_27142069922ab9506d3dg'\n",
    "\n",
    "input_file = f'gpt_topics_{external_id}.csv'\n",
    "\n",
    "data_path = os.getenv('DATA_PATH')\n",
    "file_path = lambda *args: os.path.join(data_path, 'diygenomics-projects', 'experiment-a', \n",
    "                                       original_file, 'mathpix', *args)\n",
    "\n",
    "if not os.path.exists(file_path('charts')):\n",
    "    os.makedirs(file_path('charts'))"
   ]
  },
  {
   "cell_type": "code",
   "execution_count": null,
   "id": "06e4cc67-a6eb-4116-b6f7-fef13fe24583",
   "metadata": {
    "tags": []
   },
   "outputs": [],
   "source": [
    "def snake_case(s):\n",
    "    # Replace any punctuation with whitespace\n",
    "    s = re.sub(r'[^\\w\\s]', ' ', s)\n",
    "    # Split the string into words and lowercase them\n",
    "    words = s.lower().split()\n",
    "    # Join the words with underscores\n",
    "    return '_'.join(words)"
   ]
  },
  {
   "cell_type": "code",
   "execution_count": null,
   "id": "dd85c9d1-56d8-45c7-a70e-bca5b825a21d",
   "metadata": {
    "tags": []
   },
   "outputs": [],
   "source": [
    "with open(file_path(topic_file), 'r') as f:\n",
    "    corpus_topics = json.load(f)\n",
    "    corpus_topics_keys = list(corpus_topics.keys())"
   ]
  },
  {
   "cell_type": "code",
   "execution_count": null,
   "id": "3edddd8b-a089-4a5d-831c-41379752d2ae",
   "metadata": {
    "tags": []
   },
   "outputs": [],
   "source": [
    "df = pd.read_csv(file_path(input_file), index_col=index_col)"
   ]
  },
  {
   "cell_type": "code",
   "execution_count": null,
   "id": "0916c23a-01ee-4f75-b5fd-f815bbccb989",
   "metadata": {
    "tags": []
   },
   "outputs": [],
   "source": [
    "df_topics = df[~df['topics'].isna()]"
   ]
  },
  {
   "cell_type": "code",
   "execution_count": null,
   "id": "05590ce0-bbae-416e-8c52-04d266b504aa",
   "metadata": {
    "tags": []
   },
   "outputs": [],
   "source": [
    "topics_list = df_topics['topics'].apply(lambda x: x).tolist()\n",
    "\n",
    "topic_dict = {topic: sum(topic in row for row in topics_list) for topic in corpus_topics_keys}\n",
    "\n",
    "with open(file_path(f'topics_counts.json'), 'w') as f:\n",
    "    json.dump(topic_dict, f)"
   ]
  },
  {
   "cell_type": "code",
   "execution_count": null,
   "id": "acda36a1-7eea-4b98-81c3-116294080b1c",
   "metadata": {
    "tags": []
   },
   "outputs": [],
   "source": [
    "df_topics = pd.DataFrame.from_dict(topic_dict, orient='index', columns=['count'])\n",
    "\n",
    "df_topics = df_topics.reset_index().rename(columns={'index': 'topic'})\n",
    "\n",
    "color_scale = alt.Scale(domain=list(df_topics['topic']))\n",
    "\n",
    "chart = alt.Chart(df_topics).mark_bar().encode(\n",
    "    x=alt.X('count:Q', axis=alt.Axis(title='Count'), sort='-y'),\n",
    "    y=alt.Y('topic', axis=alt.Axis(title='Topic')),\n",
    "    color=alt.Color('topic', scale=color_scale)\n",
    ").properties(\n",
    "    title=f'Topic Counts'\n",
    ")\n",
    "\n",
    "# chart.show()\n",
    "save(chart, file_path('charts', f'topic_counts.png'))  "
   ]
  },
  {
   "cell_type": "code",
   "execution_count": null,
   "id": "a2e13b5b-7117-4962-9549-b43acf97ba45",
   "metadata": {},
   "outputs": [],
   "source": []
  }
 ],
 "metadata": {
  "kernelspec": {
   "display_name": "Python 3 (ipykernel)",
   "language": "python",
   "name": "python3"
  },
  "language_info": {
   "codemirror_mode": {
    "name": "ipython",
    "version": 3
   },
   "file_extension": ".py",
   "mimetype": "text/x-python",
   "name": "python",
   "nbconvert_exporter": "python",
   "pygments_lexer": "ipython3",
   "version": "3.11.0"
  }
 },
 "nbformat": 4,
 "nbformat_minor": 5
}
