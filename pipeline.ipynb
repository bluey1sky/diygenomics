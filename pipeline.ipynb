{
 "cells": [
  {
   "cell_type": "code",
   "execution_count": 1,
   "id": "9d687d18-7035-4244-bfa9-c7c27281c269",
   "metadata": {
    "tags": []
   },
   "outputs": [],
   "source": [
    "import os\n",
    "import papermill as pm\n",
    "import scrapbook as sb"
   ]
  },
  {
   "cell_type": "code",
   "execution_count": 2,
   "id": "a0cb1cf3-6cd4-4583-b5fd-fa0b737e4656",
   "metadata": {
    "tags": []
   },
   "outputs": [],
   "source": [
    "file_name = '2023 Wyss Modeling COVID-19 SIR compartmental.pdf'\n",
    "human_title = '2023 Wyss Modeling COVID-19 SIR compartmental'\n",
    "\n",
    "base_name = os.path.splitext(os.path.basename(file_name))[0].replace(' ', '_')\n",
    "\n",
    "project_folder = 'diygenomics-projects'\n",
    "sub_category = 'math'\n",
    "work_bucket = 'SIR'\n",
    "\n",
    "data_path = os.getenv('DATA_PATH')\n",
    "file_path = lambda *args: os.path.join(data_path, project_folder, sub_category, work_bucket, *args)\n",
    "\n",
    "if not os.path.exists(file_path(base_name)):\n",
    "    os.mkdir(file_path(base_name))\n",
    "    \n",
    "if not os.path.exists(file_path(base_name, 'mathpix')):\n",
    "    os.mkdir(file_path(base_name, 'mathpix'))"
   ]
  },
  {
   "cell_type": "code",
   "execution_count": 3,
   "id": "b38fbf4f-62bd-44d6-b143-3ae40083c916",
   "metadata": {
    "tags": []
   },
   "outputs": [
    {
     "data": {
      "application/vnd.jupyter.widget-view+json": {
       "model_id": "6ebebac0bc7e49c6bd6935bbc0c41f69",
       "version_major": 2,
       "version_minor": 0
      },
      "text/plain": [
       "Executing:   0%|          | 0/11 [00:00<?, ?cell/s]"
      ]
     },
     "metadata": {},
     "output_type": "display_data"
    },
    {
     "name": "stderr",
     "output_type": "stream",
     "text": [
      "0.00s - Debugger warning: It seems that frozen modules are being used, which may\n",
      "0.00s - make the debugger miss breakpoints. Please pass -Xfrozen_modules=off\n",
      "0.00s - to python to disable frozen modules.\n",
      "0.00s - Note: Debugging will proceed. Set PYDEVD_DISABLE_FILE_VALIDATION=1 to disable this validation.\n"
     ]
    }
   ],
   "source": [
    "notebook_name = '01_post_document_to_mathpix.ipynb'\n",
    "\n",
    "params = {\n",
    "            'file_name': file_name,\n",
    "            'base_name': base_name,\n",
    "            'work_bucket': work_bucket,\n",
    "            'project_folder': project_folder,\n",
    "            'sub_category': sub_category\n",
    "         }\n",
    "\n",
    "result = pm.execute_notebook(\n",
    "    notebook_name,\n",
    "    file_path(base_name, notebook_name),\n",
    "    parameters=params\n",
    ")"
   ]
  },
  {
   "cell_type": "code",
   "execution_count": 4,
   "id": "53d2d3b6-cda8-47e4-ae81-f50275a085a0",
   "metadata": {
    "tags": []
   },
   "outputs": [],
   "source": [
    "nb = sb.read_notebook(file_path(base_name, notebook_name))\n",
    "external_id = nb.scraps.data_dict['external_id']\n",
    "processing_status = nb.scraps.data_dict['status']"
   ]
  },
  {
   "cell_type": "code",
   "execution_count": 5,
   "id": "bbdb6133-cad9-4e59-801b-e5f108fe8d86",
   "metadata": {
    "tags": []
   },
   "outputs": [
    {
     "data": {
      "application/vnd.jupyter.widget-view+json": {
       "model_id": "492ae19c7ca8438aab878291848e5dcc",
       "version_major": 2,
       "version_minor": 0
      },
      "text/plain": [
       "Executing:   0%|          | 0/10 [00:00<?, ?cell/s]"
      ]
     },
     "metadata": {},
     "output_type": "display_data"
    },
    {
     "name": "stderr",
     "output_type": "stream",
     "text": [
      "0.00s - Debugger warning: It seems that frozen modules are being used, which may\n",
      "0.00s - make the debugger miss breakpoints. Please pass -Xfrozen_modules=off\n",
      "0.00s - to python to disable frozen modules.\n",
      "0.00s - Note: Debugging will proceed. Set PYDEVD_DISABLE_FILE_VALIDATION=1 to disable this validation.\n"
     ]
    }
   ],
   "source": [
    "if processing_status == 'completed':\n",
    "    notebook_name = '02_post_images_to_mathpix.ipynb'\n",
    "\n",
    "    params = {\n",
    "                'base_name': base_name,\n",
    "                'project_folder': project_folder,\n",
    "                'sub_category': sub_category,\n",
    "                'work_bucket': work_bucket,\n",
    "                'external_id': external_id\n",
    "             }\n",
    "\n",
    "    pm.execute_notebook(\n",
    "        notebook_name,\n",
    "        file_path(base_name, notebook_name),\n",
    "        parameters=params\n",
    "    )"
   ]
  },
  {
   "cell_type": "code",
   "execution_count": 6,
   "id": "5d05ec9d-5649-41c5-b090-cf18d2f2afdc",
   "metadata": {
    "tags": []
   },
   "outputs": [],
   "source": [
    "nb = sb.read_notebook(file_path(base_name, notebook_name))\n",
    "processing_status = nb.scraps.data_dict['status']"
   ]
  },
  {
   "cell_type": "code",
   "execution_count": 7,
   "id": "f5827379-84a4-4ffd-8420-6808ba84bed9",
   "metadata": {
    "tags": []
   },
   "outputs": [
    {
     "data": {
      "application/vnd.jupyter.widget-view+json": {
       "model_id": "bd914aebf90f440bb053a8084eee0b57",
       "version_major": 2,
       "version_minor": 0
      },
      "text/plain": [
       "Executing:   0%|          | 0/12 [00:00<?, ?cell/s]"
      ]
     },
     "metadata": {},
     "output_type": "display_data"
    },
    {
     "name": "stderr",
     "output_type": "stream",
     "text": [
      "0.00s - Debugger warning: It seems that frozen modules are being used, which may\n",
      "0.00s - make the debugger miss breakpoints. Please pass -Xfrozen_modules=off\n",
      "0.00s - to python to disable frozen modules.\n",
      "0.00s - Note: Debugging will proceed. Set PYDEVD_DISABLE_FILE_VALIDATION=1 to disable this validation.\n"
     ]
    }
   ],
   "source": [
    "if processing_status == 'completed':\n",
    "    notebook_name = '03_create_dataset_from_mathpix.ipynb'\n",
    "\n",
    "    params = {\n",
    "                'base_name': base_name,\n",
    "                'project_folder': project_folder,\n",
    "                'sub_category': sub_category,\n",
    "                'work_bucket': work_bucket,\n",
    "                'external_id': external_id\n",
    "             }\n",
    "\n",
    "    pm.execute_notebook(\n",
    "        notebook_name,\n",
    "        file_path(base_name, notebook_name),\n",
    "        parameters=params\n",
    "    )"
   ]
  },
  {
   "cell_type": "code",
   "execution_count": 8,
   "id": "e362d9c4-0f25-45b5-9065-f0a804bd8910",
   "metadata": {
    "tags": []
   },
   "outputs": [],
   "source": [
    "nb = sb.read_notebook(file_path(base_name, notebook_name))\n",
    "processing_status = nb.scraps.data_dict['status']"
   ]
  },
  {
   "cell_type": "code",
   "execution_count": 9,
   "id": "a52762db-baa9-4f6a-9d96-47ac270e71aa",
   "metadata": {
    "tags": []
   },
   "outputs": [
    {
     "data": {
      "application/vnd.jupyter.widget-view+json": {
       "model_id": "57a1fd64a84540cc9213f16b86224780",
       "version_major": 2,
       "version_minor": 0
      },
      "text/plain": [
       "Executing:   0%|          | 0/11 [00:00<?, ?cell/s]"
      ]
     },
     "metadata": {},
     "output_type": "display_data"
    },
    {
     "name": "stderr",
     "output_type": "stream",
     "text": [
      "0.00s - Debugger warning: It seems that frozen modules are being used, which may\n",
      "0.00s - make the debugger miss breakpoints. Please pass -Xfrozen_modules=off\n",
      "0.00s - to python to disable frozen modules.\n",
      "0.00s - Note: Debugging will proceed. Set PYDEVD_DISABLE_FILE_VALIDATION=1 to disable this validation.\n"
     ]
    }
   ],
   "source": [
    "if processing_status == 'completed':\n",
    "    notebook_name = '04_gene_extraction_experiment_b.ipynb'\n",
    "\n",
    "    params = {\n",
    "                'base_name': base_name,\n",
    "                'project_folder': project_folder,\n",
    "                'sub_category': sub_category,\n",
    "                'work_bucket': work_bucket,\n",
    "                'external_id': external_id\n",
    "             }\n",
    "\n",
    "    pm.execute_notebook(\n",
    "        notebook_name,\n",
    "        file_path(base_name, notebook_name),\n",
    "        parameters=params\n",
    "    )"
   ]
  },
  {
   "cell_type": "code",
   "execution_count": 10,
   "id": "82fbf8c1-1798-486a-93fa-bf30cadd5a7b",
   "metadata": {
    "tags": []
   },
   "outputs": [],
   "source": [
    "nb = sb.read_notebook(file_path(base_name, notebook_name))\n",
    "processing_status = nb.scraps.data_dict['status']"
   ]
  },
  {
   "cell_type": "code",
   "execution_count": 11,
   "id": "3d4518db-19be-4752-a053-2b3f4d90ace3",
   "metadata": {
    "tags": []
   },
   "outputs": [
    {
     "data": {
      "application/vnd.jupyter.widget-view+json": {
       "model_id": "9982cbad2dba45e293425edc9a05fe05",
       "version_major": 2,
       "version_minor": 0
      },
      "text/plain": [
       "Executing:   0%|          | 0/12 [00:00<?, ?cell/s]"
      ]
     },
     "metadata": {},
     "output_type": "display_data"
    },
    {
     "name": "stderr",
     "output_type": "stream",
     "text": [
      "0.00s - Debugger warning: It seems that frozen modules are being used, which may\n",
      "0.00s - make the debugger miss breakpoints. Please pass -Xfrozen_modules=off\n",
      "0.00s - to python to disable frozen modules.\n",
      "0.00s - Note: Debugging will proceed. Set PYDEVD_DISABLE_FILE_VALIDATION=1 to disable this validation.\n"
     ]
    }
   ],
   "source": [
    "if processing_status == 'completed':\n",
    "    notebook_name = '05a_extract_math.ipynb'\n",
    "\n",
    "    params = {\n",
    "                'base_name': base_name,\n",
    "                'project_folder': project_folder,\n",
    "                'sub_category': sub_category,\n",
    "                'work_bucket': work_bucket,\n",
    "                'external_id': external_id\n",
    "             }\n",
    "\n",
    "    pm.execute_notebook(\n",
    "        notebook_name,\n",
    "        file_path(base_name, notebook_name),\n",
    "        parameters=params\n",
    "    )"
   ]
  },
  {
   "cell_type": "code",
   "execution_count": 15,
   "id": "1485a634-9f9e-43ad-929a-9f34a9aedcd8",
   "metadata": {
    "tags": []
   },
   "outputs": [
    {
     "data": {
      "application/vnd.jupyter.widget-view+json": {
       "model_id": "8ad059aa308943b8bdea5aa17396af6a",
       "version_major": 2,
       "version_minor": 0
      },
      "text/plain": [
       "Executing:   0%|          | 0/17 [00:00<?, ?cell/s]"
      ]
     },
     "metadata": {},
     "output_type": "display_data"
    },
    {
     "name": "stderr",
     "output_type": "stream",
     "text": [
      "0.00s - Debugger warning: It seems that frozen modules are being used, which may\n",
      "0.00s - make the debugger miss breakpoints. Please pass -Xfrozen_modules=off\n",
      "0.00s - to python to disable frozen modules.\n",
      "0.00s - Note: Debugging will proceed. Set PYDEVD_DISABLE_FILE_VALIDATION=1 to disable this validation.\n"
     ]
    }
   ],
   "source": [
    "if processing_status == 'completed':\n",
    "    notebook_name = '05b_clean_create_math_images.ipynb'\n",
    "\n",
    "    params = {\n",
    "                'base_name': base_name,\n",
    "                'project_folder': project_folder,\n",
    "                'sub_category': sub_category,\n",
    "                'work_bucket': work_bucket,\n",
    "                'external_id': external_id,\n",
    "                'human_title': human_title\n",
    "             }\n",
    "\n",
    "    pm.execute_notebook(\n",
    "        notebook_name,\n",
    "        file_path(base_name, notebook_name),\n",
    "        parameters=params\n",
    "    )"
   ]
  },
  {
   "cell_type": "code",
   "execution_count": 16,
   "id": "eccfab52-23b3-41eb-a689-7f61290adc2e",
   "metadata": {
    "tags": []
   },
   "outputs": [
    {
     "data": {
      "application/vnd.jupyter.widget-view+json": {
       "model_id": "1ca015abfe254a1bb2663fe4a775d3a2",
       "version_major": 2,
       "version_minor": 0
      },
      "text/plain": [
       "Executing:   0%|          | 0/11 [00:00<?, ?cell/s]"
      ]
     },
     "metadata": {},
     "output_type": "display_data"
    },
    {
     "name": "stderr",
     "output_type": "stream",
     "text": [
      "0.00s - Debugger warning: It seems that frozen modules are being used, which may\n",
      "0.00s - make the debugger miss breakpoints. Please pass -Xfrozen_modules=off\n",
      "0.00s - to python to disable frozen modules.\n",
      "0.00s - Note: Debugging will proceed. Set PYDEVD_DISABLE_FILE_VALIDATION=1 to disable this validation.\n"
     ]
    }
   ],
   "source": [
    "if processing_status == 'completed':\n",
    "    notebook_name = '05c_convert_extracted_math.ipynb'\n",
    "\n",
    "    params = {\n",
    "                'base_name': base_name,\n",
    "                'project_folder': project_folder,\n",
    "                'sub_category': sub_category,\n",
    "                'work_bucket': work_bucket,\n",
    "                'external_id': external_id\n",
    "             }\n",
    "\n",
    "    pm.execute_notebook(\n",
    "        notebook_name,\n",
    "        file_path(base_name, notebook_name),\n",
    "        parameters=params\n",
    "    )"
   ]
  },
  {
   "cell_type": "code",
   "execution_count": 17,
   "id": "030bdcb3-6bad-4167-9ccb-e600a922557e",
   "metadata": {
    "tags": []
   },
   "outputs": [
    {
     "data": {
      "application/vnd.jupyter.widget-view+json": {
       "model_id": "2f1ebdf5350e422a910676cfc281d18b",
       "version_major": 2,
       "version_minor": 0
      },
      "text/plain": [
       "Executing:   0%|          | 0/16 [00:00<?, ?cell/s]"
      ]
     },
     "metadata": {},
     "output_type": "display_data"
    },
    {
     "name": "stderr",
     "output_type": "stream",
     "text": [
      "0.00s - Debugger warning: It seems that frozen modules are being used, which may\n",
      "0.00s - make the debugger miss breakpoints. Please pass -Xfrozen_modules=off\n",
      "0.00s - to python to disable frozen modules.\n",
      "0.00s - Note: Debugging will proceed. Set PYDEVD_DISABLE_FILE_VALIDATION=1 to disable this validation.\n"
     ]
    }
   ],
   "source": [
    "if processing_status == 'completed':\n",
    "    notebook_name = '05d_generate_embeddings.ipynb'\n",
    "\n",
    "    params = {\n",
    "                'base_name': base_name,\n",
    "                'project_folder': project_folder,\n",
    "                'sub_category': sub_category,\n",
    "                'work_bucket': work_bucket,\n",
    "                'external_id': external_id\n",
    "             }\n",
    "\n",
    "    pm.execute_notebook(\n",
    "        notebook_name,\n",
    "        file_path(base_name, notebook_name),\n",
    "        parameters=params\n",
    "    )"
   ]
  },
  {
   "cell_type": "code",
   "execution_count": 18,
   "id": "c6d0c1f3-167d-45e2-a01f-97ffdda83d62",
   "metadata": {
    "tags": []
   },
   "outputs": [
    {
     "data": {
      "application/vnd.jupyter.widget-view+json": {
       "model_id": "f448b07c1e054ed2874a0b9d76f313ab",
       "version_major": 2,
       "version_minor": 0
      },
      "text/plain": [
       "Executing:   0%|          | 0/20 [00:00<?, ?cell/s]"
      ]
     },
     "metadata": {},
     "output_type": "display_data"
    },
    {
     "name": "stderr",
     "output_type": "stream",
     "text": [
      "0.00s - Debugger warning: It seems that frozen modules are being used, which may\n",
      "0.00s - make the debugger miss breakpoints. Please pass -Xfrozen_modules=off\n",
      "0.00s - to python to disable frozen modules.\n",
      "0.00s - Note: Debugging will proceed. Set PYDEVD_DISABLE_FILE_VALIDATION=1 to disable this validation.\n",
      "OMP: Info #276: omp_set_nested routine deprecated, please use omp_set_max_active_levels instead.\n"
     ]
    }
   ],
   "source": [
    "if processing_status == 'completed':\n",
    "    notebook_name = '05e_reduce_visualize_embeddings.ipynb'\n",
    "\n",
    "    params = {\n",
    "                'base_name': base_name,\n",
    "                'project_folder': project_folder,\n",
    "                'sub_category': sub_category,\n",
    "                'work_bucket': work_bucket,\n",
    "                'external_id': external_id\n",
    "             }\n",
    "\n",
    "    pm.execute_notebook(\n",
    "        notebook_name,\n",
    "        file_path(base_name, notebook_name),\n",
    "        parameters=params\n",
    "    )"
   ]
  },
  {
   "cell_type": "code",
   "execution_count": 19,
   "id": "9fd5a625-5b02-48f1-8845-d531fabe1d14",
   "metadata": {
    "tags": []
   },
   "outputs": [
    {
     "data": {
      "application/vnd.jupyter.widget-view+json": {
       "model_id": "711080b81ed6438586f666b810c63f1b",
       "version_major": 2,
       "version_minor": 0
      },
      "text/plain": [
       "Executing:   0%|          | 0/21 [00:00<?, ?cell/s]"
      ]
     },
     "metadata": {},
     "output_type": "display_data"
    },
    {
     "name": "stderr",
     "output_type": "stream",
     "text": [
      "0.00s - Debugger warning: It seems that frozen modules are being used, which may\n",
      "0.00s - make the debugger miss breakpoints. Please pass -Xfrozen_modules=off\n",
      "0.00s - to python to disable frozen modules.\n",
      "0.00s - Note: Debugging will proceed. Set PYDEVD_DISABLE_FILE_VALIDATION=1 to disable this validation.\n"
     ]
    }
   ],
   "source": [
    "if processing_status == 'completed':\n",
    "    notebook_name = '06_create_report.ipynb'\n",
    "\n",
    "    params = {\n",
    "                'base_name': base_name,\n",
    "                'project_folder': project_folder,\n",
    "                'sub_category': sub_category,\n",
    "                'work_bucket': work_bucket,\n",
    "                'external_id': external_id,\n",
    "                'human_title': human_title\n",
    "             }\n",
    "\n",
    "    pm.execute_notebook(\n",
    "        notebook_name,\n",
    "        file_path(base_name, notebook_name),\n",
    "        parameters=params\n",
    "    )"
   ]
  },
  {
   "cell_type": "code",
   "execution_count": 20,
   "id": "37702df4-e3d8-4ab2-a5f0-54e4dcbb7691",
   "metadata": {
    "tags": []
   },
   "outputs": [
    {
     "data": {
      "text/plain": [
       "'completed'"
      ]
     },
     "execution_count": 20,
     "metadata": {},
     "output_type": "execute_result"
    }
   ],
   "source": [
    "processing_status"
   ]
  }
 ],
 "metadata": {
  "kernelspec": {
   "display_name": "Python 3 (ipykernel)",
   "language": "python",
   "name": "python3"
  },
  "language_info": {
   "codemirror_mode": {
    "name": "ipython",
    "version": 3
   },
   "file_extension": ".py",
   "mimetype": "text/x-python",
   "name": "python",
   "nbconvert_exporter": "python",
   "pygments_lexer": "ipython3",
   "version": "3.11.0"
  }
 },
 "nbformat": 4,
 "nbformat_minor": 5
}
