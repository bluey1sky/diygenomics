{
 "cells": [
  {
   "cell_type": "code",
   "execution_count": 1,
   "id": "9d687d18-7035-4244-bfa9-c7c27281c269",
   "metadata": {
    "tags": []
   },
   "outputs": [],
   "source": [
    "import os\n",
    "import papermill as pm\n",
    "import scrapbook as sb"
   ]
  },
  {
   "cell_type": "code",
   "execution_count": 4,
   "id": "a0cb1cf3-6cd4-4583-b5fd-fa0b737e4656",
   "metadata": {
    "tags": []
   },
   "outputs": [],
   "source": [
    "file_name = '2016 Guo AdS Numerics.pdf'\n",
    "human_title = '2016 Guo AdS Numerics'\n",
    "\n",
    "base_name = os.path.splitext(os.path.basename(file_name))[0].replace(' ', '_')\n",
    "\n",
    "project_folder = 'diygenomics-projects'\n",
    "sub_category = 'math'\n",
    "work_bucket = 'AdS-CFT'\n",
    "\n",
    "data_path = os.getenv('DATA_PATH')\n",
    "file_path = lambda *args: os.path.join(data_path, project_folder, sub_category, work_bucket, *args)\n",
    "\n",
    "if not os.path.exists(file_path(base_name)):\n",
    "    os.mkdir(file_path(base_name))\n",
    "    \n",
    "if not os.path.exists(file_path(base_name, 'mathpix')):\n",
    "    os.mkdir(file_path(base_name, 'mathpix'))"
   ]
  },
  {
   "cell_type": "code",
   "execution_count": 5,
   "id": "b38fbf4f-62bd-44d6-b143-3ae40083c916",
   "metadata": {
    "tags": []
   },
   "outputs": [
    {
     "data": {
      "application/vnd.jupyter.widget-view+json": {
       "model_id": "8fb72d47589c42fbb2cb973a49f3a049",
       "version_major": 2,
       "version_minor": 0
      },
      "text/plain": [
       "Executing:   0%|          | 0/11 [00:00<?, ?cell/s]"
      ]
     },
     "metadata": {},
     "output_type": "display_data"
    },
    {
     "name": "stderr",
     "output_type": "stream",
     "text": [
      "0.00s - Debugger warning: It seems that frozen modules are being used, which may\n",
      "0.00s - make the debugger miss breakpoints. Please pass -Xfrozen_modules=off\n",
      "0.00s - to python to disable frozen modules.\n",
      "0.00s - Note: Debugging will proceed. Set PYDEVD_DISABLE_FILE_VALIDATION=1 to disable this validation.\n"
     ]
    },
    {
     "data": {
      "text/plain": [
       "{'cells': [{'cell_type': 'code',\n",
       "   'execution_count': 1,\n",
       "   'id': '96b99b0d-8b03-4424-b6d0-918d87b0621a',\n",
       "   'metadata': {'tags': [],\n",
       "    'papermill': {'exception': False,\n",
       "     'start_time': '2023-06-01T16:31:33.012625',\n",
       "     'end_time': '2023-06-01T16:31:34.213203',\n",
       "     'duration': 1.200578,\n",
       "     'status': 'completed'},\n",
       "    'execution': {'iopub.status.busy': '2023-06-01T16:31:33.017707Z',\n",
       "     'iopub.execute_input': '2023-06-01T16:31:33.018031Z',\n",
       "     'iopub.status.idle': '2023-06-01T16:31:34.211004Z',\n",
       "     'shell.execute_reply': '2023-06-01T16:31:34.210313Z'}},\n",
       "   'outputs': [],\n",
       "   'source': 'import base64\\nimport json\\nimport os\\nimport papermill as pm\\nimport requests\\nimport scrapbook as sb\\nimport time'},\n",
       "  {'cell_type': 'code',\n",
       "   'execution_count': 2,\n",
       "   'id': 'fb964ab4-682e-4578-a615-1eeed537f47c',\n",
       "   'metadata': {'tags': ['parameters',\n",
       "     'data_path',\n",
       "     'file_path',\n",
       "     'work_bucket',\n",
       "     'sub_category',\n",
       "     'project_folder'],\n",
       "    'papermill': {'exception': False,\n",
       "     'start_time': '2023-06-01T16:31:34.216510',\n",
       "     'end_time': '2023-06-01T16:31:34.324120',\n",
       "     'duration': 0.10761,\n",
       "     'status': 'completed'},\n",
       "    'execution': {'iopub.status.busy': '2023-06-01T16:31:34.220292Z',\n",
       "     'iopub.execute_input': '2023-06-01T16:31:34.220785Z',\n",
       "     'iopub.status.idle': '2023-06-01T16:31:34.321867Z',\n",
       "     'shell.execute_reply': '2023-06-01T16:31:34.321225Z'}},\n",
       "   'outputs': [],\n",
       "   'source': '# file_name\\n# base_name\\n# work_bucket\\n# sub_category\\n# project_folder'},\n",
       "  {'id': '87cd2bb2',\n",
       "   'cell_type': 'code',\n",
       "   'metadata': {'tags': ['injected-parameters'],\n",
       "    'papermill': {'exception': False,\n",
       "     'start_time': '2023-06-01T16:31:34.342508',\n",
       "     'end_time': '2023-06-01T16:31:34.378957',\n",
       "     'duration': 0.036449,\n",
       "     'status': 'completed'},\n",
       "    'execution': {'iopub.status.busy': '2023-06-01T16:31:34.346770Z',\n",
       "     'iopub.execute_input': '2023-06-01T16:31:34.347124Z',\n",
       "     'iopub.status.idle': '2023-06-01T16:31:34.376500Z',\n",
       "     'shell.execute_reply': '2023-06-01T16:31:34.375757Z'}},\n",
       "   'execution_count': 3,\n",
       "   'source': '# Parameters\\nfile_name = \"2016 Guo AdS Numerics.pdf\"\\nbase_name = \"2016_Guo_AdS_Numerics\"\\nwork_bucket = \"AdS-CFT\"\\nproject_folder = \"diygenomics-projects\"\\nsub_category = \"math\"\\n',\n",
       "   'outputs': []},\n",
       "  {'cell_type': 'code',\n",
       "   'execution_count': 4,\n",
       "   'id': 'e992942a-1d70-4be3-a506-0e8095d983bc',\n",
       "   'metadata': {'tags': ['file_name', 'base_name', 'work_bucket'],\n",
       "    'papermill': {'exception': False,\n",
       "     'start_time': '2023-06-01T16:31:34.382828',\n",
       "     'end_time': '2023-06-01T16:31:34.416693',\n",
       "     'duration': 0.033865,\n",
       "     'status': 'completed'},\n",
       "    'execution': {'iopub.status.busy': '2023-06-01T16:31:34.386522Z',\n",
       "     'iopub.execute_input': '2023-06-01T16:31:34.387179Z',\n",
       "     'iopub.status.idle': '2023-06-01T16:31:34.414480Z',\n",
       "     'shell.execute_reply': '2023-06-01T16:31:34.413801Z'}},\n",
       "   'outputs': [],\n",
       "   'source': \"data_path = os.getenv('DATA_PATH')\\nfile_path = lambda *args: os.path.join(data_path, project_folder, sub_category, work_bucket, *args)\\n\\nendpoint = 'https://api.mathpix.com/v3/'\\nextensions = ['.md', '.mmd', '.docx', '.tex', '.html', '.lines.json', '.lines.mmd.json']\\napp_id = os.getenv('MATHPIX_APP_ID')\\napp_key = os.getenv('MATHPIX_APP_KEY')\\n\\nheaders = {\\n    'app_id': app_id,\\n    'app_key': app_key,\\n}\\n\\nconversion_options = {\\n    'conversion_formats': {'docx': True, 'tex.zip': True},\\n    'math_inline_delimiters': ['$', '$'],\\n    'rm_spaces': True\\n}\"},\n",
       "  {'cell_type': 'code',\n",
       "   'execution_count': 5,\n",
       "   'id': '3270a598-f363-44d0-b17c-4faa34cd0091',\n",
       "   'metadata': {'tags': [],\n",
       "    'papermill': {'exception': False,\n",
       "     'start_time': '2023-06-01T16:31:34.419134',\n",
       "     'end_time': '2023-06-01T16:31:34.446868',\n",
       "     'duration': 0.027734,\n",
       "     'status': 'completed'},\n",
       "    'execution': {'iopub.status.busy': '2023-06-01T16:31:34.422435Z',\n",
       "     'iopub.execute_input': '2023-06-01T16:31:34.422705Z',\n",
       "     'iopub.status.idle': '2023-06-01T16:31:34.444790Z',\n",
       "     'shell.execute_reply': '2023-06-01T16:31:34.444125Z'}},\n",
       "   'outputs': [],\n",
       "   'source': 'def download_file(pdf_id, extension):\\n    file_with_extension = f\\'{pdf_id}{extension}\\'\\n    url = os.path.join(endpoint, \\'pdf\\', file_with_extension) \\n    response = requests.get(url, headers=headers)\\n    if extension == \\'.tex\\':\\n        file_with_extension = f\\'{file_with_extension}.zip\\'\\n        \\n    if extension == \\'.mmd\\':\\n        with open(file_path(base_name, \\'mathpix\\', file_with_extension), \"w\") as f:\\n                f.write(response.text) \\n    else:\\n         with open(file_path(base_name, \\'mathpix\\', file_with_extension), \"wb\") as f:\\n                f.write(response.content)        '},\n",
       "  {'cell_type': 'code',\n",
       "   'execution_count': 6,\n",
       "   'id': 'b6f2cce8-e6bb-4d34-8533-df5f1aa760a4',\n",
       "   'metadata': {'tags': [],\n",
       "    'papermill': {'exception': False,\n",
       "     'start_time': '2023-06-01T16:31:34.450009',\n",
       "     'end_time': '2023-06-01T16:31:35.390298',\n",
       "     'duration': 0.940289,\n",
       "     'status': 'completed'},\n",
       "    'execution': {'iopub.status.busy': '2023-06-01T16:31:34.454059Z',\n",
       "     'iopub.execute_input': '2023-06-01T16:31:34.454336Z',\n",
       "     'iopub.status.idle': '2023-06-01T16:31:35.388305Z',\n",
       "     'shell.execute_reply': '2023-06-01T16:31:35.387627Z'}},\n",
       "   'outputs': [],\n",
       "   'source': \"pdf_id = None\\n\\nwhile True:\\n    r = requests.post(os.path.join(endpoint, 'pdf'),\\n        headers=headers,\\n        data={\\n            'options_json': json.dumps(conversion_options)\\n        },\\n        files={\\n            'file': open(file_path(file_name), 'rb')\\n        }\\n    )\\n    \\n    try:\\n        json_data = r.json()\\n        if 'pdf_id' in json_data:\\n            pdf_id = json_data['pdf_id']\\n            break\\n    except ValueError:\\n        print(f'Invalid JSON response.\\\\n{r}')\\n    time.sleep(60)\"},\n",
       "  {'cell_type': 'code',\n",
       "   'execution_count': 7,\n",
       "   'id': '4e1bf51d-4ade-48c8-b433-826ab6e0c54f',\n",
       "   'metadata': {'tags': [],\n",
       "    'papermill': {'exception': False,\n",
       "     'start_time': '2023-06-01T16:31:35.392578',\n",
       "     'end_time': '2023-06-01T16:31:35.417004',\n",
       "     'duration': 0.024426,\n",
       "     'status': 'completed'},\n",
       "    'execution': {'iopub.status.busy': '2023-06-01T16:31:35.395820Z',\n",
       "     'iopub.execute_input': '2023-06-01T16:31:35.396075Z',\n",
       "     'shell.execute_reply': '2023-06-01T16:31:35.414645Z',\n",
       "     'iopub.status.idle': '2023-06-01T16:31:35.415232Z'}},\n",
       "   'outputs': [{'output_type': 'stream',\n",
       "     'name': 'stdout',\n",
       "     'text': '2023_06_01_e4e21f7112268ec22c17g\\n'}],\n",
       "   'source': 'print(pdf_id)'},\n",
       "  {'cell_type': 'code',\n",
       "   'execution_count': 8,\n",
       "   'id': '5888b4e2-1635-45a6-a02c-273c496f0839',\n",
       "   'metadata': {'tags': [],\n",
       "    'papermill': {'exception': False,\n",
       "     'start_time': '2023-06-01T16:31:35.419943',\n",
       "     'end_time': '2023-06-01T16:32:35.832874',\n",
       "     'duration': 60.412931,\n",
       "     'status': 'completed'},\n",
       "    'execution': {'iopub.status.busy': '2023-06-01T16:31:35.423740Z',\n",
       "     'iopub.execute_input': '2023-06-01T16:31:35.424306Z',\n",
       "     'iopub.status.idle': '2023-06-01T16:32:35.830740Z',\n",
       "     'shell.execute_reply': '2023-06-01T16:32:35.829871Z'}},\n",
       "   'outputs': [],\n",
       "   'source': \"status = None\\n\\nwhile True:\\n    r = requests.get(os.path.join(endpoint, 'converter', pdf_id), headers=headers)\\n    try:\\n        json_data = r.json()\\n        if 'status' in json_data:\\n            status = json_data['status']\\n            if status == 'completed' or status == 'error':\\n                break\\n    except ValueError:\\n        print(f'Invalid JSON response. {r}')\\n    time.sleep(60)\"},\n",
       "  {'cell_type': 'code',\n",
       "   'execution_count': 9,\n",
       "   'id': '742ad854-9c02-4438-a713-3c97fe36f682',\n",
       "   'metadata': {'tags': [],\n",
       "    'papermill': {'exception': False,\n",
       "     'start_time': '2023-06-01T16:32:35.836445',\n",
       "     'end_time': '2023-06-01T16:32:40.365441',\n",
       "     'duration': 4.528996,\n",
       "     'status': 'completed'},\n",
       "    'execution': {'iopub.status.busy': '2023-06-01T16:32:35.840773Z',\n",
       "     'iopub.execute_input': '2023-06-01T16:32:35.841071Z',\n",
       "     'iopub.status.idle': '2023-06-01T16:32:40.363276Z',\n",
       "     'shell.execute_reply': '2023-06-01T16:32:40.362634Z'}},\n",
       "   'outputs': [],\n",
       "   'source': \"if status == 'completed':\\n    for extension in extensions:\\n        download_file(pdf_id, extension)\"},\n",
       "  {'cell_type': 'code',\n",
       "   'execution_count': 10,\n",
       "   'id': 'a68a1789-51bb-49df-82c5-f497f1fa98d5',\n",
       "   'metadata': {'tags': [],\n",
       "    'papermill': {'exception': False,\n",
       "     'start_time': '2023-06-01T16:32:40.368767',\n",
       "     'end_time': '2023-06-01T16:32:40.403949',\n",
       "     'duration': 0.035182,\n",
       "     'status': 'completed'},\n",
       "    'execution': {'iopub.status.busy': '2023-06-01T16:32:40.372886Z',\n",
       "     'iopub.execute_input': '2023-06-01T16:32:40.373166Z',\n",
       "     'iopub.status.idle': '2023-06-01T16:32:40.402106Z',\n",
       "     'shell.execute_reply': '2023-06-01T16:32:40.401406Z'}},\n",
       "   'outputs': [{'output_type': 'display_data',\n",
       "     'metadata': {'scrapbook': {'name': 'external_id',\n",
       "       'data': True,\n",
       "       'display': False}},\n",
       "     'data': {'application/scrapbook.scrap.text+json': {'name': 'external_id',\n",
       "       'data': '2023_06_01_e4e21f7112268ec22c17g',\n",
       "       'encoder': 'text',\n",
       "       'version': 1}}},\n",
       "    {'output_type': 'display_data',\n",
       "     'metadata': {'scrapbook': {'name': 'status',\n",
       "       'data': True,\n",
       "       'display': False}},\n",
       "     'data': {'application/scrapbook.scrap.text+json': {'name': 'status',\n",
       "       'data': 'completed',\n",
       "       'encoder': 'text',\n",
       "       'version': 1}}}],\n",
       "   'source': \"sb.glue('external_id', pdf_id)\\nsb.glue('status', status)\"},\n",
       "  {'cell_type': 'code',\n",
       "   'execution_count': 11,\n",
       "   'id': 'effc9940-22af-4c14-b197-54a6be009342',\n",
       "   'metadata': {'tags': [],\n",
       "    'papermill': {'exception': False,\n",
       "     'start_time': '2023-06-01T16:32:40.406807',\n",
       "     'end_time': '2023-06-01T16:32:40.430287',\n",
       "     'duration': 0.02348,\n",
       "     'status': 'completed'},\n",
       "    'execution': {'iopub.status.busy': '2023-06-01T16:32:40.410793Z',\n",
       "     'iopub.execute_input': '2023-06-01T16:32:40.411053Z',\n",
       "     'iopub.status.idle': '2023-06-01T16:32:40.428277Z',\n",
       "     'shell.execute_reply': '2023-06-01T16:32:40.427667Z'}},\n",
       "   'outputs': [],\n",
       "   'source': \"# r = requests.get(os.path.join(endpoint, 'pdf', pdf_id), headers=headers)\"}],\n",
       " 'metadata': {'kernelspec': {'display_name': 'Python 3 (ipykernel)',\n",
       "   'language': 'python',\n",
       "   'name': 'python3'},\n",
       "  'language_info': {'name': 'python',\n",
       "   'version': '3.11.0',\n",
       "   'mimetype': 'text/x-python',\n",
       "   'codemirror_mode': {'name': 'ipython', 'version': 3},\n",
       "   'pygments_lexer': 'ipython3',\n",
       "   'nbconvert_exporter': 'python',\n",
       "   'file_extension': '.py'},\n",
       "  'papermill': {'default_parameters': {},\n",
       "   'parameters': {'file_name': '2016 Guo AdS Numerics.pdf',\n",
       "    'base_name': '2016_Guo_AdS_Numerics',\n",
       "    'work_bucket': 'AdS-CFT',\n",
       "    'project_folder': 'diygenomics-projects',\n",
       "    'sub_category': 'math'},\n",
       "   'environment_variables': {},\n",
       "   'version': '2.4.0',\n",
       "   'input_path': '01_post_document_to_mathpix.ipynb',\n",
       "   'output_path': '/Volumes/Storage/data/diygenomics-projects/math/AdS-CFT/2016_Guo_AdS_Numerics/01_post_document_to_mathpix.ipynb',\n",
       "   'start_time': '2023-06-01T16:31:31.613986',\n",
       "   'end_time': '2023-06-01T16:32:40.851257',\n",
       "   'duration': 69.237271,\n",
       "   'exception': None}},\n",
       " 'nbformat': 4,\n",
       " 'nbformat_minor': 5}"
      ]
     },
     "execution_count": 5,
     "metadata": {},
     "output_type": "execute_result"
    }
   ],
   "source": [
    "notebook_name = '01_post_document_to_mathpix.ipynb'\n",
    "\n",
    "params = {\n",
    "            'file_name': file_name,\n",
    "            'base_name': base_name,\n",
    "            'work_bucket': work_bucket,\n",
    "            'project_folder': project_folder,\n",
    "            'sub_category': sub_category\n",
    "         }\n",
    "\n",
    "pm.execute_notebook(\n",
    "    notebook_name,\n",
    "    file_path(base_name, notebook_name),\n",
    "    parameters=params\n",
    ")"
   ]
  },
  {
   "cell_type": "code",
   "execution_count": 6,
   "id": "53d2d3b6-cda8-47e4-ae81-f50275a085a0",
   "metadata": {
    "tags": []
   },
   "outputs": [],
   "source": [
    "nb = sb.read_notebook(file_path(base_name, notebook_name))\n",
    "external_id = nb.scraps.data_dict['external_id']\n",
    "processing_status = nb.scraps.data_dict['status']"
   ]
  },
  {
   "cell_type": "code",
   "execution_count": 7,
   "id": "bbdb6133-cad9-4e59-801b-e5f108fe8d86",
   "metadata": {
    "tags": []
   },
   "outputs": [
    {
     "data": {
      "application/vnd.jupyter.widget-view+json": {
       "model_id": "748cd5b21c8b4eb1884b934bbf3b6d94",
       "version_major": 2,
       "version_minor": 0
      },
      "text/plain": [
       "Executing:   0%|          | 0/10 [00:00<?, ?cell/s]"
      ]
     },
     "metadata": {},
     "output_type": "display_data"
    },
    {
     "name": "stderr",
     "output_type": "stream",
     "text": [
      "0.00s - Debugger warning: It seems that frozen modules are being used, which may\n",
      "0.00s - make the debugger miss breakpoints. Please pass -Xfrozen_modules=off\n",
      "0.00s - to python to disable frozen modules.\n",
      "0.00s - Note: Debugging will proceed. Set PYDEVD_DISABLE_FILE_VALIDATION=1 to disable this validation.\n"
     ]
    }
   ],
   "source": [
    "if processing_status == 'completed':\n",
    "    notebook_name = '02_post_images_to_mathpix.ipynb'\n",
    "\n",
    "    params = {\n",
    "                'base_name': base_name,\n",
    "                'project_folder': project_folder,\n",
    "                'sub_category': sub_category,\n",
    "                'work_bucket': work_bucket,\n",
    "                'external_id': external_id\n",
    "             }\n",
    "\n",
    "    pm.execute_notebook(\n",
    "        notebook_name,\n",
    "        file_path(base_name, notebook_name),\n",
    "        parameters=params\n",
    "    )"
   ]
  },
  {
   "cell_type": "code",
   "execution_count": 8,
   "id": "5d05ec9d-5649-41c5-b090-cf18d2f2afdc",
   "metadata": {
    "tags": []
   },
   "outputs": [],
   "source": [
    "nb = sb.read_notebook(file_path(base_name, notebook_name))\n",
    "processing_status = nb.scraps.data_dict['status']"
   ]
  },
  {
   "cell_type": "code",
   "execution_count": 9,
   "id": "f5827379-84a4-4ffd-8420-6808ba84bed9",
   "metadata": {
    "tags": []
   },
   "outputs": [
    {
     "data": {
      "application/vnd.jupyter.widget-view+json": {
       "model_id": "c6156a4d5dca4e93bafc3ebe49667d8e",
       "version_major": 2,
       "version_minor": 0
      },
      "text/plain": [
       "Executing:   0%|          | 0/12 [00:00<?, ?cell/s]"
      ]
     },
     "metadata": {},
     "output_type": "display_data"
    },
    {
     "name": "stderr",
     "output_type": "stream",
     "text": [
      "0.00s - Debugger warning: It seems that frozen modules are being used, which may\n",
      "0.00s - make the debugger miss breakpoints. Please pass -Xfrozen_modules=off\n",
      "0.00s - to python to disable frozen modules.\n",
      "0.00s - Note: Debugging will proceed. Set PYDEVD_DISABLE_FILE_VALIDATION=1 to disable this validation.\n"
     ]
    }
   ],
   "source": [
    "if processing_status == 'completed':\n",
    "    notebook_name = '03_create_dataset_from_mathpix.ipynb'\n",
    "\n",
    "    params = {\n",
    "                'base_name': base_name,\n",
    "                'project_folder': project_folder,\n",
    "                'sub_category': sub_category,\n",
    "                'work_bucket': work_bucket,\n",
    "                'external_id': external_id\n",
    "             }\n",
    "\n",
    "    pm.execute_notebook(\n",
    "        notebook_name,\n",
    "        file_path(base_name, notebook_name),\n",
    "        parameters=params\n",
    "    )"
   ]
  },
  {
   "cell_type": "code",
   "execution_count": 10,
   "id": "e362d9c4-0f25-45b5-9065-f0a804bd8910",
   "metadata": {
    "tags": []
   },
   "outputs": [],
   "source": [
    "nb = sb.read_notebook(file_path(base_name, notebook_name))\n",
    "processing_status = nb.scraps.data_dict['status']"
   ]
  },
  {
   "cell_type": "code",
   "execution_count": 11,
   "id": "a52762db-baa9-4f6a-9d96-47ac270e71aa",
   "metadata": {
    "tags": []
   },
   "outputs": [
    {
     "data": {
      "application/vnd.jupyter.widget-view+json": {
       "model_id": "6b120ad6422f47449a71c2f71c317fdd",
       "version_major": 2,
       "version_minor": 0
      },
      "text/plain": [
       "Executing:   0%|          | 0/11 [00:00<?, ?cell/s]"
      ]
     },
     "metadata": {},
     "output_type": "display_data"
    },
    {
     "name": "stderr",
     "output_type": "stream",
     "text": [
      "0.00s - Debugger warning: It seems that frozen modules are being used, which may\n",
      "0.00s - make the debugger miss breakpoints. Please pass -Xfrozen_modules=off\n",
      "0.00s - to python to disable frozen modules.\n",
      "0.00s - Note: Debugging will proceed. Set PYDEVD_DISABLE_FILE_VALIDATION=1 to disable this validation.\n"
     ]
    }
   ],
   "source": [
    "if processing_status == 'completed':\n",
    "    notebook_name = '04_gene_extraction_experiment_b.ipynb'\n",
    "\n",
    "    params = {\n",
    "                'base_name': base_name,\n",
    "                'project_folder': project_folder,\n",
    "                'sub_category': sub_category,\n",
    "                'work_bucket': work_bucket,\n",
    "                'external_id': external_id\n",
    "             }\n",
    "\n",
    "    pm.execute_notebook(\n",
    "        notebook_name,\n",
    "        file_path(base_name, notebook_name),\n",
    "        parameters=params\n",
    "    )"
   ]
  },
  {
   "cell_type": "code",
   "execution_count": 12,
   "id": "82fbf8c1-1798-486a-93fa-bf30cadd5a7b",
   "metadata": {
    "tags": []
   },
   "outputs": [],
   "source": [
    "nb = sb.read_notebook(file_path(base_name, notebook_name))\n",
    "processing_status = nb.scraps.data_dict['status']"
   ]
  },
  {
   "cell_type": "code",
   "execution_count": null,
   "id": "3d4518db-19be-4752-a053-2b3f4d90ace3",
   "metadata": {
    "tags": []
   },
   "outputs": [],
   "source": [
    "if processing_status == 'completed':\n",
    "    notebook_name = '05a_extract_math.ipynb'\n",
    "\n",
    "    params = {\n",
    "                'base_name': base_name,\n",
    "                'project_folder': project_folder,\n",
    "                'sub_category': sub_category,\n",
    "                'work_bucket': work_bucket,\n",
    "                'external_id': external_id\n",
    "             }\n",
    "\n",
    "    pm.execute_notebook(\n",
    "        notebook_name,\n",
    "        file_path(base_name, notebook_name),\n",
    "        parameters=params\n",
    "    )"
   ]
  },
  {
   "cell_type": "code",
   "execution_count": 14,
   "id": "f5295d0c-2911-4613-81ed-ca0ffb464ea1",
   "metadata": {
    "tags": []
   },
   "outputs": [],
   "source": [
    "processing_status = 'completed'"
   ]
  },
  {
   "cell_type": "code",
   "execution_count": 15,
   "id": "1485a634-9f9e-43ad-929a-9f34a9aedcd8",
   "metadata": {
    "tags": []
   },
   "outputs": [
    {
     "data": {
      "application/vnd.jupyter.widget-view+json": {
       "model_id": "c435638369d348e39ca9d6e7546ba66c",
       "version_major": 2,
       "version_minor": 0
      },
      "text/plain": [
       "Executing:   0%|          | 0/14 [00:00<?, ?cell/s]"
      ]
     },
     "metadata": {},
     "output_type": "display_data"
    },
    {
     "name": "stderr",
     "output_type": "stream",
     "text": [
      "0.00s - Debugger warning: It seems that frozen modules are being used, which may\n",
      "0.00s - make the debugger miss breakpoints. Please pass -Xfrozen_modules=off\n",
      "0.00s - to python to disable frozen modules.\n",
      "0.00s - Note: Debugging will proceed. Set PYDEVD_DISABLE_FILE_VALIDATION=1 to disable this validation.\n"
     ]
    }
   ],
   "source": [
    "if processing_status == 'completed':\n",
    "    notebook_name = '05b_clean_create_math_images.ipynb'\n",
    "\n",
    "    params = {\n",
    "                'base_name': base_name,\n",
    "                'project_folder': project_folder,\n",
    "                'sub_category': sub_category,\n",
    "                'work_bucket': work_bucket,\n",
    "                'external_id': external_id,\n",
    "                'human_title': human_title\n",
    "             }\n",
    "\n",
    "    pm.execute_notebook(\n",
    "        notebook_name,\n",
    "        file_path(base_name, notebook_name),\n",
    "        parameters=params\n",
    "    )"
   ]
  },
  {
   "cell_type": "code",
   "execution_count": 17,
   "id": "eccfab52-23b3-41eb-a689-7f61290adc2e",
   "metadata": {
    "tags": []
   },
   "outputs": [
    {
     "data": {
      "application/vnd.jupyter.widget-view+json": {
       "model_id": "2c15f31edfd94d338594bcbfae8e31ae",
       "version_major": 2,
       "version_minor": 0
      },
      "text/plain": [
       "Executing:   0%|          | 0/11 [00:00<?, ?cell/s]"
      ]
     },
     "metadata": {},
     "output_type": "display_data"
    },
    {
     "name": "stderr",
     "output_type": "stream",
     "text": [
      "0.00s - Debugger warning: It seems that frozen modules are being used, which may\n",
      "0.00s - make the debugger miss breakpoints. Please pass -Xfrozen_modules=off\n",
      "0.00s - to python to disable frozen modules.\n",
      "0.00s - Note: Debugging will proceed. Set PYDEVD_DISABLE_FILE_VALIDATION=1 to disable this validation.\n"
     ]
    }
   ],
   "source": [
    "if processing_status == 'completed':\n",
    "    notebook_name = '05c_convert_extracted_math.ipynb'\n",
    "\n",
    "    params = {\n",
    "                'base_name': base_name,\n",
    "                'project_folder': project_folder,\n",
    "                'sub_category': sub_category,\n",
    "                'work_bucket': work_bucket,\n",
    "                'external_id': external_id\n",
    "             }\n",
    "\n",
    "    pm.execute_notebook(\n",
    "        notebook_name,\n",
    "        file_path(base_name, notebook_name),\n",
    "        parameters=params\n",
    "    )"
   ]
  },
  {
   "cell_type": "code",
   "execution_count": 18,
   "id": "030bdcb3-6bad-4167-9ccb-e600a922557e",
   "metadata": {
    "tags": []
   },
   "outputs": [
    {
     "data": {
      "application/vnd.jupyter.widget-view+json": {
       "model_id": "66378269349c44269488d711a03978b1",
       "version_major": 2,
       "version_minor": 0
      },
      "text/plain": [
       "Executing:   0%|          | 0/16 [00:00<?, ?cell/s]"
      ]
     },
     "metadata": {},
     "output_type": "display_data"
    },
    {
     "name": "stderr",
     "output_type": "stream",
     "text": [
      "0.00s - Debugger warning: It seems that frozen modules are being used, which may\n",
      "0.00s - make the debugger miss breakpoints. Please pass -Xfrozen_modules=off\n",
      "0.00s - to python to disable frozen modules.\n",
      "0.00s - Note: Debugging will proceed. Set PYDEVD_DISABLE_FILE_VALIDATION=1 to disable this validation.\n"
     ]
    }
   ],
   "source": [
    "if processing_status == 'completed':\n",
    "    notebook_name = '05d_generate_embeddings.ipynb'\n",
    "\n",
    "    params = {\n",
    "                'base_name': base_name,\n",
    "                'project_folder': project_folder,\n",
    "                'sub_category': sub_category,\n",
    "                'work_bucket': work_bucket,\n",
    "                'external_id': external_id\n",
    "             }\n",
    "\n",
    "    pm.execute_notebook(\n",
    "        notebook_name,\n",
    "        file_path(base_name, notebook_name),\n",
    "        parameters=params\n",
    "    )"
   ]
  },
  {
   "cell_type": "code",
   "execution_count": 19,
   "id": "c6d0c1f3-167d-45e2-a01f-97ffdda83d62",
   "metadata": {
    "tags": []
   },
   "outputs": [
    {
     "data": {
      "application/vnd.jupyter.widget-view+json": {
       "model_id": "608347d6fd8c4e03b10c6944f7a4de14",
       "version_major": 2,
       "version_minor": 0
      },
      "text/plain": [
       "Executing:   0%|          | 0/20 [00:00<?, ?cell/s]"
      ]
     },
     "metadata": {},
     "output_type": "display_data"
    },
    {
     "name": "stderr",
     "output_type": "stream",
     "text": [
      "0.00s - Debugger warning: It seems that frozen modules are being used, which may\n",
      "0.00s - make the debugger miss breakpoints. Please pass -Xfrozen_modules=off\n",
      "0.00s - to python to disable frozen modules.\n",
      "0.00s - Note: Debugging will proceed. Set PYDEVD_DISABLE_FILE_VALIDATION=1 to disable this validation.\n",
      "OMP: Info #276: omp_set_nested routine deprecated, please use omp_set_max_active_levels instead.\n"
     ]
    }
   ],
   "source": [
    "if processing_status == 'completed':\n",
    "    notebook_name = '05e_reduce_visualize_embeddings.ipynb'\n",
    "\n",
    "    params = {\n",
    "                'base_name': base_name,\n",
    "                'project_folder': project_folder,\n",
    "                'sub_category': sub_category,\n",
    "                'work_bucket': work_bucket,\n",
    "                'external_id': external_id\n",
    "             }\n",
    "\n",
    "    pm.execute_notebook(\n",
    "        notebook_name,\n",
    "        file_path(base_name, notebook_name),\n",
    "        parameters=params\n",
    "    )"
   ]
  },
  {
   "cell_type": "code",
   "execution_count": 20,
   "id": "9fd5a625-5b02-48f1-8845-d531fabe1d14",
   "metadata": {
    "tags": []
   },
   "outputs": [
    {
     "data": {
      "application/vnd.jupyter.widget-view+json": {
       "model_id": "ff2fccba0c9f416d9af318ad6961f215",
       "version_major": 2,
       "version_minor": 0
      },
      "text/plain": [
       "Executing:   0%|          | 0/21 [00:00<?, ?cell/s]"
      ]
     },
     "metadata": {},
     "output_type": "display_data"
    },
    {
     "name": "stderr",
     "output_type": "stream",
     "text": [
      "0.00s - Debugger warning: It seems that frozen modules are being used, which may\n",
      "0.00s - make the debugger miss breakpoints. Please pass -Xfrozen_modules=off\n",
      "0.00s - to python to disable frozen modules.\n",
      "0.00s - Note: Debugging will proceed. Set PYDEVD_DISABLE_FILE_VALIDATION=1 to disable this validation.\n"
     ]
    }
   ],
   "source": [
    "if processing_status == 'completed':\n",
    "    notebook_name = '06_create_report.ipynb'\n",
    "\n",
    "    params = {\n",
    "                'base_name': base_name,\n",
    "                'project_folder': project_folder,\n",
    "                'sub_category': sub_category,\n",
    "                'work_bucket': work_bucket,\n",
    "                'external_id': external_id,\n",
    "                'human_title': human_title\n",
    "             }\n",
    "\n",
    "    pm.execute_notebook(\n",
    "        notebook_name,\n",
    "        file_path(base_name, notebook_name),\n",
    "        parameters=params\n",
    "    )"
   ]
  },
  {
   "cell_type": "code",
   "execution_count": 21,
   "id": "37702df4-e3d8-4ab2-a5f0-54e4dcbb7691",
   "metadata": {
    "tags": []
   },
   "outputs": [
    {
     "data": {
      "text/plain": [
       "'completed'"
      ]
     },
     "execution_count": 21,
     "metadata": {},
     "output_type": "execute_result"
    }
   ],
   "source": [
    "processing_status"
   ]
  },
  {
   "cell_type": "code",
   "execution_count": null,
   "id": "12bdea80-8fbf-48fe-a885-0c3014bfe4a1",
   "metadata": {},
   "outputs": [],
   "source": []
  }
 ],
 "metadata": {
  "kernelspec": {
   "display_name": "Python 3 (ipykernel)",
   "language": "python",
   "name": "python3"
  },
  "language_info": {
   "codemirror_mode": {
    "name": "ipython",
    "version": 3
   },
   "file_extension": ".py",
   "mimetype": "text/x-python",
   "name": "python",
   "nbconvert_exporter": "python",
   "pygments_lexer": "ipython3",
   "version": "3.11.0"
  }
 },
 "nbformat": 4,
 "nbformat_minor": 5
}
