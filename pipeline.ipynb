{
 "cells": [
  {
   "cell_type": "code",
   "execution_count": 1,
   "id": "9d687d18-7035-4244-bfa9-c7c27281c269",
   "metadata": {
    "tags": []
   },
   "outputs": [],
   "source": [
    "import os\n",
    "import papermill as pm\n",
    "import scrapbook as sb"
   ]
  },
  {
   "cell_type": "code",
   "execution_count": 2,
   "id": "391712a5-783d-47c0-8e2e-568e4bac1154",
   "metadata": {
    "tags": []
   },
   "outputs": [],
   "source": [
    "work_bucket = 'priority_1'\n",
    "\n",
    "data_path = os.getenv('DATA_PATH')\n",
    "file_path = lambda *args: os.path.join(data_path, 'diygenomics-projects', 'experiment-a', work_bucket, *args)"
   ]
  },
  {
   "cell_type": "code",
   "execution_count": 3,
   "id": "a0cb1cf3-6cd4-4583-b5fd-fa0b737e4656",
   "metadata": {
    "tags": []
   },
   "outputs": [],
   "source": [
    "file_name = '2020 Andrews GWAS review nihms-1645148.pdf'\n",
    "human_title = '2020 Andrews GWAS'\n",
    "base_name = os.path.splitext(os.path.basename(file_name))[0].replace(' ', '_')\n",
    "\n",
    "if not os.path.exists(file_path(base_name)):\n",
    "    os.mkdir(file_path(base_name))\n",
    "    \n",
    "if not os.path.exists(file_path(base_name, 'mathpix')):\n",
    "    os.mkdir(file_path(base_name, 'mathpix'))"
   ]
  },
  {
   "cell_type": "code",
   "execution_count": null,
   "id": "b38fbf4f-62bd-44d6-b143-3ae40083c916",
   "metadata": {
    "tags": []
   },
   "outputs": [],
   "source": [
    "notebook_name = '01_post_document_to_mathpix.ipynb'\n",
    "\n",
    "params = {\n",
    "            'file_name': file_name,\n",
    "            'base_name': base_name,\n",
    "            'work_bucket': work_bucket\n",
    "         }\n",
    "\n",
    "pm.execute_notebook(\n",
    "    notebook_name,\n",
    "    file_path(base_name, notebook_name),\n",
    "    parameters=params\n",
    ")"
   ]
  },
  {
   "cell_type": "code",
   "execution_count": 9,
   "id": "53d2d3b6-cda8-47e4-ae81-f50275a085a0",
   "metadata": {
    "tags": []
   },
   "outputs": [],
   "source": [
    "nb = sb.read_notebook(file_path(base_name, notebook_name))\n",
    "external_id = nb.scraps.data_dict['external_id']\n",
    "processing_status = nb.scraps.data_dict['status']"
   ]
  },
  {
   "cell_type": "code",
   "execution_count": 14,
   "id": "bbdb6133-cad9-4e59-801b-e5f108fe8d86",
   "metadata": {
    "tags": []
   },
   "outputs": [
    {
     "data": {
      "application/vnd.jupyter.widget-view+json": {
       "model_id": "bee8237405664616a55d8fd5828eb7c9",
       "version_major": 2,
       "version_minor": 0
      },
      "text/plain": [
       "Executing:   0%|          | 0/10 [00:00<?, ?cell/s]"
      ]
     },
     "metadata": {},
     "output_type": "display_data"
    },
    {
     "name": "stderr",
     "output_type": "stream",
     "text": [
      "0.00s - Debugger warning: It seems that frozen modules are being used, which may\n",
      "0.00s - make the debugger miss breakpoints. Please pass -Xfrozen_modules=off\n",
      "0.00s - to python to disable frozen modules.\n",
      "0.00s - Note: Debugging will proceed. Set PYDEVD_DISABLE_FILE_VALIDATION=1 to disable this validation.\n"
     ]
    }
   ],
   "source": [
    "if processing_status == 'completed':\n",
    "    notebook_name = '02_post_images_to_mathpix.ipynb'\n",
    "\n",
    "    params = {\n",
    "                'base_name': base_name,\n",
    "                'work_bucket': work_bucket,\n",
    "                'external_id': external_id\n",
    "             }\n",
    "\n",
    "    pm.execute_notebook(\n",
    "        notebook_name,\n",
    "        file_path(base_name, notebook_name),\n",
    "        parameters=params\n",
    "    )"
   ]
  },
  {
   "cell_type": "code",
   "execution_count": 15,
   "id": "5d05ec9d-5649-41c5-b090-cf18d2f2afdc",
   "metadata": {
    "tags": []
   },
   "outputs": [],
   "source": [
    "nb = sb.read_notebook(file_path(base_name, notebook_name))\n",
    "processing_status = nb.scraps.data_dict['status']"
   ]
  },
  {
   "cell_type": "code",
   "execution_count": 18,
   "id": "f5827379-84a4-4ffd-8420-6808ba84bed9",
   "metadata": {
    "tags": []
   },
   "outputs": [
    {
     "data": {
      "application/vnd.jupyter.widget-view+json": {
       "model_id": "7488c44d00a143e38c50cc8104c71feb",
       "version_major": 2,
       "version_minor": 0
      },
      "text/plain": [
       "Executing:   0%|          | 0/12 [00:00<?, ?cell/s]"
      ]
     },
     "metadata": {},
     "output_type": "display_data"
    },
    {
     "name": "stderr",
     "output_type": "stream",
     "text": [
      "0.00s - Debugger warning: It seems that frozen modules are being used, which may\n",
      "0.00s - make the debugger miss breakpoints. Please pass -Xfrozen_modules=off\n",
      "0.00s - to python to disable frozen modules.\n",
      "0.00s - Note: Debugging will proceed. Set PYDEVD_DISABLE_FILE_VALIDATION=1 to disable this validation.\n"
     ]
    }
   ],
   "source": [
    "if processing_status == 'completed':\n",
    "    notebook_name = '03_create_dataset_from_mathpix.ipynb'\n",
    "\n",
    "    params = {\n",
    "                'base_name': base_name,\n",
    "                'work_bucket': work_bucket,\n",
    "                'external_id': external_id\n",
    "             }\n",
    "\n",
    "    pm.execute_notebook(\n",
    "        notebook_name,\n",
    "        file_path(base_name, notebook_name),\n",
    "        parameters=params\n",
    "    )"
   ]
  },
  {
   "cell_type": "code",
   "execution_count": 19,
   "id": "e362d9c4-0f25-45b5-9065-f0a804bd8910",
   "metadata": {
    "tags": []
   },
   "outputs": [],
   "source": [
    "nb = sb.read_notebook(file_path(base_name, notebook_name))\n",
    "processing_status = nb.scraps.data_dict['status']"
   ]
  },
  {
   "cell_type": "code",
   "execution_count": 25,
   "id": "a52762db-baa9-4f6a-9d96-47ac270e71aa",
   "metadata": {
    "tags": []
   },
   "outputs": [
    {
     "data": {
      "application/vnd.jupyter.widget-view+json": {
       "model_id": "a745fdf3757145a3a1025aa00477cf6e",
       "version_major": 2,
       "version_minor": 0
      },
      "text/plain": [
       "Executing:   0%|          | 0/11 [00:00<?, ?cell/s]"
      ]
     },
     "metadata": {},
     "output_type": "display_data"
    },
    {
     "name": "stderr",
     "output_type": "stream",
     "text": [
      "0.00s - Debugger warning: It seems that frozen modules are being used, which may\n",
      "0.00s - make the debugger miss breakpoints. Please pass -Xfrozen_modules=off\n",
      "0.00s - to python to disable frozen modules.\n",
      "0.00s - Note: Debugging will proceed. Set PYDEVD_DISABLE_FILE_VALIDATION=1 to disable this validation.\n"
     ]
    }
   ],
   "source": [
    "if processing_status == 'completed':\n",
    "    notebook_name = '04_gene_extraction_experiment_b.ipynb'\n",
    "\n",
    "    params = {\n",
    "                'base_name': base_name,\n",
    "                'work_bucket': work_bucket,\n",
    "                'external_id': external_id\n",
    "             }\n",
    "\n",
    "    pm.execute_notebook(\n",
    "        notebook_name,\n",
    "        file_path(base_name, notebook_name),\n",
    "        parameters=params\n",
    "    )"
   ]
  },
  {
   "cell_type": "code",
   "execution_count": 26,
   "id": "82fbf8c1-1798-486a-93fa-bf30cadd5a7b",
   "metadata": {
    "tags": []
   },
   "outputs": [],
   "source": [
    "nb = sb.read_notebook(file_path(base_name, notebook_name))\n",
    "processing_status = nb.scraps.data_dict['status']"
   ]
  },
  {
   "cell_type": "code",
   "execution_count": 30,
   "id": "9fd5a625-5b02-48f1-8845-d531fabe1d14",
   "metadata": {
    "tags": []
   },
   "outputs": [
    {
     "data": {
      "application/vnd.jupyter.widget-view+json": {
       "model_id": "118312612c0949f7890b7195ba1f4ded",
       "version_major": 2,
       "version_minor": 0
      },
      "text/plain": [
       "Executing:   0%|          | 0/21 [00:00<?, ?cell/s]"
      ]
     },
     "metadata": {},
     "output_type": "display_data"
    },
    {
     "name": "stderr",
     "output_type": "stream",
     "text": [
      "0.00s - Debugger warning: It seems that frozen modules are being used, which may\n",
      "0.00s - make the debugger miss breakpoints. Please pass -Xfrozen_modules=off\n",
      "0.00s - to python to disable frozen modules.\n",
      "0.00s - Note: Debugging will proceed. Set PYDEVD_DISABLE_FILE_VALIDATION=1 to disable this validation.\n"
     ]
    }
   ],
   "source": [
    "if processing_status == 'completed':\n",
    "    notebook_name = '05_create_report.ipynb'\n",
    "\n",
    "    params = {\n",
    "                'base_name': base_name,\n",
    "                'work_bucket': work_bucket,\n",
    "                'external_id': external_id,\n",
    "                'human_title': human_title\n",
    "             }\n",
    "\n",
    "    pm.execute_notebook(\n",
    "        notebook_name,\n",
    "        file_path(base_name, notebook_name),\n",
    "        parameters=params\n",
    "    )"
   ]
  },
  {
   "cell_type": "code",
   "execution_count": null,
   "id": "37702df4-e3d8-4ab2-a5f0-54e4dcbb7691",
   "metadata": {},
   "outputs": [],
   "source": []
  }
 ],
 "metadata": {
  "kernelspec": {
   "display_name": "Python 3 (ipykernel)",
   "language": "python",
   "name": "python3"
  },
  "language_info": {
   "codemirror_mode": {
    "name": "ipython",
    "version": 3
   },
   "file_extension": ".py",
   "mimetype": "text/x-python",
   "name": "python",
   "nbconvert_exporter": "python",
   "pygments_lexer": "ipython3",
   "version": "3.11.0"
  }
 },
 "nbformat": 4,
 "nbformat_minor": 5
}
