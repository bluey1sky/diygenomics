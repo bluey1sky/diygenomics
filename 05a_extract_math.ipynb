{
 "cells": [
  {
   "cell_type": "code",
   "execution_count": null,
   "id": "a015eaaf-cbf7-451f-93a9-aab938d93cff",
   "metadata": {
    "tags": []
   },
   "outputs": [],
   "source": [
    "%load_ext autoreload\n",
    "%autoreload 2\n",
    "\n",
    "import csv\n",
    "import json\n",
    "import os\n",
    "import pandas as pd\n",
    "import papermill as pm\n",
    "import re\n",
    "import scrapbook as sb\n",
    "import uuid\n",
    "\n",
    "from functions import gpt\n",
    "\n",
    "from tqdm.notebook import tqdm_notebook\n",
    "tqdm_notebook().pandas()\n",
    "\n",
    "pd.set_option('display.max_colwidth', None)\n",
    "\n",
    "from pylatexenc.latexwalker import LatexWalker, LatexMathNode, LatexMacroNode, LatexGroupNode, LatexCharsNode, LatexEnvironmentNode"
   ]
  },
  {
   "cell_type": "code",
   "execution_count": null,
   "id": "1120c9ec-7575-4893-bd2b-0be5558bb8d9",
   "metadata": {
    "tags": []
   },
   "outputs": [],
   "source": [
    "base_name = \"2021_Hashimoto_Neural_ODE_and_holographic_QCD_PUB\"\n",
    "project_folder = \"diygenomics-projects\"\n",
    "sub_category = \"math\"\n",
    "work_bucket = \"AdS-CFT\"\n",
    "external_id = \"2023_05_22_92dc0613b4493d7b5847g\""
   ]
  },
  {
   "cell_type": "code",
   "execution_count": null,
   "id": "5584c94e-cf7a-4f0c-af06-5efac6ccb65c",
   "metadata": {
    "tags": []
   },
   "outputs": [],
   "source": [
    "data_path = os.getenv('DATA_PATH')\n",
    "file_path = lambda *args: os.path.join(data_path, project_folder, sub_category, work_bucket,\n",
    "                                       base_name, 'mathpix', *args)\n",
    "\n",
    "model = 'gpt-4' # 'gpt-3.5-turbo' # 'gpt-4'\n",
    "index_col = 'uuid'\n",
    "\n",
    "laytex_file = f'{external_id}.tex'"
   ]
  },
  {
   "cell_type": "code",
   "execution_count": null,
   "id": "cdc9e948-5df5-4fb0-845e-d514d1b31cfb",
   "metadata": {
    "tags": []
   },
   "outputs": [],
   "source": [
    "with open(file_path(external_id, laytex_file), 'r') as f:\n",
    "    latex_code = f.read()\n",
    "walker = LatexWalker(latex_code)"
   ]
  },
  {
   "cell_type": "code",
   "execution_count": null,
   "id": "5d8dea5b-26bd-478a-bc4c-cb6781f74377",
   "metadata": {
    "tags": []
   },
   "outputs": [],
   "source": [
    "inline_math = re.findall(r'\\$([^$]*)\\$', latex_code)\n",
    "displayed_math = re.findall(r'\\\\\\[(.*?)\\\\\\]', latex_code, re.DOTALL)\n",
    "equation_math = re.findall(r'\\\\begin{equation}(.*?)\\\\end{equation}', latex_code, re.DOTALL)  "
   ]
  },
  {
   "cell_type": "code",
   "execution_count": null,
   "id": "4db218a6-8233-4203-94d5-64e74b44b236",
   "metadata": {
    "tags": []
   },
   "outputs": [],
   "source": [
    "print(len(inline_math))\n",
    "print(len(displayed_math))\n",
    "print(len(equation_math))"
   ]
  },
  {
   "cell_type": "code",
   "execution_count": null,
   "id": "e3e3dfcc-eada-4f27-9300-48fea78fdcf1",
   "metadata": {
    "tags": []
   },
   "outputs": [],
   "source": [
    "data = {'math': inline_math + displayed_math + equation_math,\n",
    "        'type': ['inline'] * len(inline_math) + ['display'] * len(displayed_math) + ['equation'] * len(equation_math)}\n",
    "\n",
    "uuids = [uuid.uuid4() for _ in range(len(data['math']))]\n",
    "\n",
    "df = pd.DataFrame(data, index=uuids)\n",
    "df = df.rename_axis('uuid', axis='index')"
   ]
  },
  {
   "cell_type": "code",
   "execution_count": null,
   "id": "4a9f16d3-5e77-4521-9912-ef5b3bdd967f",
   "metadata": {
    "tags": []
   },
   "outputs": [],
   "source": [
    "df.to_csv(file_path('extracted_math.csv'), quoting=csv.QUOTE_MINIMAL)"
   ]
  },
  {
   "cell_type": "code",
   "execution_count": null,
   "id": "2ba74b55-b89a-4763-9a9e-06900a17ff35",
   "metadata": {
    "tags": []
   },
   "outputs": [],
   "source": [
    "# parsed_inline_math = []\n",
    "# parsed_displayed_math = []\n",
    "\n",
    "# for node in walker.get_latex_nodes():\n",
    "#     if isinstance(node, list):\n",
    "#         for sub_node in node:\n",
    "#             if isinstance(sub_node, LatexEnvironmentNode): # LatexGroupNode LatexEnvironmentNode LatexMacroNode LatexCharsNode\n",
    "#                 children = sub_node.nodelist\n",
    "#                 for child_node in children:\n",
    "#                     if isinstance(child_node, LatexMathNode):\n",
    "#                         math_nodes = child_node.nodelist\n",
    "#                         for math_node in math_nodes:\n",
    "#                             print(math_node)\n",
    "#                             # if isinstance(char_node, LatexCharsNode):\n",
    "#                             #     print(char_node)\n",
    "#                         if child_node.displaytype == 'inline':\n",
    "#                             parsed_inline_math.append('a')\n",
    "#                         elif child_node.displaytype == 'display':\n",
    "#                             parsed_displayed_math.append('b')\n",
    "#                         # nodelist"
   ]
  },
  {
   "cell_type": "code",
   "execution_count": null,
   "id": "1f8cb047-baad-4f8d-b271-13081b049a1e",
   "metadata": {
    "tags": []
   },
   "outputs": [],
   "source": [
    "# print(len(parsed_inline_math))\n",
    "# print(len(parsed_displayed_math))"
   ]
  },
  {
   "cell_type": "code",
   "execution_count": null,
   "id": "0dfb804a-7e07-4dfd-8f4e-31e071031027",
   "metadata": {},
   "outputs": [],
   "source": []
  }
 ],
 "metadata": {
  "kernelspec": {
   "display_name": "Python 3 (ipykernel)",
   "language": "python",
   "name": "python3"
  },
  "language_info": {
   "codemirror_mode": {
    "name": "ipython",
    "version": 3
   },
   "file_extension": ".py",
   "mimetype": "text/x-python",
   "name": "python",
   "nbconvert_exporter": "python",
   "pygments_lexer": "ipython3",
   "version": "3.11.0"
  }
 },
 "nbformat": 4,
 "nbformat_minor": 5
}
