{
 "cells": [
  {
   "cell_type": "code",
   "execution_count": null,
   "id": "a015eaaf-cbf7-451f-93a9-aab938d93cff",
   "metadata": {
    "tags": []
   },
   "outputs": [],
   "source": [
    "%load_ext autoreload\n",
    "%autoreload 2\n",
    "\n",
    "import csv\n",
    "import json\n",
    "import os\n",
    "import pandas as pd\n",
    "import papermill as pm\n",
    "import re\n",
    "import scrapbook as sb\n",
    "import uuid\n",
    "\n",
    "from functions import gpt\n",
    "\n",
    "from tqdm.notebook import tqdm_notebook\n",
    "tqdm_notebook().pandas()\n",
    "\n",
    "pd.set_option('display.max_colwidth', None)\n",
    "\n",
    "from pylatexenc.latexwalker import LatexWalker, LatexMathNode, LatexMacroNode, LatexGroupNode, LatexCharsNode, LatexEnvironmentNode"
   ]
  },
  {
   "cell_type": "code",
   "execution_count": null,
   "id": "1120c9ec-7575-4893-bd2b-0be5558bb8d9",
   "metadata": {
    "tags": []
   },
   "outputs": [],
   "source": [
    "base_name = \"2021_Hashimoto_Neural_ODE_and_holographic_QCD_PUB\"\n",
    "project_folder = \"diygenomics-projects\"\n",
    "sub_category = \"math\"\n",
    "work_bucket = \"AdS-CFT\"\n",
    "external_id = \"2023_05_22_92dc0613b4493d7b5847g\""
   ]
  },
  {
   "cell_type": "code",
   "execution_count": null,
   "id": "5584c94e-cf7a-4f0c-af06-5efac6ccb65c",
   "metadata": {
    "tags": []
   },
   "outputs": [],
   "source": [
    "data_path = os.getenv('DATA_PATH')\n",
    "file_path = lambda *args: os.path.join(data_path, project_folder, sub_category, work_bucket,\n",
    "                                       base_name, 'mathpix', *args)\n",
    "\n",
    "model = 'gpt-4' # 'gpt-3.5-turbo' # 'gpt-4'\n",
    "openai_model = 'text-embedding-ada-002'\n",
    "index_col = 'uuid'\n",
    "\n",
    "input_file = f'{external_id}.lines.json'"
   ]
  },
  {
   "cell_type": "code",
   "execution_count": null,
   "id": "cdc9e948-5df5-4fb0-845e-d514d1b31cfb",
   "metadata": {
    "tags": []
   },
   "outputs": [],
   "source": [
    "with open(file_path(input_file), 'r') as f:\n",
    "    data = json.load(f)"
   ]
  },
  {
   "cell_type": "code",
   "execution_count": null,
   "id": "6732847f-8bb5-4b78-a63e-c24c15dfd2b7",
   "metadata": {
    "tags": []
   },
   "outputs": [],
   "source": [
    "pattern = r'^\\([A-Za-z]?\\d+(\\.\\d+)?\\)$'\n",
    "\n",
    "text_nodes = []\n",
    "captured_math = []\n",
    "\n",
    "for page in data['pages']:\n",
    "    for line in page['lines']:\n",
    "        text = line['text']\n",
    "        \n",
    "        if re.match(pattern, text):\n",
    "            current_annotations = []\n",
    "            current_annotations.append(text)\n",
    "            if len(text_nodes) > 0:\n",
    "                while len(text_nodes) > 0: #  and re.match(pattern, text_nodes[offset]['text'])\n",
    "                    previous_line = text_nodes.pop()\n",
    "                    if re.match(pattern, previous_line['text']):\n",
    "                        current_annotations.append(previous_line['text'])\n",
    "                    else:\n",
    "                        captured_math.append((previous_line['text'], current_annotations))\n",
    "                        break\n",
    "        \n",
    "        text_nodes.append(line)"
   ]
  },
  {
   "cell_type": "code",
   "execution_count": null,
   "id": "eab532be-5929-4b1b-a8dc-b46dca1e4de5",
   "metadata": {},
   "outputs": [],
   "source": [
    "begin_gathered_pattern = r'\\\\begin{gathered}\\n\\\\'\n",
    "end_gathered_pattern = r'\\\\end{gathered}\\n\\\\'\n",
    "begin_gathered_no_newline_pattern = r'\\\\begin{gathered}'\n",
    "end_gathered_no_newline_pattern = r'\\\\end{gathered}'\n",
    "begin_gathered_bracket_pattern = '\\[\\n'\n",
    "end_gathered_bracket_pattern = '\\n]'\n",
    "\n",
    "modified_tuples = []\n",
    "tuples = captured_math\n",
    "for i in range(len(tuples)):\n",
    "    if len(tuples[i][1]) > 1:\n",
    "        prior_tuple = modified_tuples.pop()\n",
    "        original_math = prior_tuple[0]\n",
    "        original_annotations = tuples[i][1][::-1]\n",
    "        maths = original_math.split(\"\\\\\\\\\")\n",
    "        for index, math in enumerate(maths):\n",
    "            math = re.sub(begin_gathered_pattern, '', math)\n",
    "            math = re.sub(end_gathered_pattern, '', math)\n",
    "            math = re.sub(begin_gathered_no_newline_pattern, '', math)\n",
    "            math = re.sub(end_gathered_no_newline_pattern, '', math)\n",
    "            math = re.sub(begin_gathered_bracket_pattern, '', math)\n",
    "            math = re.sub(end_gathered_bracket_pattern, '', math)\n",
    "            modified_tuples.append((math, original_annotations[index]))\n",
    "    else:\n",
    "        modified_tuples.append((tuples[i][0], tuples[i][1][0]))"
   ]
  },
  {
   "cell_type": "code",
   "execution_count": null,
   "id": "e3e3dfcc-eada-4f27-9300-48fea78fdcf1",
   "metadata": {
    "tags": []
   },
   "outputs": [],
   "source": [
    "uuids = [uuid.uuid4() for _ in range(len(modified_tuples))]\n",
    "\n",
    "df = pd.DataFrame(modified_tuples, columns=['math', 'paper_annotation'], index=uuids)\n",
    "df = df.rename_axis('uuid', axis='index')"
   ]
  },
  {
   "cell_type": "code",
   "execution_count": null,
   "id": "4a9f16d3-5e77-4521-9912-ef5b3bdd967f",
   "metadata": {
    "tags": []
   },
   "outputs": [],
   "source": [
    "df.to_csv(file_path('extracted_annotated_math.csv'), quoting=csv.QUOTE_MINIMAL)"
   ]
  },
  {
   "cell_type": "code",
   "execution_count": null,
   "id": "2ba74b55-b89a-4763-9a9e-06900a17ff35",
   "metadata": {
    "tags": []
   },
   "outputs": [],
   "source": [
    "# text_nodes = []\n",
    "\n",
    "# for page in data['pages']:\n",
    "#     for line in page['lines']:\n",
    "#         text = line['text']\n",
    "        \n",
    "#         if re.match(pattern, text):\n",
    "#             if previous_line is not None:\n",
    "#                 if re.match(pattern, previous_line['text']):\n",
    "#                     print(previous_line['text'])\n",
    "        \n",
    "#         previous_line = line"
   ]
  },
  {
   "cell_type": "code",
   "execution_count": null,
   "id": "0dfb804a-7e07-4dfd-8f4e-31e071031027",
   "metadata": {},
   "outputs": [],
   "source": []
  }
 ],
 "metadata": {
  "kernelspec": {
   "display_name": "Python 3 (ipykernel)",
   "language": "python",
   "name": "python3"
  },
  "language_info": {
   "codemirror_mode": {
    "name": "ipython",
    "version": 3
   },
   "file_extension": ".py",
   "mimetype": "text/x-python",
   "name": "python",
   "nbconvert_exporter": "python",
   "pygments_lexer": "ipython3",
   "version": "3.11.0"
  }
 },
 "nbformat": 4,
 "nbformat_minor": 5
}
