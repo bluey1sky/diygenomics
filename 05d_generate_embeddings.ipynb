{
 "cells": [
  {
   "cell_type": "code",
   "execution_count": null,
   "id": "05371758-d0ce-42da-bcd9-6afb0fc7fb7a",
   "metadata": {},
   "outputs": [],
   "source": [
    "%load_ext autoreload\n",
    "%autoreload 2\n",
    "\n",
    "import csv\n",
    "import ipywidgets as widgets\n",
    "import json\n",
    "import openai\n",
    "import os\n",
    "import pandas as pd\n",
    "import papermill as pm\n",
    "import scrapbook as sb\n",
    "import torch\n",
    "\n",
    "from sentence_transformers import SentenceTransformer\n",
    "from tqdm.notebook import tqdm_notebook\n",
    "from transformers import AutoModel, AutoTokenizer\n",
    "\n",
    "tqdm_notebook().pandas()\n",
    "\n",
    "pd.set_option('display.max_colwidth', None)"
   ]
  },
  {
   "cell_type": "code",
   "execution_count": null,
   "id": "ddd34dc6-5187-4d5f-9d91-b18bdcadee48",
   "metadata": {
    "tags": [
     "parameters",
     "base_name",
     "project_folder",
     "sub_category",
     "work_bucket",
     "external_id"
    ]
   },
   "outputs": [],
   "source": [
    "# base_name = \"2021_Hashimoto_Neural_ODE_and_holographic_QCD_PUB\"\n",
    "# project_folder = \"diygenomics-projects\"\n",
    "# sub_category = \"math\"\n",
    "# work_bucket = \"AdS-CFT\"\n",
    "# external_id = \"2023_05_22_92dc0613b4493d7b5847g\""
   ]
  },
  {
   "cell_type": "code",
   "execution_count": null,
   "id": "83a4f990-9522-4e4f-9555-c785f898f6cd",
   "metadata": {},
   "outputs": [],
   "source": [
    "data_path = os.getenv('DATA_PATH')\n",
    "file_path = lambda *args: os.path.join(data_path, project_folder, sub_category, work_bucket,\n",
    "                                       base_name, 'mathpix', *args)\n",
    "\n",
    "index_col = 'uuid'\n",
    "openai_model = 'text-embedding-ada-002'\n",
    "\n",
    "input_file = 'extracted_annotated_math.csv'\n",
    "output_file = 'extracted_annotated_math.csv'"
   ]
  },
  {
   "cell_type": "code",
   "execution_count": null,
   "id": "0c1705b1-9c38-46f1-9fbe-62ac2f977707",
   "metadata": {
    "tags": []
   },
   "outputs": [],
   "source": [
    "df = pd.read_csv(file_path(input_file), index_col=index_col)"
   ]
  },
  {
   "cell_type": "code",
   "execution_count": null,
   "id": "f0fcf0fe-341c-4636-9984-6c440fb55ddf",
   "metadata": {},
   "outputs": [],
   "source": [
    "# df['openai_math_embeddings'] = df['math'].progress_apply(lambda x: openai.Embedding.create(input=x, engine=openai_model, temperature=0,)['data'][0]['embedding'])"
   ]
  },
  {
   "cell_type": "code",
   "execution_count": null,
   "id": "a5ae5a1e-a706-4d3f-88a3-01e5a8cc046d",
   "metadata": {},
   "outputs": [],
   "source": [
    "df['openai_sympy_embeddings'] = df['gpt_python_math'].progress_apply(lambda x: openai.Embedding.create(input=x, engine=openai_model, temperature=0,)['data'][0]['embedding'])"
   ]
  },
  {
   "cell_type": "code",
   "execution_count": null,
   "id": "84a811c1-e8cb-47b5-ab19-06cea7470212",
   "metadata": {
    "tags": []
   },
   "outputs": [],
   "source": [
    "df['openai_clean_math_embeddings'] = df['clean_math'].progress_apply(lambda x: openai.Embedding.create(input=x, engine=openai_model, temperature=0,)['data'][0]['embedding'])"
   ]
  },
  {
   "cell_type": "code",
   "execution_count": null,
   "id": "1d1476bd-f9b2-4e97-84e9-dc9c301e49bb",
   "metadata": {
    "tags": []
   },
   "outputs": [],
   "source": [
    "def get_embedding(text):\n",
    "    return model.encode(text).tolist()"
   ]
  },
  {
   "cell_type": "code",
   "execution_count": null,
   "id": "19a63826-fbc4-4ed0-a2ff-ecb0633b9cfe",
   "metadata": {
    "tags": []
   },
   "outputs": [],
   "source": [
    "model = SentenceTransformer('flax-sentence-embeddings/st-codesearch-distilroberta-base')\n",
    "# df['codesearch_math_embeddings'] = df['math'].apply(get_embedding)\n",
    "df['codesearch_sympy_embeddings'] = df['gpt_python_math'].apply(get_embedding)\n",
    "df['codesearch_clean_math_embeddings'] = df['clean_math'].apply(get_embedding)"
   ]
  },
  {
   "cell_type": "code",
   "execution_count": null,
   "id": "0cb031f8-e36f-402e-91d3-fccac565988a",
   "metadata": {
    "tags": []
   },
   "outputs": [],
   "source": [
    "model = SentenceTransformer('sentence-transformers/multi-qa-MiniLM-L6-cos-v1')\n",
    "# df['multi_qa_math_embeddings'] = df['math'].apply(get_embedding)\n",
    "df['multi_qa_sympy_embeddings'] = df['gpt_python_math'].apply(get_embedding)\n",
    "df['multi_qa_clean_math_embeddings'] = df['clean_math'].apply(get_embedding)"
   ]
  },
  {
   "cell_type": "code",
   "execution_count": null,
   "id": "ea2168b8-13c6-40fe-acd8-f834e44a870a",
   "metadata": {
    "tags": []
   },
   "outputs": [],
   "source": [
    "model_name = 'witiko/mathberta'\n",
    "tokenizer = AutoTokenizer.from_pretrained(model_name)\n",
    "model = AutoModel.from_pretrained(model_name)"
   ]
  },
  {
   "cell_type": "code",
   "execution_count": null,
   "id": "698fb541-947f-4413-a1dc-d8951bdb7ac7",
   "metadata": {
    "tags": []
   },
   "outputs": [],
   "source": [
    "def get_model_embeddings(text):\n",
    "    if len(text) > 514:\n",
    "        text = text[:514]\n",
    "    tokenized_text = tokenizer.tokenize(text)\n",
    "    input_ids = tokenizer.convert_tokens_to_ids(tokenized_text)\n",
    "    input_ids = torch.tensor([input_ids])\n",
    "    with torch.no_grad():\n",
    "        outputs = model(input_ids)\n",
    "        embeddings = outputs.last_hidden_state\n",
    "    return embeddings.numpy().tolist()[0][0]"
   ]
  },
  {
   "cell_type": "code",
   "execution_count": null,
   "id": "6ecf760f-35f7-4677-8e81-135c1e9df47d",
   "metadata": {
    "tags": []
   },
   "outputs": [],
   "source": [
    "# df['mathbert_math_embeddings'] = df['math'].apply(get_model_embeddings)\n",
    "df['mathbert_sympy_embeddings'] = df['gpt_python_math'].apply(get_model_embeddings)\n",
    "df['mathbert_clean_math_embeddings'] = df['clean_math'].apply(get_model_embeddings)"
   ]
  },
  {
   "cell_type": "code",
   "execution_count": null,
   "id": "3746308f-e2b6-45a2-b596-52aabeae340f",
   "metadata": {
    "tags": []
   },
   "outputs": [],
   "source": [
    "df.to_csv(file_path(output_file), quoting=csv.QUOTE_MINIMAL)"
   ]
  },
  {
   "cell_type": "code",
   "execution_count": null,
   "id": "b23f15d5-d4fd-470c-b610-1b817f27cc60",
   "metadata": {},
   "outputs": [],
   "source": [
    "sb.glue('status', 'completed')"
   ]
  }
 ],
 "metadata": {
  "kernelspec": {
   "display_name": "Python 3 (ipykernel)",
   "language": "python",
   "name": "python3"
  },
  "language_info": {
   "codemirror_mode": {
    "name": "ipython",
    "version": 3
   },
   "file_extension": ".py",
   "mimetype": "text/x-python",
   "name": "python",
   "nbconvert_exporter": "python",
   "pygments_lexer": "ipython3",
   "version": "3.11.0"
  }
 },
 "nbformat": 4,
 "nbformat_minor": 5
}
