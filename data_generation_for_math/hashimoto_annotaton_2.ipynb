{
 "cells": [
  {
   "cell_type": "code",
   "execution_count": 23,
   "id": "d3a5bfac-1077-41c6-ab5f-3a255ceb5a69",
   "metadata": {
    "tags": []
   },
   "outputs": [],
   "source": [
    "import json\n",
    "import matplotlib.pyplot as plt\n",
    "import numpy as np\n",
    "import pprint\n",
    "\n",
    "from IPython.display import display, Markdown\n",
    "from sympy import symbols, Function\n",
    "\n",
    "import sys\n",
    "sys.path.append('../')\n",
    "from functions import gpt"
   ]
  },
  {
   "cell_type": "code",
   "execution_count": 27,
   "id": "4188d1f4-b48d-455e-83af-8d496de35e93",
   "metadata": {
    "tags": []
   },
   "outputs": [],
   "source": [
    "purpose = \"- The data is for expressions related to neural ordinary differential equation and holographic quantum chromodynamics\"\n",
    "output_file = 'hashimoto_annotaton_2.py'\n",
    "\n",
    "base_name = \"2021_Hashimoto_Neural_ODE_and_holographic_QCD_PUB\"\n",
    "work_bucket = \"AdS-CFT\"\n",
    "project_folder = \"diygenomics-projects\"\n",
    "sub_category = \"math\"\n",
    "\n",
    "model = 'gpt-4'"
   ]
  },
  {
   "cell_type": "code",
   "execution_count": 25,
   "id": "2a3e5d1c-96f6-47b6-915c-921f702e5e96",
   "metadata": {
    "tags": []
   },
   "outputs": [],
   "source": [
    "data_path = os.getenv('DATA_PATH')\n",
    "file_path = lambda *args: os.path.join(data_path, project_folder, sub_category, work_bucket, base_name, 'mathpix', 'generated_code', *args)"
   ]
  },
  {
   "cell_type": "code",
   "execution_count": 26,
   "id": "b414ada4-7337-4705-bf2e-9cc01c4ca910",
   "metadata": {
    "tags": []
   },
   "outputs": [],
   "source": [
    "os.makedirs(file_path(), exist_ok=True)"
   ]
  },
  {
   "cell_type": "code",
   "execution_count": 3,
   "id": "26c45480-38d9-45fe-952f-cd4d2b199b9c",
   "metadata": {
    "tags": []
   },
   "outputs": [],
   "source": [
    "system_prompt = f\"\"\"You are an expert mathematician and data scientist.\n",
    "- I want to generate a dataset as input for a math expression\n",
    "{purpose}\n",
    "- I need the full dataset with 10 points\n",
    "- Please format your response in JSON. You only speak JSON. Do not write text that isn't JSON.\n",
    "\"\"\""
   ]
  },
  {
   "cell_type": "code",
   "execution_count": 4,
   "id": "63d02083-24d2-4791-b4a6-a2adca5c78e2",
   "metadata": {
    "tags": []
   },
   "outputs": [],
   "source": [
    "math_text = \"\"\"\n",
    "\\sqrt{|g|}=\\sqrt{-\\operatorname{det} g}=\\sqrt{f(\\eta) g(\\eta)^{d-1}}\n",
    "\"\"\""
   ]
  },
  {
   "cell_type": "code",
   "execution_count": 5,
   "id": "4a98c856-7bce-4390-b6f6-b683a116e8fd",
   "metadata": {
    "tags": []
   },
   "outputs": [],
   "source": [
    "math_dataset_response = gpt.chat_create(system_prompt, math_text, model, output_json=True)"
   ]
  },
  {
   "cell_type": "code",
   "execution_count": 6,
   "id": "2a908349-6cac-4891-8ac4-f64594cb126d",
   "metadata": {},
   "outputs": [
    {
     "data": {
      "text/plain": [
       "{'dataset': [{'eta': 1,\n",
       "   'f_eta': 2,\n",
       "   'g_eta': 3,\n",
       "   'd': 4,\n",
       "   'sqrt_g': 2.8284271247461903},\n",
       "  {'eta': 2, 'f_eta': 3, 'g_eta': 4, 'd': 5, 'sqrt_g': 6.48074069840786},\n",
       "  {'eta': 3, 'f_eta': 4, 'g_eta': 5, 'd': 6, 'sqrt_g': 13.856406460551018},\n",
       "  {'eta': 4, 'f_eta': 5, 'g_eta': 6, 'd': 7, 'sqrt_g': 29.478805945967352},\n",
       "  {'eta': 5, 'f_eta': 6, 'g_eta': 7, 'd': 8, 'sqrt_g': 64.0078125},\n",
       "  {'eta': 6, 'f_eta': 7, 'g_eta': 8, 'd': 9, 'sqrt_g': 139.96875},\n",
       "  {'eta': 7, 'f_eta': 8, 'g_eta': 9, 'd': 10, 'sqrt_g': 307.546875},\n",
       "  {'eta': 8, 'f_eta': 9, 'g_eta': 10, 'd': 11, 'sqrt_g': 675.390625},\n",
       "  {'eta': 9, 'f_eta': 10, 'g_eta': 11, 'd': 12, 'sqrt_g': 1478.515625},\n",
       "  {'eta': 10, 'f_eta': 11, 'g_eta': 12, 'd': 13, 'sqrt_g': 3240.390625}]}"
      ]
     },
     "execution_count": 6,
     "metadata": {},
     "output_type": "execute_result"
    }
   ],
   "source": [
    "math_dataset_response"
   ]
  },
  {
   "cell_type": "code",
   "execution_count": 7,
   "id": "e724af9e-2e72-4fbf-a023-02fb74e2afb3",
   "metadata": {
    "tags": []
   },
   "outputs": [],
   "source": [
    "system_prompt = f\"\"\"You are an expert mathematician and data scientist.\n",
    "- Please generate python code to execute the provided dataset given a LaTex math expression and print out the results.\n",
    "- Please format your response in the python coding language. You only speak python. Do not write text that isn't python.\n",
    "- Do not include any comments in your code.\n",
    "- Do not include the dataset in your response. \n",
    "- The dataset variable name will be math_dataset_response.\n",
    "{purpose}\n",
    "- Check your work and make that the dataset works with the code that you provide.\n",
    "- Check the first key in the dataset.\n",
    "\"\"\""
   ]
  },
  {
   "cell_type": "code",
   "execution_count": 8,
   "id": "1507165d-e011-4dcf-b861-1926310d13d6",
   "metadata": {
    "tags": []
   },
   "outputs": [],
   "source": [
    "math_plus_data = f'math expression: {math_text}\\ndataset: {math_dataset_response}'"
   ]
  },
  {
   "cell_type": "code",
   "execution_count": 9,
   "id": "284ce660-4902-41f6-922d-bbf2a998a858",
   "metadata": {
    "tags": []
   },
   "outputs": [],
   "source": [
    "python_code_response = gpt.chat_create(system_prompt, math_plus_data, model, output_json=False)"
   ]
  },
  {
   "cell_type": "code",
   "execution_count": 10,
   "id": "b72ccb9a-8af4-42e7-ad93-3caf04540a74",
   "metadata": {
    "tags": []
   },
   "outputs": [
    {
     "data": {
      "text/markdown": [
       "import math\n",
       "\n",
       "for data in math_dataset_response['dataset']:\n",
       "    eta = data['eta']\n",
       "    f_eta = data['f_eta']\n",
       "    g_eta = data['g_eta']\n",
       "    d = data['d']\n",
       "    sqrt_g = math.sqrt(abs(f_eta * (g_eta ** (d - 1))))\n",
       "    print(sqrt_g)"
      ],
      "text/plain": [
       "<IPython.core.display.Markdown object>"
      ]
     },
     "metadata": {},
     "output_type": "display_data"
    }
   ],
   "source": [
    "display(Markdown(python_code_response))"
   ]
  },
  {
   "cell_type": "code",
   "execution_count": 11,
   "id": "4d1355a0-8df5-4d4c-b5c3-aecf2d87a561",
   "metadata": {
    "tags": []
   },
   "outputs": [
    {
     "name": "stdout",
     "output_type": "stream",
     "text": [
      "7.3484692283495345\n",
      "27.712812921102035\n",
      "111.80339887498948\n",
      "482.99068313995457\n",
      "2222.894059553896\n",
      "10836.997370120564\n",
      "55671.93109637926\n",
      "300000.0\n",
      "1689117.1380665107\n",
      "9903388.558004579\n"
     ]
    }
   ],
   "source": [
    "exec(python_code_response)"
   ]
  },
  {
   "cell_type": "code",
   "execution_count": 28,
   "id": "ca8d2f31-b001-442f-8942-320645416fd2",
   "metadata": {
    "tags": []
   },
   "outputs": [],
   "source": [
    "pretty_dataset = json.dumps(math_dataset_response, indent=4)\n",
    "\n",
    "with open(file_path(output_file), 'w') as f:\n",
    "    f.write(f\"math_dataset_response = {pretty_dataset}\\n\\n\")\n",
    "    f.write(python_code_response)"
   ]
  },
  {
   "cell_type": "code",
   "execution_count": null,
   "id": "b933e8d0-067b-4f6f-b1bf-0abb1489711b",
   "metadata": {},
   "outputs": [],
   "source": [
    "# how can we put datasets together?\n",
    "# "
   ]
  }
 ],
 "metadata": {
  "kernelspec": {
   "display_name": "Python 3 (ipykernel)",
   "language": "python",
   "name": "python3"
  },
  "language_info": {
   "codemirror_mode": {
    "name": "ipython",
    "version": 3
   },
   "file_extension": ".py",
   "mimetype": "text/x-python",
   "name": "python",
   "nbconvert_exporter": "python",
   "pygments_lexer": "ipython3",
   "version": "3.11.0"
  }
 },
 "nbformat": 4,
 "nbformat_minor": 5
}
