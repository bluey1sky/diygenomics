{
 "cells": [
  {
   "cell_type": "code",
   "execution_count": null,
   "id": "d3a5bfac-1077-41c6-ab5f-3a255ceb5a69",
   "metadata": {
    "tags": []
   },
   "outputs": [],
   "source": [
    "import json\n",
    "import matplotlib.pyplot as plt\n",
    "import numpy as np\n",
    "\n",
    "import sys\n",
    "sys.path.append('../')\n",
    "from functions import gpt"
   ]
  },
  {
   "cell_type": "code",
   "execution_count": null,
   "id": "4188d1f4-b48d-455e-83af-8d496de35e93",
   "metadata": {
    "tags": []
   },
   "outputs": [],
   "source": [
    "model = 'gpt-4'"
   ]
  },
  {
   "cell_type": "code",
   "execution_count": null,
   "id": "8ea62087-b6fe-4a02-9917-5a21b13d8239",
   "metadata": {
    "tags": []
   },
   "outputs": [],
   "source": [
    "# - I want the x, y coordinates of the 2 functions to fit the same plot as closely as possible\n",
    "# - I want x to be between 0 and 10\n",
    "# - I need the full dataset with 10 points per function\n",
    "# - Create a unique name for the first 2 functions that is based on the type of math that is used. Use that name as the key for the data.\n",
    "#     - for the 3rd dataset use the name 'Sample'."
   ]
  },
  {
   "cell_type": "code",
   "execution_count": null,
   "id": "26c45480-38d9-45fe-952f-cd4d2b199b9c",
   "metadata": {
    "tags": []
   },
   "outputs": [],
   "source": [
    "system_prompt = \"\"\"You are an expert mathematician and data scientist.\n",
    "    - The data is for hypothetical daily COVID-19 new case counts \n",
    "    - I want to generate a dataset as input for a function\n",
    "    - I need the full dataset with 10 points\n",
    "    - Please format your response in JSON. You only speak JSON. Do not write text that isn't JSON.\n",
    "\"\"\""
   ]
  },
  {
   "cell_type": "code",
   "execution_count": null,
   "id": "63d02083-24d2-4791-b4a6-a2adca5c78e2",
   "metadata": {
    "tags": []
   },
   "outputs": [],
   "source": [
    "text = \"\"\"\n",
    "ΔC𝑛/ΔC𝑛−1\n",
    "\"\"\""
   ]
  },
  {
   "cell_type": "code",
   "execution_count": null,
   "id": "4a98c856-7bce-4390-b6f6-b683a116e8fd",
   "metadata": {
    "tags": []
   },
   "outputs": [],
   "source": [
    "step_1_response = gpt.chat_create(system_prompt, text, model, output_json=True)"
   ]
  },
  {
   "cell_type": "code",
   "execution_count": null,
   "id": "2a908349-6cac-4891-8ac4-f64594cb126d",
   "metadata": {},
   "outputs": [],
   "source": [
    "step_1_response"
   ]
  },
  {
   "cell_type": "code",
   "execution_count": null,
   "id": "4281e21a-6f6f-43d6-bb0c-ce435c3239ef",
   "metadata": {
    "tags": []
   },
   "outputs": [],
   "source": [
    "# step_1_response = {'dataset': [{'day': 1, 'new_cases': 100},\n",
    "#   {'day': 2, 'new_cases': 120},\n",
    "#   {'day': 3, 'new_cases': 150},\n",
    "#   {'day': 4, 'new_cases': 180},\n",
    "#   {'day': 5, 'new_cases': 210},\n",
    "#   {'day': 6, 'new_cases': 240},\n",
    "#   {'day': 7, 'new_cases': 270},\n",
    "#   {'day': 8, 'new_cases': 300},\n",
    "#   {'day': 9, 'new_cases': 330},\n",
    "#   {'day': 10, 'new_cases': 360}]}"
   ]
  },
  {
   "cell_type": "code",
   "execution_count": null,
   "id": "ed6077d0-2582-4659-85d6-d88b0288c0a3",
   "metadata": {
    "tags": []
   },
   "outputs": [],
   "source": [
    "system_prompt = \"\"\"You are an expert mathematician and data scientist.\n",
    "- Please generate python code using matplotlib to visualize the provided dataset\n",
    "- Please format your response in the python coding language. You only speak python. Do not write text that isn't python.\n",
    "- Do not include any comments in your code.\n",
    "- Do not include the dataset in your response. Only include the code needed to create the plot. \n",
    "- The dataset variable name will be step_1_response.\n",
    "- Check your work and make that the dataset loads into the dataframe or whatever structure that your code requires.\n",
    "- Check the first key in the dataset\n",
    "\"\"\""
   ]
  },
  {
   "cell_type": "code",
   "execution_count": null,
   "id": "ad82ed65-b0aa-4897-abef-d1f1d3875566",
   "metadata": {
    "tags": []
   },
   "outputs": [],
   "source": [
    "step_2_response = gpt.chat_create(system_prompt, json.dumps(step_1_response), model, output_json=False)"
   ]
  },
  {
   "cell_type": "code",
   "execution_count": null,
   "id": "68379e2d-4d85-429a-aa28-a3820419a849",
   "metadata": {
    "tags": []
   },
   "outputs": [],
   "source": [
    "exec(step_2_response)"
   ]
  },
  {
   "cell_type": "code",
   "execution_count": null,
   "id": "62a73ec7-ed96-4ffc-a2a9-0fea0b511e8b",
   "metadata": {},
   "outputs": [],
   "source": [
    "system_prompt = f\"\"\"You are an expert mathematician and data scientist.\n",
    "- Given the provided dataset, generate a new one that closely mirrors it, \n",
    "    but with y values that are randomly greater than or less than the y values.\n",
    "- I want x to be between 0 and 10\n",
    "- I need the full dataset with 10 points per function\n",
    "- Please format your response in JSON. You only speak JSON. Do not write text that isn't JSON.\n",
    "- Do not include any comments in your response.\n",
    "\"\"\"\n",
    "\n",
    "# - Use the name 'Sample' for the returned dataset."
   ]
  },
  {
   "cell_type": "code",
   "execution_count": null,
   "id": "af77cf1f-62d5-4dd6-b66f-69ed4ca460be",
   "metadata": {},
   "outputs": [],
   "source": [
    "# step_3_response = gpt.chat_create(system_prompt, json.dumps(step_1_response), model, output_json=True)"
   ]
  },
  {
   "cell_type": "code",
   "execution_count": null,
   "id": "be35ac35-910d-4499-968a-ccee44f79ac6",
   "metadata": {
    "tags": []
   },
   "outputs": [],
   "source": [
    "# step_3_response"
   ]
  },
  {
   "cell_type": "code",
   "execution_count": null,
   "id": "b933e8d0-067b-4f6f-b1bf-0abb1489711b",
   "metadata": {},
   "outputs": [],
   "source": []
  }
 ],
 "metadata": {
  "kernelspec": {
   "display_name": "Python 3",
   "language": "python",
   "name": "python3"
  },
  "language_info": {
   "codemirror_mode": {
    "name": "ipython",
    "version": 3
   },
   "file_extension": ".py",
   "mimetype": "text/x-python",
   "name": "python",
   "nbconvert_exporter": "python",
   "pygments_lexer": "ipython3",
   "version": "3.6.15"
  }
 },
 "nbformat": 4,
 "nbformat_minor": 5
}
