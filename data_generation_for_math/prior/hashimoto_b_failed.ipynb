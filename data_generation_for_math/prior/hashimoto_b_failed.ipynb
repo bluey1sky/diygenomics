{
 "cells": [
  {
   "cell_type": "code",
   "execution_count": 1,
   "id": "d3a5bfac-1077-41c6-ab5f-3a255ceb5a69",
   "metadata": {
    "tags": []
   },
   "outputs": [],
   "source": [
    "import json\n",
    "import matplotlib.pyplot as plt\n",
    "import numpy as np\n",
    "\n",
    "import sys\n",
    "sys.path.append('../')\n",
    "from functions import gpt"
   ]
  },
  {
   "cell_type": "code",
   "execution_count": 2,
   "id": "4188d1f4-b48d-455e-83af-8d496de35e93",
   "metadata": {
    "tags": []
   },
   "outputs": [],
   "source": [
    "model = 'gpt-4'"
   ]
  },
  {
   "cell_type": "code",
   "execution_count": 3,
   "id": "8ea62087-b6fe-4a02-9917-5a21b13d8239",
   "metadata": {
    "tags": []
   },
   "outputs": [],
   "source": [
    "# - I want the x, y coordinates of the 2 functions to fit the same plot as closely as possible\n",
    "# - I want x to be between 0 and 10\n",
    "# - I need the full dataset with 10 points per function\n",
    "# - Create a unique name for the first 2 functions that is based on the type of math that is used. Use that name as the key for the data.\n",
    "#     - for the 3rd dataset use the name 'Sample'."
   ]
  },
  {
   "cell_type": "code",
   "execution_count": 4,
   "id": "26c45480-38d9-45fe-952f-cd4d2b199b9c",
   "metadata": {
    "tags": []
   },
   "outputs": [],
   "source": [
    "system_prompt = \"\"\"You are an expert mathematician and data scientist.\n",
    "    - I want to generate a dataset as input for python code\n",
    "    - The data is for expressions related to neural ordinary differential equation and holographic quantum chromodynamics\n",
    "    - I need the full dataset with 10 points\n",
    "    - Please format your response in JSON. You only speak JSON. Do not write text that isn't JSON.\n",
    "\"\"\""
   ]
  },
  {
   "cell_type": "code",
   "execution_count": 5,
   "id": "63d02083-24d2-4791-b4a6-a2adca5c78e2",
   "metadata": {
    "tags": []
   },
   "outputs": [],
   "source": [
    "text = \"\"\"\n",
    "from sympy import symbols, Function\n",
    "\n",
    "t, eta, x1, s = symbols('t eta x1 s')\n",
    "f = Function('f')(eta)\n",
    "g = Function('g')(eta)\n",
    "d = symbols('d', integer=True)\n",
    "\n",
    "ds2 = -f * t**2 + eta**2 + g * sum(x1**2 for _ in range(d - 1))\n",
    "ds2\n",
    "\"\"\""
   ]
  },
  {
   "cell_type": "code",
   "execution_count": 6,
   "id": "4a98c856-7bce-4390-b6f6-b683a116e8fd",
   "metadata": {
    "tags": []
   },
   "outputs": [],
   "source": [
    "step_1_response = gpt.chat_create(system_prompt, text, model, output_json=True)"
   ]
  },
  {
   "cell_type": "code",
   "execution_count": 7,
   "id": "2a908349-6cac-4891-8ac4-f64594cb126d",
   "metadata": {},
   "outputs": [
    {
     "data": {
      "text/plain": [
       "{'dataset': [{'input': '-f * t**2 + eta**2 + g * sum(x1**2 for _ in range(d - 1))',\n",
       "   'output': '-f * t**2 + eta**2 + g * sum(x1**2 for _ in range(d - 1))'},\n",
       "  {'input': '-f * t**2 + eta**2 + g * sum(x1**2 for _ in range(d - 1))',\n",
       "   'output': '-f * t**2 + eta**2 + g * sum(x1**2 for _ in range(d - 1))'},\n",
       "  {'input': '-f * t**2 + eta**2 + g * sum(x1**2 for _ in range(d - 1))',\n",
       "   'output': '-f * t**2 + eta**2 + g * sum(x1**2 for _ in range(d - 1))'},\n",
       "  {'input': '-f * t**2 + eta**2 + g * sum(x1**2 for _ in range(d - 1))',\n",
       "   'output': '-f * t**2 + eta**2 + g * sum(x1**2 for _ in range(d - 1))'},\n",
       "  {'input': '-f * t**2 + eta**2 + g * sum(x1**2 for _ in range(d - 1))',\n",
       "   'output': '-f * t**2 + eta**2 + g * sum(x1**2 for _ in range(d - 1))'},\n",
       "  {'input': '-f * t**2 + eta**2 + g * sum(x1**2 for _ in range(d - 1))',\n",
       "   'output': '-f * t**2 + eta**2 + g * sum(x1**2 for _ in range(d - 1))'},\n",
       "  {'input': '-f * t**2 + eta**2 + g * sum(x1**2 for _ in range(d - 1))',\n",
       "   'output': '-f * t**2 + eta**2 + g * sum(x1**2 for _ in range(d - 1))'},\n",
       "  {'input': '-f * t**2 + eta**2 + g * sum(x1**2 for _ in range(d - 1))',\n",
       "   'output': '-f * t**2 + eta**2 + g * sum(x1**2 for _ in range(d - 1))'},\n",
       "  {'input': '-f * t**2 + eta**2 + g * sum(x1**2 for _ in range(d - 1))',\n",
       "   'output': '-f * t**2 + eta**2 + g * sum(x1**2 for _ in range(d - 1))'},\n",
       "  {'input': '-f * t**2 + eta**2 + g * sum(x1**2 for _ in range(d - 1))',\n",
       "   'output': '-f * t**2 + eta**2 + g * sum(x1**2 for _ in range(d - 1))'}]}"
      ]
     },
     "execution_count": 7,
     "metadata": {},
     "output_type": "execute_result"
    }
   ],
   "source": [
    "step_1_response"
   ]
  },
  {
   "cell_type": "code",
   "execution_count": null,
   "id": "ed6077d0-2582-4659-85d6-d88b0288c0a3",
   "metadata": {
    "tags": []
   },
   "outputs": [],
   "source": []
  },
  {
   "cell_type": "code",
   "execution_count": null,
   "id": "b933e8d0-067b-4f6f-b1bf-0abb1489711b",
   "metadata": {},
   "outputs": [],
   "source": []
  }
 ],
 "metadata": {
  "kernelspec": {
   "display_name": "Python 3 (ipykernel)",
   "language": "python",
   "name": "python3"
  },
  "language_info": {
   "codemirror_mode": {
    "name": "ipython",
    "version": 3
   },
   "file_extension": ".py",
   "mimetype": "text/x-python",
   "name": "python",
   "nbconvert_exporter": "python",
   "pygments_lexer": "ipython3",
   "version": "3.11.0"
  }
 },
 "nbformat": 4,
 "nbformat_minor": 5
}
