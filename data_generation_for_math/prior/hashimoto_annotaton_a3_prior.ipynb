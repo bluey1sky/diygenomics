{
 "cells": [
  {
   "cell_type": "code",
   "execution_count": 1,
   "id": "d3a5bfac-1077-41c6-ab5f-3a255ceb5a69",
   "metadata": {
    "tags": []
   },
   "outputs": [],
   "source": [
    "import json\n",
    "import matplotlib.pyplot as plt\n",
    "import numpy as np\n",
    "import os\n",
    "import pprint\n",
    "import subprocess\n",
    "\n",
    "from IPython.display import display, Markdown\n",
    "from sympy import symbols, Function\n",
    "\n",
    "import sys\n",
    "sys.path.append('../')\n",
    "from functions import gpt"
   ]
  },
  {
   "cell_type": "code",
   "execution_count": 2,
   "id": "4188d1f4-b48d-455e-83af-8d496de35e93",
   "metadata": {
    "tags": []
   },
   "outputs": [],
   "source": [
    "purpose = \"- The data is for expressions related to neural ordinary differential equation and holographic quantum chromodynamics\"\n",
    "\n",
    "annotation_name = 'a3'\n",
    "math_text = \"\"\"a_{i}(t)=\\frac{\\partial \\mathcal{L}}{\\partial x_{i}(t)}\"\"\"\n",
    "\n",
    "paper_short_name = 'hashimoto'\n",
    "dataset_name = f'dataset'\n",
    "\n",
    "base_name = \"2021_Hashimoto_Neural_ODE_and_holographic_QCD_PUB\"\n",
    "work_bucket = \"AdS-CFT\"\n",
    "project_folder = \"diygenomics-projects\"\n",
    "sub_category = \"math\"\n",
    "\n",
    "model = 'gpt-4'\n",
    "output_file = f'{paper_short_name}_{annotation_name}.py'\n",
    "\n",
    "# A1 and A2 feed A4 and A8; A3 feeds A5, A6, and A7"
   ]
  },
  {
   "cell_type": "code",
   "execution_count": 3,
   "id": "2a3e5d1c-96f6-47b6-915c-921f702e5e96",
   "metadata": {
    "tags": []
   },
   "outputs": [],
   "source": [
    "data_path = os.getenv('DATA_PATH')\n",
    "file_path = lambda *args: os.path.join(data_path, project_folder, sub_category, work_bucket, base_name, 'mathpix', 'generated_code', *args)"
   ]
  },
  {
   "cell_type": "code",
   "execution_count": 4,
   "id": "b414ada4-7337-4705-bf2e-9cc01c4ca910",
   "metadata": {
    "tags": []
   },
   "outputs": [],
   "source": [
    "os.makedirs(file_path(), exist_ok=True)"
   ]
  },
  {
   "cell_type": "code",
   "execution_count": 5,
   "id": "26c45480-38d9-45fe-952f-cd4d2b199b9c",
   "metadata": {
    "tags": []
   },
   "outputs": [],
   "source": [
    "dataset_prompt = f\"\"\"You are an expert mathematician and data scientist.\n",
    "- I want to generate a dataset as input for a math expression\n",
    "- The data need to return results that are not NaN or None\n",
    "{purpose}\n",
    "- Please format your response in JSON. You only speak JSON. Do not write text that isn't JSON.\n",
    "- The output of this will be used as input for another expression. \n",
    "- Be consice in your output so that it can be feed into the next expression.\n",
    "\"\"\""
   ]
  },
  {
   "cell_type": "code",
   "execution_count": 6,
   "id": "4a98c856-7bce-4390-b6f6-b683a116e8fd",
   "metadata": {
    "tags": []
   },
   "outputs": [],
   "source": [
    "dataset = gpt.chat_create(dataset_prompt, math_text, model, output_json=True)"
   ]
  },
  {
   "cell_type": "code",
   "execution_count": 7,
   "id": "2a908349-6cac-4891-8ac4-f64594cb126d",
   "metadata": {},
   "outputs": [
    {
     "data": {
      "text/plain": [
       "{'dataset': [{'time': 1, 'x_i(t)': 0.5, 'a_i(t)': 0.25},\n",
       "  {'time': 2, 'x_i(t)': 1.0, 'a_i(t)': 0.5},\n",
       "  {'time': 3, 'x_i(t)': 1.5, 'a_i(t)': 0.75},\n",
       "  {'time': 4, 'x_i(t)': 2.0, 'a_i(t)': 1.0},\n",
       "  {'time': 5, 'x_i(t)': 2.5, 'a_i(t)': 1.25}]}"
      ]
     },
     "execution_count": 7,
     "metadata": {},
     "output_type": "execute_result"
    }
   ],
   "source": [
    "dataset"
   ]
  },
  {
   "cell_type": "code",
   "execution_count": 8,
   "id": "3597f808-156d-45a0-b98e-ac5f0d2c0e24",
   "metadata": {
    "tags": []
   },
   "outputs": [],
   "source": [
    "math_plus_data = f'math expression: {math_text}\\ndataset: {dataset}'"
   ]
  },
  {
   "cell_type": "code",
   "execution_count": 9,
   "id": "e72057b9-04a6-4aea-87af-7159abac2fe0",
   "metadata": {
    "tags": []
   },
   "outputs": [],
   "source": [
    "dataset_prompt = f\"\"\"You are an expert mathematician and data scientist.\n",
    "- I am going to use this dataset as input to the provided math expression. \n",
    "- I need you to help me describe the dataset in a way that will allow me to prompt an LLM to create python code from the math expression.\n",
    "- Please describe the data in a way that will ensure that the math expression can be properly executed from the generated python based on the math \n",
    "expression.\n",
    "\"\"\""
   ]
  },
  {
   "cell_type": "code",
   "execution_count": 10,
   "id": "7882ade6-3e70-43a2-99bf-f243c1d3c626",
   "metadata": {
    "tags": []
   },
   "outputs": [],
   "source": [
    "dataset_instructions = gpt.chat_create(dataset_prompt, math_plus_data, model, output_json=False)"
   ]
  },
  {
   "cell_type": "code",
   "execution_count": 11,
   "id": "8047eb80-e71e-441c-95be-7de0584b4b60",
   "metadata": {
    "tags": []
   },
   "outputs": [
    {
     "data": {
      "text/markdown": [
       "The dataset is a list of dictionaries where each dictionary represents a data point in time. Each dictionary contains three key-value pairs: 'time', 'x_i(t)', and 'a_i(t)'. \n",
       "\n",
       "- 'time' represents the time at which the data point is recorded. It is an integer starting from 1 and increases by 1 at each subsequent data point.\n",
       "- 'x_i(t)' represents the value of the function x_i at time t. It is a floating-point number that starts at 0.5 and increases by 0.5 at each subsequent data point.\n",
       "- 'a_i(t)' represents the value of the function a_i at time t. It is a floating-point number that starts at 0.25 and increases by 0.25 at each subsequent data point.\n",
       "\n",
       "The math expression is a partial derivative of a function L with respect to x_i(t), which results in a_i(t). In the context of this dataset, it means that a_i(t) is the rate of change of the function L with respect to x_i(t) at each point in time. \n",
       "\n",
       "To execute this math expression using the dataset, the Python code needs to iterate over the list of dictionaries, extract the values of 'x_i(t)' and 'a_i(t)' at each point in time, and perform the necessary calculations."
      ],
      "text/plain": [
       "<IPython.core.display.Markdown object>"
      ]
     },
     "metadata": {},
     "output_type": "display_data"
    }
   ],
   "source": [
    "display(Markdown(dataset_instructions))"
   ]
  },
  {
   "cell_type": "code",
   "execution_count": 12,
   "id": "e724af9e-2e72-4fbf-a023-02fb74e2afb3",
   "metadata": {
    "tags": []
   },
   "outputs": [],
   "source": [
    "code_prompt = f\"\"\"You are an expert mathematician and data scientist.\n",
    "- Please generate python code to execute the provided dataset given a LaTex math expression and print out the results.\n",
    "- Please format your response in the python coding language. You only speak python. Do not write text that isn't python.\n",
    "- Do not include any comments in your code.\n",
    "- Do not include the dataset in your response. \n",
    "- The dataset variable name will be {dataset_name}.\n",
    "{dataset_instructions}\n",
    "{purpose}\n",
    "- Check your work and make that the dataset works with the code that you provide.\n",
    "- Check the first key in the dataset.\n",
    "\"\"\""
   ]
  },
  {
   "cell_type": "code",
   "execution_count": 13,
   "id": "2aaf5a8a-b16d-4200-904c-3e85c3360939",
   "metadata": {
    "tags": []
   },
   "outputs": [],
   "source": [
    "# # code_prompt = f\"\"\"You are an expert mathematician and data scientist.\n",
    "\n",
    "# # Please generate python code that executes the provided dataset given a LaTex math expression and print out the results.\n",
    "# # Please format your response in the python coding language. You only speak python. Do not write text that isn't python.\n",
    "# # Do not include any comments in your code.\n",
    "# # Do not include the dataset in your response.\n",
    "# # The dataset variable name will be 'dataset'. The dataset is a dictionary which contains a key named 'dataset'. This key points to a list of dictionaries, each dictionary containing the keys 'time', 'x_i', and 'a_i'.\n",
    "# # The data is for expressions related to neural ordinary differential equations and holographic quantum chromodynamics.\n",
    "# # Generate a symbolic function, differentiate it with respect to x_i, substitute the values from each data point in the dataset into the equation, solve it and print the solution.\n",
    "# # Check your work and make sure that the dataset works with the code that you provide.\n",
    "# # Check the first dictionary in the 'dataset' list. You'll find 'time', 'x_i', and 'a_i' as keys in this dictionary.\n",
    "# # \"\"\""
   ]
  },
  {
   "cell_type": "code",
   "execution_count": 14,
   "id": "284ce660-4902-41f6-922d-bbf2a998a858",
   "metadata": {
    "tags": []
   },
   "outputs": [],
   "source": [
    "python_code = gpt.chat_create(code_prompt, math_plus_data, model, output_json=False)"
   ]
  },
  {
   "cell_type": "code",
   "execution_count": 15,
   "id": "b72ccb9a-8af4-42e7-ad93-3caf04540a74",
   "metadata": {
    "tags": []
   },
   "outputs": [
    {
     "data": {
      "text/markdown": [
       "for data_point in dataset:\n",
       "    time = data_point['time']\n",
       "    x_i_t = data_point['x_i(t)']\n",
       "    a_i_t = data_point['a_i(t)']\n",
       "    print(f\"At time {time}, the rate of change of the function L with respect to x_i(t) is {a_i_t}.\")"
      ],
      "text/plain": [
       "<IPython.core.display.Markdown object>"
      ]
     },
     "metadata": {},
     "output_type": "display_data"
    }
   ],
   "source": [
    "display(Markdown(python_code))"
   ]
  },
  {
   "cell_type": "code",
   "execution_count": 16,
   "id": "ca8d2f31-b001-442f-8942-320645416fd2",
   "metadata": {
    "tags": []
   },
   "outputs": [],
   "source": [
    "pretty_dataset = json.dumps(dataset, indent=4)\n",
    "\n",
    "with open(file_path(output_file), 'w') as f:\n",
    "    f.write(f'{dataset_name} = {pretty_dataset}\\n\\n')\n",
    "    f.write(python_code)"
   ]
  },
  {
   "cell_type": "code",
   "execution_count": 19,
   "id": "ac29b464-d84d-4e49-af6a-5d37ab938960",
   "metadata": {
    "tags": []
   },
   "outputs": [
    {
     "name": "stdout",
     "output_type": "stream",
     "text": [
      "Output: At time 1, the rate of change of the function L with respect to x_i(t) is 0.25.\n",
      "At time 2, the rate of change of the function L with respect to x_i(t) is 0.5.\n",
      "At time 3, the rate of change of the function L with respect to x_i(t) is 0.75.\n",
      "At time 4, the rate of change of the function L with respect to x_i(t) is 1.0.\n",
      "At time 5, the rate of change of the function L with respect to x_i(t) is 1.25.\n",
      "\n"
     ]
    }
   ],
   "source": [
    "command = ['python', file_path(output_file)]\n",
    "result = subprocess.run(command, text=True, capture_output=True)\n",
    "\n",
    "output = result.stdout\n",
    "error_output = result.stderr\n",
    "\n",
    "if result.returncode != 0:\n",
    "    print(\"Error output:\", error_output)\n",
    "else:\n",
    "    print(\"Output:\", output)"
   ]
  },
  {
   "cell_type": "code",
   "execution_count": null,
   "id": "6929f675-0214-415b-935e-12d2f76a92ba",
   "metadata": {
    "tags": []
   },
   "outputs": [],
   "source": [
    "error_fix_prompt = f\"\"\"You are an expert mathematician and data scientist.\n",
    "I have this Python code and it's throwing an error. \n",
    "\n",
    "Here is the dataset:\n",
    "\n",
    "f'{dataset_name} = {pretty_dataset}\\n\\n'\n",
    "\n",
    "Here is the code:\n",
    "\n",
    "{python_code}\n",
    "\n",
    "And here is the error message:\n",
    "\n",
    "{error_output}\n",
    "\n",
    "- Please generate python code to fix the error and to execute the provided dataset.\n",
    "- Please format your response in the python coding language. You only speak python. Do not write text that isn't python.\n",
    "- Make sure that your code prints results that were fully executed and return numbers or lists of numbers\n",
    "\"\"\""
   ]
  },
  {
   "cell_type": "code",
   "execution_count": null,
   "id": "7d97b008-5b53-4763-9781-ad79847b9519",
   "metadata": {
    "tags": []
   },
   "outputs": [],
   "source": [
    "error_fix_code = gpt.chat_create(error_fix_prompt, '', model, output_json=False)"
   ]
  },
  {
   "cell_type": "code",
   "execution_count": null,
   "id": "645d3aa5-41b6-4540-986f-3fd0eefad83a",
   "metadata": {
    "tags": []
   },
   "outputs": [],
   "source": [
    "error_fix_code"
   ]
  },
  {
   "cell_type": "code",
   "execution_count": null,
   "id": "f0cfbe3f-d5be-4308-933c-4c8d01a2666e",
   "metadata": {
    "tags": []
   },
   "outputs": [],
   "source": [
    "pretty_dataset = json.dumps(dataset, indent=4)\n",
    "\n",
    "with open(file_path(output_file), 'w') as f:\n",
    "    f.write(f'{dataset_name} = {pretty_dataset}\\n\\n')\n",
    "    f.write(error_fix_code)"
   ]
  },
  {
   "cell_type": "code",
   "execution_count": null,
   "id": "ca011670-6086-42cf-bfdb-2de0c010ec19",
   "metadata": {
    "tags": []
   },
   "outputs": [],
   "source": [
    "command = ['python', file_path(output_file)]\n",
    "result = subprocess.run(command, text=True, capture_output=True)\n",
    "\n",
    "output = result.stdout\n",
    "error_output = result.stderr"
   ]
  },
  {
   "cell_type": "code",
   "execution_count": null,
   "id": "c8be5255-4926-40dd-b033-fbd7420481ea",
   "metadata": {
    "tags": []
   },
   "outputs": [],
   "source": [
    "updated_input_prompt = f\"\"\"You are an expert mathematician and data scientist.\n",
    "- Please format your response in the python coding language. You only speak python. Do not write text that isn't python.\n",
    "- Do not include any comments in your code.\n",
    "- Do not include the dataset in your response. \n",
    "- The dataset variable name will be {dataset_name}.\n",
    "{purpose}\n",
    "- Make sure that the generated code prints the results.\n",
    "\"\"\"\n",
    "\n",
    "user_prompt = f\"\"\"Generate Python code that takes as input a list of dictionaries, where each dictionary represents a data point in a dataset. \n",
    "Each dictionary has three key-value pairs: 'time', 'x_i', and 'a_i'. \n",
    "The code should implement the mathematical expression {math_text}. \n",
    "Use the following dataset as an example for testing:\n",
    "{dataset}\n",
    "\"\"\""
   ]
  },
  {
   "cell_type": "code",
   "execution_count": null,
   "id": "33d61d76-4a18-4bbe-885a-0fe34196613e",
   "metadata": {
    "tags": []
   },
   "outputs": [],
   "source": [
    "updated_python_code = gpt.chat_create(updated_input_prompt, user_prompt, model, output_json=False)"
   ]
  },
  {
   "cell_type": "code",
   "execution_count": null,
   "id": "046b5b1d-aeb1-4d47-8e1a-11b7f50eb957",
   "metadata": {
    "tags": []
   },
   "outputs": [],
   "source": [
    "pretty_dataset = json.dumps(dataset, indent=4)\n",
    "\n",
    "with open(file_path(output_file), 'w') as f:\n",
    "    f.write(f'{dataset_name} = {pretty_dataset}\\n\\n')\n",
    "    f.write(updated_python_code)"
   ]
  },
  {
   "cell_type": "code",
   "execution_count": null,
   "id": "08c6e269-c0c8-4291-b907-6729b2a2e732",
   "metadata": {
    "tags": []
   },
   "outputs": [],
   "source": [
    "command = ['python', file_path(output_file)]\n",
    "result = subprocess.run(command, text=True, capture_output=True)\n",
    "\n",
    "output = result.stdout\n",
    "error_output = result.stderr\n",
    "\n",
    "if result.returncode != 0:\n",
    "    print(\"The command failed.\")\n",
    "    print(\"Error output:\", error_output)\n",
    "else:\n",
    "    print(\"The command succeeded.\")\n",
    "    print(\"Output:\", output)"
   ]
  },
  {
   "cell_type": "code",
   "execution_count": null,
   "id": "126b17bb-94c7-41cf-b2ca-88e7c1b13e04",
   "metadata": {},
   "outputs": [],
   "source": []
  }
 ],
 "metadata": {
  "kernelspec": {
   "display_name": "Python 3 (ipykernel)",
   "language": "python",
   "name": "python3"
  },
  "language_info": {
   "codemirror_mode": {
    "name": "ipython",
    "version": 3
   },
   "file_extension": ".py",
   "mimetype": "text/x-python",
   "name": "python",
   "nbconvert_exporter": "python",
   "pygments_lexer": "ipython3",
   "version": "3.11.0"
  }
 },
 "nbformat": 4,
 "nbformat_minor": 5
}
