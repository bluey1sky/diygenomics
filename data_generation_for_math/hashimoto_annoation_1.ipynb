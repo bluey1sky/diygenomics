{
 "cells": [
  {
   "cell_type": "code",
   "execution_count": 1,
   "id": "d3a5bfac-1077-41c6-ab5f-3a255ceb5a69",
   "metadata": {
    "tags": []
   },
   "outputs": [],
   "source": [
    "import json\n",
    "import matplotlib.pyplot as plt\n",
    "import numpy as np\n",
    "\n",
    "from IPython.display import display, Markdown\n",
    "from sympy import symbols, Function\n",
    "\n",
    "import sys\n",
    "sys.path.append('../')\n",
    "from functions import gpt"
   ]
  },
  {
   "cell_type": "code",
   "execution_count": 2,
   "id": "4188d1f4-b48d-455e-83af-8d496de35e93",
   "metadata": {
    "tags": []
   },
   "outputs": [],
   "source": [
    "model = 'gpt-4'\n",
    "purpose = \"- The data is for expressions related to neural ordinary differential equation and holographic quantum chromodynamics\""
   ]
  },
  {
   "cell_type": "code",
   "execution_count": 3,
   "id": "26c45480-38d9-45fe-952f-cd4d2b199b9c",
   "metadata": {
    "tags": []
   },
   "outputs": [],
   "source": [
    "system_prompt = f\"\"\"You are an expert mathematician and data scientist.\n",
    "- I want to generate a dataset as input for a math expression\n",
    "{purpose}\n",
    "- I need the full dataset with 10 points\n",
    "- Please format your response in JSON. You only speak JSON. Do not write text that isn't JSON.\n",
    "\"\"\""
   ]
  },
  {
   "cell_type": "code",
   "execution_count": 4,
   "id": "63d02083-24d2-4791-b4a6-a2adca5c78e2",
   "metadata": {
    "tags": []
   },
   "outputs": [],
   "source": [
    "math_text = \"\"\"\n",
    "\\mathrm{d} s^{2}=-f(\\eta) \\mathrm{d} t^{2}+\\mathrm{d} \\eta^{2}+g(\\eta)\\left(\\mathrm{d} x_{1}^{2}+\\cdots+\\mathrm{d} x_{d-1}^{2}\\right)\n",
    "\"\"\""
   ]
  },
  {
   "cell_type": "code",
   "execution_count": 5,
   "id": "4a98c856-7bce-4390-b6f6-b683a116e8fd",
   "metadata": {
    "tags": []
   },
   "outputs": [],
   "source": [
    "math_dataset_response = gpt.chat_create(system_prompt, math_text, model, output_json=True)"
   ]
  },
  {
   "cell_type": "code",
   "execution_count": 6,
   "id": "2a908349-6cac-4891-8ac4-f64594cb126d",
   "metadata": {},
   "outputs": [
    {
     "data": {
      "text/plain": [
       "{'dataset': [{'point': 1, 't': -0.5, 'eta': 0.1, 'x': [0.2, 0.3, 0.4]},\n",
       "  {'point': 2, 't': -0.4, 'eta': 0.2, 'x': [0.3, 0.4, 0.5]},\n",
       "  {'point': 3, 't': -0.3, 'eta': 0.3, 'x': [0.4, 0.5, 0.6]},\n",
       "  {'point': 4, 't': -0.2, 'eta': 0.4, 'x': [0.5, 0.6, 0.7]},\n",
       "  {'point': 5, 't': -0.1, 'eta': 0.5, 'x': [0.6, 0.7, 0.8]},\n",
       "  {'point': 6, 't': 0, 'eta': 0.6, 'x': [0.7, 0.8, 0.9]},\n",
       "  {'point': 7, 't': 0.1, 'eta': 0.7, 'x': [0.8, 0.9, 1.0]},\n",
       "  {'point': 8, 't': 0.2, 'eta': 0.8, 'x': [0.9, 1.0, 1.1]},\n",
       "  {'point': 9, 't': 0.3, 'eta': 0.9, 'x': [1.0, 1.1, 1.2]},\n",
       "  {'point': 10, 't': 0.4, 'eta': 1.0, 'x': [1.1, 1.2, 1.3]}]}"
      ]
     },
     "execution_count": 6,
     "metadata": {},
     "output_type": "execute_result"
    }
   ],
   "source": [
    "math_dataset_response"
   ]
  },
  {
   "cell_type": "code",
   "execution_count": 7,
   "id": "e724af9e-2e72-4fbf-a023-02fb74e2afb3",
   "metadata": {
    "tags": []
   },
   "outputs": [],
   "source": [
    "system_prompt = f\"\"\"You are an expert mathematician and data scientist.\n",
    "- Please generate python code to execute the provided dataset given a LaTex math expression and print out the results.\n",
    "- Please format your response in the python coding language. You only speak python. Do not write text that isn't python.\n",
    "- Do not include any comments in your code.\n",
    "- Do not include the dataset in your response. \n",
    "- The dataset variable name will be math_dataset_response.\n",
    "{purpose}\n",
    "- Check your work and make that the dataset works with the code that you provide.\n",
    "- Check the first key in the dataset.\n",
    "\"\"\"\n",
    " # Only include the code needed to create the plot."
   ]
  },
  {
   "cell_type": "code",
   "execution_count": 8,
   "id": "1507165d-e011-4dcf-b861-1926310d13d6",
   "metadata": {
    "tags": []
   },
   "outputs": [],
   "source": [
    "math_plus_data = f'math expression: {math_text}\\ndataset: {math_dataset_response}'"
   ]
  },
  {
   "cell_type": "code",
   "execution_count": 9,
   "id": "284ce660-4902-41f6-922d-bbf2a998a858",
   "metadata": {
    "tags": []
   },
   "outputs": [],
   "source": [
    "python_code_response = gpt.chat_create(system_prompt, math_plus_data, model, output_json=False)"
   ]
  },
  {
   "cell_type": "code",
   "execution_count": 10,
   "id": "b72ccb9a-8af4-42e7-ad93-3caf04540a74",
   "metadata": {
    "tags": []
   },
   "outputs": [
    {
     "data": {
      "text/markdown": [
       "import numpy as np\n",
       "\n",
       "def f(eta):\n",
       "    return np.sin(eta)\n",
       "\n",
       "def g(eta):\n",
       "    return np.cos(eta)\n",
       "\n",
       "results = []\n",
       "for data in math_dataset_response['dataset']:\n",
       "    t = data['t']\n",
       "    eta = data['eta']\n",
       "    x = data['x']\n",
       "    ds_squared = -f(eta)*t**2 + eta**2 + g(eta)*sum([xi**2 for xi in x])\n",
       "    results.append(ds_squared)\n",
       "\n",
       "print(results)"
      ],
      "text/plain": [
       "<IPython.core.display.Markdown object>"
      ]
     },
     "metadata": {},
     "output_type": "display_data"
    }
   ],
   "source": [
    "display(Markdown(python_code_response))"
   ]
  },
  {
   "cell_type": "code",
   "execution_count": 11,
   "id": "4d1355a0-8df5-4d4c-b5c3-aecf2d87a561",
   "metadata": {
    "tags": []
   },
   "outputs": [
    {
     "name": "stdout",
     "output_type": "stream",
     "text": [
      "[0.27359285376892045, 0.498246195993411, 0.799012278027196, 1.1575903597108277, 1.5528037618306134, 1.961151092924776, 2.35742118197462, 2.715360018592459, 3.008376962321452, 3.2102766498984634]\n"
     ]
    }
   ],
   "source": [
    "exec(python_code_response)"
   ]
  },
  {
   "cell_type": "code",
   "execution_count": null,
   "id": "b933e8d0-067b-4f6f-b1bf-0abb1489711b",
   "metadata": {},
   "outputs": [],
   "source": []
  }
 ],
 "metadata": {
  "kernelspec": {
   "display_name": "Python 3 (ipykernel)",
   "language": "python",
   "name": "python3"
  },
  "language_info": {
   "codemirror_mode": {
    "name": "ipython",
    "version": 3
   },
   "file_extension": ".py",
   "mimetype": "text/x-python",
   "name": "python",
   "nbconvert_exporter": "python",
   "pygments_lexer": "ipython3",
   "version": "3.11.0"
  }
 },
 "nbformat": 4,
 "nbformat_minor": 5
}
