{
 "cells": [
  {
   "cell_type": "code",
   "execution_count": 1,
   "id": "d7e4305c-a439-438e-85a1-0a5bf174888b",
   "metadata": {
    "tags": []
   },
   "outputs": [],
   "source": [
    "import numpy as np\n",
    "import os\n",
    "import pandas as pd\n",
    "import torch\n",
    "from torch import nn\n",
    "from torch.utils.data import TensorDataset, DataLoader\n",
    "\n",
    "from sklearn.model_selection import train_test_split\n",
    "\n",
    "pd.set_option('display.max_colwidth', None)"
   ]
  },
  {
   "cell_type": "code",
   "execution_count": 2,
   "id": "976e3465-3ffd-473d-bdd6-fa4a729a5061",
   "metadata": {
    "tags": []
   },
   "outputs": [],
   "source": [
    "base_name = \"2021_Hashimoto_Neural_ODE_and_holographic_QCD_PUB\"\n",
    "project_folder = \"diygenomics-projects\"\n",
    "sub_category = \"math\"\n",
    "work_bucket = \"AdS-CFT\"\n",
    "input_file = 'extracted_annotated_math.csv'\n",
    "index_col = 'uuid'"
   ]
  },
  {
   "cell_type": "code",
   "execution_count": 3,
   "id": "e740fa74-d598-42d8-9915-3f4b44f6ad4f",
   "metadata": {
    "tags": []
   },
   "outputs": [],
   "source": [
    "data_path = os.getenv('DATA_PATH')\n",
    "file_path = lambda *args: os.path.join(data_path, project_folder, sub_category, work_bucket,\n",
    "                                       base_name, 'mathpix', *args)"
   ]
  },
  {
   "cell_type": "code",
   "execution_count": 4,
   "id": "c656ca18-c6fb-42eb-bf9a-0fd8607cd5c3",
   "metadata": {
    "tags": []
   },
   "outputs": [],
   "source": [
    "df = pd.read_csv(file_path(input_file), index_col=index_col)"
   ]
  },
  {
   "cell_type": "code",
   "execution_count": 5,
   "id": "e5a44c26-6042-4a63-8801-b836d14819ed",
   "metadata": {
    "tags": []
   },
   "outputs": [],
   "source": [
    "# latex_corpus = df['math'].astype(str).str.cat(sep=' ')"
   ]
  }
 ],
 "metadata": {
  "kernelspec": {
   "display_name": "Python 3 (ipykernel)",
   "language": "python",
   "name": "python3"
  },
  "language_info": {
   "codemirror_mode": {
    "name": "ipython",
    "version": 3
   },
   "file_extension": ".py",
   "mimetype": "text/x-python",
   "name": "python",
   "nbconvert_exporter": "python",
   "pygments_lexer": "ipython3",
   "version": "3.9.13"
  }
 },
 "nbformat": 4,
 "nbformat_minor": 5
}
