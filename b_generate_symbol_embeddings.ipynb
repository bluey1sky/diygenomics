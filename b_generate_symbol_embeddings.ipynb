{
 "cells": [
  {
   "cell_type": "code",
   "execution_count": 1,
   "id": "d7e4305c-a439-438e-85a1-0a5bf174888b",
   "metadata": {
    "tags": []
   },
   "outputs": [],
   "source": [
    "import numpy as np\n",
    "import os\n",
    "import pandas as pd\n",
    "import torch\n",
    "from torch import nn\n",
    "\n",
    "pd.set_option('display.max_colwidth', None)"
   ]
  },
  {
   "cell_type": "code",
   "execution_count": 2,
   "id": "976e3465-3ffd-473d-bdd6-fa4a729a5061",
   "metadata": {
    "tags": []
   },
   "outputs": [],
   "source": [
    "base_name = \"2021_Hashimoto_Neural_ODE_and_holographic_QCD_PUB\"\n",
    "project_folder = \"diygenomics-projects\"\n",
    "sub_category = \"math\"\n",
    "work_bucket = \"AdS-CFT\"\n",
    "input_file = 'extracted_annotated_math.csv'\n",
    "index_col = 'uuid'"
   ]
  },
  {
   "cell_type": "code",
   "execution_count": 3,
   "id": "e740fa74-d598-42d8-9915-3f4b44f6ad4f",
   "metadata": {
    "tags": []
   },
   "outputs": [],
   "source": [
    "data_path = os.getenv('DATA_PATH')\n",
    "file_path = lambda *args: os.path.join(data_path, project_folder, sub_category, work_bucket,\n",
    "                                       base_name, 'mathpix', *args)"
   ]
  },
  {
   "cell_type": "code",
   "execution_count": 4,
   "id": "c656ca18-c6fb-42eb-bf9a-0fd8607cd5c3",
   "metadata": {
    "tags": []
   },
   "outputs": [],
   "source": [
    "df = pd.read_csv(file_path(input_file), index_col=index_col)"
   ]
  },
  {
   "cell_type": "code",
   "execution_count": 7,
   "id": "e5a44c26-6042-4a63-8801-b836d14819ed",
   "metadata": {
    "tags": []
   },
   "outputs": [],
   "source": [
    "latex_corpus = df['math'].astype(str).str.cat(sep=' ')"
   ]
  },
  {
   "cell_type": "code",
   "execution_count": 8,
   "id": "cc553a85-1571-46a8-883c-c1773e809728",
   "metadata": {
    "tags": []
   },
   "outputs": [
    {
     "name": "stdout",
     "output_type": "stream",
     "text": [
      "Epoch: 1, Loss: 4.255826473236084\n",
      "Epoch: 2, Loss: 4.135919094085693\n",
      "Epoch: 3, Loss: 4.026917457580566\n",
      "Epoch: 4, Loss: 3.9249322414398193\n",
      "Epoch: 5, Loss: 3.827730178833008\n",
      "Epoch: 6, Loss: 3.734557628631592\n",
      "Epoch: 7, Loss: 3.6460764408111572\n",
      "Epoch: 8, Loss: 3.564779043197632\n",
      "Epoch: 9, Loss: 3.4948737621307373\n",
      "Epoch: 10, Loss: 3.4407641887664795\n",
      "Epoch: 11, Loss: 3.403796672821045\n",
      "Epoch: 12, Loss: 3.3796377182006836\n",
      "Epoch: 13, Loss: 3.3617446422576904\n",
      "Epoch: 14, Loss: 3.3465425968170166\n",
      "Epoch: 15, Loss: 3.333123207092285\n",
      "Epoch: 16, Loss: 3.3210601806640625\n",
      "Epoch: 17, Loss: 3.309788703918457\n",
      "Epoch: 18, Loss: 3.2988991737365723\n",
      "Epoch: 19, Loss: 3.288224220275879\n",
      "Epoch: 20, Loss: 3.277860403060913\n",
      "Epoch: 21, Loss: 3.2680044174194336\n",
      "Epoch: 22, Loss: 3.258833885192871\n",
      "Epoch: 23, Loss: 3.2505416870117188\n",
      "Epoch: 24, Loss: 3.2431299686431885\n",
      "Epoch: 25, Loss: 3.236358880996704\n",
      "Epoch: 26, Loss: 3.2299036979675293\n",
      "Epoch: 27, Loss: 3.2234911918640137\n",
      "Epoch: 28, Loss: 3.216942548751831\n",
      "Epoch: 29, Loss: 3.2101495265960693\n",
      "Epoch: 30, Loss: 3.2031290531158447\n",
      "Epoch: 31, Loss: 3.1959731578826904\n",
      "Epoch: 32, Loss: 3.188758611679077\n",
      "Epoch: 33, Loss: 3.181565284729004\n",
      "Epoch: 34, Loss: 3.1745126247406006\n",
      "Epoch: 35, Loss: 3.1676788330078125\n",
      "Epoch: 36, Loss: 3.1610162258148193\n",
      "Epoch: 37, Loss: 3.1543800830841064\n",
      "Epoch: 38, Loss: 3.1476359367370605\n",
      "Epoch: 39, Loss: 3.140756130218506\n",
      "Epoch: 40, Loss: 3.1338376998901367\n",
      "Epoch: 41, Loss: 3.126980781555176\n",
      "Epoch: 42, Loss: 3.120171546936035\n",
      "Epoch: 43, Loss: 3.113365650177002\n",
      "Epoch: 44, Loss: 3.106553077697754\n",
      "Epoch: 45, Loss: 3.099740982055664\n",
      "Epoch: 46, Loss: 3.0929079055786133\n",
      "Epoch: 47, Loss: 3.085988998413086\n",
      "Epoch: 48, Loss: 3.078939914703369\n",
      "Epoch: 49, Loss: 3.071780204772949\n",
      "Epoch: 50, Loss: 3.0645480155944824\n",
      "Seed:\n",
      "\\frac{x-\\epsilon}{\\sigma}\\right)-\\tanh \\left(\\frac{x+\\epsilon}{\\sigma}\\right)\\right)\n",
      "\\] \\[\n",
      "\\begin{al\n",
      "a{a{a{a}a}a}a}a}a}a}a}a}a}a}a}a}a}a}a}a}a}a}a}a}a}a}a}a}a}a}a}a}a}a}a}a}a}a}a}a}a}a}a}a}a}a}a}a}a}a}a}a}a}a}a}a}a}a}a}a}a}a}a}a}a}a}a}a}a}a}a}a}a}a}a}a}a}a}a}a}a}a}a}a}a}a}a}a}a}a}a}a}a}a}a}a}a}a}a}a}a}a}a}a}a}a}a}a}a}a}a}a}a}a}a}a}a}a}a}a}a}a}a}a}a}a}a}a}a}a}a}a}a}a}a}a}a}a}a}a}a}a}a}a}a}a}a}a}a}a}a}a}a}a}a}a}a}a}a}a}a}a}a}a}a}a}a}a}a}a}a}a}a}a}a}a}a}a}a}a}a}a}a}a}a}a}a}a}a}a}a}a}a}a}a}a}a}a}a}a}a}a}a}a}a}a}a}a}a}a}a}a}a}a}a}a}a}a}a}a}a}a}a}a}a}a}a}a}a}a}a}a}a}a}a}a}a}a}a}a}a}a}a}a}a}a}a}a}a}a}a}a}a}a}a}a}a}a}a}a}a}a}a}a}a}a}a}a}a}a}a}a}a}a}a}a}a}a}a}a}a}a}a}a}a}a}a}a}a}a}a}a}a}a}a}a}a}a}a}a}a}a}a}a}a}a}a}a}a}a}a}a}a}a}a}a}a}a}a}a}a}a}a}a}a}a}a}a}a}a}a}a}a}a}a}a}a}a}a}a}a}a}a}a}a}a}a}a}a}a}a}a}a}a}a}a}a}a}a}a}a}a}a}a}a}a}a}a}a}a}a}a}a}a}a}a}a}a}a}a}a}a}a}a}a}a}a}a}a}a}a}a}a}a}a}a}a}a}a}a}a}a}a}a}a}a}a}a}a}a}a}a}a}a}a}a}a}a}a}a}a}a}a}a}a}a}a}a}a}a}a}a}a}a}a}a}a}a}a}a}a}a}a}a}a}a}a}a}a}a}a}a}a}a}a}a}a}a}a}a}a}a}a}a}a}a}a}a}a}a}a}a}a}a}a}a}a}a}a}a}a}a}a}a}a}a}a}a}a}a}a}a}a}a}a}a}a}a}a}a}"
     ]
    }
   ],
   "source": [
    "chars = sorted(list(set(latex_corpus)))\n",
    "char_to_int = {ch: i for i, ch in enumerate(chars)}\n",
    "int_to_char = {i: ch for i, ch in enumerate(chars)}\n",
    "\n",
    "seq_length = 100\n",
    "dataX, dataY = [], []\n",
    "for i in range(0, len(latex_corpus) - seq_length, 1):\n",
    "    seq_in = latex_corpus[i:i + seq_length]\n",
    "    seq_out = latex_corpus[i + seq_length]\n",
    "    dataX.append([char_to_int[char] for char in seq_in])\n",
    "    dataY.append(char_to_int[seq_out])\n",
    "\n",
    "X = np.reshape(dataX, (len(dataX), seq_length, 1))\n",
    "X = torch.from_numpy(X).float()\n",
    "Y = torch.tensor(dataY).long()\n",
    "\n",
    "# Define the model\n",
    "class CharPredictor(nn.Module):\n",
    "    def __init__(self, input_size, hidden_size, output_size):\n",
    "        super(CharPredictor, self).__init__()\n",
    "        self.lstm = nn.LSTM(input_size, hidden_size, batch_first=True)\n",
    "        self.fc = nn.Linear(hidden_size, output_size)\n",
    "\n",
    "    def forward(self, x):\n",
    "        out, _ = self.lstm(x)\n",
    "        out = self.fc(out[:, -1, :])\n",
    "        return out\n",
    "\n",
    "model = CharPredictor(input_size=1, hidden_size=256, output_size=len(chars))\n",
    "\n",
    "# Training\n",
    "criterion = nn.CrossEntropyLoss()\n",
    "optimizer = torch.optim.Adam(model.parameters(), lr=0.001)\n",
    "\n",
    "for epoch in range(50):\n",
    "    optimizer.zero_grad()\n",
    "    output = model(X)\n",
    "    loss = criterion(output, Y)\n",
    "    loss.backward()\n",
    "    optimizer.step()\n",
    "    print(f'Epoch: {epoch+1}, Loss: {loss.item()}')"
   ]
  },
  {
   "cell_type": "code",
   "execution_count": 12,
   "id": "9b269c88-bc95-4709-ac71-b5944d786ac7",
   "metadata": {
    "tags": []
   },
   "outputs": [
    {
     "name": "stdout",
     "output_type": "stream",
     "text": [
      "Seed:\n",
      "----\n",
      "ac{\\mathrm{d} z(t)}{\\mathrm{d} t}=f_{\\theta}(z(t), t)\n",
      "\\] \\[\n",
      "\\mathcal{L}\\left(z_{1}\\right)=\\mathcal{L\n",
      "----\n",
      "}a{a"
     ]
    }
   ],
   "source": [
    "# Prediction\n",
    "start = np.random.randint(0, len(dataX)-1)\n",
    "pattern = dataX[start]\n",
    "print(\"Seed:\")\n",
    "print('----')\n",
    "print(''.join([int_to_char[value] for value in pattern]))\n",
    "print('----')\n",
    "\n",
    "for i in range(4):\n",
    "    x = np.reshape(pattern, (1, len(pattern), 1))\n",
    "    x = torch.from_numpy(x).float()\n",
    "    prediction = model(x)\n",
    "    _, index = torch.max(prediction, 1)\n",
    "    result = int_to_char[index.item()]\n",
    "    print(result, end=\"\")\n",
    "    pattern.append(index.item())\n",
    "    pattern = pattern[1:len(pattern)]"
   ]
  },
  {
   "cell_type": "code",
   "execution_count": null,
   "id": "e6830d50-7edc-465a-804a-76962a80e662",
   "metadata": {},
   "outputs": [],
   "source": []
  }
 ],
 "metadata": {
  "kernelspec": {
   "display_name": "Python 3 (ipykernel)",
   "language": "python",
   "name": "python3"
  },
  "language_info": {
   "codemirror_mode": {
    "name": "ipython",
    "version": 3
   },
   "file_extension": ".py",
   "mimetype": "text/x-python",
   "name": "python",
   "nbconvert_exporter": "python",
   "pygments_lexer": "ipython3",
   "version": "3.11.0"
  }
 },
 "nbformat": 4,
 "nbformat_minor": 5
}
