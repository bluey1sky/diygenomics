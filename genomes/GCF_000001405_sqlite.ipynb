{
 "cells": [
  {
   "cell_type": "code",
   "execution_count": null,
   "id": "8ab7676f-7c7e-478a-ae47-552f0407b780",
   "metadata": {
    "tags": []
   },
   "outputs": [],
   "source": [
    "%load_ext autoreload\n",
    "%autoreload 2\n",
    "\n",
    "import os\n",
    "import sqlite3\n",
    "from cyvcf2 import VCF"
   ]
  },
  {
   "cell_type": "code",
   "execution_count": null,
   "id": "b594a418-f1e8-4112-af25-16b000a85f61",
   "metadata": {
    "tags": []
   },
   "outputs": [],
   "source": [
    "project_folder = \"diygenomics-projects\"\n",
    "sub_category = \"DATA\"\n",
    "work_bucket = \"genomes\"\n",
    "\n",
    "base_file_name = 'GCF_000001405.40'\n",
    "input_file = f'{base_file_name}.gz'\n",
    "output_file = f'{base_file_name}.db'"
   ]
  },
  {
   "cell_type": "code",
   "execution_count": null,
   "id": "e2cea5a6-6035-4f23-9a52-5f0fe6c662b8",
   "metadata": {
    "tags": []
   },
   "outputs": [],
   "source": [
    "data_path = '/Volumes/cold_storage/data' # os.getenv('DATA_PATH')\n",
    "file_path = lambda *args: os.path.join(data_path, project_folder, sub_category, work_bucket, *args)"
   ]
  },
  {
   "cell_type": "code",
   "execution_count": null,
   "id": "457c4404-2139-434e-bf7c-8c57a28a7d33",
   "metadata": {},
   "outputs": [],
   "source": [
    "conn = sqlite3.connect(file_path(output_file))"
   ]
  },
  {
   "cell_type": "code",
   "execution_count": null,
   "id": "97042cd7-adf2-4b1a-a93a-fcf5e6e35755",
   "metadata": {},
   "outputs": [],
   "source": [
    "cur = conn.cursor()\n",
    "\n",
    "cur.execute(\"\"\"\n",
    "    CREATE TABLE vcf_data (\n",
    "        RSID TEXT,\n",
    "        PSEUDOGENEINFO TEXT,\n",
    "        GENEINFO TEXT\n",
    "    )\n",
    "\"\"\")"
   ]
  },
  {
   "cell_type": "code",
   "execution_count": null,
   "id": "0529de78-c28b-4c39-abe8-f4542f3585f1",
   "metadata": {
    "tags": []
   },
   "outputs": [],
   "source": [
    "vcf = VCF(file_path(input_file))"
   ]
  },
  {
   "cell_type": "code",
   "execution_count": null,
   "id": "e8d9158b-3fae-4e9e-bb6f-50b3858ee27f",
   "metadata": {},
   "outputs": [],
   "source": [
    "counter = 0\n",
    "for record in vcf:\n",
    "    cur.execute(\"\"\"\n",
    "        INSERT INTO vcf_data (RSID, PSEUDOGENEINFO, GENEINFO)\n",
    "        VALUES (?, ?, ?)\n",
    "    \"\"\", (record.ID, record.INFO.get('PSEUDOGENEINFO'), record.INFO.get('GENEINFO')))\n",
    "    counter += 1\n",
    "    if counter % 10_000_000 == 0:\n",
    "        print(f'Processed {counter} records')"
   ]
  },
  {
   "cell_type": "code",
   "execution_count": null,
   "id": "46a33b28-57d5-42ee-9826-d3447a3939de",
   "metadata": {},
   "outputs": [],
   "source": [
    "conn.commit()\n",
    "cur.close()\n",
    "conn.close()"
   ]
  }
 ],
 "metadata": {
  "kernelspec": {
   "display_name": "Python 3",
   "language": "python",
   "name": "python3"
  },
  "language_info": {
   "codemirror_mode": {
    "name": "ipython",
    "version": 3
   },
   "file_extension": ".py",
   "mimetype": "text/x-python",
   "name": "python",
   "nbconvert_exporter": "python",
   "pygments_lexer": "ipython3",
   "version": "3.6.15"
  }
 },
 "nbformat": 4,
 "nbformat_minor": 5
}
