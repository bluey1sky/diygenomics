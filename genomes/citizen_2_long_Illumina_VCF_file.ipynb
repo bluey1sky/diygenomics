{
 "cells": [
  {
   "cell_type": "code",
   "execution_count": 1,
   "id": "8ab7676f-7c7e-478a-ae47-552f0407b780",
   "metadata": {
    "tags": []
   },
   "outputs": [],
   "source": [
    "%load_ext autoreload\n",
    "%autoreload 2\n",
    "\n",
    "import vcf\n",
    "import json\n",
    "import os\n",
    "import pandas as pd\n",
    "import uuid\n",
    "\n",
    "pd.set_option('display.max_colwidth', None)"
   ]
  },
  {
   "cell_type": "code",
   "execution_count": 21,
   "id": "b594a418-f1e8-4112-af25-16b000a85f61",
   "metadata": {
    "tags": []
   },
   "outputs": [],
   "source": [
    "project_folder = \"diygenomics-projects\"\n",
    "sub_category = \"DATA\"\n",
    "work_bucket = \"genomes\"\n",
    "\n",
    "input_file = 'citizen_2_long_Illumina_VCF_file.vcf'\n",
    "output_file = 'citizen_2_long_Illumina_VCF_file.csv'"
   ]
  },
  {
   "cell_type": "code",
   "execution_count": 3,
   "id": "e2cea5a6-6035-4f23-9a52-5f0fe6c662b8",
   "metadata": {
    "tags": []
   },
   "outputs": [],
   "source": [
    "data_path = os.getenv('DATA_PATH')\n",
    "file_path = lambda *args: os.path.join(data_path, project_folder, sub_category, work_bucket, *args)"
   ]
  },
  {
   "cell_type": "code",
   "execution_count": 4,
   "id": "3d110734-2b73-4a51-bd7b-e722921372f6",
   "metadata": {},
   "outputs": [],
   "source": [
    "vcf_reader = vcf.Reader(open(file_path(input_file), 'r'))"
   ]
  },
  {
   "cell_type": "code",
   "execution_count": 7,
   "id": "e03a9112-bff8-40bf-864c-f0379730e921",
   "metadata": {},
   "outputs": [],
   "source": [
    "data = []\n",
    "for record in vcf_reader:\n",
    "    data.append({\n",
    "        'CHROM': record.CHROM,\n",
    "        'POS': record.POS,\n",
    "        'REF': record.REF,\n",
    "        'ALT': record.ALT\n",
    "    })"
   ]
  },
  {
   "cell_type": "code",
   "execution_count": 8,
   "id": "0529de78-c28b-4c39-abe8-f4542f3585f1",
   "metadata": {
    "tags": []
   },
   "outputs": [],
   "source": [
    "df = pd.DataFrame(data)"
   ]
  },
  {
   "cell_type": "code",
   "execution_count": 22,
   "id": "b847ec0d-a1b4-450c-a420-9be180eb3a04",
   "metadata": {},
   "outputs": [],
   "source": [
    "df.to_csv(file_path(output_file))"
   ]
  },
  {
   "cell_type": "code",
   "execution_count": 9,
   "id": "ac009b5b-ea8b-4727-bc66-eac61288c71d",
   "metadata": {},
   "outputs": [
    {
     "data": {
      "text/html": [
       "<div>\n",
       "<style scoped>\n",
       "    .dataframe tbody tr th:only-of-type {\n",
       "        vertical-align: middle;\n",
       "    }\n",
       "\n",
       "    .dataframe tbody tr th {\n",
       "        vertical-align: top;\n",
       "    }\n",
       "\n",
       "    .dataframe thead th {\n",
       "        text-align: right;\n",
       "    }\n",
       "</style>\n",
       "<table border=\"1\" class=\"dataframe\">\n",
       "  <thead>\n",
       "    <tr style=\"text-align: right;\">\n",
       "      <th></th>\n",
       "      <th>CHROM</th>\n",
       "      <th>POS</th>\n",
       "      <th>REF</th>\n",
       "      <th>ALT</th>\n",
       "    </tr>\n",
       "  </thead>\n",
       "  <tbody>\n",
       "    <tr>\n",
       "      <th>0</th>\n",
       "      <td>chr1</td>\n",
       "      <td>6085392</td>\n",
       "      <td>T</td>\n",
       "      <td>[C]</td>\n",
       "    </tr>\n",
       "    <tr>\n",
       "      <th>1</th>\n",
       "      <td>chr1</td>\n",
       "      <td>6087241</td>\n",
       "      <td>T</td>\n",
       "      <td>[A]</td>\n",
       "    </tr>\n",
       "    <tr>\n",
       "      <th>2</th>\n",
       "      <td>chr1</td>\n",
       "      <td>6087411</td>\n",
       "      <td>T</td>\n",
       "      <td>[C]</td>\n",
       "    </tr>\n",
       "    <tr>\n",
       "      <th>3</th>\n",
       "      <td>chr1</td>\n",
       "      <td>6088009</td>\n",
       "      <td>G</td>\n",
       "      <td>[A]</td>\n",
       "    </tr>\n",
       "    <tr>\n",
       "      <th>4</th>\n",
       "      <td>chr1</td>\n",
       "      <td>6088273</td>\n",
       "      <td>T</td>\n",
       "      <td>[G]</td>\n",
       "    </tr>\n",
       "    <tr>\n",
       "      <th>...</th>\n",
       "      <td>...</td>\n",
       "      <td>...</td>\n",
       "      <td>...</td>\n",
       "      <td>...</td>\n",
       "    </tr>\n",
       "    <tr>\n",
       "      <th>3440265</th>\n",
       "      <td>chrY</td>\n",
       "      <td>28787141</td>\n",
       "      <td>C</td>\n",
       "      <td>[G]</td>\n",
       "    </tr>\n",
       "    <tr>\n",
       "      <th>3440266</th>\n",
       "      <td>chrY</td>\n",
       "      <td>28788643</td>\n",
       "      <td>G</td>\n",
       "      <td>[T]</td>\n",
       "    </tr>\n",
       "    <tr>\n",
       "      <th>3440267</th>\n",
       "      <td>chrY</td>\n",
       "      <td>28788695</td>\n",
       "      <td>T</td>\n",
       "      <td>[A]</td>\n",
       "    </tr>\n",
       "    <tr>\n",
       "      <th>3440268</th>\n",
       "      <td>chrY</td>\n",
       "      <td>28815270</td>\n",
       "      <td>C</td>\n",
       "      <td>[A]</td>\n",
       "    </tr>\n",
       "    <tr>\n",
       "      <th>3440269</th>\n",
       "      <td>chrY</td>\n",
       "      <td>58869477</td>\n",
       "      <td>G</td>\n",
       "      <td>[A]</td>\n",
       "    </tr>\n",
       "  </tbody>\n",
       "</table>\n",
       "<p>3440270 rows × 4 columns</p>\n",
       "</div>"
      ],
      "text/plain": [
       "        CHROM       POS REF  ALT\n",
       "0        chr1   6085392   T  [C]\n",
       "1        chr1   6087241   T  [A]\n",
       "2        chr1   6087411   T  [C]\n",
       "3        chr1   6088009   G  [A]\n",
       "4        chr1   6088273   T  [G]\n",
       "...       ...       ...  ..  ...\n",
       "3440265  chrY  28787141   C  [G]\n",
       "3440266  chrY  28788643   G  [T]\n",
       "3440267  chrY  28788695   T  [A]\n",
       "3440268  chrY  28815270   C  [A]\n",
       "3440269  chrY  58869477   G  [A]\n",
       "\n",
       "[3440270 rows x 4 columns]"
      ]
     },
     "execution_count": 9,
     "metadata": {},
     "output_type": "execute_result"
    }
   ],
   "source": [
    "df"
   ]
  },
  {
   "cell_type": "code",
   "execution_count": 10,
   "id": "79aea835-06c4-4ba7-8b42-a4ee4c235f21",
   "metadata": {
    "tags": []
   },
   "outputs": [
    {
     "data": {
      "text/plain": [
       "Index(['CHROM', 'POS', 'REF', 'ALT'], dtype='object')"
      ]
     },
     "execution_count": 10,
     "metadata": {},
     "output_type": "execute_result"
    }
   ],
   "source": [
    "df.columns"
   ]
  },
  {
   "cell_type": "code",
   "execution_count": 11,
   "id": "f6d54a37-f50e-4cdb-9956-9d81f35b42fa",
   "metadata": {
    "tags": []
   },
   "outputs": [
    {
     "name": "stdout",
     "output_type": "stream",
     "text": [
      "<class 'pandas.core.frame.DataFrame'>\n",
      "RangeIndex: 3440270 entries, 0 to 3440269\n",
      "Data columns (total 4 columns):\n",
      " #   Column  Dtype \n",
      "---  ------  ----- \n",
      " 0   CHROM   object\n",
      " 1   POS     int64 \n",
      " 2   REF     object\n",
      " 3   ALT     object\n",
      "dtypes: int64(1), object(3)\n",
      "memory usage: 105.0+ MB\n"
     ]
    }
   ],
   "source": [
    "df.info()"
   ]
  },
  {
   "cell_type": "code",
   "execution_count": 12,
   "id": "1d48028a-bc85-44bc-a1be-fde5f3476635",
   "metadata": {
    "tags": []
   },
   "outputs": [
    {
     "data": {
      "text/html": [
       "<div>\n",
       "<style scoped>\n",
       "    .dataframe tbody tr th:only-of-type {\n",
       "        vertical-align: middle;\n",
       "    }\n",
       "\n",
       "    .dataframe tbody tr th {\n",
       "        vertical-align: top;\n",
       "    }\n",
       "\n",
       "    .dataframe thead th {\n",
       "        text-align: right;\n",
       "    }\n",
       "</style>\n",
       "<table border=\"1\" class=\"dataframe\">\n",
       "  <thead>\n",
       "    <tr style=\"text-align: right;\">\n",
       "      <th></th>\n",
       "      <th>POS</th>\n",
       "    </tr>\n",
       "  </thead>\n",
       "  <tbody>\n",
       "    <tr>\n",
       "      <th>count</th>\n",
       "      <td>3.440270e+06</td>\n",
       "    </tr>\n",
       "    <tr>\n",
       "      <th>mean</th>\n",
       "      <td>7.848312e+07</td>\n",
       "    </tr>\n",
       "    <tr>\n",
       "      <th>std</th>\n",
       "      <td>5.636482e+07</td>\n",
       "    </tr>\n",
       "    <tr>\n",
       "      <th>min</th>\n",
       "      <td>8.280000e+02</td>\n",
       "    </tr>\n",
       "    <tr>\n",
       "      <th>25%</th>\n",
       "      <td>3.191740e+07</td>\n",
       "    </tr>\n",
       "    <tr>\n",
       "      <th>50%</th>\n",
       "      <td>6.891521e+07</td>\n",
       "    </tr>\n",
       "    <tr>\n",
       "      <th>75%</th>\n",
       "      <td>1.145529e+08</td>\n",
       "    </tr>\n",
       "    <tr>\n",
       "      <th>max</th>\n",
       "      <td>2.492398e+08</td>\n",
       "    </tr>\n",
       "  </tbody>\n",
       "</table>\n",
       "</div>"
      ],
      "text/plain": [
       "                POS\n",
       "count  3.440270e+06\n",
       "mean   7.848312e+07\n",
       "std    5.636482e+07\n",
       "min    8.280000e+02\n",
       "25%    3.191740e+07\n",
       "50%    6.891521e+07\n",
       "75%    1.145529e+08\n",
       "max    2.492398e+08"
      ]
     },
     "execution_count": 12,
     "metadata": {},
     "output_type": "execute_result"
    }
   ],
   "source": [
    "df.describe()"
   ]
  },
  {
   "cell_type": "code",
   "execution_count": 13,
   "id": "fe2b0acf-e457-4c08-b56b-36d797f467e6",
   "metadata": {
    "tags": []
   },
   "outputs": [
    {
     "data": {
      "text/plain": [
       "chr2     280811\n",
       "chr1     258183\n",
       "chr4     257578\n",
       "chr3     236540\n",
       "chr6     217788\n",
       "chr5     207429\n",
       "chr7     195480\n",
       "chr8     183325\n",
       "chr11    177574\n",
       "chr10    169004\n",
       "chr12    162384\n",
       "chr9     148448\n",
       "chr13    132381\n",
       "chr14    113609\n",
       "chr16    106132\n",
       "chr15    100176\n",
       "chr18     97769\n",
       "chr17     95168\n",
       "chr20     70397\n",
       "chr19     69306\n",
       "chrX      64597\n",
       "chr21     51627\n",
       "chr22     44333\n",
       "chrY        231\n",
       "Name: CHROM, dtype: int64"
      ]
     },
     "execution_count": 13,
     "metadata": {},
     "output_type": "execute_result"
    }
   ],
   "source": [
    "df['CHROM'].value_counts()"
   ]
  },
  {
   "cell_type": "code",
   "execution_count": 15,
   "id": "d727db9a-f550-4659-9339-bd5a6418aa87",
   "metadata": {
    "tags": []
   },
   "outputs": [],
   "source": [
    "# df['ALT'].value_counts()"
   ]
  },
  {
   "cell_type": "code",
   "execution_count": 16,
   "id": "a6f343db-ab01-4e89-bd52-13592a905e27",
   "metadata": {
    "tags": []
   },
   "outputs": [
    {
     "data": {
      "text/plain": [
       "CHROM    0\n",
       "POS      0\n",
       "REF      0\n",
       "ALT      0\n",
       "dtype: int64"
      ]
     },
     "execution_count": 16,
     "metadata": {},
     "output_type": "execute_result"
    }
   ],
   "source": [
    "df.isnull().sum()"
   ]
  },
  {
   "cell_type": "code",
   "execution_count": 19,
   "id": "bffcc60f-6702-4e9e-9789-e94a6cc7189e",
   "metadata": {
    "tags": []
   },
   "outputs": [
    {
     "data": {
      "text/plain": [
       "<AxesSubplot:>"
      ]
     },
     "execution_count": 19,
     "metadata": {},
     "output_type": "execute_result"
    },
    {
     "data": {
      "image/png": "[encoded data removed]",
      "text/plain": [
       "<Figure size 432x288 with 1 Axes>"
      ]
     },
     "metadata": {
      "needs_background": "light"
     },
     "output_type": "display_data"
    }
   ],
   "source": [
    "df['CHROM'].hist()"
   ]
  },
  {
   "cell_type": "code",
   "execution_count": 20,
   "id": "7581db85-e620-4c7f-9b3e-3215c1523b81",
   "metadata": {
    "tags": []
   },
   "outputs": [
    {
     "data": {
      "text/html": [
       "<div>\n",
       "<style scoped>\n",
       "    .dataframe tbody tr th:only-of-type {\n",
       "        vertical-align: middle;\n",
       "    }\n",
       "\n",
       "    .dataframe tbody tr th {\n",
       "        vertical-align: top;\n",
       "    }\n",
       "\n",
       "    .dataframe thead th {\n",
       "        text-align: right;\n",
       "    }\n",
       "</style>\n",
       "<table border=\"1\" class=\"dataframe\">\n",
       "  <thead>\n",
       "    <tr style=\"text-align: right;\">\n",
       "      <th>REF</th>\n",
       "      <th>A</th>\n",
       "      <th>C</th>\n",
       "      <th>G</th>\n",
       "      <th>T</th>\n",
       "    </tr>\n",
       "    <tr>\n",
       "      <th>CHROM</th>\n",
       "      <th></th>\n",
       "      <th></th>\n",
       "      <th></th>\n",
       "      <th></th>\n",
       "    </tr>\n",
       "  </thead>\n",
       "  <tbody>\n",
       "    <tr>\n",
       "      <th>chr1</th>\n",
       "      <td>62471</td>\n",
       "      <td>67013</td>\n",
       "      <td>66174</td>\n",
       "      <td>62525</td>\n",
       "    </tr>\n",
       "    <tr>\n",
       "      <th>chr10</th>\n",
       "      <td>40381</td>\n",
       "      <td>44162</td>\n",
       "      <td>43958</td>\n",
       "      <td>40503</td>\n",
       "    </tr>\n",
       "    <tr>\n",
       "      <th>chr11</th>\n",
       "      <td>43062</td>\n",
       "      <td>45975</td>\n",
       "      <td>45633</td>\n",
       "      <td>42904</td>\n",
       "    </tr>\n",
       "    <tr>\n",
       "      <th>chr12</th>\n",
       "      <td>39422</td>\n",
       "      <td>41851</td>\n",
       "      <td>41992</td>\n",
       "      <td>39119</td>\n",
       "    </tr>\n",
       "    <tr>\n",
       "      <th>chr13</th>\n",
       "      <td>33032</td>\n",
       "      <td>33276</td>\n",
       "      <td>33365</td>\n",
       "      <td>32708</td>\n",
       "    </tr>\n",
       "    <tr>\n",
       "      <th>chr14</th>\n",
       "      <td>27634</td>\n",
       "      <td>29186</td>\n",
       "      <td>29346</td>\n",
       "      <td>27443</td>\n",
       "    </tr>\n",
       "    <tr>\n",
       "      <th>chr15</th>\n",
       "      <td>23821</td>\n",
       "      <td>26197</td>\n",
       "      <td>26194</td>\n",
       "      <td>23964</td>\n",
       "    </tr>\n",
       "    <tr>\n",
       "      <th>chr16</th>\n",
       "      <td>24870</td>\n",
       "      <td>28488</td>\n",
       "      <td>28349</td>\n",
       "      <td>24425</td>\n",
       "    </tr>\n",
       "    <tr>\n",
       "      <th>chr17</th>\n",
       "      <td>22510</td>\n",
       "      <td>24915</td>\n",
       "      <td>25335</td>\n",
       "      <td>22408</td>\n",
       "    </tr>\n",
       "    <tr>\n",
       "      <th>chr18</th>\n",
       "      <td>23963</td>\n",
       "      <td>24871</td>\n",
       "      <td>25130</td>\n",
       "      <td>23805</td>\n",
       "    </tr>\n",
       "    <tr>\n",
       "      <th>chr19</th>\n",
       "      <td>16116</td>\n",
       "      <td>18312</td>\n",
       "      <td>18557</td>\n",
       "      <td>16321</td>\n",
       "    </tr>\n",
       "    <tr>\n",
       "      <th>chr2</th>\n",
       "      <td>67465</td>\n",
       "      <td>72352</td>\n",
       "      <td>72386</td>\n",
       "      <td>68608</td>\n",
       "    </tr>\n",
       "    <tr>\n",
       "      <th>chr20</th>\n",
       "      <td>17014</td>\n",
       "      <td>18094</td>\n",
       "      <td>18497</td>\n",
       "      <td>16792</td>\n",
       "    </tr>\n",
       "    <tr>\n",
       "      <th>chr21</th>\n",
       "      <td>12721</td>\n",
       "      <td>13260</td>\n",
       "      <td>12983</td>\n",
       "      <td>12663</td>\n",
       "    </tr>\n",
       "    <tr>\n",
       "      <th>chr22</th>\n",
       "      <td>10321</td>\n",
       "      <td>11736</td>\n",
       "      <td>12062</td>\n",
       "      <td>10214</td>\n",
       "    </tr>\n",
       "    <tr>\n",
       "      <th>chr3</th>\n",
       "      <td>57706</td>\n",
       "      <td>60438</td>\n",
       "      <td>60594</td>\n",
       "      <td>57802</td>\n",
       "    </tr>\n",
       "    <tr>\n",
       "      <th>chr4</th>\n",
       "      <td>62846</td>\n",
       "      <td>65255</td>\n",
       "      <td>65759</td>\n",
       "      <td>63718</td>\n",
       "    </tr>\n",
       "    <tr>\n",
       "      <th>chr5</th>\n",
       "      <td>50842</td>\n",
       "      <td>52858</td>\n",
       "      <td>52860</td>\n",
       "      <td>50869</td>\n",
       "    </tr>\n",
       "    <tr>\n",
       "      <th>chr6</th>\n",
       "      <td>53204</td>\n",
       "      <td>55651</td>\n",
       "      <td>55621</td>\n",
       "      <td>53312</td>\n",
       "    </tr>\n",
       "    <tr>\n",
       "      <th>chr7</th>\n",
       "      <td>46992</td>\n",
       "      <td>50746</td>\n",
       "      <td>50614</td>\n",
       "      <td>47128</td>\n",
       "    </tr>\n",
       "    <tr>\n",
       "      <th>chr8</th>\n",
       "      <td>44042</td>\n",
       "      <td>47607</td>\n",
       "      <td>47537</td>\n",
       "      <td>44139</td>\n",
       "    </tr>\n",
       "    <tr>\n",
       "      <th>chr9</th>\n",
       "      <td>35299</td>\n",
       "      <td>39087</td>\n",
       "      <td>38616</td>\n",
       "      <td>35446</td>\n",
       "    </tr>\n",
       "    <tr>\n",
       "      <th>chrX</th>\n",
       "      <td>16140</td>\n",
       "      <td>16133</td>\n",
       "      <td>16364</td>\n",
       "      <td>15960</td>\n",
       "    </tr>\n",
       "    <tr>\n",
       "      <th>chrY</th>\n",
       "      <td>52</td>\n",
       "      <td>71</td>\n",
       "      <td>61</td>\n",
       "      <td>47</td>\n",
       "    </tr>\n",
       "  </tbody>\n",
       "</table>\n",
       "</div>"
      ],
      "text/plain": [
       "REF        A      C      G      T\n",
       "CHROM                            \n",
       "chr1   62471  67013  66174  62525\n",
       "chr10  40381  44162  43958  40503\n",
       "chr11  43062  45975  45633  42904\n",
       "chr12  39422  41851  41992  39119\n",
       "chr13  33032  33276  33365  32708\n",
       "chr14  27634  29186  29346  27443\n",
       "chr15  23821  26197  26194  23964\n",
       "chr16  24870  28488  28349  24425\n",
       "chr17  22510  24915  25335  22408\n",
       "chr18  23963  24871  25130  23805\n",
       "chr19  16116  18312  18557  16321\n",
       "chr2   67465  72352  72386  68608\n",
       "chr20  17014  18094  18497  16792\n",
       "chr21  12721  13260  12983  12663\n",
       "chr22  10321  11736  12062  10214\n",
       "chr3   57706  60438  60594  57802\n",
       "chr4   62846  65255  65759  63718\n",
       "chr5   50842  52858  52860  50869\n",
       "chr6   53204  55651  55621  53312\n",
       "chr7   46992  50746  50614  47128\n",
       "chr8   44042  47607  47537  44139\n",
       "chr9   35299  39087  38616  35446\n",
       "chrX   16140  16133  16364  15960\n",
       "chrY      52     71     61     47"
      ]
     },
     "execution_count": 20,
     "metadata": {},
     "output_type": "execute_result"
    }
   ],
   "source": [
    "pd.crosstab(df['CHROM'], df['REF'])"
   ]
  },
  {
   "cell_type": "code",
   "execution_count": null,
   "id": "af19b9f2-fe07-43b6-a795-c128417a00e5",
   "metadata": {},
   "outputs": [],
   "source": []
  }
 ],
 "metadata": {
  "kernelspec": {
   "display_name": "Python 3",
   "language": "python",
   "name": "python3"
  },
  "language_info": {
   "codemirror_mode": {
    "name": "ipython",
    "version": 3
   },
   "file_extension": ".py",
   "mimetype": "text/x-python",
   "name": "python",
   "nbconvert_exporter": "python",
   "pygments_lexer": "ipython3",
   "version": "3.6.15"
  }
 },
 "nbformat": 4,
 "nbformat_minor": 5
}
