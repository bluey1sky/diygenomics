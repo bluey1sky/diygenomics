{
 "cells": [
  {
   "cell_type": "code",
   "execution_count": 1,
   "id": "8ab7676f-7c7e-478a-ae47-552f0407b780",
   "metadata": {
    "tags": []
   },
   "outputs": [],
   "source": [
    "%load_ext autoreload\n",
    "%autoreload 2\n",
    "\n",
    "import gzip\n",
    "import os\n",
    "import pandas as pd\n",
    "import uuid\n",
    "from cyvcf2 import VCF\n",
    "\n",
    "from tqdm.notebook import tqdm\n",
    "\n",
    "pd.set_option('display.max_colwidth', None)"
   ]
  },
  {
   "cell_type": "code",
   "execution_count": 2,
   "id": "b594a418-f1e8-4112-af25-16b000a85f61",
   "metadata": {
    "tags": []
   },
   "outputs": [],
   "source": [
    "project_folder = \"diygenomics-projects\"\n",
    "sub_category = \"DATA\"\n",
    "work_bucket = \"genomes\"\n",
    "\n",
    "base_file_name = 'GCF_000001405.40'\n",
    "input_file = f'{base_file_name}.gz'\n",
    "output_file = f'{base_file_name}.csv'\n",
    "# intermediate_file = 'GCF_000001405.25.vcf'"
   ]
  },
  {
   "cell_type": "code",
   "execution_count": 3,
   "id": "e2cea5a6-6035-4f23-9a52-5f0fe6c662b8",
   "metadata": {
    "tags": []
   },
   "outputs": [],
   "source": [
    "data_path = '/Volumes/cold_storage/data' # os.getenv('DATA_PATH')\n",
    "file_path = lambda *args: os.path.join(data_path, project_folder, sub_category, work_bucket, *args)"
   ]
  },
  {
   "cell_type": "code",
   "execution_count": 4,
   "id": "0529de78-c28b-4c39-abe8-f4542f3585f1",
   "metadata": {
    "tags": []
   },
   "outputs": [],
   "source": [
    "vcf = VCF(file_path(input_file))"
   ]
  },
  {
   "cell_type": "code",
   "execution_count": null,
   "id": "e8d9158b-3fae-4e9e-bb6f-50b3858ee27f",
   "metadata": {},
   "outputs": [],
   "source": [
    "data = []\n",
    "batch_size = 10000\n",
    "\n",
    "for idx, record in enumerate(vcf):\n",
    "    data.append({\n",
    "        'RSID': record.ID,\n",
    "        'PSEUDOGENEINFO': record.INFO.get('PSEUDOGENEINFO'),\n",
    "        'GENEINFO': record.INFO.get('GENEINFO'),\n",
    "    })\n",
    "    if (idx + 1) % batch_size == 0:\n",
    "        df = pd.DataFrame(data)\n",
    "        df.to_csv(file_path(output_file), mode='a', index=False)\n",
    "        data = []\n",
    "        \n",
    "# don't forget the last batch\n",
    "if data:\n",
    "    df = pd.DataFrame(data)\n",
    "    df.to_csv(file_path(output_file), mode='a', index=False)"
   ]
  },
  {
   "cell_type": "code",
   "execution_count": null,
   "id": "d29351cc-20d8-4385-87c4-32e637f38f54",
   "metadata": {},
   "outputs": [],
   "source": [
    "# data = []\n",
    "# for record in vcf:\n",
    "#     data.append({\n",
    "#         'RSID': record.ID,\n",
    "#         'PSEUDOGENEINFO': record.INFO.get('PSEUDOGENEINFO'),\n",
    "#         'GENEINFO': record.INFO.get('GENEINFO'),\n",
    "#     })"
   ]
  },
  {
   "cell_type": "code",
   "execution_count": null,
   "id": "e79bec20-5c23-4206-9433-3e17fa31c487",
   "metadata": {},
   "outputs": [],
   "source": [
    "# df = pd.DataFrame(data)"
   ]
  },
  {
   "cell_type": "code",
   "execution_count": null,
   "id": "a56f8a1a-4d98-4764-bcad-973bf911e300",
   "metadata": {},
   "outputs": [],
   "source": [
    "# df.to_csv(file_path(output_file))"
   ]
  },
  {
   "cell_type": "code",
   "execution_count": 7,
   "id": "669cc010-6181-444e-9b0c-6e95f6f8d473",
   "metadata": {},
   "outputs": [
    {
     "data": {
      "text/plain": [
       "10000"
      ]
     },
     "execution_count": 7,
     "metadata": {},
     "output_type": "execute_result"
    }
   ],
   "source": [
    "len(df)"
   ]
  },
  {
   "cell_type": "code",
   "execution_count": null,
   "id": "f6d54a37-f50e-4cdb-9956-9d81f35b42fa",
   "metadata": {
    "tags": []
   },
   "outputs": [],
   "source": [
    "df.info()"
   ]
  },
  {
   "cell_type": "code",
   "execution_count": null,
   "id": "1d48028a-bc85-44bc-a1be-fde5f3476635",
   "metadata": {
    "tags": []
   },
   "outputs": [],
   "source": [
    "df.describe()"
   ]
  },
  {
   "cell_type": "code",
   "execution_count": null,
   "id": "af19b9f2-fe07-43b6-a795-c128417a00e5",
   "metadata": {},
   "outputs": [],
   "source": [
    "df['RSID'].value_counts()"
   ]
  },
  {
   "cell_type": "code",
   "execution_count": null,
   "id": "b1368a9a-e26e-495d-bc46-ad3f92f329e2",
   "metadata": {},
   "outputs": [],
   "source": [
    "df.isnull().sum()"
   ]
  },
  {
   "cell_type": "code",
   "execution_count": null,
   "id": "38c28876-76f1-43c5-b28a-424235453f2f",
   "metadata": {},
   "outputs": [],
   "source": [
    "# records = []\n",
    "\n",
    "# for i, variant in enumerate(vcf):\n",
    "#     rsid = variant.ID\n",
    "#     print(f\"{rsid} {variant.is_snp} {variant.INFO.get('PSEUDOGENEINFO')} {variant.INFO.get('GENEINFO')}\")\n",
    "#     if i >= 10000:  # Index starts at 0, so we stop at 9 for 10 records.\n",
    "#         break"
   ]
  },
  {
   "cell_type": "code",
   "execution_count": null,
   "id": "0f456a23-5844-4f28-96d3-f5efa333ba6b",
   "metadata": {},
   "outputs": [],
   "source": [
    "# record = next(vcf_reader)\n",
    "# print(f'{record.CHROM} {record.POS} {record.REF} {record.ALT}')\n",
    "# print(f'{record.ID} {record.INFO}')"
   ]
  },
  {
   "cell_type": "code",
   "execution_count": null,
   "id": "b59e5702-8488-4c20-bf4d-c19d1eabcbe5",
   "metadata": {},
   "outputs": [],
   "source": [
    "# info_field_names = vcf.header_iter()\n",
    "# info_fields = [field['ID'] for field in info_field_names if field['HeaderType'] == 'INFO']"
   ]
  },
  {
   "cell_type": "code",
   "execution_count": null,
   "id": "1556bd9f-c824-48ab-9af3-9da3feb04b20",
   "metadata": {},
   "outputs": [],
   "source": [
    "# with gzip.open(file_path(input_file), 'rb') as f_in:\n",
    "#     with open(file_path(intermediate_file), 'wb') as f_out:\n",
    "#         for data in tqdm(iter(lambda: f_in.read(1024), b''), total=((os.path.getsize(file_path(input_file))-1)//1024 + 1)):\n",
    "#             f_out.write(data)"
   ]
  }
 ],
 "metadata": {
  "kernelspec": {
   "display_name": "Python 3",
   "language": "python",
   "name": "python3"
  },
  "language_info": {
   "codemirror_mode": {
    "name": "ipython",
    "version": 3
   },
   "file_extension": ".py",
   "mimetype": "text/x-python",
   "name": "python",
   "nbconvert_exporter": "python",
   "pygments_lexer": "ipython3",
   "version": "3.6.15"
  }
 },
 "nbformat": 4,
 "nbformat_minor": 5
}
