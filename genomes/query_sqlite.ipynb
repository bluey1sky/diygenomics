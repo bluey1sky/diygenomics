{
 "cells": [
  {
   "cell_type": "code",
   "execution_count": 1,
   "id": "bab59519-a243-4451-b099-0c07b3a722ae",
   "metadata": {},
   "outputs": [],
   "source": [
    "%load_ext autoreload\n",
    "%autoreload 2\n",
    "\n",
    "import os\n",
    "import sqlite3"
   ]
  },
  {
   "cell_type": "code",
   "execution_count": 2,
   "id": "35792f6e-ef9a-436d-922f-436c727a474b",
   "metadata": {},
   "outputs": [],
   "source": [
    "project_folder = \"diygenomics-projects\"\n",
    "sub_category = \"DATA\"\n",
    "work_bucket = \"genomes\"\n",
    "\n",
    "base_file_name = 'GCF_000001405.25'\n",
    "output_file = f'{base_file_name}.db'"
   ]
  },
  {
   "cell_type": "code",
   "execution_count": 3,
   "id": "4be11cc4-1b29-413e-be6d-edcec89bdcd0",
   "metadata": {},
   "outputs": [],
   "source": [
    "data_path = '/Volumes/cold_storage/data' # os.getenv('DATA_PATH')\n",
    "file_path = lambda *args: os.path.join(data_path, project_folder, sub_category, work_bucket, *args)"
   ]
  },
  {
   "cell_type": "code",
   "execution_count": 4,
   "id": "395e3155-e13a-45b8-b015-1a4fcfd9ae63",
   "metadata": {},
   "outputs": [],
   "source": [
    "conn = sqlite3.connect(file_path(output_file))\n",
    "conn.row_factory = sqlite3.Row"
   ]
  },
  {
   "cell_type": "code",
   "execution_count": 5,
   "id": "71ef118e-8fcd-4e07-8c73-02a6bb28e8ee",
   "metadata": {},
   "outputs": [
    {
     "name": "stdout",
     "output_type": "stream",
     "text": [
      "vcf_data\n"
     ]
    }
   ],
   "source": [
    "cur = conn.cursor()\n",
    "\n",
    "cur.execute(\"SELECT name FROM sqlite_master WHERE type='table';\")\n",
    "\n",
    "table_names = cur.fetchall()\n",
    "\n",
    "for name in table_names:\n",
    "    print(name[0])"
   ]
  },
  {
   "cell_type": "code",
   "execution_count": 6,
   "id": "e09f2ca7-e605-4a07-b4ae-382a00115af8",
   "metadata": {},
   "outputs": [
    {
     "name": "stdout",
     "output_type": "stream",
     "text": [
      "RSID\n",
      "PSEUDOGENEINFO\n",
      "GENEINFO\n"
     ]
    }
   ],
   "source": [
    "cur = conn.cursor()\n",
    "\n",
    "cur.execute(\"PRAGMA table_info(vcf_data);\")\n",
    "\n",
    "column_info = cur.fetchall()\n",
    "\n",
    "for column in column_info:\n",
    "    print(column[1])"
   ]
  },
  {
   "cell_type": "code",
   "execution_count": 7,
   "id": "cbecdb7a-9e3e-4149-9256-fd5a01276894",
   "metadata": {},
   "outputs": [
    {
     "name": "stdout",
     "output_type": "stream",
     "text": [
      "rs1450278619 WASH7P:653635 MIR1302-2:100302278\n",
      "rs373867716 WASH7P:653635 MIR1302-2:100302278\n",
      "rs1570399249 WASH7P:653635 MIR1302-2:100302278\n",
      "rs868260348 WASH7P:653635 MIR1302-2:100302278\n",
      "rs1570399255 WASH7P:653635 MIR1302-2:100302278\n"
     ]
    }
   ],
   "source": [
    "cur = conn.cursor()\n",
    "\n",
    "cur.execute(\"\"\"\n",
    "    SELECT * \n",
    "    FROM vcf_data \n",
    "    WHERE GENEINFO IS NOT NULL\n",
    "    LIMIT 5;\n",
    "\"\"\")\n",
    "\n",
    "results = cur.fetchall()\n",
    "\n",
    "for row in results:\n",
    "    print(row['RSID'], row['PSEUDOGENEINFO'], row['GENEINFO'])"
   ]
  },
  {
   "cell_type": "code",
   "execution_count": 8,
   "id": "9d9e23fd-bcf4-4bfe-a6d3-9e0f0003dca6",
   "metadata": {},
   "outputs": [
    {
     "name": "stdout",
     "output_type": "stream",
     "text": [
      "rs1570399255 WASH7P:653635 MIR1302-2:100302278\n",
      "CPU times: user 1min 30s, sys: 47.4 s, total: 2min 17s\n",
      "Wall time: 10min 21s\n"
     ]
    }
   ],
   "source": [
    "%%time\n",
    "cur = conn.cursor()\n",
    "\n",
    "cur.execute(\"\"\"\n",
    "    SELECT * \n",
    "    FROM vcf_data \n",
    "    WHERE RSID = 'rs1570399255'\n",
    "    LIMIT 5;\n",
    "\"\"\")\n",
    "\n",
    "results = cur.fetchall()\n",
    "\n",
    "for row in results:\n",
    "    print(row['RSID'], row['PSEUDOGENEINFO'], row['GENEINFO'])"
   ]
  },
  {
   "cell_type": "code",
   "execution_count": null,
   "id": "99e40729-f73d-4633-a316-2ab9b28c8b2c",
   "metadata": {},
   "outputs": [],
   "source": [
    "cur = conn.cursor()\n",
    "\n",
    "cur.execute(\"CREATE INDEX idx_vcf_data_RSID ON vcf_data(RSID);\")\n",
    "\n",
    "conn.commit()"
   ]
  },
  {
   "cell_type": "code",
   "execution_count": 15,
   "id": "84f74fc8-2862-4bc4-9e8b-d25e5a765bed",
   "metadata": {},
   "outputs": [
    {
     "name": "stdout",
     "output_type": "stream",
     "text": [
      "rs7412 None APOE:348\n",
      "CPU times: user 881 µs, sys: 9.48 ms, total: 10.4 ms\n",
      "Wall time: 21.7 ms\n"
     ]
    }
   ],
   "source": [
    "%%time\n",
    "cur = conn.cursor()\n",
    "\n",
    "cur.execute(\"\"\"\n",
    "    SELECT * \n",
    "    FROM vcf_data \n",
    "    WHERE RSID = 'rs7412'\n",
    "    LIMIT 5;\n",
    "\"\"\")\n",
    "\n",
    "results = cur.fetchall()\n",
    "\n",
    "for row in results:\n",
    "    print(row['RSID'], row['PSEUDOGENEINFO'], row['GENEINFO'])"
   ]
  },
  {
   "cell_type": "code",
   "execution_count": null,
   "id": "62725312-5486-4d7b-b3d2-91a8f0410581",
   "metadata": {},
   "outputs": [],
   "source": [
    "# one row per gene\n",
    "# strip out after including : \n",
    "# one row for snp if not gene\n",
    "# one million per file csv"
   ]
  },
  {
   "cell_type": "code",
   "execution_count": null,
   "id": "6874fc02-2713-4312-9cd2-2fda059ee64e",
   "metadata": {},
   "outputs": [],
   "source": [
    "# cur = conn.cursor()\n",
    "\n",
    "# cur.execute(f\"SELECT COUNT(RSID) FROM vcf_data\")\n",
    "\n",
    "# count = cur.fetchone()[0]\n",
    "# count"
   ]
  },
  {
   "cell_type": "code",
   "execution_count": null,
   "id": "27537f84-aa71-4d46-a9ea-2142ba67aa9c",
   "metadata": {},
   "outputs": [],
   "source": [
    "# Processed 1_110_000_000 records"
   ]
  },
  {
   "cell_type": "code",
   "execution_count": null,
   "id": "78473c16-7931-4396-9678-1d57146273aa",
   "metadata": {},
   "outputs": [],
   "source": []
  }
 ],
 "metadata": {
  "kernelspec": {
   "display_name": "Python 3",
   "language": "python",
   "name": "python3"
  },
  "language_info": {
   "codemirror_mode": {
    "name": "ipython",
    "version": 3
   },
   "file_extension": ".py",
   "mimetype": "text/x-python",
   "name": "python",
   "nbconvert_exporter": "python",
   "pygments_lexer": "ipython3",
   "version": "3.6.15"
  }
 },
 "nbformat": 4,
 "nbformat_minor": 5
}
