{
 "cells": [
  {
   "cell_type": "code",
   "execution_count": 1,
   "id": "8ab7676f-7c7e-478a-ae47-552f0407b780",
   "metadata": {
    "tags": []
   },
   "outputs": [],
   "source": [
    "%load_ext autoreload\n",
    "%autoreload 2\n",
    "\n",
    "import csv\n",
    "import os\n",
    "from cyvcf2 import VCF"
   ]
  },
  {
   "cell_type": "code",
   "execution_count": 2,
   "id": "b594a418-f1e8-4112-af25-16b000a85f61",
   "metadata": {
    "tags": []
   },
   "outputs": [],
   "source": [
    "project_folder = \"diygenomics-projects\"\n",
    "sub_category = \"DATA\"\n",
    "work_bucket = \"genomes\"\n",
    "\n",
    "base_file_name = 'GCF_000001405.40'\n",
    "input_file = f'{base_file_name}.gz'\n",
    "output_dir = f'{base_file_name}_chunks'\n",
    "\n",
    "limit = 1000000\n",
    "dir_num = 0"
   ]
  },
  {
   "cell_type": "code",
   "execution_count": 3,
   "id": "e2cea5a6-6035-4f23-9a52-5f0fe6c662b8",
   "metadata": {
    "tags": []
   },
   "outputs": [],
   "source": [
    "data_path = '/Volumes/cold_storage/data' # os.getenv('DATA_PATH')\n",
    "file_path = lambda *args: os.path.join(data_path, project_folder, sub_category, work_bucket, *args)"
   ]
  },
  {
   "cell_type": "code",
   "execution_count": 4,
   "id": "9f957457-fa77-4a41-98d0-b8571051abd6",
   "metadata": {},
   "outputs": [],
   "source": [
    "os.makedirs(file_path(f\"{output_dir}/{dir_num}\"), exist_ok=True)"
   ]
  },
  {
   "cell_type": "code",
   "execution_count": 5,
   "id": "0529de78-c28b-4c39-abe8-f4542f3585f1",
   "metadata": {
    "tags": []
   },
   "outputs": [],
   "source": [
    "vcf = VCF(file_path(input_file))"
   ]
  },
  {
   "cell_type": "code",
   "execution_count": null,
   "id": "0b51ef9a-1315-47b7-8313-802bfcf1c75f",
   "metadata": {},
   "outputs": [],
   "source": [
    "last_rsid = None\n",
    "file_count = 0\n",
    "\n",
    "while True:\n",
    "    new_rows = []\n",
    "    count = 0\n",
    "    for variant in vcf:\n",
    "        rsid = variant.ID\n",
    "        geneinfo = variant.INFO.get('GENEINFO')\n",
    "\n",
    "        if rsid == last_rsid:\n",
    "            continue\n",
    "\n",
    "        # Prepare rows for writing to CSV\n",
    "        if geneinfo is None:\n",
    "            new_rows.append([rsid, None])\n",
    "        else:\n",
    "            # Split GENEINFO by '|'\n",
    "            genes = geneinfo.split('|')\n",
    "\n",
    "            # Generate a row for each gene\n",
    "            for gene in genes:\n",
    "                gene = gene.split(':')[0]\n",
    "                new_rows.append([rsid, gene])\n",
    "\n",
    "        # If limit reached, break loop\n",
    "        count += 1\n",
    "        if count >= limit:\n",
    "            last_rsid = rsid\n",
    "            break\n",
    "\n",
    "    # If no more rows, break the loop\n",
    "    if not new_rows:\n",
    "        break\n",
    "\n",
    "    # Calculate the directory to write to based on the file_count\n",
    "    if file_count % 10 == 1:\n",
    "        dir_num = file_count // 10\n",
    "        os.makedirs(file_path(f\"{output_dir}/{dir_num}\"), exist_ok=True)\n",
    "\n",
    "    # Write to CSV\n",
    "    with open(file_path(f\"{output_dir}/{dir_num}\", f'{file_count}.csv'), \"w\", newline=\"\") as csv_file:\n",
    "        writer = csv.writer(csv_file)\n",
    "        writer.writerow([\"RSID\", \"GENEINFO\"])  # write headers\n",
    "        writer.writerows(new_rows)\n",
    "\n",
    "    print(f\"Written to {dir_num}/{file_count}.csv\")\n",
    "\n",
    "    # Prepare for next iteration\n",
    "    file_count += 1"
   ]
  },
  {
   "cell_type": "code",
   "execution_count": null,
   "id": "f6c0c020-1783-4979-ac11-4345ae1ce0bd",
   "metadata": {},
   "outputs": [],
   "source": [
    "total_records = 1_000_000_000  # 1 billion\n",
    "records_per_minute = 6_000_000  # 6 million\n",
    "\n",
    "# Calculate total time in minutes\n",
    "total_time_minutes = total_records / records_per_minute\n",
    "\n",
    "# Convert total time to hours and minutes\n",
    "total_time_hours = total_time_minutes // 60  # This will give the whole number of hours\n",
    "remaining_minutes = total_time_minutes % 60  # This will give the remaining minutes\n",
    "\n",
    "print(f\"Total time to process the records is {total_time_minutes} minutes.\")\n",
    "print(f\"This is equivalent to {total_time_hours} hours and {remaining_minutes} minutes.\")"
   ]
  }
 ],
 "metadata": {
  "kernelspec": {
   "display_name": "Python 3",
   "language": "python",
   "name": "python3"
  },
  "language_info": {
   "codemirror_mode": {
    "name": "ipython",
    "version": 3
   },
   "file_extension": ".py",
   "mimetype": "text/x-python",
   "name": "python",
   "nbconvert_exporter": "python",
   "pygments_lexer": "ipython3",
   "version": "3.6.15"
  }
 },
 "nbformat": 4,
 "nbformat_minor": 5
}
