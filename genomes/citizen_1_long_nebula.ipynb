{
 "cells": [
  {
   "cell_type": "code",
   "execution_count": 1,
   "id": "8ab7676f-7c7e-478a-ae47-552f0407b780",
   "metadata": {
    "tags": []
   },
   "outputs": [],
   "source": [
    "%load_ext autoreload\n",
    "%autoreload 2\n",
    "\n",
    "import json\n",
    "import os\n",
    "import pandas as pd\n",
    "import uuid\n",
    "import vcf\n",
    "\n",
    "pd.set_option('display.max_colwidth', None)"
   ]
  },
  {
   "cell_type": "code",
   "execution_count": 2,
   "id": "b594a418-f1e8-4112-af25-16b000a85f61",
   "metadata": {
    "tags": []
   },
   "outputs": [],
   "source": [
    "project_folder = \"diygenomics-projects\"\n",
    "sub_category = \"DATA\"\n",
    "work_bucket = \"genomes\"\n",
    "\n",
    "input_file = 'citizen_1_long_nebula.vcf'\n",
    "output_file = 'citizen_1_long_nebula.csv'"
   ]
  },
  {
   "cell_type": "code",
   "execution_count": 3,
   "id": "e2cea5a6-6035-4f23-9a52-5f0fe6c662b8",
   "metadata": {
    "tags": []
   },
   "outputs": [],
   "source": [
    "data_path = os.getenv('DATA_PATH')\n",
    "file_path = lambda *args: os.path.join(data_path, project_folder, sub_category, work_bucket, *args)"
   ]
  },
  {
   "cell_type": "code",
   "execution_count": 16,
   "id": "9f5ba642-0230-4031-8078-a98fc49f21e2",
   "metadata": {},
   "outputs": [
    {
     "data": {
      "text/plain": [
       "'/Volumes/Storage/data/diygenomics-projects/DATA/genomes/citizen_1_long_nebula.vcf'"
      ]
     },
     "execution_count": 16,
     "metadata": {},
     "output_type": "execute_result"
    }
   ],
   "source": [
    "file_path(input_file)"
   ]
  },
  {
   "cell_type": "code",
   "execution_count": 4,
   "id": "0529de78-c28b-4c39-abe8-f4542f3585f1",
   "metadata": {
    "tags": []
   },
   "outputs": [],
   "source": [
    "vcf_reader = vcf.Reader(open(file_path(input_file), 'r'))"
   ]
  },
  {
   "cell_type": "code",
   "execution_count": 9,
   "id": "d29351cc-20d8-4385-87c4-32e637f38f54",
   "metadata": {},
   "outputs": [],
   "source": [
    "data = []\n",
    "for record in vcf_reader:\n",
    "    data.append({\n",
    "        'CHROM': record.CHROM,\n",
    "        'POS': record.POS,\n",
    "        'REF': record.REF,\n",
    "        'ALT': record.ALT\n",
    "    })"
   ]
  },
  {
   "cell_type": "code",
   "execution_count": 10,
   "id": "e79bec20-5c23-4206-9433-3e17fa31c487",
   "metadata": {},
   "outputs": [],
   "source": [
    "df = pd.DataFrame(data)"
   ]
  },
  {
   "cell_type": "code",
   "execution_count": 11,
   "id": "a56f8a1a-4d98-4764-bcad-973bf911e300",
   "metadata": {},
   "outputs": [],
   "source": [
    "df.to_csv(file_path(output_file))"
   ]
  },
  {
   "cell_type": "code",
   "execution_count": 12,
   "id": "f6d54a37-f50e-4cdb-9956-9d81f35b42fa",
   "metadata": {
    "tags": []
   },
   "outputs": [
    {
     "name": "stdout",
     "output_type": "stream",
     "text": [
      "<class 'pandas.core.frame.DataFrame'>\n",
      "RangeIndex: 4747965 entries, 0 to 4747964\n",
      "Data columns (total 4 columns):\n",
      " #   Column  Dtype \n",
      "---  ------  ----- \n",
      " 0   CHROM   object\n",
      " 1   POS     int64 \n",
      " 2   REF     object\n",
      " 3   ALT     object\n",
      "dtypes: int64(1), object(3)\n",
      "memory usage: 144.9+ MB\n"
     ]
    }
   ],
   "source": [
    "df.info()"
   ]
  },
  {
   "cell_type": "code",
   "execution_count": 13,
   "id": "1d48028a-bc85-44bc-a1be-fde5f3476635",
   "metadata": {
    "tags": []
   },
   "outputs": [
    {
     "data": {
      "text/html": [
       "<div>\n",
       "<style scoped>\n",
       "    .dataframe tbody tr th:only-of-type {\n",
       "        vertical-align: middle;\n",
       "    }\n",
       "\n",
       "    .dataframe tbody tr th {\n",
       "        vertical-align: top;\n",
       "    }\n",
       "\n",
       "    .dataframe thead th {\n",
       "        text-align: right;\n",
       "    }\n",
       "</style>\n",
       "<table border=\"1\" class=\"dataframe\">\n",
       "  <thead>\n",
       "    <tr style=\"text-align: right;\">\n",
       "      <th></th>\n",
       "      <th>POS</th>\n",
       "    </tr>\n",
       "  </thead>\n",
       "  <tbody>\n",
       "    <tr>\n",
       "      <th>count</th>\n",
       "      <td>4.747965e+06</td>\n",
       "    </tr>\n",
       "    <tr>\n",
       "      <th>mean</th>\n",
       "      <td>7.602920e+07</td>\n",
       "    </tr>\n",
       "    <tr>\n",
       "      <th>std</th>\n",
       "      <td>5.606233e+07</td>\n",
       "    </tr>\n",
       "    <tr>\n",
       "      <th>min</th>\n",
       "      <td>8.000000e+00</td>\n",
       "    </tr>\n",
       "    <tr>\n",
       "      <th>25%</th>\n",
       "      <td>2.989476e+07</td>\n",
       "    </tr>\n",
       "    <tr>\n",
       "      <th>50%</th>\n",
       "      <td>6.590905e+07</td>\n",
       "    </tr>\n",
       "    <tr>\n",
       "      <th>75%</th>\n",
       "      <td>1.122880e+08</td>\n",
       "    </tr>\n",
       "    <tr>\n",
       "      <th>max</th>\n",
       "      <td>2.489457e+08</td>\n",
       "    </tr>\n",
       "  </tbody>\n",
       "</table>\n",
       "</div>"
      ],
      "text/plain": [
       "                POS\n",
       "count  4.747965e+06\n",
       "mean   7.602920e+07\n",
       "std    5.606233e+07\n",
       "min    8.000000e+00\n",
       "25%    2.989476e+07\n",
       "50%    6.590905e+07\n",
       "75%    1.122880e+08\n",
       "max    2.489457e+08"
      ]
     },
     "execution_count": 13,
     "metadata": {},
     "output_type": "execute_result"
    }
   ],
   "source": [
    "df.describe()"
   ]
  },
  {
   "cell_type": "code",
   "execution_count": 14,
   "id": "af19b9f2-fe07-43b6-a795-c128417a00e5",
   "metadata": {},
   "outputs": [
    {
     "data": {
      "text/plain": [
       "chr2                370412\n",
       "chr1                357207\n",
       "chr4                331161\n",
       "chr3                310177\n",
       "chr6                298484\n",
       "                     ...  \n",
       "chrUn_KI270510v1         1\n",
       "chrUn_KI270391v1         1\n",
       "chrUn_KI270593v1         1\n",
       "chrUn_KI270334v1         1\n",
       "chrUn_KI270395v1         1\n",
       "Name: CHROM, Length: 176, dtype: int64"
      ]
     },
     "execution_count": 14,
     "metadata": {},
     "output_type": "execute_result"
    }
   ],
   "source": [
    "df['CHROM'].value_counts()"
   ]
  },
  {
   "cell_type": "code",
   "execution_count": 15,
   "id": "b1368a9a-e26e-495d-bc46-ad3f92f329e2",
   "metadata": {},
   "outputs": [
    {
     "data": {
      "text/plain": [
       "CHROM    0\n",
       "POS      0\n",
       "REF      0\n",
       "ALT      0\n",
       "dtype: int64"
      ]
     },
     "execution_count": 15,
     "metadata": {},
     "output_type": "execute_result"
    }
   ],
   "source": [
    "df.isnull().sum()"
   ]
  },
  {
   "cell_type": "code",
   "execution_count": 3,
   "id": "3cf613a6-3c67-4bf4-8827-1b84638ff0ae",
   "metadata": {},
   "outputs": [
    {
     "data": {
      "text/plain": [
       "48000"
      ]
     },
     "execution_count": 3,
     "metadata": {},
     "output_type": "execute_result"
    }
   ],
   "source": [
    "120 * 10 * 40"
   ]
  },
  {
   "cell_type": "code",
   "execution_count": null,
   "id": "1556bd9f-c824-48ab-9af3-9da3feb04b20",
   "metadata": {},
   "outputs": [],
   "source": []
  }
 ],
 "metadata": {
  "kernelspec": {
   "display_name": "Python 3 (ipykernel)",
   "language": "python",
   "name": "python3"
  },
  "language_info": {
   "codemirror_mode": {
    "name": "ipython",
    "version": 3
   },
   "file_extension": ".py",
   "mimetype": "text/x-python",
   "name": "python",
   "nbconvert_exporter": "python",
   "pygments_lexer": "ipython3",
   "version": "3.11.0"
  }
 },
 "nbformat": 4,
 "nbformat_minor": 5
}
