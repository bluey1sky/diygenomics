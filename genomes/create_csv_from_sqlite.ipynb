{
 "cells": [
  {
   "cell_type": "code",
   "execution_count": null,
   "id": "bab59519-a243-4451-b099-0c07b3a722ae",
   "metadata": {},
   "outputs": [],
   "source": [
    "%load_ext autoreload\n",
    "%autoreload 2\n",
    "\n",
    "import csv\n",
    "import os\n",
    "import sqlite3"
   ]
  },
  {
   "cell_type": "code",
   "execution_count": null,
   "id": "35792f6e-ef9a-436d-922f-436c727a474b",
   "metadata": {},
   "outputs": [],
   "source": [
    "project_folder = \"diygenomics-projects\"\n",
    "sub_category = \"DATA\"\n",
    "work_bucket = \"genomes\"\n",
    "\n",
    "base_file_name = 'GCF_000001405.40'\n",
    "input_file = f'{base_file_name}.db'\n",
    "output_dir = f'{base_file_name}_chunks'\n",
    "\n",
    "table_name = \"vcf_data\"\n",
    "# offset = 0\n",
    "limit = 1000000\n",
    "file_count = 1\n",
    "dir_num = 1"
   ]
  },
  {
   "cell_type": "code",
   "execution_count": null,
   "id": "4be11cc4-1b29-413e-be6d-edcec89bdcd0",
   "metadata": {},
   "outputs": [],
   "source": [
    "data_path = '/Volumes/cold_storage/data' # os.getenv('DATA_PATH')\n",
    "file_path = lambda *args: os.path.join(data_path, project_folder, sub_category, work_bucket, *args)"
   ]
  },
  {
   "cell_type": "code",
   "execution_count": null,
   "id": "493aa126-5642-45bd-ba64-5d65544bcca0",
   "metadata": {},
   "outputs": [],
   "source": [
    "os.makedirs(file_path(output_dir), exist_ok=True)"
   ]
  },
  {
   "cell_type": "code",
   "execution_count": null,
   "id": "395e3155-e13a-45b8-b015-1a4fcfd9ae63",
   "metadata": {},
   "outputs": [],
   "source": [
    "conn = sqlite3.connect(file_path(input_file))"
   ]
  },
  {
   "cell_type": "code",
   "execution_count": null,
   "id": "65cb256f-d970-4f15-9155-88fcb4535480",
   "metadata": {},
   "outputs": [],
   "source": [
    "cur = conn.cursor()\n",
    "\n",
    "# Execute the query\n",
    "cur.execute('''\n",
    "    SELECT RSID, COUNT(*)\n",
    "    FROM vcf_data\n",
    "    GROUP BY RSID\n",
    "    HAVING COUNT(*) > 1\n",
    "''')"
   ]
  },
  {
   "cell_type": "code",
   "execution_count": null,
   "id": "018cd497-4ad0-45e1-8465-650c003f89ff",
   "metadata": {},
   "outputs": [],
   "source": [
    "# Fetch and print the results\n",
    "duplicates = cur.fetchall()\n",
    "for rsid, count in duplicates:\n",
    "    print(f\"RSID {rsid} appears {count} times.\")"
   ]
  },
  {
   "cell_type": "code",
   "execution_count": null,
   "id": "8bfe4847-4a72-478b-8733-5e760b5f2eb2",
   "metadata": {},
   "outputs": [],
   "source": [
    "len(duplicates)"
   ]
  },
  {
   "cell_type": "code",
   "execution_count": null,
   "id": "5fd36e3e-6b45-43e3-901e-c8b44b9c2f0b",
   "metadata": {},
   "outputs": [],
   "source": [
    "# cur = conn.cursor()\n",
    "\n",
    "# cur.execute(\"CREATE INDEX idx_vcf_data_RSID ON vcf_data(RSID);\")\n",
    "\n",
    "# conn.commit()\n",
    "# cur.close()"
   ]
  },
  {
   "cell_type": "code",
   "execution_count": null,
   "id": "123e93a0-f417-4a8d-bd8b-82d4fcd0f79f",
   "metadata": {},
   "outputs": [],
   "source": [
    "# cursor = conn.cursor()\n",
    "# last_rsid = None\n",
    "\n",
    "# while True:\n",
    "#     # Fetch chunk of rows\n",
    "#     if last_rsid is None:\n",
    "#         cursor.execute(f\"SELECT RSID, GENEINFO FROM {table_name} ORDER BY RSID LIMIT {limit}\")\n",
    "#     else:\n",
    "#         cursor.execute(f\"SELECT RSID, GENEINFO FROM {table_name} WHERE RSID > ? ORDER BY RSID LIMIT {limit}\", (last_rsid,))\n",
    "\n",
    "#     rows = cursor.fetchall()\n",
    "\n",
    "#     # If no more rows, break the loop\n",
    "#     if not rows:\n",
    "#         break\n",
    "\n",
    "#     # Prepare rows for writing to CSV\n",
    "#     new_rows = []\n",
    "#     for row in rows:\n",
    "#         rsid, geneinfo = row\n",
    "\n",
    "#         # if GENEINFO is null, write RSID with null GENEINFO\n",
    "#         if geneinfo is None:\n",
    "#             new_rows.append([rsid, None])\n",
    "#             continue\n",
    "\n",
    "#         # Split GENEINFO by '|'\n",
    "#         genes = geneinfo.split('|')\n",
    "\n",
    "#         # Generate a row for each gene\n",
    "#         for gene in genes:\n",
    "#             gene = gene.split(':')[0]\n",
    "#             new_rows.append([rsid, gene])\n",
    "\n",
    "#     # Update last_rsid with the RSID of the last row\n",
    "#     last_rsid = rsid\n",
    "\n",
    "#     # Calculate the directory to write to based on the file_count\n",
    "#     if file_count % 10 == 1:\n",
    "#         dir_num = file_count // 10\n",
    "#         os.makedirs(file_path(f\"{output_dir}/{dir_num}\"), exist_ok=True)\n",
    "\n",
    "#     # Write to CSV\n",
    "#     with open(file_path(f\"{output_dir}/{dir_num}\", f'{file_count}.csv'), \"w\", newline=\"\") as csv_file:\n",
    "#         writer = csv.writer(csv_file)\n",
    "#         writer.writerow([\"RSID\", \"GENEINFO\"])  # write headers\n",
    "#         writer.writerows(new_rows)\n",
    "\n",
    "#     print(f\"Written to {dir_num}/{file_count}.csv\")\n",
    "\n",
    "#     # Prepare for next iteration\n",
    "    # file_count += 1"
   ]
  },
  {
   "cell_type": "code",
   "execution_count": null,
   "id": "2d938bfc-9c88-4100-a065-50e01512a097",
   "metadata": {},
   "outputs": [],
   "source": [
    "# cursor.close()\n",
    "# conn.close()"
   ]
  },
  {
   "cell_type": "code",
   "execution_count": null,
   "id": "fb58f4fa-1637-4c73-96ed-2b3cdc62de2c",
   "metadata": {},
   "outputs": [],
   "source": [
    "# while True:\n",
    "#     # Fetch chunk of rows\n",
    "#     cursor.execute(f\"SELECT RSID, GENEINFO FROM {table_name} LIMIT {limit} OFFSET {offset}\")\n",
    "#     rows = cursor.fetchall()\n",
    "\n",
    "#     # If no more rows, break the loop\n",
    "#     if not rows:\n",
    "#         break\n",
    "\n",
    "#     # Prepare rows for writing to CSV\n",
    "#     new_rows = []\n",
    "#     for row in rows:\n",
    "#         rsid, geneinfo = row\n",
    "\n",
    "#         # if GENEINFO is null, write RSID with null GENEINFO\n",
    "#         if geneinfo is None:\n",
    "#             new_rows.append([rsid, None])\n",
    "#             continue\n",
    "\n",
    "#         # Split GENEINFO by '|'\n",
    "#         genes = geneinfo.split('|')\n",
    "\n",
    "#         # Generate a row for each gene\n",
    "#         for gene in genes:\n",
    "#             gene = gene.split(':')[0]\n",
    "#             new_rows.append([rsid, gene])\n",
    "\n",
    "#     # Calculate the directory to write to based on the file_count\n",
    "#     if file_count % 10 == 1:\n",
    "#         dir_num = file_count // 10\n",
    "#         os.makedirs(file_path(f\"{output_dir}/{dir_num}\"), exist_ok=True)\n",
    "\n",
    "#     # Write to CSV\n",
    "#     with open(file_path(f\"{output_dir}/{dir_num}\", f'{file_count}.csv'), \"w\", newline=\"\") as csv_file:\n",
    "#         writer = csv.writer(csv_file)\n",
    "#         writer.writerow([\"RSID\", \"GENEINFO\"])  # write headers\n",
    "#         writer.writerows(new_rows)\n",
    "\n",
    "#     print(f\"Written to {dir_num}/{file_count}.csv\")\n",
    "\n",
    "#     # Prepare for next iteration\n",
    "#     offset += limit\n",
    "#     file_count += 1"
   ]
  },
  {
   "cell_type": "code",
   "execution_count": null,
   "id": "3d00ed1d-6af6-404f-b035-d4aef8dc0690",
   "metadata": {},
   "outputs": [],
   "source": []
  }
 ],
 "metadata": {
  "kernelspec": {
   "display_name": "Python 3",
   "language": "python",
   "name": "python3"
  },
  "language_info": {
   "codemirror_mode": {
    "name": "ipython",
    "version": 3
   },
   "file_extension": ".py",
   "mimetype": "text/x-python",
   "name": "python",
   "nbconvert_exporter": "python",
   "pygments_lexer": "ipython3",
   "version": "3.6.15"
  }
 },
 "nbformat": 4,
 "nbformat_minor": 5
}
