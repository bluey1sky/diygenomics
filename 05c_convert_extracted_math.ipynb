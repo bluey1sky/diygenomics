{
 "cells": [
  {
   "cell_type": "code",
   "execution_count": null,
   "id": "9e5af161-0a73-42f1-8048-bba2701cb5c6",
   "metadata": {
    "tags": []
   },
   "outputs": [],
   "source": [
    "%load_ext autoreload\n",
    "%autoreload 2\n",
    "\n",
    "import csv\n",
    "import ipywidgets as widgets\n",
    "import json\n",
    "import openai\n",
    "import os\n",
    "import pandas as pd\n",
    "import papermill as pm\n",
    "import scrapbook as sb\n",
    "\n",
    "from IPython.display import display\n",
    "\n",
    "from functions import gpt\n",
    "\n",
    "from tqdm.notebook import tqdm_notebook\n",
    "tqdm_notebook().pandas()\n",
    "\n",
    "pd.set_option('display.max_colwidth', None)"
   ]
  },
  {
   "cell_type": "code",
   "execution_count": null,
   "id": "5951a670-b6c4-4f35-ad99-acb11e9b4599",
   "metadata": {
    "tags": []
   },
   "outputs": [],
   "source": [
    "base_name = \"2021_Hashimoto_Neural_ODE_and_holographic_QCD_PUB\"\n",
    "project_folder = \"diygenomics-projects\"\n",
    "sub_category = \"math\"\n",
    "work_bucket = \"AdS-CFT\"\n",
    "external_id = \"2023_05_22_92dc0613b4493d7b5847g\""
   ]
  },
  {
   "cell_type": "code",
   "execution_count": null,
   "id": "2e5ae31f-071c-4013-890b-0738317fe8f9",
   "metadata": {
    "tags": []
   },
   "outputs": [],
   "source": [
    "data_path = os.getenv('DATA_PATH')\n",
    "file_path = lambda *args: os.path.join(data_path, project_folder, sub_category, work_bucket,\n",
    "                                       base_name, 'mathpix', *args)\n",
    "\n",
    "model = 'gpt-4' # 'gpt-3.5-turbo' # 'gpt-4'\n",
    "index_col = 'uuid'\n",
    "\n",
    "openai_model = 'text-embedding-ada-002'\n",
    "\n",
    "input_file = 'extracted_annotated_math.csv'\n",
    "output_file = 'extracted_annotated_math.csv'\n",
    "\n",
    "math_column = 'clean_math'"
   ]
  },
  {
   "cell_type": "code",
   "execution_count": null,
   "id": "6af3e53e-19d4-4e6c-852b-246aa9784cd4",
   "metadata": {
    "tags": []
   },
   "outputs": [],
   "source": [
    "system_prompt = \"\"\"You are an academic researcher and mathmatician in information systems biology.\n",
    "- Convert the Latex expression into python using sympy: \n",
    "- Do not output anything except code.\n",
    "- Do not provide an explaination.\n",
    "- Do not include comments.\n",
    "\"\"\""
   ]
  },
  {
   "cell_type": "code",
   "execution_count": null,
   "id": "f6121e3c-5f57-4d2a-9f14-97a9e56f4e00",
   "metadata": {
    "tags": []
   },
   "outputs": [],
   "source": [
    "df = pd.read_csv(file_path(input_file), index_col=index_col)"
   ]
  },
  {
   "cell_type": "code",
   "execution_count": null,
   "id": "1232f5aa-e204-4ea3-aa68-e1ef3aacbd58",
   "metadata": {
    "tags": []
   },
   "outputs": [],
   "source": [
    "general_errors = {}\n",
    "\n",
    "def generate_python_math(row):  \n",
    "    response = None\n",
    "\n",
    "    if len(row[math_column]) > 0:\n",
    "        possible_response = gpt.chat_create(system_prompt, row[math_column], model, output_json=False)\n",
    "        if 'general_error' in possible_response:\n",
    "            general_errors[row.name] = response\n",
    "        else:\n",
    "            response = possible_response\n",
    "        \n",
    "    return response"
   ]
  },
  {
   "cell_type": "code",
   "execution_count": null,
   "id": "e4deb76d-6b7e-4cff-bfac-c1d011197621",
   "metadata": {
    "tags": []
   },
   "outputs": [],
   "source": [
    "df['gpt_python_math'] = df.progress_apply(lambda row: generate_python_math(row), axis=1)"
   ]
  },
  {
   "cell_type": "code",
   "execution_count": null,
   "id": "91cbe926-024d-4bb1-af0c-11d755eb710d",
   "metadata": {
    "tags": []
   },
   "outputs": [],
   "source": [
    "df.to_csv(file_path(output_file), quoting=csv.QUOTE_MINIMAL)"
   ]
  },
  {
   "cell_type": "code",
   "execution_count": null,
   "id": "a586e70c-63e4-4099-8c7e-67797166d2b3",
   "metadata": {
    "tags": []
   },
   "outputs": [],
   "source": [
    "# convert this to python using sympy:\n",
    "\n",
    "# \\mathrm{d} s^{2}=-f(\\eta) \\mathrm{d} t^{2}+\\mathrm{d} \\eta^{2}+g(\\eta)\\left(\\mathrm{d} x_{1}^{2}+\\cdots+\\mathrm{d} x_{d-1}^{2}\\right)\n",
    "\n",
    "# do not output anything except code. do not provide an explaination."
   ]
  }
 ],
 "metadata": {
  "kernelspec": {
   "display_name": "Python 3 (ipykernel)",
   "language": "python",
   "name": "python3"
  },
  "language_info": {
   "codemirror_mode": {
    "name": "ipython",
    "version": 3
   },
   "file_extension": ".py",
   "mimetype": "text/x-python",
   "name": "python",
   "nbconvert_exporter": "python",
   "pygments_lexer": "ipython3",
   "version": "3.11.0"
  }
 },
 "nbformat": 4,
 "nbformat_minor": 5
}
