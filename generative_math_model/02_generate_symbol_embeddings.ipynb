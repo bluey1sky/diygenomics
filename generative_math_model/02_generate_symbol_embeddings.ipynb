{
 "cells": [
  {
   "cell_type": "code",
   "execution_count": 1,
   "id": "d7e4305c-a439-438e-85a1-0a5bf174888b",
   "metadata": {
    "tags": []
   },
   "outputs": [],
   "source": [
    "import numpy as np\n",
    "import os\n",
    "import pandas as pd\n",
    "import torch\n",
    "from torch import nn\n",
    "from torch.utils.data import TensorDataset, DataLoader\n",
    "\n",
    "from sklearn.model_selection import train_test_split\n",
    "\n",
    "pd.set_option('display.max_colwidth', None)"
   ]
  },
  {
   "cell_type": "code",
   "execution_count": 2,
   "id": "976e3465-3ffd-473d-bdd6-fa4a729a5061",
   "metadata": {
    "tags": []
   },
   "outputs": [],
   "source": [
    "project_folder = \"diygenomics-projects\"\n",
    "sub_category = \"math\"\n",
    "input_file = 'combined_extracted_annotated_math.csv'\n",
    "combined_math_file = 'combined_extracted_annotated_math.csv'\n",
    "index_col = 'uuid'\n",
    "\n",
    "model_path = 'lstm_character_level_v2'"
   ]
  },
  {
   "cell_type": "code",
   "execution_count": 3,
   "id": "e740fa74-d598-42d8-9915-3f4b44f6ad4f",
   "metadata": {
    "tags": []
   },
   "outputs": [],
   "source": [
    "data_path = os.getenv('DATA_PATH')\n",
    "file_path = lambda *args: os.path.join(data_path, project_folder, sub_category, *args)\n",
    "\n",
    "if not os.path.exists(file_path(model_path)):\n",
    "    os.makedirs(file_path(model_path))"
   ]
  },
  {
   "cell_type": "code",
   "execution_count": 4,
   "id": "c656ca18-c6fb-42eb-bf9a-0fd8607cd5c3",
   "metadata": {
    "tags": []
   },
   "outputs": [],
   "source": [
    "df = pd.read_csv(file_path(input_file), index_col=index_col)"
   ]
  },
  {
   "cell_type": "code",
   "execution_count": 5,
   "id": "e5a44c26-6042-4a63-8801-b836d14819ed",
   "metadata": {
    "tags": []
   },
   "outputs": [],
   "source": [
    "latex_corpus = df['math'].astype(str).str.cat(sep=' ')"
   ]
  },
  {
   "cell_type": "code",
   "execution_count": 6,
   "id": "d9dc57ad-ef5c-461d-8b5a-1af760f05572",
   "metadata": {},
   "outputs": [],
   "source": [
    "class LSTMTextGenerator:\n",
    "    def __init__(self, corpus, seq_length=100, hidden_size=256, lr=0.001, epochs=50, batch_size=64):\n",
    "        self.device = torch.device('cuda' if torch.cuda.is_available() else 'cpu')\n",
    "        self.corpus = corpus\n",
    "        self.seq_length = seq_length\n",
    "        self.hidden_size = hidden_size\n",
    "        self.lr = lr\n",
    "        self.epochs = epochs\n",
    "        self.batch_size = batch_size\n",
    "        self.dataX, self.dataY, self.char_to_int, self.int_to_char = self.prepare_data()\n",
    "        self.model = self.build_model().to(self.device)\n",
    "        self.criterion = nn.CrossEntropyLoss()\n",
    "        self.optimizer = torch.optim.Adam(self.model.parameters(), lr=self.lr)\n",
    "        \n",
    "    class CharPredictor(nn.Module):\n",
    "        def __init__(self, input_size, hidden_size, output_size):\n",
    "            super().__init__()\n",
    "            self.lstm = nn.LSTM(input_size, hidden_size, batch_first=True)\n",
    "            self.fc = nn.Linear(hidden_size, output_size)\n",
    "\n",
    "        def forward(self, x):\n",
    "            out, _ = self.lstm(x)\n",
    "            out = self.fc(out[:, -1, :])\n",
    "            return out\n",
    "\n",
    "        def get_embeddings(self, x):\n",
    "            out, _ = self.lstm(x)\n",
    "            return out  # return LSTM outputs as embeddings\n",
    "        \n",
    "    def get_embeddings(self, text):\n",
    "        text_int = [self.char_to_int[char] for char in text]\n",
    "        text_int = np.reshape(text_int, (1, len(text_int), 1))\n",
    "        text_tensor = torch.from_numpy(text_int).float()\n",
    "\n",
    "        # Get the current device (CPU or GPU)\n",
    "        device = torch.device(\"cuda\" if torch.cuda.is_available() else \"cpu\")\n",
    "\n",
    "        # Move the input tensor to the current device\n",
    "        text_tensor = text_tensor.to(device)\n",
    "\n",
    "        with torch.no_grad():\n",
    "            embeddings = self.model.get_embeddings(text_tensor)\n",
    "\n",
    "        return embeddings.cpu().numpy()\n",
    "\n",
    "    def prepare_data(self):\n",
    "        chars = sorted(list(set(self.corpus)))\n",
    "        char_to_int = {ch: i for i, ch in enumerate(chars)}\n",
    "        int_to_char = {i: ch for i, ch in enumerate(chars)}\n",
    "\n",
    "        dataX, dataY = [], []\n",
    "        for i in range(0, len(self.corpus) - self.seq_length, 1):\n",
    "            seq_in = self.corpus[i:i + self.seq_length]\n",
    "            seq_out = self.corpus[i + self.seq_length]\n",
    "            dataX.append([char_to_int[char] for char in seq_in])\n",
    "            dataY.append(char_to_int[seq_out])\n",
    "\n",
    "        return np.array(dataX), np.array(dataY), char_to_int, int_to_char\n",
    "\n",
    "    def build_model(self):\n",
    "        return self.CharPredictor(1, self.hidden_size, len(self.char_to_int))\n",
    "\n",
    "    def create_data_loader(self, X, y):\n",
    "        dataset = TensorDataset(X, y)\n",
    "        dataloader = DataLoader(dataset, batch_size=self.batch_size, shuffle=True)\n",
    "        return dataloader\n",
    "    \n",
    "    def predict(self, input_sequence, predict_length=100):\n",
    "        self.model.eval()  # Set the model to evaluation mode\n",
    "\n",
    "        # Convert char to int for input sequence\n",
    "        input_sequence = [self.char_to_int[ch] for ch in input_sequence]\n",
    "        input_sequence = np.reshape(input_sequence, (1, len(input_sequence), 1))\n",
    "        input_sequence = torch.from_numpy(input_sequence).float().to(self.device)\n",
    "\n",
    "        predicted_output = ''\n",
    "        with torch.no_grad():\n",
    "            for _ in range(predict_length):\n",
    "                output = self.model(input_sequence)\n",
    "                _, predicted = torch.max(output.data, 1)\n",
    "                predicted_output += self.int_to_char[predicted.item()]\n",
    "\n",
    "                # Use the predicted character to generate the next character\n",
    "                input_sequence = torch.cat((input_sequence[:, 1:, :], predicted.float().unsqueeze(0).unsqueeze(2)), dim=1)\n",
    "\n",
    "        return predicted_output\n",
    "\n",
    "    def train(self):\n",
    "        X_train, X_test, y_train, y_test = train_test_split(self.dataX, self.dataY, test_size=0.2, random_state=42)\n",
    "        X_train = np.reshape(X_train, (len(X_train), self.seq_length, 1))\n",
    "        X_test = np.reshape(X_test, (len(X_test), self.seq_length, 1))\n",
    "        X_train = torch.from_numpy(X_train).float().to(self.device)\n",
    "        y_train = torch.from_numpy(y_train).long().to(self.device)\n",
    "        X_test = torch.from_numpy(X_test).float().to(self.device)\n",
    "        y_test = torch.from_numpy(y_test).long().to(self.device)\n",
    "\n",
    "        train_loader = self.create_data_loader(X_train, y_train)\n",
    "        test_loader = self.create_data_loader(X_test, y_test)\n",
    "\n",
    "        for epoch in range(self.epochs):\n",
    "            for batch in train_loader:\n",
    "                x, y = batch\n",
    "                self.optimizer.zero_grad()\n",
    "                output = self.model(x)\n",
    "                loss = self.criterion(output, y)\n",
    "                loss.backward()\n",
    "                self.optimizer.step()\n",
    "\n",
    "            print(f'Epoch: {epoch+1}, Loss: {loss.item()}')\n",
    "            torch.save(self.model.state_dict(), file_path(model_path, f'model_epoch_{epoch+1}.pth'))\n",
    "\n",
    "        self.model.eval()\n",
    "        with torch.no_grad():\n",
    "            correct = 0\n",
    "            total = 0\n",
    "            for x, y in test_loader:\n",
    "                output = self.model(x)\n",
    "                _, predicted = torch.max(output.data, 1)\n",
    "                total += y.size(0)\n",
    "                correct += (predicted == y).sum().item()\n",
    "            print('Test Accuracy: %d %%' % (100 * correct / total)) "
   ]
  },
  {
   "cell_type": "code",
   "execution_count": 7,
   "id": "3bc6010c-c0bf-4566-b9b7-a5e1c2802523",
   "metadata": {},
   "outputs": [
    {
     "name": "stdout",
     "output_type": "stream",
     "text": [
      "Epoch: 1, Loss: 2.5626513957977295\n",
      "Epoch: 2, Loss: 1.9624334573745728\n",
      "Epoch: 3, Loss: 2.0024614334106445\n",
      "Epoch: 4, Loss: 1.5447893142700195\n",
      "Epoch: 5, Loss: 1.5110098123550415\n",
      "Epoch: 6, Loss: 1.7050663232803345\n",
      "Epoch: 7, Loss: 1.2821760177612305\n",
      "Epoch: 8, Loss: 0.9019022583961487\n",
      "Epoch: 9, Loss: 1.1504005193710327\n",
      "Epoch: 10, Loss: 0.6830762624740601\n",
      "Epoch: 11, Loss: 1.0580450296401978\n",
      "Epoch: 12, Loss: 1.083831787109375\n",
      "Epoch: 13, Loss: 1.0346381664276123\n",
      "Epoch: 14, Loss: 1.6023166179656982\n",
      "Epoch: 15, Loss: 0.5750702619552612\n",
      "Epoch: 16, Loss: 0.968996524810791\n",
      "Epoch: 17, Loss: 0.7857094407081604\n",
      "Epoch: 18, Loss: 1.0009915828704834\n",
      "Epoch: 19, Loss: 0.8866775631904602\n",
      "Epoch: 20, Loss: 0.8769830465316772\n",
      "Epoch: 21, Loss: 0.489242285490036\n",
      "Epoch: 22, Loss: 0.9786921739578247\n",
      "Epoch: 23, Loss: 0.6967050433158875\n",
      "Epoch: 24, Loss: 0.9609808325767517\n",
      "Epoch: 25, Loss: 0.7508860230445862\n",
      "Epoch: 26, Loss: 0.741387128829956\n",
      "Epoch: 27, Loss: 1.4323986768722534\n",
      "Epoch: 28, Loss: 0.8514877557754517\n",
      "Epoch: 29, Loss: 0.5776591300964355\n",
      "Epoch: 30, Loss: 0.922532320022583\n",
      "Epoch: 31, Loss: 0.21398265659809113\n",
      "Epoch: 32, Loss: 0.4375566244125366\n",
      "Epoch: 33, Loss: 0.9239506721496582\n",
      "Epoch: 34, Loss: 0.933220624923706\n",
      "Epoch: 35, Loss: 0.7020332217216492\n",
      "Epoch: 36, Loss: 0.8908697366714478\n",
      "Epoch: 37, Loss: 0.6468814611434937\n",
      "Epoch: 38, Loss: 0.807435929775238\n",
      "Epoch: 39, Loss: 0.4993043839931488\n",
      "Epoch: 40, Loss: 0.6639378070831299\n",
      "Epoch: 41, Loss: 0.6860485672950745\n",
      "Epoch: 42, Loss: 1.1107999086380005\n",
      "Epoch: 43, Loss: 0.6562952995300293\n",
      "Epoch: 44, Loss: 0.5496122241020203\n",
      "Epoch: 45, Loss: 0.259623646736145\n",
      "Epoch: 46, Loss: 0.7136489152908325\n",
      "Epoch: 47, Loss: 0.6487908959388733\n",
      "Epoch: 48, Loss: 0.3792208731174469\n",
      "Epoch: 49, Loss: 0.3668530583381653\n",
      "Epoch: 50, Loss: 0.8408161997795105\n",
      "Test Accuracy: 73 %\n"
     ]
    }
   ],
   "source": [
    "corpus = latex_corpus\n",
    "text_generator = LSTMTextGenerator(corpus) # , seq_length=200, epochs=100, hidden_size=512\n",
    "text_generator.train()"
   ]
  },
  {
   "cell_type": "code",
   "execution_count": 8,
   "id": "812d9d7f-0574-41f7-97a0-c329f36cf556",
   "metadata": {},
   "outputs": [
    {
     "name": "stdout",
     "output_type": "stream",
     "text": [
      "=__n)\\}- \\ee iovd_{t\n"
     ]
    }
   ],
   "source": [
    "print(text_generator.predict(\"mathrm{d}\", 20))"
   ]
  },
  {
   "cell_type": "code",
   "execution_count": 9,
   "id": "9157a3b6-83c5-49f9-a4ad-0b91c9a1e31a",
   "metadata": {},
   "outputs": [],
   "source": [
    "embedding = text_generator.get_embeddings(df.iloc[0]['math'])"
   ]
  },
  {
   "cell_type": "code",
   "execution_count": 10,
   "id": "7cacca02-3b3a-4f7d-b8c8-cf6a89d42458",
   "metadata": {},
   "outputs": [],
   "source": [
    "# model_path = \"model_epoch_50.pth\"\n",
    "\n",
    "# text_generator.model.load_state_dict(torch.load(model_path))\n",
    "\n",
    "# text_generator.model.eval()"
   ]
  }
 ],
 "metadata": {
  "kernelspec": {
   "display_name": "Python 3 (ipykernel)",
   "language": "python",
   "name": "python3"
  },
  "language_info": {
   "codemirror_mode": {
    "name": "ipython",
    "version": 3
   },
   "file_extension": ".py",
   "mimetype": "text/x-python",
   "name": "python",
   "nbconvert_exporter": "python",
   "pygments_lexer": "ipython3",
   "version": "3.9.13"
  }
 },
 "nbformat": 4,
 "nbformat_minor": 5
}
