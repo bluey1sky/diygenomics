{
 "cells": [
  {
   "cell_type": "code",
   "execution_count": 1,
   "id": "8a4fb52c-2634-4295-aa2c-1f60744a6b98",
   "metadata": {
    "tags": []
   },
   "outputs": [],
   "source": [
    "import altair as alt\n",
    "import ast\n",
    "import base64\n",
    "import matplotlib.pyplot as plt\n",
    "import numpy as np\n",
    "import os\n",
    "import pandas as pd\n",
    "import umap\n",
    "import uuid\n",
    "\n",
    "from PIL import Image\n",
    "from io import BytesIO\n",
    "from sklearn.preprocessing import StandardScaler\n",
    "\n",
    "pd.set_option('display.max_colwidth', None)"
   ]
  },
  {
   "cell_type": "code",
   "execution_count": 2,
   "id": "d9b241d8-c45a-4da3-a3fa-51317ec5077c",
   "metadata": {
    "tags": [
     "parameters",
     "base_name",
     "project_folder",
     "sub_category",
     "work_bucket",
     "external_id"
    ]
   },
   "outputs": [],
   "source": [
    "base_name = \"2021_Hashimoto_Neural_ODE_and_holographic_QCD_PUB\"\n",
    "project_folder = \"diygenomics-projects\"\n",
    "sub_category = \"math\"\n",
    "work_bucket = \"AdS-CFT\""
   ]
  },
  {
   "cell_type": "code",
   "execution_count": 3,
   "id": "ae61970d-3c72-46d9-a14d-639516ed4ed6",
   "metadata": {
    "tags": []
   },
   "outputs": [],
   "source": [
    "data_path = os.getenv('DATA_PATH')\n",
    "file_path = lambda *args: os.path.join(data_path, project_folder, sub_category, work_bucket,\n",
    "                                       base_name, 'mathpix', *args)\n",
    "\n",
    "index_col = 'uuid'\n",
    "\n",
    "if not os.path.exists(file_path('math_embeddings')):\n",
    "    os.makedirs(file_path('math_embeddings'))\n",
    "\n",
    "if not os.path.exists(file_path('math_embedding_charts')):\n",
    "    os.makedirs(file_path('math_embedding_charts'))\n",
    "    \n",
    "scaler = StandardScaler()"
   ]
  },
  {
   "cell_type": "code",
   "execution_count": 4,
   "id": "3d5ca067-b9b0-425b-b528-ce6d1a883627",
   "metadata": {
    "tags": []
   },
   "outputs": [],
   "source": [
    "df = pd.read_csv(file_path('extracted_annotated_math.csv'), index_col=index_col)"
   ]
  },
  {
   "cell_type": "code",
   "execution_count": 5,
   "id": "912a2cf8-322a-4c12-9cfa-0ba09b624c70",
   "metadata": {
    "tags": []
   },
   "outputs": [],
   "source": [
    "df['lstm_character_level_v1_clean_math_embeddings'] = df['lstm_character_level_v1_clean_math_embeddings'].apply(eval)"
   ]
  },
  {
   "cell_type": "code",
   "execution_count": 6,
   "id": "0dc3017b-fa04-4981-9628-301def58fdc1",
   "metadata": {
    "tags": []
   },
   "outputs": [],
   "source": [
    "def scale_image(image):\n",
    "    width, height = image.size\n",
    "    aspect_ratio = width / height\n",
    "\n",
    "    if width > height:\n",
    "        max_size = int(width / 4)\n",
    "        max_size = 250 if max_size < 250 else max_size\n",
    "        new_width = max_size\n",
    "        new_height = int(max_size / aspect_ratio)\n",
    "    else:\n",
    "        max_size = int(height / 4)\n",
    "        new_height = max_size\n",
    "        new_width = int(max_size * aspect_ratio)\n",
    "\n",
    "    resized_image = image.resize((new_width, new_height))\n",
    "\n",
    "    return resized_image"
   ]
  },
  {
   "cell_type": "code",
   "execution_count": 7,
   "id": "4829f74f-bed6-4d91-950d-61371c30da71",
   "metadata": {
    "tags": []
   },
   "outputs": [],
   "source": [
    "def format_image(im):\n",
    "    with BytesIO() as buffer:\n",
    "        im.save(buffer, 'png')\n",
    "        data = base64.encodebytes(buffer.getvalue()).decode('utf-8')\n",
    "    \n",
    "    return f'data:image/png;base64,{data}'\n",
    "\n",
    "def load_local_image(image_name):\n",
    "    img = Image.open(file_path('math_images', image_name))\n",
    "    img = scale_image(img)\n",
    "    # img.thumbnail((250, 250))\n",
    "    return format_image(img)\n",
    "\n",
    "df['embedded_math_image'] = df['display_math_image'].apply(load_local_image)"
   ]
  },
  {
   "cell_type": "code",
   "execution_count": 8,
   "id": "4f60811c-1d51-4803-b33e-64d97e44973c",
   "metadata": {
    "tags": []
   },
   "outputs": [],
   "source": [
    "def create_or_load_embedding(column):\n",
    "    math_embeddings_file = file_path('math_embeddings', f'{column}_reduced_embeddings.csv')\n",
    "    \n",
    "    if os.path.exists(math_embeddings_file):\n",
    "        embedding_df = pd.read_csv(math_embeddings_file, index_col=index_col)\n",
    "    else:\n",
    "        scaled_data = scaler.fit_transform(df[column].to_list())\n",
    "\n",
    "        reducer = umap.UMAP(random_state=42)\n",
    "        embedding = reducer.fit_transform(scaled_data) \n",
    "\n",
    "        embedding_df = pd.DataFrame(embedding, columns=['x', 'y'])\n",
    "\n",
    "        embedding_df['uuid'] = df.index\n",
    "        embedding_df['paper_annotation'] = df['paper_annotation'].reset_index(drop=True)\n",
    "        embedding_df['image'] = df['embedded_math_image'].reset_index(drop=True)\n",
    "        \n",
    "        embedding_df.set_index('uuid', inplace=True)\n",
    "        \n",
    "        embedding_df.to_csv(math_embeddings_file)\n",
    "    \n",
    "    return embedding_df\n",
    "\n",
    "def create_embedding_viz(column):\n",
    "    embedding_df = create_or_load_embedding(column)\n",
    "    embedding_df = embedding_df.reset_index(drop=True)\n",
    "\n",
    "    chart = alt.Chart(embedding_df).mark_circle().encode(\n",
    "        x='x',\n",
    "        y='y',\n",
    "        tooltip=['image']\n",
    "    ).interactive()\n",
    "    \n",
    "    chart = chart.configure_title(\n",
    "        font='Times New Roman'\n",
    "    ).configure_axis(\n",
    "        labelFont='Times New Roman',\n",
    "        titleFont='Times New Roman'\n",
    "    ).configure_legend(\n",
    "        labelFont='Times New Roman',\n",
    "        titleFont='Times New Roman'\n",
    "    ).configure_text(\n",
    "        font='Times New Roman'\n",
    "    )\n",
    "\n",
    "    chart.save(file_path('math_embedding_charts', f'{column}_circle.html'), embed_options={\"downloadFileName\": column})\n",
    "    \n",
    "    chart = alt.Chart(embedding_df).mark_text().encode(\n",
    "        x='x',\n",
    "        y='y',\n",
    "        text='paper_annotation',\n",
    "        tooltip=['image']\n",
    "    ).interactive()\n",
    "    \n",
    "    chart = chart.configure_title(\n",
    "        font='Times New Roman'\n",
    "    ).configure_axis(\n",
    "        labelFont='Times New Roman',\n",
    "        titleFont='Times New Roman'\n",
    "    ).configure_legend(\n",
    "        labelFont='Times New Roman',\n",
    "        titleFont='Times New Roman'\n",
    "    ).configure_text(\n",
    "        font='Times New Roman'\n",
    "    )\n",
    "\n",
    "    chart.save(file_path('math_embedding_charts', f'{column}_text.html'), embed_options={\"downloadFileName\": column})"
   ]
  },
  {
   "cell_type": "code",
   "execution_count": 9,
   "id": "8939dd02-42aa-45b3-936b-cc479cec36d7",
   "metadata": {
    "tags": []
   },
   "outputs": [],
   "source": [
    "create_embedding_viz('lstm_character_level_v1_clean_math_embeddings')"
   ]
  },
  {
   "cell_type": "code",
   "execution_count": null,
   "id": "b3746bfc-30fc-4897-aed0-953b6057c581",
   "metadata": {},
   "outputs": [],
   "source": [
    "# img = Image.open(file_path('math_images', '1_6998d986-fca2-4650-a4bd-4656e657fa72.png'))\n",
    "# width, height = img.size\n",
    "# print(f'{width} {height}')\n",
    "# new_width = 500  # or whatever value you want\n",
    "# new_height = int(new_width * height / width)\n",
    "\n",
    "# max_size = 50\n",
    "# img.thumbnail((250))\n",
    "\n",
    "# plt.imshow(resized_image)\n",
    "# plt.axis('off')  # Remove the axis labels\n",
    "# plt.show()"
   ]
  }
 ],
 "metadata": {
  "kernelspec": {
   "display_name": "Python 3 (ipykernel)",
   "language": "python",
   "name": "python3"
  },
  "language_info": {
   "codemirror_mode": {
    "name": "ipython",
    "version": 3
   },
   "file_extension": ".py",
   "mimetype": "text/x-python",
   "name": "python",
   "nbconvert_exporter": "python",
   "pygments_lexer": "ipython3",
   "version": "3.9.13"
  }
 },
 "nbformat": 4,
 "nbformat_minor": 5
}
