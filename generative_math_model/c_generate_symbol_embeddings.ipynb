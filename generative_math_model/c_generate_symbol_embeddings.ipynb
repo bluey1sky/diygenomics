{
 "cells": [
  {
   "cell_type": "code",
   "execution_count": 1,
   "id": "d7e4305c-a439-438e-85a1-0a5bf174888b",
   "metadata": {
    "tags": []
   },
   "outputs": [],
   "source": [
    "import numpy as np\n",
    "import os\n",
    "import pandas as pd\n",
    "import torch\n",
    "from torch import nn\n",
    "from torch.utils.data import TensorDataset, DataLoader\n",
    "\n",
    "from sklearn.model_selection import train_test_split\n",
    "\n",
    "pd.set_option('display.max_colwidth', None)"
   ]
  },
  {
   "cell_type": "code",
   "execution_count": 2,
   "id": "976e3465-3ffd-473d-bdd6-fa4a729a5061",
   "metadata": {
    "tags": []
   },
   "outputs": [],
   "source": [
    "base_name = \"2021_Hashimoto_Neural_ODE_and_holographic_QCD_PUB\"\n",
    "project_folder = \"diygenomics-projects\"\n",
    "sub_category = \"math\"\n",
    "work_bucket = \"AdS-CFT\"\n",
    "input_file = 'extracted_annotated_math.csv'\n",
    "index_col = 'uuid'\n",
    "\n",
    "model_path = 'lstm_character_level_v1'"
   ]
  },
  {
   "cell_type": "code",
   "execution_count": 3,
   "id": "e740fa74-d598-42d8-9915-3f4b44f6ad4f",
   "metadata": {
    "tags": []
   },
   "outputs": [],
   "source": [
    "data_path = os.getenv('DATA_PATH')\n",
    "file_path = lambda *args: os.path.join(data_path, project_folder, sub_category, work_bucket,\n",
    "                                       base_name, 'mathpix', *args)\n",
    "\n",
    "if not os.path.exists(file_path(model_path)):\n",
    "    os.makedirs(file_path(model_path))"
   ]
  },
  {
   "cell_type": "code",
   "execution_count": 4,
   "id": "c656ca18-c6fb-42eb-bf9a-0fd8607cd5c3",
   "metadata": {
    "tags": []
   },
   "outputs": [],
   "source": [
    "df = pd.read_csv(file_path(input_file), index_col=index_col)"
   ]
  },
  {
   "cell_type": "code",
   "execution_count": 5,
   "id": "e5a44c26-6042-4a63-8801-b836d14819ed",
   "metadata": {
    "tags": []
   },
   "outputs": [],
   "source": [
    "latex_corpus = df['math'].astype(str).str.cat(sep=' ')"
   ]
  },
  {
   "cell_type": "code",
   "execution_count": 6,
   "id": "d9dc57ad-ef5c-461d-8b5a-1af760f05572",
   "metadata": {},
   "outputs": [],
   "source": [
    "class LSTMTextGenerator:\n",
    "    def __init__(self, corpus, seq_length=100, hidden_size=256, lr=0.001, epochs=50, batch_size=64):\n",
    "        self.device = torch.device('cuda' if torch.cuda.is_available() else 'cpu')\n",
    "        self.corpus = corpus\n",
    "        self.seq_length = seq_length\n",
    "        self.hidden_size = hidden_size\n",
    "        self.lr = lr\n",
    "        self.epochs = epochs\n",
    "        self.batch_size = batch_size\n",
    "        self.dataX, self.dataY, self.char_to_int, self.int_to_char = self.prepare_data()\n",
    "        self.model = self.build_model().to(self.device)\n",
    "        self.criterion = nn.CrossEntropyLoss()\n",
    "        self.optimizer = torch.optim.Adam(self.model.parameters(), lr=self.lr)\n",
    "        \n",
    "    class CharPredictor(nn.Module):\n",
    "        def __init__(self, input_size, hidden_size, output_size):\n",
    "            super().__init__()\n",
    "            self.lstm = nn.LSTM(input_size, hidden_size, batch_first=True)\n",
    "            self.fc = nn.Linear(hidden_size, output_size)\n",
    "\n",
    "        def forward(self, x):\n",
    "            out, _ = self.lstm(x)\n",
    "            out = self.fc(out[:, -1, :])\n",
    "            return out\n",
    "\n",
    "        def get_embeddings(self, x):\n",
    "            out, _ = self.lstm(x)\n",
    "            return out  # return LSTM outputs as embeddings\n",
    "        \n",
    "    def get_embeddings(self, text):\n",
    "        text_int = [self.char_to_int[char] for char in text]\n",
    "        text_int = np.reshape(text_int, (1, len(text_int), 1))\n",
    "        text_tensor = torch.from_numpy(text_int).float()\n",
    "\n",
    "        # Get the current device (CPU or GPU)\n",
    "        device = torch.device(\"cuda\" if torch.cuda.is_available() else \"cpu\")\n",
    "\n",
    "        # Move the input tensor to the current device\n",
    "        text_tensor = text_tensor.to(device)\n",
    "\n",
    "        with torch.no_grad():\n",
    "            embeddings = self.model.get_embeddings(text_tensor)\n",
    "\n",
    "        return embeddings.cpu().numpy()\n",
    "\n",
    "    def prepare_data(self):\n",
    "        chars = sorted(list(set(self.corpus)))\n",
    "        char_to_int = {ch: i for i, ch in enumerate(chars)}\n",
    "        int_to_char = {i: ch for i, ch in enumerate(chars)}\n",
    "\n",
    "        dataX, dataY = [], []\n",
    "        for i in range(0, len(self.corpus) - self.seq_length, 1):\n",
    "            seq_in = self.corpus[i:i + self.seq_length]\n",
    "            seq_out = self.corpus[i + self.seq_length]\n",
    "            dataX.append([char_to_int[char] for char in seq_in])\n",
    "            dataY.append(char_to_int[seq_out])\n",
    "\n",
    "        return np.array(dataX), np.array(dataY), char_to_int, int_to_char\n",
    "\n",
    "    def build_model(self):\n",
    "        return self.CharPredictor(1, self.hidden_size, len(self.char_to_int))\n",
    "\n",
    "    def create_data_loader(self, X, y):\n",
    "        dataset = TensorDataset(X, y)\n",
    "        dataloader = DataLoader(dataset, batch_size=self.batch_size, shuffle=True)\n",
    "        return dataloader\n",
    "    \n",
    "    def predict(self, input_sequence, predict_length=100):\n",
    "        self.model.eval()  # Set the model to evaluation mode\n",
    "\n",
    "        # Convert char to int for input sequence\n",
    "        input_sequence = [self.char_to_int[ch] for ch in input_sequence]\n",
    "        input_sequence = np.reshape(input_sequence, (1, len(input_sequence), 1))\n",
    "        input_sequence = torch.from_numpy(input_sequence).float().to(self.device)\n",
    "\n",
    "        predicted_output = ''\n",
    "        with torch.no_grad():\n",
    "            for _ in range(predict_length):\n",
    "                output = self.model(input_sequence)\n",
    "                _, predicted = torch.max(output.data, 1)\n",
    "                predicted_output += self.int_to_char[predicted.item()]\n",
    "\n",
    "                # Use the predicted character to generate the next character\n",
    "                input_sequence = torch.cat((input_sequence[:, 1:, :], predicted.float().unsqueeze(0).unsqueeze(2)), dim=1)\n",
    "\n",
    "        return predicted_output\n",
    "\n",
    "    def train(self):\n",
    "        X_train, X_test, y_train, y_test = train_test_split(self.dataX, self.dataY, test_size=0.2, random_state=42)\n",
    "        X_train = np.reshape(X_train, (len(X_train), self.seq_length, 1))\n",
    "        X_test = np.reshape(X_test, (len(X_test), self.seq_length, 1))\n",
    "        X_train = torch.from_numpy(X_train).float().to(self.device)\n",
    "        y_train = torch.from_numpy(y_train).long().to(self.device)\n",
    "        X_test = torch.from_numpy(X_test).float().to(self.device)\n",
    "        y_test = torch.from_numpy(y_test).long().to(self.device)\n",
    "\n",
    "        train_loader = self.create_data_loader(X_train, y_train)\n",
    "        test_loader = self.create_data_loader(X_test, y_test)\n",
    "\n",
    "        for epoch in range(self.epochs):\n",
    "            for batch in train_loader:\n",
    "                x, y = batch\n",
    "                self.optimizer.zero_grad()\n",
    "                output = self.model(x)\n",
    "                loss = self.criterion(output, y)\n",
    "                loss.backward()\n",
    "                self.optimizer.step()\n",
    "\n",
    "            print(f'Epoch: {epoch+1}, Loss: {loss.item()}')\n",
    "            torch.save(self.model.state_dict(), file_path(model_path, f'model_epoch_{epoch+1}.pth'))\n",
    "\n",
    "        self.model.eval()\n",
    "        with torch.no_grad():\n",
    "            correct = 0\n",
    "            total = 0\n",
    "            for x, y in test_loader:\n",
    "                output = self.model(x)\n",
    "                _, predicted = torch.max(output.data, 1)\n",
    "                total += y.size(0)\n",
    "                correct += (predicted == y).sum().item()\n",
    "            print('Test Accuracy: %d %%' % (100 * correct / total)) "
   ]
  },
  {
   "cell_type": "code",
   "execution_count": 7,
   "id": "3bc6010c-c0bf-4566-b9b7-a5e1c2802523",
   "metadata": {},
   "outputs": [
    {
     "name": "stdout",
     "output_type": "stream",
     "text": [
      "Epoch: 1, Loss: 3.085197925567627\n",
      "Epoch: 2, Loss: 3.0017433166503906\n",
      "Epoch: 3, Loss: 2.5176005363464355\n",
      "Epoch: 4, Loss: 1.973358154296875\n",
      "Epoch: 5, Loss: 1.8167920112609863\n",
      "Epoch: 6, Loss: 2.42657470703125\n",
      "Epoch: 7, Loss: 1.495444893836975\n",
      "Epoch: 8, Loss: 1.0952540636062622\n",
      "Epoch: 9, Loss: 1.0902734994888306\n",
      "Epoch: 10, Loss: 0.9470045566558838\n",
      "Epoch: 11, Loss: 0.8523881435394287\n",
      "Epoch: 12, Loss: 0.7488527297973633\n",
      "Epoch: 13, Loss: 0.5231389999389648\n",
      "Epoch: 14, Loss: 0.29267680644989014\n",
      "Epoch: 15, Loss: 0.41037681698799133\n",
      "Epoch: 16, Loss: 0.5626200437545776\n",
      "Epoch: 17, Loss: 0.14729151129722595\n",
      "Epoch: 18, Loss: 0.09741312265396118\n",
      "Epoch: 19, Loss: 0.11441751569509506\n",
      "Epoch: 20, Loss: 0.12163476645946503\n",
      "Epoch: 21, Loss: 0.05632897466421127\n",
      "Epoch: 22, Loss: 0.1065073236823082\n",
      "Epoch: 23, Loss: 0.18998974561691284\n",
      "Epoch: 24, Loss: 0.07982755452394485\n",
      "Epoch: 25, Loss: 0.025518149137496948\n",
      "Epoch: 26, Loss: 0.08201679587364197\n",
      "Epoch: 27, Loss: 0.13573583960533142\n",
      "Epoch: 28, Loss: 0.04784783720970154\n",
      "Epoch: 29, Loss: 0.012471798807382584\n",
      "Epoch: 30, Loss: 0.13137054443359375\n",
      "Epoch: 31, Loss: 0.07441062480211258\n",
      "Epoch: 32, Loss: 0.09900132566690445\n",
      "Epoch: 33, Loss: 0.13351225852966309\n",
      "Epoch: 34, Loss: 0.08861793577671051\n",
      "Epoch: 35, Loss: 0.009288902394473553\n",
      "Epoch: 36, Loss: 0.021189574152231216\n",
      "Epoch: 37, Loss: 0.08941055834293365\n",
      "Epoch: 38, Loss: 0.0194423608481884\n",
      "Epoch: 39, Loss: 0.006033779121935368\n",
      "Epoch: 40, Loss: 0.06129233539104462\n",
      "Epoch: 41, Loss: 0.008625517599284649\n",
      "Epoch: 42, Loss: 0.2787542939186096\n",
      "Epoch: 43, Loss: 0.33409684896469116\n",
      "Epoch: 44, Loss: 0.15413056313991547\n",
      "Epoch: 45, Loss: 0.19079747796058655\n",
      "Epoch: 46, Loss: 0.20553050935268402\n",
      "Epoch: 47, Loss: 0.06271447986364365\n",
      "Epoch: 48, Loss: 0.021659331396222115\n",
      "Epoch: 49, Loss: 0.07425348460674286\n",
      "Epoch: 50, Loss: 0.003343353746458888\n",
      "Test Accuracy: 73 %\n"
     ]
    }
   ],
   "source": [
    "corpus = latex_corpus\n",
    "text_generator = LSTMTextGenerator(corpus, hidden_size=1024) # , seq_length=200, epochs=100, hidden_size=512\n",
    "text_generator.train()"
   ]
  },
  {
   "cell_type": "code",
   "execution_count": 8,
   "id": "812d9d7f-0574-41f7-97a0-c329f36cf556",
   "metadata": {},
   "outputs": [
    {
     "name": "stdout",
     "output_type": "stream",
     "text": [
      " t}=-\\(t) \\cda{alaet\n"
     ]
    }
   ],
   "source": [
    "print(text_generator.predict(\"mathrm{d}\", 20))"
   ]
  },
  {
   "cell_type": "code",
   "execution_count": 11,
   "id": "9157a3b6-83c5-49f9-a4ad-0b91c9a1e31a",
   "metadata": {},
   "outputs": [],
   "source": [
    "embedding = text_generator.get_embeddings(df.iloc[0]['math'])"
   ]
  },
  {
   "cell_type": "code",
   "execution_count": 12,
   "id": "67f789a1-ab84-4c40-8675-4752d4ecc736",
   "metadata": {},
   "outputs": [
    {
     "data": {
      "text/plain": [
       "(1, 139, 1024)"
      ]
     },
     "execution_count": 12,
     "metadata": {},
     "output_type": "execute_result"
    }
   ],
   "source": [
    "embedding.shape"
   ]
  },
  {
   "cell_type": "code",
   "execution_count": 10,
   "id": "7cacca02-3b3a-4f7d-b8c8-cf6a89d42458",
   "metadata": {},
   "outputs": [],
   "source": [
    "# model_path = \"model_epoch_50.pth\"\n",
    "\n",
    "# text_generator.model.load_state_dict(torch.load(model_path))\n",
    "\n",
    "# text_generator.model.eval()"
   ]
  }
 ],
 "metadata": {
  "kernelspec": {
   "display_name": "Python 3 (ipykernel)",
   "language": "python",
   "name": "python3"
  },
  "language_info": {
   "codemirror_mode": {
    "name": "ipython",
    "version": 3
   },
   "file_extension": ".py",
   "mimetype": "text/x-python",
   "name": "python",
   "nbconvert_exporter": "python",
   "pygments_lexer": "ipython3",
   "version": "3.9.13"
  }
 },
 "nbformat": 4,
 "nbformat_minor": 5
}
