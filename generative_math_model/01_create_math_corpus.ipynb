{
 "cells": [
  {
   "cell_type": "code",
   "execution_count": 1,
   "id": "68cbbb78-4e1a-4689-bc8a-de718efc3378",
   "metadata": {
    "tags": []
   },
   "outputs": [],
   "source": [
    "import os\n",
    "import pandas as pd"
   ]
  },
  {
   "cell_type": "code",
   "execution_count": 2,
   "id": "06a321e2-aa8f-4d99-828c-0d35162fe1e3",
   "metadata": {
    "tags": []
   },
   "outputs": [],
   "source": [
    "project_folder = \"diygenomics-projects\"\n",
    "sub_category = \"math\"\n",
    "input_file = 'extracted_annotated_math.csv'\n",
    "index_col = 'uuid'"
   ]
  },
  {
   "cell_type": "code",
   "execution_count": 3,
   "id": "e66c672f-92b9-472d-abdc-4f6ed54422d7",
   "metadata": {
    "tags": []
   },
   "outputs": [],
   "source": [
    "data_path = os.getenv('DATA_PATH')\n",
    "file_path = lambda *args: os.path.join(data_path, project_folder, sub_category, *args)\n",
    "root_dir = file_path()"
   ]
  },
  {
   "cell_type": "code",
   "execution_count": 4,
   "id": "e3f6d344-58eb-4d22-bb8b-1e0070bd13b7",
   "metadata": {
    "tags": []
   },
   "outputs": [],
   "source": [
    "dataframes = []\n",
    "\n",
    "for dirpath, dirnames, filenames in os.walk(root_dir):\n",
    "    if os.path.basename(dirpath) == 'mathpix':\n",
    "        csv_file = os.path.join(dirpath, 'extracted_annotated_math.csv')\n",
    "        if os.path.isfile(csv_file):\n",
    "            df = pd.read_csv(csv_file, index_col=index_col)\n",
    "            df['folder_name'] = os.path.basename(os.path.dirname(dirpath))\n",
    "            dataframes.append(df)\n",
    "\n",
    "combined_df = pd.concat(dataframes)"
   ]
  },
  {
   "cell_type": "code",
   "execution_count": 5,
   "id": "c1cae616-a64f-46b7-bbbf-a47e611d8ae0",
   "metadata": {
    "tags": []
   },
   "outputs": [
    {
     "data": {
      "text/plain": [
       "uuid\n",
       "19b0090f-a8cf-4820-a95b-37790cb96e19    $\\Delta \\bar{n} \\approx \\bar{n}\\left(u_{\\bar{n...\n",
       "854a4c91-e540-41a1-94f0-15f790fcf6b1    $\\frac{d U_{i}}{d t}=(-D F-\\gamma(i-1)) U_{i}+...\n",
       "7ddd4c6c-c350-4a8d-9899-0a638c34357b    $\\frac{d U_{L}}{d t}=(\\alpha-D F-\\gamma(L-1)) ...\n",
       "dac2f25f-ddf4-413f-9d3e-47203d134a03    $\\frac{d U_{L}}{d t}=r_{d}\\left(1-\\frac{U_{L}(...\n",
       "6ea52e25-b87e-4d65-95ce-af977d6b908d    $\\frac{d \\eta}{d t}=(-D F-\\gamma) \\eta(t)+\\gam...\n",
       "                                                              ...                        \n",
       "a9126ace-07db-4a27-a918-2827d0a7b178    \\[\\n\\beta_{k}=\\sum_{m=0}^{r-1} \\int_{x_{i-1 / ...\n",
       "cefdd6b1-5c18-4012-9c57-fd2b9af38918    \\[\\n\\begin{aligned}\\n& \\beta_{0}=\\frac{13}{12}...\n",
       "2f593bcf-c1ed-42f9-86d4-a60444946413    \\[\\n\\frac{d}{d t} \\mathbf{U}_{i}=\\mathbf{L}_{i...\n",
       "ffedcc86-9cfc-4fd7-9fa9-c516366e9737    \\[\\n\\begin{aligned}\\n& S=4 e^{-x^{2}-t} \\\\\\n& ...\n",
       "ae14aae8-7721-4f57-b3be-152dc81c7aa7    \\[\\n\\begin{aligned}\\n& \\frac{\\partial S(x, t)}...\n",
       "Name: math, Length: 948, dtype: object"
      ]
     },
     "execution_count": 5,
     "metadata": {},
     "output_type": "execute_result"
    }
   ],
   "source": [
    "combined_df['math']"
   ]
  },
  {
   "cell_type": "code",
   "execution_count": 9,
   "id": "76621cc2-ab8a-45f5-867d-80d2f440e256",
   "metadata": {},
   "outputs": [],
   "source": [
    "combined_df.to_csv(file_path('combined_extracted_annotated_math.csv'))"
   ]
  },
  {
   "cell_type": "code",
   "execution_count": 12,
   "id": "9f44ce75-4fe9-44ad-8121-6784624e3826",
   "metadata": {},
   "outputs": [
    {
     "name": "stdout",
     "output_type": "stream",
     "text": [
      "AdS-CFT  Alzheimers  SIR  combined_extracted_annotated_math.csv  transposon\n"
     ]
    }
   ],
   "source": [
    "! ls {file_path()}"
   ]
  },
  {
   "cell_type": "code",
   "execution_count": null,
   "id": "c125530d-ddd8-4c1f-a8b5-274360a52f7d",
   "metadata": {},
   "outputs": [],
   "source": []
  }
 ],
 "metadata": {
  "kernelspec": {
   "display_name": "Python 3 (ipykernel)",
   "language": "python",
   "name": "python3"
  },
  "language_info": {
   "codemirror_mode": {
    "name": "ipython",
    "version": 3
   },
   "file_extension": ".py",
   "mimetype": "text/x-python",
   "name": "python",
   "nbconvert_exporter": "python",
   "pygments_lexer": "ipython3",
   "version": "3.9.13"
  }
 },
 "nbformat": 4,
 "nbformat_minor": 5
}
