{
 "cells": [
  {
   "cell_type": "code",
   "execution_count": 1,
   "id": "68cbbb78-4e1a-4689-bc8a-de718efc3378",
   "metadata": {
    "tags": []
   },
   "outputs": [],
   "source": [
    "import os\n",
    "import pandas as pd"
   ]
  },
  {
   "cell_type": "code",
   "execution_count": 2,
   "id": "06a321e2-aa8f-4d99-828c-0d35162fe1e3",
   "metadata": {
    "tags": []
   },
   "outputs": [],
   "source": [
    "project_folder = \"diygenomics-projects\"\n",
    "sub_category = \"math\"\n",
    "input_file = 'extracted_annotated_math.csv'\n",
    "index_col = 'uuid'"
   ]
  },
  {
   "cell_type": "code",
   "execution_count": 3,
   "id": "e66c672f-92b9-472d-abdc-4f6ed54422d7",
   "metadata": {
    "tags": []
   },
   "outputs": [],
   "source": [
    "data_path = os.getenv('DATA_PATH')\n",
    "file_path = lambda *args: os.path.join(data_path, project_folder, sub_category, *args)\n",
    "root_dir = file_path()"
   ]
  },
  {
   "cell_type": "code",
   "execution_count": 4,
   "id": "e3f6d344-58eb-4d22-bb8b-1e0070bd13b7",
   "metadata": {
    "tags": []
   },
   "outputs": [],
   "source": [
    "dataframes = []\n",
    "\n",
    "for dirpath, dirnames, filenames in os.walk(root_dir):\n",
    "    if os.path.basename(dirpath) == 'mathpix':\n",
    "        csv_file = os.path.join(dirpath, 'extracted_annotated_math.csv')\n",
    "        if os.path.isfile(csv_file):\n",
    "            df = pd.read_csv(csv_file, index_col=index_col)\n",
    "            df['folder_name'] = os.path.basename(os.path.dirname(dirpath))\n",
    "            dataframes.append(df)\n",
    "\n",
    "combined_df = pd.concat(dataframes)"
   ]
  },
  {
   "cell_type": "code",
   "execution_count": 7,
   "id": "c1cae616-a64f-46b7-bbbf-a47e611d8ae0",
   "metadata": {
    "tags": []
   },
   "outputs": [
    {
     "data": {
      "text/plain": [
       "948"
      ]
     },
     "execution_count": 7,
     "metadata": {},
     "output_type": "execute_result"
    }
   ],
   "source": [
    "combined_df['math']"
   ]
  },
  {
   "cell_type": "code",
   "execution_count": null,
   "id": "275d017e-a583-4ce6-9a65-4a61cd95790d",
   "metadata": {},
   "outputs": [],
   "source": []
  }
 ],
 "metadata": {
  "kernelspec": {
   "display_name": "Python 3 (ipykernel)",
   "language": "python",
   "name": "python3"
  },
  "language_info": {
   "codemirror_mode": {
    "name": "ipython",
    "version": 3
   },
   "file_extension": ".py",
   "mimetype": "text/x-python",
   "name": "python",
   "nbconvert_exporter": "python",
   "pygments_lexer": "ipython3",
   "version": "3.11.0"
  }
 },
 "nbformat": 4,
 "nbformat_minor": 5
}
