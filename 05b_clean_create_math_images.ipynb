{
 "cells": [
  {
   "cell_type": "code",
   "execution_count": null,
   "id": "44f4dbac-0017-4dcd-bf0b-2185304bb81d",
   "metadata": {
    "tags": []
   },
   "outputs": [],
   "source": [
    "import matplotlib.pyplot as plt\n",
    "import os\n",
    "import pandas as pd\n",
    "import papermill as pm\n",
    "import re\n",
    "import scrapbook as sb\n",
    "\n",
    "from IPython.display import Image\n",
    "from matplotlib.backends.backend_agg import FigureCanvasAgg as FigureCanvas\n",
    "from matplotlib.figure import Figure\n",
    "from pylatexenc.latex2text import LatexNodes2Text\n",
    "# from matplotlib.font_manager import FontProperties\n",
    "\n",
    "plt.rcParams['font.family'] = 'serif'\n",
    "plt.rcParams['font.serif'] = ['Times New Roman'] + plt.rcParams['font.serif']"
   ]
  },
  {
   "cell_type": "code",
   "execution_count": null,
   "id": "3e4ac78f-0289-4d24-88ca-84cc5fff74b8",
   "metadata": {
    "tags": [
     "parameters",
     "base_name",
     "project_folder",
     "sub_category",
     "work_bucket",
     "external_id",
     "human_title"
    ]
   },
   "outputs": [],
   "source": [
    "# base_name = \"2021_Hashimoto_Neural_ODE_and_holographic_QCD_PUB\"\n",
    "# project_folder = \"diygenomics-projects\"\n",
    "# sub_category = \"math\"\n",
    "# work_bucket = \"AdS-CFT\"\n",
    "# external_id = \"2023_05_22_92dc0613b4493d7b5847g\"\n",
    "# human_title = '2021 Hashimoto Neural ODE'"
   ]
  },
  {
   "cell_type": "code",
   "execution_count": null,
   "id": "283942ae-6bd8-4d07-b06b-db5d42e169cc",
   "metadata": {
    "tags": []
   },
   "outputs": [],
   "source": [
    "data_path = os.getenv('DATA_PATH')\n",
    "file_path = lambda *args: os.path.join(data_path, project_folder, sub_category, work_bucket,\n",
    "                                       base_name, 'mathpix', *args)\n",
    "\n",
    "index_col = 'uuid'\n",
    "\n",
    "input_file = 'extracted_annotated_math.csv'\n",
    "output_file = 'extracted_annotated_math.csv'\n",
    "\n",
    "if not os.path.exists(file_path('math_images')):\n",
    "    os.makedirs(file_path('math_images'))"
   ]
  },
  {
   "cell_type": "code",
   "execution_count": null,
   "id": "0e7ad934-558d-47b1-ba98-4be2ca9a110a",
   "metadata": {
    "tags": []
   },
   "outputs": [],
   "source": [
    "df = pd.read_csv(file_path(input_file), index_col=index_col)"
   ]
  },
  {
   "cell_type": "code",
   "execution_count": null,
   "id": "43366c2e-ac89-4600-8e61-b2b3c466d9fe",
   "metadata": {
    "tags": []
   },
   "outputs": [],
   "source": [
    "def clean_math(math):\n",
    "    math = math.strip('\\n')\n",
    "    math = math.replace(\"\\\\begin{aligned}\", \"\")\n",
    "    math = math.replace(\"\\\\end{aligned}\", \"\")\n",
    "    # math = math.replace('& \\\\', '')\n",
    "    math = math.replace('\\\\[', '')\n",
    "    math = math.replace('\\\\]', '')\n",
    "    math = math.replace('\\\\\\\\', '\\\\')\n",
    "\n",
    "    math = math.strip().strip('\\n')\n",
    "    math = remove_text_command(math)\n",
    "    math = math.lstrip().rstrip().rstrip(',').rstrip('.')\n",
    "    math = re.sub(r'\\\\(?=\\b\\w\\b)', '', math)\n",
    "    ## TODO pass in extra/paper specific removals\n",
    "    if math.startswith(\"ansatz 1:\"):\n",
    "        math = math[len(\"ansatz 1:\"):]\n",
    "    \n",
    "    if math.startswith(\"{ ansatz 2: }\"):\n",
    "        math = math[len(\"{ ansatz 2: }\"):]\n",
    "        \n",
    "    math = math.replace('$', '') \n",
    "    return math\n",
    "\n",
    "def remove_text_command(math):\n",
    "    return re.sub(r'\\\\text\\{[^}]*\\}', '', math).replace('\\\\text', '').replace('&', '')\n",
    "\n",
    "def fallback_img(math, image_name, image_title=None, dpi=300, fig_width=1, fig_height=1):\n",
    "    math = LatexNodes2Text().latex_to_text(math)\n",
    "    maths = math.split('\\n')\n",
    "    \n",
    "    fig = Figure(figsize=(fig_width, fig_height))\n",
    "    FigureCanvas(fig)\n",
    "    ax = fig.subplots(1,1)\n",
    "    \n",
    "    for index, math_piece in enumerate(maths):\n",
    "        math_piece = math_piece.rstrip('\\\\')\n",
    "        offset = 0.5 - index\n",
    "        if len(math_piece) > 0:\n",
    "            ax.text(0.5, offset, f\"${math_piece}$\", size=30, va='center', ha='center')\n",
    "    if image_title != None:\n",
    "        ax.text(0.5, offset - 1, image_title, size=30, va='center', ha='center')\n",
    "    ax.axis('off')\n",
    "    fig.savefig(file_path('math_images', image_name), dpi=dpi, bbox_inches='tight')\n",
    "\n",
    "def latex_to_img(row, dpi=300, fig_width=1, fig_height=1):\n",
    "    paper_annotation = row['paper_annotation'].replace('(', '').replace(')', '')\n",
    "    image_name = f'{paper_annotation}_{row.name}.png'\n",
    "    display_image_name = f'display_{paper_annotation}_{row.name}.png'\n",
    "    image_title = f\"{paper_annotation} - {human_title}\"\n",
    "    \n",
    "    math = clean_math(row['math'])\n",
    "    maths = math.split('\\n')\n",
    "    \n",
    "    fig = Figure(figsize=(fig_width, fig_height))\n",
    "    FigureCanvas(fig)\n",
    "    ax = fig.subplots(1,1)\n",
    "    try:\n",
    "        for index, math_piece in enumerate(maths):\n",
    "            math_piece = math_piece.rstrip('\\\\')\n",
    "            if len(math_piece) > 0:\n",
    "                ax.text(0.5, 0.5 - index, f\"${math_piece}$\", size=30, va='center', ha='center')\n",
    "        ax.axis('off')\n",
    "        fig.savefig(file_path('math_images', image_name), dpi=dpi, bbox_inches='tight')\n",
    "    except Exception as e:\n",
    "        print(e)\n",
    "        print(math)\n",
    "        fallback_img(math, image_name, None, dpi, fig_width, fig_height)\n",
    "\n",
    "\n",
    "    fig = Figure(figsize=(fig_width, fig_height))\n",
    "    FigureCanvas(fig)\n",
    "    ax = fig.subplots(1,1)\n",
    "    try:\n",
    "        for index, math_piece in enumerate(maths):\n",
    "            math_piece = math_piece.rstrip('\\\\')\n",
    "            offset = 0.5 - index\n",
    "            if len(math_piece) > 0:\n",
    "                ax.text(0.5, offset, f\"${math_piece}$\", size=30, va='center', ha='center')\n",
    "        ax.text(0.5, offset - 1, image_title, size=30, va='center', ha='center')\n",
    "        ax.axis('off')\n",
    "        fig.savefig(file_path('math_images', display_image_name), dpi=dpi, bbox_inches='tight')\n",
    "    except Exception as e:\n",
    "        print(e)\n",
    "        print(math)\n",
    "        fallback_img(math, display_image_name, image_title, dpi, fig_width, fig_height)\n",
    "\n",
    "    return math, image_name, display_image_name"
   ]
  },
  {
   "cell_type": "code",
   "execution_count": null,
   "id": "8f4a4d14-7c56-41aa-af2b-2bf07bd2ed94",
   "metadata": {
    "tags": []
   },
   "outputs": [],
   "source": [
    "# df[33:34].apply(lambda row: latex_to_img(row), axis=1)\n",
    "# df[0:1].apply(lambda row: latex_to_img(row), axis=1)\n",
    "# df[17:18].apply(lambda row: latex_to_img(row), axis=1)\n",
    "# df[20:21].apply(lambda row: latex_to_img(row), axis=1)\n",
    "# df[5:6].apply(lambda row: latex_to_img(row), axis=1)\n",
    "df[['clean_math', 'math_image', 'display_math_image']]  = df.apply(lambda row: latex_to_img(row), axis=1, result_type='expand')"
   ]
  },
  {
   "cell_type": "code",
   "execution_count": null,
   "id": "e7d18aa2-5cca-454f-af68-86992e78d4c9",
   "metadata": {
    "tags": []
   },
   "outputs": [],
   "source": [
    "df.to_csv(file_path(input_file))"
   ]
  },
  {
   "cell_type": "code",
   "execution_count": null,
   "id": "0521c0aa-29ba-4c53-92f6-a7c90757c52f",
   "metadata": {},
   "outputs": [],
   "source": [
    "sb.glue('status', 'completed')"
   ]
  },
  {
   "cell_type": "code",
   "execution_count": null,
   "id": "e87fa7c2-359a-41cb-a125-5e4f7a66961b",
   "metadata": {
    "tags": []
   },
   "outputs": [],
   "source": [
    "# math = clean_math(df.iloc[16]['math'])\n",
    "\n",
    "# dpi=300; fig_width=1; fig_height=1\n",
    "\n",
    "# fig = Figure(figsize=(fig_width, fig_height))\n",
    "# FigureCanvas(fig)\n",
    "# ax = fig.subplots(1,1)\n",
    "\n",
    "# ax.text(0.5, 0.5, f'${math}$ (3)', size=30, va='center', ha='center')\n",
    "\n",
    "# ax.axis('off')\n",
    "\n",
    "# fig.savefig('test.png', dpi=dpi, bbox_inches='tight')\n",
    "# Image(filename='test.png')"
   ]
  },
  {
   "cell_type": "code",
   "execution_count": null,
   "id": "4ec0cf19-06dc-4634-9547-522860e3b771",
   "metadata": {
    "tags": []
   },
   "outputs": [],
   "source": [
    "# math = df.iloc[0]['math']\n",
    "# pattern_a = r'\\\\\\\\\\n|\\\\\\\\mathrm'\n",
    "# math = re.sub(pattern_a, '', math)\n",
    "# math"
   ]
  },
  {
   "cell_type": "code",
   "execution_count": null,
   "id": "307660b3-646d-4e85-a5ed-376097cd9cbd",
   "metadata": {},
   "outputs": [],
   "source": [
    "# s = '\\\\[\\n\\\\mathrm{d} s^{2}=-f(\\\\eta) \\\\mathrm{d} t^{2}+\\\\mathrm{d} \\\\eta^{2}+g(\\\\eta)\\\\left(\\\\mathrm{d} x_{1}^{2}+\\\\cdots+\\\\mathrm{d} x_{d-1}^{2}\\\\right)\\n\\\\]'\n",
    "# lines = s.split('\\n')\n",
    "\n",
    "# # Remove '\\\\[' from the first line and '\\\\mathrm' from the second line\n",
    "# lines[0] = lines[0].replace('\\\\[', '', 1)\n",
    "# lines[1] = lines[1].replace('\\\\mathrm', '', 1)\n",
    "\n",
    "# # Remove '\\\\]' from the last line\n",
    "# lines[-1] = lines[-1].replace('\\\\]', '', 1)\n",
    "\n",
    "# s = '\\n'.join(lines)\n",
    "# s.strip()"
   ]
  },
  {
   "cell_type": "code",
   "execution_count": null,
   "id": "7d2ebb78-45bf-459f-ace7-421f4b5e800f",
   "metadata": {
    "tags": []
   },
   "outputs": [],
   "source": [
    "# s = '\\\\[\\n\\\\mathrm{d} s^{2}=-f(\\\\eta) \\\\mathrm{d} t^{2}+\\\\mathrm{d} \\\\eta^{2}+g(\\\\eta)\\\\left(\\\\mathrm{d} x_{1}^{2}+\\\\cdots+\\\\mathrm{d} x_{d-1}^{2}\\\\right)\\n\\\\]'\n",
    "# # pattern_a = r'\\\\\\[\\n\\\\mathrm'\n",
    "# pattern_a = r'^\\\\\\[\\n\\\\mathrm'\n",
    "# s = re.sub(pattern_a, '', s)\n",
    "# # pattern_b = r'\\n\\\\\\]'\n",
    "# # s = re.sub(pattern_b, '', s)\n",
    "# print(s)"
   ]
  },
  {
   "cell_type": "code",
   "execution_count": null,
   "id": "fc9ef762-1144-476b-964e-ea366218f99a",
   "metadata": {},
   "outputs": [],
   "source": []
  }
 ],
 "metadata": {
  "kernelspec": {
   "display_name": "Python 3 (ipykernel)",
   "language": "python",
   "name": "python3"
  },
  "language_info": {
   "codemirror_mode": {
    "name": "ipython",
    "version": 3
   },
   "file_extension": ".py",
   "mimetype": "text/x-python",
   "name": "python",
   "nbconvert_exporter": "python",
   "pygments_lexer": "ipython3",
   "version": "3.11.0"
  }
 },
 "nbformat": 4,
 "nbformat_minor": 5
}
