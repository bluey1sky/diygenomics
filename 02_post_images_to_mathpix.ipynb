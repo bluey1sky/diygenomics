{
 "cells": [
  {
   "cell_type": "code",
   "execution_count": null,
   "id": "2d22e9f0-de0f-45af-a826-f8d593b321ba",
   "metadata": {
    "tags": []
   },
   "outputs": [],
   "source": [
    "import base64\n",
    "import json\n",
    "import os\n",
    "import pandas as pd\n",
    "import papermill as pm\n",
    "import requests\n",
    "import scrapbook as sb\n",
    "import uuid\n",
    "import zipfile\n",
    "\n",
    "pd.set_option('display.max_colwidth', None)"
   ]
  },
  {
   "cell_type": "code",
   "execution_count": null,
   "id": "fd1e0d59-f2e1-42b1-ac1a-76b0c4ce3e02",
   "metadata": {
    "tags": [
     "parameters",
     "external_id",
     "base_name",
     "work_bucket"
    ]
   },
   "outputs": [],
   "source": [
    "# external_id = '2023_05_02_27142069922ab9506d3dg'\n",
    "# base_name = \n",
    "# work_bucket"
   ]
  },
  {
   "cell_type": "code",
   "execution_count": null,
   "id": "a6f1fdb0-2d23-47af-9e41-562cfa4bd5ed",
   "metadata": {
    "tags": []
   },
   "outputs": [],
   "source": [
    "data_path = os.getenv('DATA_PATH')\n",
    "file_path = lambda *args: os.path.join(data_path, 'diygenomics-projects', 'experiment-a', work_bucket, *args)\n",
    "\n",
    "endpoint = 'https://api.mathpix.com/v3/'\n",
    "\n",
    "app_id = os.getenv('MATHPIX_APP_ID')\n",
    "app_key = os.getenv('MATHPIX_APP_KEY')\n",
    "\n",
    "headers = {\n",
    "    'app_id': app_id,\n",
    "    'app_key': app_key,\n",
    "}\n",
    "\n",
    "conversion_options = {\n",
    "    'formats': ['text', 'html', 'data', 'latex_styled'],\n",
    "    'data_options': {\n",
    "                        'include_asciimath': True, 'include_tsv': True, 'include_svg': True, \n",
    "                        'include_table_html': True, 'include_latex': True, 'include_mathml': True\n",
    "    },\n",
    "    'math_inline_delimiters': ['$', '$'],\n",
    "    'rm_spaces': True,\n",
    "    'enable_tables_fallback': True\n",
    "}"
   ]
  },
  {
   "cell_type": "code",
   "execution_count": null,
   "id": "a0930b19-c8d7-4fa9-953e-10ad4a56285c",
   "metadata": {
    "tags": []
   },
   "outputs": [],
   "source": [
    "def post_image_file(image_file_path):\n",
    "    r = requests.post(os.path.join(endpoint, 'text'),\n",
    "        files={'file': open(image_file_path, 'rb')},\n",
    "        data={\n",
    "          'options_json': json.dumps(conversion_options)\n",
    "        },\n",
    "        headers=headers\n",
    "    )\n",
    "    \n",
    "    return r.json()"
   ]
  },
  {
   "cell_type": "code",
   "execution_count": null,
   "id": "87dc3459-1c54-4b2d-8437-400b4d0fcbd0",
   "metadata": {
    "tags": []
   },
   "outputs": [],
   "source": [
    "with zipfile.ZipFile(file_path(base_name, 'mathpix', f'{external_id}.tex.zip'), 'r') as zip_ref:\n",
    "    zip_ref.extractall(file_path(base_name, 'mathpix'))"
   ]
  },
  {
   "cell_type": "code",
   "execution_count": null,
   "id": "1684690b-5bce-4436-945a-e042c9a2dcb9",
   "metadata": {
    "tags": []
   },
   "outputs": [],
   "source": [
    "image_data = []\n",
    "files = os.listdir(file_path(base_name, 'mathpix', external_id, 'images'))\n",
    "\n",
    "for file in files:\n",
    "    image_file_path = file_path(base_name, 'mathpix', external_id, 'images', file)\n",
    "    image_data.append(post_image_file(image_file_path))"
   ]
  },
  {
   "cell_type": "code",
   "execution_count": null,
   "id": "c41db71e-5262-4cf5-b338-5043f55cf7b7",
   "metadata": {
    "tags": []
   },
   "outputs": [],
   "source": [
    "data = {'file_name': files, 'mathpix_response': image_data}\n",
    "\n",
    "df = pd.DataFrame(data)\n",
    "\n",
    "df['uuid'] = [uuid.uuid4() for _ in range(len(df))]\n",
    "df.set_index('uuid', inplace=True)"
   ]
  },
  {
   "cell_type": "code",
   "execution_count": null,
   "id": "35c00409-aba3-406d-a31e-8f6647d477dd",
   "metadata": {
    "tags": []
   },
   "outputs": [],
   "source": [
    "df.to_csv(file_path(base_name, 'mathpix', external_id, 'image_results.csv'))"
   ]
  },
  {
   "cell_type": "code",
   "execution_count": null,
   "id": "167aeef0-d657-48e7-adc9-feba9299c73d",
   "metadata": {},
   "outputs": [],
   "source": [
    "sb.glue('status', 'completed')"
   ]
  }
 ],
 "metadata": {
  "kernelspec": {
   "display_name": "Python 3 (ipykernel)",
   "language": "python",
   "name": "python3"
  },
  "language_info": {
   "codemirror_mode": {
    "name": "ipython",
    "version": 3
   },
   "file_extension": ".py",
   "mimetype": "text/x-python",
   "name": "python",
   "nbconvert_exporter": "python",
   "pygments_lexer": "ipython3",
   "version": "3.11.0"
  }
 },
 "nbformat": 4,
 "nbformat_minor": 5
}
