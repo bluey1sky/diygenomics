{
 "cells": [
  {
   "cell_type": "code",
   "execution_count": 1,
   "id": "44f4dbac-0017-4dcd-bf0b-2185304bb81d",
   "metadata": {
    "papermill": {
     "duration": 1.338819,
     "end_time": "2023-05-31T17:47:35.417824",
     "exception": false,
     "start_time": "2023-05-31T17:47:34.079005",
     "status": "completed"
    },
    "tags": []
   },
   "outputs": [],
   "source": [
    "import matplotlib.pyplot as plt\n",
    "import os\n",
    "import pandas as pd\n",
    "import papermill as pm\n",
    "import re\n",
    "import scrapbook as sb\n",
    "\n",
    "from IPython.display import Image\n",
    "from matplotlib.backends.backend_agg import FigureCanvasAgg as FigureCanvas\n",
    "from matplotlib.figure import Figure\n",
    "from pylatexenc.latex2text import LatexNodes2Text\n",
    "# from matplotlib.font_manager import FontProperties\n",
    "\n",
    "plt.rcParams['font.family'] = 'serif'\n",
    "plt.rcParams['font.serif'] = ['Times New Roman'] + plt.rcParams['font.serif']"
   ]
  },
  {
   "cell_type": "code",
   "execution_count": 2,
   "id": "3e4ac78f-0289-4d24-88ca-84cc5fff74b8",
   "metadata": {
    "papermill": {
     "duration": 0.098564,
     "end_time": "2023-05-31T17:47:35.520423",
     "exception": false,
     "start_time": "2023-05-31T17:47:35.421859",
     "status": "completed"
    },
    "tags": [
     "parameters",
     "base_name",
     "project_folder",
     "sub_category",
     "work_bucket",
     "external_id",
     "human_title"
    ]
   },
   "outputs": [],
   "source": [
    "# base_name = \"2021_Hashimoto_Neural_ODE_and_holographic_QCD_PUB\"\n",
    "# project_folder = \"diygenomics-projects\"\n",
    "# sub_category = \"math\"\n",
    "# work_bucket = \"AdS-CFT\"\n",
    "# external_id = \"2023_05_22_92dc0613b4493d7b5847g\"\n",
    "# human_title = '2021 Hashimoto Neural ODE'"
   ]
  },
  {
   "cell_type": "code",
   "execution_count": 3,
   "id": "462b24ae",
   "metadata": {
    "papermill": {
     "duration": 0.025809,
     "end_time": "2023-05-31T17:47:35.549010",
     "exception": false,
     "start_time": "2023-05-31T17:47:35.523201",
     "status": "completed"
    },
    "tags": [
     "injected-parameters"
    ]
   },
   "outputs": [],
   "source": [
    "# Parameters\n",
    "base_name = \"2018_Banuelos-Sindi_Modeling_transposable_element_dynamics\"\n",
    "project_folder = \"diygenomics-projects\"\n",
    "sub_category = \"math\"\n",
    "work_bucket = \"transposon\"\n",
    "external_id = \"2023_05_31_9a687aaa1b5475a18ea0g\"\n",
    "human_title = \"2018 Banuelos-Sindi Modeling\"\n"
   ]
  },
  {
   "cell_type": "code",
   "execution_count": 4,
   "id": "283942ae-6bd8-4d07-b06b-db5d42e169cc",
   "metadata": {
    "papermill": {
     "duration": 0.026948,
     "end_time": "2023-05-31T17:47:35.578803",
     "exception": false,
     "start_time": "2023-05-31T17:47:35.551855",
     "status": "completed"
    },
    "tags": []
   },
   "outputs": [],
   "source": [
    "data_path = os.getenv('DATA_PATH')\n",
    "file_path = lambda *args: os.path.join(data_path, project_folder, sub_category, work_bucket,\n",
    "                                       base_name, 'mathpix', *args)\n",
    "\n",
    "index_col = 'uuid'\n",
    "\n",
    "input_file = 'extracted_annotated_math.csv'\n",
    "output_file = 'extracted_annotated_math.csv'\n",
    "\n",
    "if not os.path.exists(file_path('math_images')):\n",
    "    os.makedirs(file_path('math_images'))"
   ]
  },
  {
   "cell_type": "code",
   "execution_count": 5,
   "id": "0e7ad934-558d-47b1-ba98-4be2ca9a110a",
   "metadata": {
    "papermill": {
     "duration": 0.027839,
     "end_time": "2023-05-31T17:47:35.609422",
     "exception": false,
     "start_time": "2023-05-31T17:47:35.581583",
     "status": "completed"
    },
    "tags": []
   },
   "outputs": [],
   "source": [
    "df = pd.read_csv(file_path(input_file), index_col=index_col)"
   ]
  },
  {
   "cell_type": "code",
   "execution_count": 12,
   "id": "43366c2e-ac89-4600-8e61-b2b3c466d9fe",
   "metadata": {
    "papermill": {
     "duration": 0.038316,
     "end_time": "2023-05-31T17:47:35.651142",
     "exception": false,
     "start_time": "2023-05-31T17:47:35.612826",
     "status": "completed"
    },
    "tags": []
   },
   "outputs": [],
   "source": [
    "def clean_math(math):\n",
    "    math = math.strip('\\n')\n",
    "    math = math.replace(\"\\\\begin{aligned}\", \"\")\n",
    "    math = math.replace(\"\\\\end{aligned}\", \"\")\n",
    "    # math = math.replace('& \\\\', '')\n",
    "    math = math.replace('\\\\[', '')\n",
    "    math = math.replace('\\\\]', '')\n",
    "    math = math.replace('\\\\\\\\', '\\\\')\n",
    "\n",
    "    math = math.strip().strip('\\n')\n",
    "    # math = math.replace('\\n', 'QQQ')\n",
    "    math = remove_text_command(math)\n",
    "    math = math.lstrip().rstrip().rstrip(',').rstrip('.')\n",
    "    math = re.sub(r'\\\\(?=\\b\\w\\b)', '', math)\n",
    "    ## TODO pass in extra/paper specific removals\n",
    "    if math.startswith(\"ansatz 1:\"):\n",
    "        math = math[len(\"ansatz 1:\"):]\n",
    "    \n",
    "    if math.startswith(\"{ ansatz 2: }\"):\n",
    "        math = math[len(\"{ ansatz 2: }\"):]\n",
    "        \n",
    "    math = math.replace('$', '') \n",
    "    return math\n",
    "\n",
    "def remove_text_command(math):\n",
    "    return re.sub(r'\\\\text\\{[^}]*\\}', '', math).replace('\\\\text', '').replace('&', '')\n",
    "\n",
    "def fallback_img(math, image_name, image_title=None, dpi=300, fig_width=1, fig_height=1):\n",
    "    math = LatexNodes2Text().latex_to_text(math)\n",
    "    maths = math.split('\\n')\n",
    "    \n",
    "    fig = Figure(figsize=(fig_width, fig_height))\n",
    "    FigureCanvas(fig)\n",
    "    ax = fig.subplots(1,1)\n",
    "    \n",
    "    for index, math_piece in enumerate(maths):\n",
    "        math_piece = math_piece.rstrip('\\\\')\n",
    "        offset = 0.5 - index\n",
    "        if len(math_piece) > 0:\n",
    "            ax.text(0.5, offset, f\"${math_piece}$\", size=30, va='center', ha='center')\n",
    "    if image_title != None:\n",
    "        ax.text(0.5, offset - 1, image_title, size=30, va='center', ha='center')\n",
    "    ax.axis('off')\n",
    "    fig.savefig(file_path('math_images', image_name), dpi=dpi, bbox_inches='tight')\n",
    "    \n",
    "    return math\n",
    "\n",
    "def latex_to_img(row, dpi=300, fig_width=1, fig_height=1):\n",
    "    paper_annotation = row['paper_annotation'].replace('(', '').replace(')', '')\n",
    "    image_name = f'{paper_annotation}_{row.name}.png'\n",
    "    display_image_name = f'display_{paper_annotation}_{row.name}.png'\n",
    "    image_title = f\"{row['paper_annotation']} - {human_title}\"\n",
    "    \n",
    "    math = clean_math(row['math'])\n",
    "    maths = math.split('\\n')\n",
    "    \n",
    "    fig = Figure(figsize=(fig_width, fig_height))\n",
    "    FigureCanvas(fig)\n",
    "    ax = fig.subplots(1,1)\n",
    "    try:\n",
    "        for index, math_piece in enumerate(maths):\n",
    "            math_piece = math_piece.rstrip('\\\\')\n",
    "            if len(math_piece) > 0:\n",
    "                ax.text(0.5, 0.5 - index, f\"${math_piece}$\", size=30, va='center', ha='center')\n",
    "        ax.axis('off')\n",
    "        fig.savefig(file_path('math_images', image_name), dpi=dpi, bbox_inches='tight')\n",
    "    except Exception as e:\n",
    "        print(e)\n",
    "        print(math)\n",
    "        math = fallback_img(math, image_name, None, dpi, fig_width, fig_height)\n",
    "\n",
    "\n",
    "    fig = Figure(figsize=(fig_width, fig_height))\n",
    "    FigureCanvas(fig)\n",
    "    ax = fig.subplots(1,1)\n",
    "    try:\n",
    "        for index, math_piece in enumerate(maths):\n",
    "            math_piece = math_piece.rstrip('\\\\')\n",
    "            offset = 0.5 - index\n",
    "            if len(math_piece) > 0:\n",
    "                ax.text(0.5, offset, f\"${math_piece}$\", size=30, va='center', ha='center')\n",
    "        ax.text(0.5, offset - 1, image_title, size=30, va='center', ha='center')\n",
    "        ax.axis('off')\n",
    "        fig.savefig(file_path('math_images', display_image_name), dpi=dpi, bbox_inches='tight')\n",
    "    except Exception as e:\n",
    "        print(e)\n",
    "        print(math)\n",
    "        math = fallback_img(math, display_image_name, image_title, dpi, fig_width, fig_height)\n",
    "\n",
    "    return math, image_name, display_image_name"
   ]
  },
  {
   "cell_type": "code",
   "execution_count": 13,
   "id": "ceaed576-9879-4e5b-bac1-551e10acbb93",
   "metadata": {
    "tags": []
   },
   "outputs": [
    {
     "name": "stdout",
     "output_type": "stream",
     "text": [
      "\n",
      "A=\\left[\\begin{array}{cccccc}\n",
      "        ^\n",
      "ParseSyntaxException: Expected '\\\\right', found '\\'  (at char 8), (line:1, col:9)\n",
      "A=\\left[\\begin{array}{cccccc}\n",
      "-D F-2 \\gamma     \\\n",
      "-2 \\gamma  -D F-3 \\gamma     \\\n",
      "\\vdots  -2 \\gamma  \\ddots   0  \\\n",
      "\\vdots  \\vdots  \\ddots  \\ddots   \\\n",
      "\\vdots  \\vdots  \\ddots  \\ddots  -D F-(L-1) \\gamma \\\n",
      "-2 \\gamma  \\vdots  \\cdots  \\cdots  -2 D  -D F-\\gamma L\n",
      "\\end{array}\\right], \\quad \\overrightarrow{g(t)}=\\left[2 \\gamma \\eta(t)+2 \\gamma U_{L}(t)\\right] \\mathbf{1}\n",
      "\n",
      "A=\\left[\\begin{array}{cccccc}\n",
      "        ^\n",
      "ParseSyntaxException: Expected '\\\\right', found '\\'  (at char 8), (line:1, col:9)\n",
      "A=\\left[\\begin{array}{cccccc}\n",
      "-D F-2 \\gamma     \\\n",
      "-2 \\gamma  -D F-3 \\gamma     \\\n",
      "\\vdots  -2 \\gamma  \\ddots   0  \\\n",
      "\\vdots  \\vdots  \\ddots  \\ddots   \\\n",
      "\\vdots  \\vdots  \\ddots  \\ddots  -D F-(L-1) \\gamma \\\n",
      "-2 \\gamma  \\vdots  \\cdots  \\cdots  -2 D  -D F-\\gamma L\n",
      "\\end{array}\\right], \\quad \\overrightarrow{g(t)}=\\left[2 \\gamma \\eta(t)+2 \\gamma U_{L}(t)\\right] \\mathbf{1}\n"
     ]
    }
   ],
   "source": [
    "df[['clean_math', 'math_image', 'display_math_image']]  = df.apply(lambda row: latex_to_img(row), axis=1, result_type='expand')"
   ]
  },
  {
   "cell_type": "code",
   "execution_count": 26,
   "id": "21aeecc7-78fb-438c-b38e-f6be87c7ac1c",
   "metadata": {
    "tags": []
   },
   "outputs": [
    {
     "name": "stdout",
     "output_type": "stream",
     "text": [
      "\n",
      "A=\\left[\\begin{array}{cccccc}\n",
      "        ^\n",
      "ParseSyntaxException: Expected '\\\\right', found '\\'  (at char 8), (line:1, col:9)\n",
      "A=\\left[\\begin{array}{cccccc}\n",
      "-D F-2 \\gamma     \\\n",
      "-2 \\gamma  -D F-3 \\gamma     \\\n",
      "\\vdots  -2 \\gamma  \\ddots   0  \\\n",
      "\\vdots  \\vdots  \\ddots  \\ddots   \\\n",
      "\\vdots  \\vdots  \\ddots  \\ddots  -D F-(L-1) \\gamma \\\n",
      "-2 \\gamma  \\vdots  \\cdots  \\cdots  -2 D  -D F-\\gamma L\n",
      "\\end{array}\\right], \\quad \\overrightarrow{g(t)}=\\left[2 \\gamma \\eta(t)+2 \\gamma U_{L}(t)\\right] \\mathbf{1}\n",
      "\n",
      "A=\\left[\\begin{array}{cccccc}\n",
      "        ^\n",
      "ParseSyntaxException: Expected '\\\\right', found '\\'  (at char 8), (line:1, col:9)\n",
      "A=\\left[\\begin{array}{cccccc}\n",
      "-D F-2 \\gamma     \\\n",
      "-2 \\gamma  -D F-3 \\gamma     \\\n",
      "\\vdots  -2 \\gamma  \\ddots   0  \\\n",
      "\\vdots  \\vdots  \\ddots  \\ddots   \\\n",
      "\\vdots  \\vdots  \\ddots  \\ddots  -D F-(L-1) \\gamma \\\n",
      "-2 \\gamma  \\vdots  \\cdots  \\cdots  -2 D  -D F-\\gamma L\n",
      "\\end{array}\\right], \\quad \\overrightarrow{g(t)}=\\left[2 \\gamma \\eta(t)+2 \\gamma U_{L}(t)\\right] \\mathbf{1}\n"
     ]
    },
    {
     "data": {
      "text/plain": [
       "('A=\\\\left[\\\\begin{array}{cccccc}\\n-D F-2 \\\\gamma     \\\\\\n-2 \\\\gamma  -D F-3 \\\\gamma     \\\\\\n\\\\vdots  -2 \\\\gamma  \\\\ddots   0  \\\\\\n\\\\vdots  \\\\vdots  \\\\ddots  \\\\ddots   \\\\\\n\\\\vdots  \\\\vdots  \\\\ddots  \\\\ddots  -D F-(L-1) \\\\gamma \\\\\\n-2 \\\\gamma  \\\\vdots  \\\\cdots  \\\\cdots  -2 D  -D F-\\\\gamma L\\n\\\\end{array}\\\\right], \\\\quad \\\\overrightarrow{g(t)}=\\\\left[2 \\\\gamma \\\\eta(t)+2 \\\\gamma U_{L}(t)\\\\right] \\\\mathbf{1}',\n",
       " 'A.5_5d4a050a-c74a-4849-81f1-28b00b559a0b.png',\n",
       " 'display_A.5_5d4a050a-c74a-4849-81f1-28b00b559a0b.png')"
      ]
     },
     "execution_count": 26,
     "metadata": {},
     "output_type": "execute_result"
    }
   ],
   "source": [
    "latex_to_img(df.iloc[24])"
   ]
  },
  {
   "cell_type": "code",
   "execution_count": 25,
   "id": "f04bae93-7179-407e-832b-16460fd966ac",
   "metadata": {
    "tags": []
   },
   "outputs": [
    {
     "name": "stdout",
     "output_type": "stream",
     "text": [
      "False\n"
     ]
    },
    {
     "name": "stderr",
     "output_type": "stream",
     "text": [
      "/var/folders/7_/yy9g2__x67z57sxy1p8rztph0000gn/T/ipykernel_10638/114551389.py:18: UserWarning: Glyph 8942 (\\N{VERTICAL ELLIPSIS}) missing from current font.\n",
      "  fig.savefig(file_path('math_images', image_name), dpi=300, bbox_inches='tight')\n",
      "/var/folders/7_/yy9g2__x67z57sxy1p8rztph0000gn/T/ipykernel_10638/114551389.py:18: UserWarning: Glyph 8945 (\\N{DOWN RIGHT DIAGONAL ELLIPSIS}) missing from current font.\n",
      "  fig.savefig(file_path('math_images', image_name), dpi=300, bbox_inches='tight')\n",
      "/var/folders/7_/yy9g2__x67z57sxy1p8rztph0000gn/T/ipykernel_10638/114551389.py:18: UserWarning: Glyph 8943 (\\N{MIDLINE HORIZONTAL ELLIPSIS}) missing from current font.\n",
      "  fig.savefig(file_path('math_images', image_name), dpi=300, bbox_inches='tight')\n"
     ]
    }
   ],
   "source": [
    "row = df.iloc[24]\n",
    "math = row['math']\n",
    "image_title = f\"{row['paper_annotation']} - {human_title}\"\n",
    "image_name = 'A.5_5d4a050a-c74a-4849-81f1-28b00b559a0b.png'\n",
    "math = LatexNodes2Text().latex_to_text(math)\n",
    "math = math.replace('\\n', '\\\\\\\\')\n",
    "                    \n",
    "print('\\n' in math)\n",
    "\n",
    "fig = Figure(figsize=(1, 1))\n",
    "FigureCanvas(fig)\n",
    "ax = fig.subplots(1,1)\n",
    "\n",
    "ax.text(0.5, 0.5, f\"${math}$\", size=30, va='center', ha='center')\n",
    "if image_title != None:\n",
    "    ax.text(0.5, offset - 1, image_title, size=30, va='center', ha='center')\n",
    "ax.axis('off')\n",
    "fig.savefig(file_path('math_images', image_name), dpi=300, bbox_inches='tight')"
   ]
  },
  {
   "cell_type": "code",
   "execution_count": null,
   "id": "a648cb24-2866-43e4-846a-c359ad038673",
   "metadata": {
    "tags": []
   },
   "outputs": [],
   "source": [
    "# df.iloc[24:25].apply(lambda row: latex_to_img(row), axis=1)"
   ]
  },
  {
   "cell_type": "code",
   "execution_count": null,
   "id": "6549799a-a1a0-4492-ad48-3f5219f0c066",
   "metadata": {
    "tags": []
   },
   "outputs": [],
   "source": [
    "# def fallback_img(math, dpi=300, fig_width=1, fig_height=1):\n",
    "#     math = LatexNodes2Text().latex_to_text(latex_string)\n",
    "#     maths = math.split('\\n')\n",
    "    \n",
    "#     fig = Figure(figsize=(fig_width, fig_height))\n",
    "#     FigureCanvas(fig)\n",
    "#     ax = fig.subplots(1,1)\n",
    "    \n",
    "#     for index, math_piece in enumerate(maths):\n",
    "#         math_piece = math_piece.rstrip('\\\\')\n",
    "#         offset = 0.5 - index\n",
    "#         if len(math_piece) > 0:\n",
    "#             ax.text(0.5, offset, f\"${math_piece}$\", size=30, va='center', ha='center')\n",
    "#     # ax.text(0.5, offset - 1, f\"{row['paper_annotation']} - {human_title}\", size=30, va='center', ha='center')\n",
    "#     ax.axis('off')\n",
    "#     fig.savefig('test.png', dpi=dpi, bbox_inches='tight')\n",
    "    \n",
    "# latex_string = r\"\"\"\n",
    "# A=\\left[\\begin{array}{cccccc}\n",
    "# -D F-2 \\gamma & & & & \\\\\n",
    "# -2 \\gamma & -D F-3 \\gamma & & & & \\\\\n",
    "# \\vdots & -2 \\gamma & \\ddots & & 0 & \\\\\n",
    "# \\vdots & \\vdots & \\ddots & \\ddots & & \\\\\n",
    "# \\vdots & \\vdots & \\ddots & \\ddots & -D F-(L-1) \\gamma \\\\\n",
    "# -2 \\gamma & \\vdots & \\cdots & \\cdots & -2 D & -D F-\\gamma L\n",
    "# \\end{array}\\right], \\quad \\overrightarrow{g(t)}=\\left[2 \\gamma \\eta(t)+2 \\gamma U_{L}(t)\\right] \\mathbf{1}\n",
    "# \"\"\"\n",
    "\n",
    "# # Convert the LaTeX to a matplotlib-friendly format\n",
    "\n",
    "# fallback_img(math)"
   ]
  },
  {
   "cell_type": "code",
   "execution_count": null,
   "id": "bd912a1e-0d5f-4065-99b2-4cfef21c6c0e",
   "metadata": {
    "tags": []
   },
   "outputs": [],
   "source": [
    "# math = \"\"\"A=\\left[\\begin{array}{cccccc}\n",
    "# -D F-2 \\gamma & & & & \\\\\n",
    "# -2 \\gamma & -D F-3 \\gamma & & & & \\\\\n",
    "# \\vdots & -2 \\gamma & \\ddots & & 0 & \\\\\n",
    "# \\vdots & \\vdots & \\ddots & \\ddots & & \\\\\n",
    "# \\vdots & \\vdots & \\ddots & \\ddots & -D F-(L-1) \\gamma \\\\\n",
    "# -2 \\gamma & \\vdots & \\cdots & \\cdots & -2 D & -D F-\\gamma L\n",
    "# \\end{array}\\right], \\quad \\overrightarrow{g(t)}=\\left[2 \\gamma \\eta(t)+2 \\gamma U_{L}(t)\\right] \\mathbf{1}\"\"\"\n",
    "\n",
    "# # maths = math.split('\\n')\n",
    "\n",
    "# fig = Figure(figsize=(1, 1))\n",
    "# FigureCanvas(fig)\n",
    "# ax = fig.subplots(1,1)\n",
    "\n",
    "# # for index, math_piece in enumerate(maths):\n",
    "# #     # math_piece = math_piece.rstrip('\\\\')\n",
    "# #     offset = 0.5 - index\n",
    "# #     if len(math_piece) > 0:\n",
    "# ax.text(0.5, 0.5, f\"${math}$\", size=30, va='center', ha='center')\n",
    "# ax.axis('off')\n",
    "# fig.savefig('test.png', dpi=300, bbox_inches='tight')"
   ]
  },
  {
   "cell_type": "code",
   "execution_count": null,
   "id": "8f4a4d14-7c56-41aa-af2b-2bf07bd2ed94",
   "metadata": {
    "papermill": {
     "duration": 14.595019,
     "end_time": "2023-05-31T17:47:50.249422",
     "exception": false,
     "start_time": "2023-05-31T17:47:35.654403",
     "status": "completed"
    },
    "tags": []
   },
   "outputs": [],
   "source": [
    "# df[33:34].apply(lambda row: latex_to_img(row), axis=1)\n",
    "# df[0:1].apply(lambda row: latex_to_img(row), axis=1)\n",
    "# df[17:18].apply(lambda row: latex_to_img(row), axis=1)\n",
    "# df[20:21].apply(lambda row: latex_to_img(row), axis=1)\n",
    "# df[5:6].apply(lambda row: latex_to_img(row), axis=1)\n",
    "# df[['clean_math', 'math_image', 'display_math_image']]  = df.apply(lambda row: latex_to_img(row), axis=1, result_type='expand')"
   ]
  },
  {
   "cell_type": "code",
   "execution_count": null,
   "id": "e7d18aa2-5cca-454f-af68-86992e78d4c9",
   "metadata": {
    "papermill": {
     "duration": 0.026322,
     "end_time": "2023-05-31T17:47:50.278282",
     "exception": false,
     "start_time": "2023-05-31T17:47:50.251960",
     "status": "completed"
    },
    "tags": []
   },
   "outputs": [],
   "source": [
    "df.to_csv(file_path(input_file))"
   ]
  },
  {
   "cell_type": "code",
   "execution_count": null,
   "id": "0521c0aa-29ba-4c53-92f6-a7c90757c52f",
   "metadata": {
    "papermill": {
     "duration": 0.041991,
     "end_time": "2023-05-31T17:47:50.323564",
     "exception": false,
     "start_time": "2023-05-31T17:47:50.281573",
     "status": "completed"
    },
    "tags": []
   },
   "outputs": [],
   "source": [
    "sb.glue('status', 'completed')"
   ]
  },
  {
   "cell_type": "code",
   "execution_count": null,
   "id": "e87fa7c2-359a-41cb-a125-5e4f7a66961b",
   "metadata": {
    "papermill": {
     "duration": 0.038983,
     "end_time": "2023-05-31T17:47:50.366720",
     "exception": false,
     "start_time": "2023-05-31T17:47:50.327737",
     "status": "completed"
    },
    "tags": []
   },
   "outputs": [],
   "source": [
    "# math = clean_math(df.iloc[16]['math'])\n",
    "\n",
    "# dpi=300; fig_width=1; fig_height=1\n",
    "\n",
    "# fig = Figure(figsize=(fig_width, fig_height))\n",
    "# FigureCanvas(fig)\n",
    "# ax = fig.subplots(1,1)\n",
    "\n",
    "# ax.text(0.5, 0.5, f'${math}$ (3)', size=30, va='center', ha='center')\n",
    "\n",
    "# ax.axis('off')\n",
    "\n",
    "# fig.savefig('test.png', dpi=dpi, bbox_inches='tight')\n",
    "# Image(filename='test.png')"
   ]
  },
  {
   "cell_type": "code",
   "execution_count": null,
   "id": "4ec0cf19-06dc-4634-9547-522860e3b771",
   "metadata": {
    "papermill": {
     "duration": 0.029928,
     "end_time": "2023-05-31T17:47:50.400213",
     "exception": false,
     "start_time": "2023-05-31T17:47:50.370285",
     "status": "completed"
    },
    "tags": []
   },
   "outputs": [],
   "source": [
    "# math = df.iloc[0]['math']\n",
    "# pattern_a = r'\\\\\\\\\\n|\\\\\\\\mathrm'\n",
    "# math = re.sub(pattern_a, '', math)\n",
    "# math"
   ]
  },
  {
   "cell_type": "code",
   "execution_count": null,
   "id": "307660b3-646d-4e85-a5ed-376097cd9cbd",
   "metadata": {
    "papermill": {
     "duration": 0.033877,
     "end_time": "2023-05-31T17:47:50.438290",
     "exception": false,
     "start_time": "2023-05-31T17:47:50.404413",
     "status": "completed"
    },
    "tags": []
   },
   "outputs": [],
   "source": [
    "# s = '\\\\[\\n\\\\mathrm{d} s^{2}=-f(\\\\eta) \\\\mathrm{d} t^{2}+\\\\mathrm{d} \\\\eta^{2}+g(\\\\eta)\\\\left(\\\\mathrm{d} x_{1}^{2}+\\\\cdots+\\\\mathrm{d} x_{d-1}^{2}\\\\right)\\n\\\\]'\n",
    "# lines = s.split('\\n')\n",
    "\n",
    "# # Remove '\\\\[' from the first line and '\\\\mathrm' from the second line\n",
    "# lines[0] = lines[0].replace('\\\\[', '', 1)\n",
    "# lines[1] = lines[1].replace('\\\\mathrm', '', 1)\n",
    "\n",
    "# # Remove '\\\\]' from the last line\n",
    "# lines[-1] = lines[-1].replace('\\\\]', '', 1)\n",
    "\n",
    "# s = '\\n'.join(lines)\n",
    "# s.strip()"
   ]
  },
  {
   "cell_type": "code",
   "execution_count": null,
   "id": "7d2ebb78-45bf-459f-ace7-421f4b5e800f",
   "metadata": {
    "papermill": {
     "duration": 0.025529,
     "end_time": "2023-05-31T17:47:50.467625",
     "exception": false,
     "start_time": "2023-05-31T17:47:50.442096",
     "status": "completed"
    },
    "tags": []
   },
   "outputs": [],
   "source": [
    "# s = '\\\\[\\n\\\\mathrm{d} s^{2}=-f(\\\\eta) \\\\mathrm{d} t^{2}+\\\\mathrm{d} \\\\eta^{2}+g(\\\\eta)\\\\left(\\\\mathrm{d} x_{1}^{2}+\\\\cdots+\\\\mathrm{d} x_{d-1}^{2}\\\\right)\\n\\\\]'\n",
    "# # pattern_a = r'\\\\\\[\\n\\\\mathrm'\n",
    "# pattern_a = r'^\\\\\\[\\n\\\\mathrm'\n",
    "# s = re.sub(pattern_a, '', s)\n",
    "# # pattern_b = r'\\n\\\\\\]'\n",
    "# # s = re.sub(pattern_b, '', s)\n",
    "# print(s)"
   ]
  },
  {
   "cell_type": "code",
   "execution_count": null,
   "id": "fc9ef762-1144-476b-964e-ea366218f99a",
   "metadata": {
    "papermill": {
     "duration": 0.003337,
     "end_time": "2023-05-31T17:47:50.474262",
     "exception": false,
     "start_time": "2023-05-31T17:47:50.470925",
     "status": "completed"
    },
    "tags": []
   },
   "outputs": [],
   "source": []
  }
 ],
 "metadata": {
  "kernelspec": {
   "display_name": "Python 3 (ipykernel)",
   "language": "python",
   "name": "python3"
  },
  "language_info": {
   "codemirror_mode": {
    "name": "ipython",
    "version": 3
   },
   "file_extension": ".py",
   "mimetype": "text/x-python",
   "name": "python",
   "nbconvert_exporter": "python",
   "pygments_lexer": "ipython3",
   "version": "3.11.0"
  },
  "papermill": {
   "default_parameters": {},
   "duration": 18.063097,
   "end_time": "2023-05-31T17:47:50.897421",
   "environment_variables": {},
   "exception": null,
   "input_path": "05b_clean_create_math_images.ipynb",
   "output_path": "/Volumes/Storage/data/diygenomics-projects/math/transposon/2018_Banuelos-Sindi_Modeling_transposable_element_dynamics/05b_clean_create_math_images.ipynb",
   "parameters": {
    "base_name": "2018_Banuelos-Sindi_Modeling_transposable_element_dynamics",
    "external_id": "2023_05_31_9a687aaa1b5475a18ea0g",
    "human_title": "2018 Banuelos-Sindi Modeling",
    "project_folder": "diygenomics-projects",
    "sub_category": "math",
    "work_bucket": "transposon"
   },
   "start_time": "2023-05-31T17:47:32.834324",
   "version": "2.4.0"
  }
 },
 "nbformat": 4,
 "nbformat_minor": 5
}
