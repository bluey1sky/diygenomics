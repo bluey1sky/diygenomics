{
 "cells": [
  {
   "cell_type": "code",
   "execution_count": null,
   "id": "9fbb753b-45d0-438b-b3bd-6c8976fcdbc9",
   "metadata": {
    "tags": []
   },
   "outputs": [],
   "source": [
    "import requests\n",
    "import os\n",
    "import json\n",
    "\n",
    "app_id = os.getenv('MATHPIX_APP_ID')\n",
    "app_key = os.getenv('MATHPIX_APP_KEY')"
   ]
  },
  {
   "cell_type": "code",
   "execution_count": null,
   "id": "ef1b4b04-e4ca-4ce1-9a09-9f50924e3c19",
   "metadata": {},
   "outputs": [],
   "source": [
    "r = requests.post(\"https://api.mathpix.com/v3/text\",\n",
    "    files={\"file\": open(\"test.jpg\",\"rb\")},\n",
    "    data={\n",
    "        \"formats\": [\"text\", \"html\"],\n",
    "        \"data_options\": json.dumps({\n",
    "            \"include_tsv\": True,\n",
    "            \"include_table_html\": True,\n",
    "        }),\n",
    "        \"options_json\": json.dumps({\n",
    "            \"math_inline_delimiters\": [\"$\", \"$\"],\n",
    "            \"rm_spaces\": True,\n",
    "            \"enable_tables_fallback\": True\n",
    "        })\n",
    "    },\n",
    "    headers={\n",
    "        \"app_id\": app_id,\n",
    "        \"app_key\": app_key\n",
    "    }\n",
    ")\n",
    "print(json.dumps(r.json(), indent=4, sort_keys=True))"
   ]
  },
  {
   "cell_type": "code",
   "execution_count": null,
   "id": "49f1c9be-aefa-4202-a7f0-f1f4c03bea22",
   "metadata": {},
   "outputs": [],
   "source": []
  }
 ],
 "metadata": {
  "kernelspec": {
   "display_name": "Python 3 (ipykernel)",
   "language": "python",
   "name": "python3"
  },
  "language_info": {
   "codemirror_mode": {
    "name": "ipython",
    "version": 3
   },
   "file_extension": ".py",
   "mimetype": "text/x-python",
   "name": "python",
   "nbconvert_exporter": "python",
   "pygments_lexer": "ipython3",
   "version": "3.11.0"
  }
 },
 "nbformat": 4,
 "nbformat_minor": 5
}
