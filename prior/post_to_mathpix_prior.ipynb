{
 "cells": [
  {
   "cell_type": "code",
   "execution_count": null,
   "id": "96b99b0d-8b03-4424-b6d0-918d87b0621a",
   "metadata": {
    "tags": []
   },
   "outputs": [],
   "source": [
    "import base64\n",
    "import json\n",
    "import os\n",
    "import requests"
   ]
  },
  {
   "cell_type": "code",
   "execution_count": null,
   "id": "e992942a-1d70-4be3-a506-0e8095d983bc",
   "metadata": {
    "tags": []
   },
   "outputs": [],
   "source": [
    "product_name = 'mel_swan'\n",
    "project_name = 'diygenomics'\n",
    "\n",
    "data_path = os.getenv('DATA_PATH')\n",
    "file_path = lambda *args: os.path.join(data_path, 'eric-client-projects', product_name, project_name, 'experiment-a', *args)\n",
    "\n",
    "current_file_name = '2021_Wightman-Posthuma_A_genomewide_association_study_with_112_563_individuals_identifies_new_risk_loci_for_Alzheimers_disease.pdf'\n",
    "\n",
    "endpoint = 'https://api.mathpix.com/v3/pdf'\n",
    "app_id = os.getenv('MATHPIX_APP_ID')\n",
    "app_key = os.getenv('MATHPIX_APP_KEY')"
   ]
  },
  {
   "cell_type": "code",
   "execution_count": null,
   "id": "693e9653-8eb5-4ff8-99f9-8578950d404c",
   "metadata": {
    "tags": []
   },
   "outputs": [],
   "source": [
    "r = requests.post(\"https://api.mathpix.com/v3/pdf\",\n",
    "    json={\n",
    "        \"url\": pdf_url,\n",
    "        \"conversion_formats\": {\n",
    "            \"docx\": True,\n",
    "            \"tex.zip\": True\n",
    "        }\n",
    "    },\n",
    "    headers={\n",
    "        \"app_id\": app_id,\n",
    "        \"app_key\": app_key,\n",
    "        \"Content-type\": \"application/json\"\n",
    "    }\n",
    ")"
   ]
  },
  {
   "cell_type": "code",
   "execution_count": null,
   "id": "6f1d6b2e-feb8-4f5e-8ba0-d540c7e4fadd",
   "metadata": {
    "tags": []
   },
   "outputs": [],
   "source": [
    "print(json.dumps(r.json(), indent=4, sort_keys=True))"
   ]
  },
  {
   "cell_type": "code",
   "execution_count": null,
   "id": "4e1bf51d-4ade-48c8-b433-826ab6e0c54f",
   "metadata": {
    "tags": []
   },
   "outputs": [],
   "source": [
    "pdf_id = r.json()['pdf_id']"
   ]
  },
  {
   "cell_type": "code",
   "execution_count": null,
   "id": "742ad854-9c02-4438-a713-3c97fe36f682",
   "metadata": {
    "tags": []
   },
   "outputs": [],
   "source": [
    "# get mmd response\n",
    "url = \"https://api.mathpix.com/v3/pdf/\" + pdf_id + \".mmd\"\n",
    "response = requests.get(url, headers=headers)\n",
    "with open(pdf_id + \".mmd\", \"w\") as f:\n",
    "    f.write(response.text)\n",
    "\n",
    "# get docx response\n",
    "url = \"https://api.mathpix.com/v3/pdf/\" + pdf_id + \".docx\"\n",
    "response = requests.get(url, headers=headers)\n",
    "with open(pdf_id + \".docx\", \"wb\") as f:\n",
    "    f.write(response.content)\n",
    "\n",
    "# get LaTeX zip file\n",
    "url = \"https://api.mathpix.com/v3/pdf/\" + pdf_id + \".tex\"\n",
    "response = requests.get(url, headers=headers)\n",
    "with open(pdf_id + \".tex.zip\", \"wb\") as f:\n",
    "    f.write(response.content)\n",
    "\n",
    "# get HTML file\n",
    "url = \"https://api.mathpix.com/v3/pdf/\" + pdf_id + \".html\"\n",
    "response = requests.get(url, headers=headers)\n",
    "with open(pdf_id + \".html\", \"wb\") as f:\n",
    "    f.write(response.content)\n",
    "\n",
    "# get lines data\n",
    "url = \"https://api.mathpix.com/v3/pdf/\" + pdf_id + \".lines.json\"\n",
    "response = requests.get(url, headers=headers)\n",
    "with open(pdf_id + \".lines.json\", \"wb\") as f:\n",
    "    f.write(response.content)\n",
    "\n",
    "# get lines mmd json\n",
    "url = \"https://api.mathpix.com/v3/pdf/\" + pdf_id + \".lines.mmd.json\"\n",
    "response = requests.get(url, headers=headers)\n",
    "with open(pdf_id + \".lines.mmd.json\", \"wb\") as f:\n",
    "    f.write(response.content)"
   ]
  },
  {
   "cell_type": "code",
   "execution_count": null,
   "id": "f5d7ea25-96c4-48bf-b83e-6155803c9823",
   "metadata": {},
   "outputs": [],
   "source": [
    "# # Parse the JSON response\n",
    "# response_data = response.json()\n",
    "\n",
    "# # Extract the math formulas from the response\n",
    "# math_formulas = response_data['math']"
   ]
  }
 ],
 "metadata": {
  "kernelspec": {
   "display_name": "Python 3 (ipykernel)",
   "language": "python",
   "name": "python3"
  },
  "language_info": {
   "codemirror_mode": {
    "name": "ipython",
    "version": 3
   },
   "file_extension": ".py",
   "mimetype": "text/x-python",
   "name": "python",
   "nbconvert_exporter": "python",
   "pygments_lexer": "ipython3",
   "version": "3.11.0"
  }
 },
 "nbformat": 4,
 "nbformat_minor": 5
}
