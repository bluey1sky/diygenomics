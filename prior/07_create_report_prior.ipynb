{
 "cells": [
  {
   "cell_type": "code",
   "execution_count": null,
   "id": "07333587-6562-47a6-9bd6-3313550d3138",
   "metadata": {
    "tags": []
   },
   "outputs": [],
   "source": [
    "import ast\n",
    "import json\n",
    "import os\n",
    "import pandas as pd\n",
    "import uuid\n",
    "\n",
    "from docx import Document\n",
    "from docx.shared import Inches, RGBColor\n",
    "\n",
    "from io import StringIO\n",
    "\n",
    "from tqdm.notebook import tqdm_notebook\n",
    "tqdm_notebook().pandas()\n",
    "\n",
    "from pylatexenc.latex2text import LatexNodes2Text"
   ]
  },
  {
   "cell_type": "code",
   "execution_count": null,
   "id": "20dc02f2-8ce9-4202-a87d-e478be21d3da",
   "metadata": {
    "tags": []
   },
   "outputs": [],
   "source": [
    "original_file = '2021_Wightman-Posthuma_A_genomewide_association_study_with_112_563_individuals_identifies_new_risk_loci_for_Alzheimers_disease'\n",
    "external_id = '2023_05_02_27142069922ab9506d3dg'\n",
    "title = '2021 Wightman Posthuma'\n",
    "\n",
    "data_path = os.getenv('DATA_PATH')\n",
    "file_path = lambda *args: os.path.join(data_path, 'diygenomics-projects', 'experiment-a', \n",
    "                                       original_file, 'mathpix', *args)\n",
    "\n",
    "index_col = 'uuid'\n",
    "\n",
    "summary_file = 'summary_of_summaries'\n",
    "topic_file = 'topic_counts'\n",
    "image_results_file = 'image_results.csv'\n",
    "snps_file = f'gpt_snps_{external_id}.csv'"
   ]
  },
  {
   "cell_type": "code",
   "execution_count": null,
   "id": "9b7e77c2-7072-40fd-a9d6-465ff61ad7f6",
   "metadata": {
    "tags": []
   },
   "outputs": [],
   "source": [
    "df_image_results = pd.read_csv(file_path(external_id, image_results_file), index_col=index_col)"
   ]
  },
  {
   "cell_type": "code",
   "execution_count": null,
   "id": "15bb5090-9866-4841-98b6-5737e86b21cc",
   "metadata": {
    "tags": []
   },
   "outputs": [],
   "source": [
    "df_snps = pd.read_csv(file_path(snps_file), index_col=index_col)"
   ]
  },
  {
   "cell_type": "code",
   "execution_count": null,
   "id": "ab3cca0c-6a81-49f9-b4dc-b6900aee10c3",
   "metadata": {
    "tags": []
   },
   "outputs": [],
   "source": [
    "datatables = []\n",
    "asciimath = []\n",
    "additional_text = []\n",
    "\n",
    "for index, row in df_image_results.iterrows():\n",
    "    tsv_data = None\n",
    "    asciimath_data = None\n",
    "    mathpix_response = ast.literal_eval(row['mathpix_response'])\n",
    "    if 'data' in mathpix_response:\n",
    "        data = mathpix_response['data']\n",
    "        if len(data) > 0:\n",
    "            for image_details in data:\n",
    "                if image_details['type'] == 'tsv':\n",
    "                    tsv_data = image_details['value']\n",
    "                elif image_details['type'] == 'asciimath':\n",
    "                    asciimath_data = image_details['value']\n",
    "            if tsv_data:\n",
    "                df_image = pd.read_csv(StringIO(tsv_data), sep='\\t')\n",
    "                datatables.append(df_image)\n",
    "            elif asciimath_data:\n",
    "                asciimath.append(asciimath_data) \n",
    "        else:\n",
    "            additional_text.append(mathpix_response['text'])"
   ]
  },
  {
   "cell_type": "code",
   "execution_count": null,
   "id": "c7b1d0d8-0c46-475c-bf2d-47d5d4f602fe",
   "metadata": {
    "tags": []
   },
   "outputs": [],
   "source": [
    "# TODO discuss how this could be accomplished programatically\n",
    "# def fix_snps_table(df):\n",
    "#     for index, row in df.iterrows():\n",
    "#         df.at[index, 'P value'] = row['P value'].replace('xx', 'x')\n",
    "    \n",
    "#     return df\n",
    "\n",
    "# df_snps = fix_snps_table(datatables[1])\n",
    "\n",
    "# df_snps['uuid'] = [uuid.uuid4() for _ in range(len(df_snps))]\n",
    "# df_snps.set_index('uuid', inplace=True)\n",
    "\n",
    "# df_snps.to_csv(file_path('extracted_snps.csv'))"
   ]
  },
  {
   "cell_type": "code",
   "execution_count": null,
   "id": "4b8cb383-94f7-4bf8-b933-5526c7fc07cd",
   "metadata": {
    "tags": []
   },
   "outputs": [],
   "source": [
    "file_list = os.listdir(file_path('charts'))\n",
    "df_charts = pd.DataFrame({'filename': file_list})\n",
    "\n",
    "topics_files = df_charts[df_charts['filename'].str.startswith('topic_')]\n",
    "topics_files = topics_files[~topics_files['filename'].str.contains(topic_file)]\n",
    "topics_files = sorted(topics_files['filename'].tolist())"
   ]
  },
  {
   "cell_type": "code",
   "execution_count": null,
   "id": "55561a25-1c44-4210-88da-ece73f18df02",
   "metadata": {
    "tags": []
   },
   "outputs": [],
   "source": [
    "with open(file_path(f'{summary_file}.txt'), 'r') as file:\n",
    "    main_summary = file.read()"
   ]
  },
  {
   "cell_type": "code",
   "execution_count": null,
   "id": "0ee10c47-6f08-416e-819b-5c94214ae68a",
   "metadata": {
    "tags": []
   },
   "outputs": [],
   "source": [
    "document = Document()\n",
    "word_file = file_path('insights.docx')"
   ]
  },
  {
   "cell_type": "code",
   "execution_count": null,
   "id": "c061439e-0028-4f95-a681-a943079bdf7b",
   "metadata": {
    "tags": []
   },
   "outputs": [],
   "source": [
    "document.add_heading(f'Insights for {title}')\n",
    "document.add_heading('Summary', level=2)\n",
    "document.add_paragraph(main_summary)"
   ]
  },
  {
   "cell_type": "code",
   "execution_count": null,
   "id": "d47a7b25-61f5-45fc-a372-20a94954de0a",
   "metadata": {
    "tags": []
   },
   "outputs": [],
   "source": [
    "snps_containers = []\n",
    "relevant_containers = []\n",
    "\n",
    "for index, row in df_snps.iterrows():\n",
    "    if not pd.isna(row['snps']):\n",
    "        snps = ast.literal_eval(row['snps'])\n",
    "        if 'SNP_identifiers' in snps and len(snps['SNP_identifiers']) > 0:\n",
    "            snps_containers.append(snps['SNP_identifiers'])\n",
    "        if 'relevant_identifiers' in snps and len(snps['relevant_identifiers']) > 0:\n",
    "            relevant_containers.append(json.dumps(snps['relevant_identifiers'], indent=4))"
   ]
  },
  {
   "cell_type": "code",
   "execution_count": null,
   "id": "8dc76d38-7c1c-4885-9c02-71391536cd52",
   "metadata": {
    "tags": []
   },
   "outputs": [],
   "source": [
    "document.add_heading('Snps Identifiers', level=2)\n",
    "\n",
    "for snps_container in snps_containers:\n",
    "    for snps_identifier in snps_container:\n",
    "        paragraph = document.add_paragraph()\n",
    "        if type(snps_identifier) == str:\n",
    "            paragraph.add_run(snps_identifier + '\\n')\n",
    "        else:\n",
    "            for key, value in snps_identifier.items():\n",
    "                paragraph.add_run(key.capitalize() + ': ').bold = True\n",
    "                paragraph.add_run(value + '\\n')"
   ]
  },
  {
   "cell_type": "code",
   "execution_count": null,
   "id": "9059915b-d401-4975-8083-62dfc989dca4",
   "metadata": {
    "tags": []
   },
   "outputs": [],
   "source": [
    "def add_df_to_doc(current_df, document):\n",
    "    table = document.add_table(current_df.shape[0]+1, current_df.shape[1])\n",
    "    table.style = 'Table Grid'\n",
    "    \n",
    "    hdr_cells = table.rows[0].cells\n",
    "    for i in range(current_df.shape[1]):\n",
    "        hdr_cells[i].text = current_df.columns[i]\n",
    "        \n",
    "    for i in range(current_df.shape[0]):\n",
    "        row_cells = table.rows[i+1].cells\n",
    "        for j in range(current_df.shape[1]):\n",
    "            row_cells[j].text = str(current_df.values[i,j])"
   ]
  },
  {
   "cell_type": "code",
   "execution_count": null,
   "id": "a56639d6-bab1-41d7-a0b4-f0ae48e27a8d",
   "metadata": {
    "tags": []
   },
   "outputs": [],
   "source": [
    "datatables_sorted = sorted(datatables, key=lambda x: len(x), reverse=True)\n",
    "\n",
    "document.add_heading('Extracted Tables', level=2)\n",
    "\n",
    "for current_df in datatables_sorted:\n",
    "    current_df.rename(columns={col: '' if col.startswith('Unnamed') else col for col in current_df.columns}, inplace=True)\n",
    "    add_df_to_doc(current_df, document)\n",
    "    document.add_paragraph('', style='Normal')"
   ]
  },
  {
   "cell_type": "code",
   "execution_count": null,
   "id": "db30854a-2e4c-4fc8-bc0b-148439ff97b3",
   "metadata": {},
   "outputs": [],
   "source": [
    "document.add_heading('Relevant Identifiers', level=2)\n",
    "\n",
    "for sublist in relevant_containers:\n",
    "    sublist = ast.literal_eval(sublist)\n",
    "    if isinstance(sublist[0], dict):\n",
    "        for current_dict in sublist:\n",
    "            for key, value in current_dict.items():\n",
    "                document.add_paragraph(f\"{key.capitalize()}: {value}\")\n",
    "    else:\n",
    "        document.add_paragraph(' '.join(sublist))"
   ]
  },
  {
   "cell_type": "code",
   "execution_count": null,
   "id": "ffdceb15-17a7-4f20-b854-148bd89b8e21",
   "metadata": {
    "tags": []
   },
   "outputs": [],
   "source": [
    "# table = document.add_table(rows=4, cols=1)\n",
    "# p = table.rows[2].cells[0].paragraphs[0]\n",
    "# run = p.add_run('Topics')\n",
    "# run.bold = True\n",
    "# font = run.font\n",
    "# font.color.rgb = RGBColor(0x42, 0x24, 0xE9)\n",
    "# container = table.rows[3].cells[0].add_paragraph().add_run()\n",
    "# container.add_picture(file_path('charts', f'{topic_file}.png'), width=Inches(6.0))"
   ]
  },
  {
   "cell_type": "code",
   "execution_count": null,
   "id": "94b66e71-c84d-4574-b05e-c862666140d4",
   "metadata": {
    "tags": []
   },
   "outputs": [],
   "source": [
    "document.save(word_file) "
   ]
  },
  {
   "cell_type": "code",
   "execution_count": null,
   "id": "a3e66ec2-1cc3-4ece-9f75-0d794a7b063c",
   "metadata": {},
   "outputs": [],
   "source": []
  }
 ],
 "metadata": {
  "kernelspec": {
   "display_name": "Python 3 (ipykernel)",
   "language": "python",
   "name": "python3"
  },
  "language_info": {
   "codemirror_mode": {
    "name": "ipython",
    "version": 3
   },
   "file_extension": ".py",
   "mimetype": "text/x-python",
   "name": "python",
   "nbconvert_exporter": "python",
   "pygments_lexer": "ipython3",
   "version": "3.11.0"
  }
 },
 "nbformat": 4,
 "nbformat_minor": 5
}
