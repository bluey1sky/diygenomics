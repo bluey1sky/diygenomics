{
 "cells": [
  {
   "cell_type": "code",
   "execution_count": null,
   "id": "d070a4eb-6167-4e40-87b7-38e265776568",
   "metadata": {
    "tags": []
   },
   "outputs": [],
   "source": [
    "import altair as alt\n",
    "import pandas as pd\n",
    "\n",
    "source = pd.DataFrame.from_records(\n",
    "    [{'a': 1, 'b': 1, 'image': 'https://altair-viz.github.io/_static/altair-logo-light.png'},\n",
    "     {'a': 2, 'b': 2, 'image': 'https://avatars.githubusercontent.com/u/11796929?s=200&v=4'}]\n",
    ")\n",
    "alt.Chart(source).mark_circle(size=200).encode(\n",
    "    x='a',\n",
    "    y='b',\n",
    "    tooltip=['image']  # Must be a list for the image to render\n",
    ")"
   ]
  },
  {
   "cell_type": "code",
   "execution_count": null,
   "id": "21b76cc1-81ad-4753-a014-c30491fd8845",
   "metadata": {
    "tags": []
   },
   "outputs": [],
   "source": [
    "import altair as alt\n",
    "import pandas as pd\n",
    "\n",
    "# Create a sample dataframe\n",
    "data = pd.DataFrame({\n",
    "    'x': [1, 2, 3, 4, 5],\n",
    "    'y': [1, 4, 9, 16, 25]\n",
    "})\n",
    "\n",
    "# Define the Altair chart\n",
    "chart = alt.Chart(data).mark_point().encode(\n",
    "    x='x',\n",
    "    y='y',\n",
    "    text=alt.Text('latex(y)', format='.0f')\n",
    ").properties(\n",
    "    title=r'$y = x^2$'\n",
    ")\n",
    "\n",
    "# Display the chart\n",
    "chart.show()"
   ]
  },
  {
   "cell_type": "code",
   "execution_count": null,
   "id": "e4ddbf1a-e975-4d1d-a5cf-12682c98f35e",
   "metadata": {
    "tags": []
   },
   "outputs": [],
   "source": [
    "local_image = '/Volumes/Storage/data/diygenomics-projects/math/AdS-CFT/2021_Hashimoto_Neural_ODE_and_holographic_QCD_PUB/mathpix/math_images/1_6998d986-fca2-4650-a4bd-4656e657fa72.png'"
   ]
  },
  {
   "cell_type": "code",
   "execution_count": null,
   "id": "df1af780-31f2-459b-a497-9012a29f112d",
   "metadata": {
    "tags": []
   },
   "outputs": [],
   "source": [
    "from PIL import Image\n",
    "from io import BytesIO\n",
    "import base64\n",
    "\n",
    "def image_formatter2(im):\n",
    "    with BytesIO() as buffer:\n",
    "        im.save(buffer, 'png')\n",
    "        data = base64.encodebytes(buffer.getvalue()).decode('utf-8')\n",
    "    \n",
    "    return f\"data:image/png;base64,{data}\" # <--------- this prefix is crucial\n",
    "    \n",
    "\n",
    "img = Image.open(local_image)\n",
    "scale_factor = 0.5\n",
    "new_size = (int(img.width * scale_factor), int(img.height * scale_factor))\n",
    "img_resized = img.resize(new_size, Image.ANTIALIAS)\n",
    "\n",
    "source = pd.DataFrame.from_records(\n",
    "    [{'a': 1, 'b': 1, 'image': image_formatter2(img)},\n",
    "     {'a': 2, 'b': 2, 'image': 'https://avatars.githubusercontent.com/u/11796929?s=200&v=4'}]\n",
    ")\n",
    "chart = alt.Chart(source).mark_circle(size=200).encode(\n",
    "    x='a',\n",
    "    y='b',\n",
    "    tooltip=['image']  # Must be a list for the image to render\n",
    ")\n",
    "\n",
    "chart.show()"
   ]
  },
  {
   "cell_type": "code",
   "execution_count": null,
   "id": "924a92bc-6246-4f40-af1d-9ca4d979fe51",
   "metadata": {
    "tags": []
   },
   "outputs": [],
   "source": [
    "# source.iloc[0].image"
   ]
  },
  {
   "cell_type": "code",
   "execution_count": null,
   "id": "52b68a08-e39a-4049-8b52-040e9bed82de",
   "metadata": {
    "tags": []
   },
   "outputs": [],
   "source": [
    "import altair as alt\n",
    "from PIL import Image\n",
    "\n",
    "# Load the image\n",
    "image_path = local_image  # Replace with your image path\n",
    "image = Image.open(image_path)\n",
    "\n",
    "# Define the text\n",
    "text = \"Example text\"\n",
    "\n",
    "# Create the Altair chart\n",
    "chart = alt.Chart().mark_image(\n",
    "    width=300,  # Adjust the width and height as per your requirement\n",
    "    height=300\n",
    ").encode(\n",
    "    alt.X().value(0),\n",
    "    alt.Y().value(0),\n",
    "    url=alt.UrlData(image_url=image_path),\n",
    ")\n",
    "\n",
    "# Add the text as a title\n",
    "title = alt.Chart({'text': [text]}).mark_text(\n",
    "    fontSize=18,  # Adjust the font size as per your requirement\n",
    "    align='left',\n",
    "    baseline='middle',\n",
    ").encode(\n",
    "    text='text:N'\n",
    ")\n",
    "\n",
    "# Combine the image and text\n",
    "final_chart = chart + title\n",
    "\n",
    "# Display the chart\n",
    "final_chart.show()"
   ]
  },
  {
   "cell_type": "code",
   "execution_count": null,
   "id": "3bd81fa2-e141-4f66-8bea-46a11671d8e4",
   "metadata": {
    "tags": []
   },
   "outputs": [],
   "source": [
    "import altair as alt\n",
    "import pandas as pd\n",
    "from vega_datasets import data\n",
    "\n",
    "def get_data():\n",
    "    source = data.stocks()\n",
    "    source = source[source.date.gt(\"2004-01-01\")]\n",
    "    return source\n",
    "\n",
    "source = get_data()\n",
    "\n",
    "def get_chart(data):\n",
    "    hover = alt.selection_single(\n",
    "        fields=[\"date\"],\n",
    "        nearest=True,\n",
    "        on=\"mouseover\",\n",
    "        empty=\"none\",\n",
    "    )\n",
    "\n",
    "    lines = (\n",
    "        alt.Chart(data, title=\"Evolution of stock prices\")\n",
    "        .mark_line()\n",
    "        .encode(\n",
    "            x=\"date\",\n",
    "            y=\"price\",\n",
    "            color=\"symbol\",\n",
    "        )\n",
    "    )\n",
    "\n",
    "    points = lines.transform_filter(hover).mark_circle(size=65)\n",
    "\n",
    "    tooltips = (\n",
    "        alt.Chart(data)\n",
    "        .mark_rule()\n",
    "        .encode(\n",
    "            x=\"yearmonthdate(date)\",\n",
    "            y=\"price\",\n",
    "            opacity=alt.condition(hover, alt.value(0.3), alt.value(0)),\n",
    "            tooltip=[\n",
    "                alt.Tooltip(\"date\", title=\"Date\"),\n",
    "                alt.Tooltip(\"price\", title=\"Price (USD)\"),\n",
    "            ],\n",
    "        )\n",
    "        .add_selection(hover)\n",
    "    )\n",
    "    return (lines + points + tooltips).interactive()\n",
    "\n",
    "chart = get_chart(source)\n",
    "\n",
    "ANNOTATIONS = [\n",
    "    (\"Mar 01, 2008\", \"Pretty good day for GOOG\"),\n",
    "    (\"Dec 01, 2007\", \"Something's going wrong for GOOG & AAPL\"),\n",
    "    (\"Nov 01, 2008\", \"Market starts again thanks to...\"),\n",
    "    (\"Dec 01, 2009\", \"Small crash for GOOG after...\"),\n",
    "]\n",
    "annotations_df = pd.DataFrame(ANNOTATIONS, columns=[\"date\", \"event\"])\n",
    "annotations_df.date = pd.to_datetime(annotations_df.date)\n",
    "annotations_df[\"y\"] = 10\n",
    "\n",
    "annotations = (\n",
    "    alt.Chart(annotations_df)\n",
    "    .mark_text()\n",
    "    .encode(\n",
    "        x=\"date\",\n",
    "        y=\"y\",\n",
    "        text=alt.value(\"⬇\"),\n",
    "        tooltip=\"event\",\n",
    "    )\n",
    ")\n",
    "\n",
    "chart = chart + annotations\n",
    "\n",
    "chart.show()"
   ]
  },
  {
   "cell_type": "code",
   "execution_count": null,
   "id": "22804988-27c2-4406-879d-f0fbee34fdb8",
   "metadata": {
    "tags": []
   },
   "outputs": [],
   "source": [
    "! pip install vega_datasets"
   ]
  },
  {
   "cell_type": "code",
   "execution_count": null,
   "id": "f8160385-9d88-497b-9a3c-62579be5f9ff",
   "metadata": {},
   "outputs": [],
   "source": []
  }
 ],
 "metadata": {
  "kernelspec": {
   "display_name": "Python 3 (ipykernel)",
   "language": "python",
   "name": "python3"
  },
  "language_info": {
   "codemirror_mode": {
    "name": "ipython",
    "version": 3
   },
   "file_extension": ".py",
   "mimetype": "text/x-python",
   "name": "python",
   "nbconvert_exporter": "python",
   "pygments_lexer": "ipython3",
   "version": "3.11.0"
  }
 },
 "nbformat": 4,
 "nbformat_minor": 5
}
