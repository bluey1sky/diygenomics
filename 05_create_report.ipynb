{
 "cells": [
  {
   "cell_type": "code",
   "execution_count": 1,
   "id": "07333587-6562-47a6-9bd6-3313550d3138",
   "metadata": {
    "tags": []
   },
   "outputs": [
    {
     "data": {
      "application/vnd.jupyter.widget-view+json": {
       "model_id": "08d596bd3ea94b458f46a85043fdbfa1",
       "version_major": 2,
       "version_minor": 0
      },
      "text/plain": [
       "0it [00:00, ?it/s]"
      ]
     },
     "metadata": {},
     "output_type": "display_data"
    }
   ],
   "source": [
    "import ast\n",
    "import docx\n",
    "import json\n",
    "import os\n",
    "import pandas as pd\n",
    "import papermill as pm\n",
    "import scrapbook as sb\n",
    "import uuid\n",
    "\n",
    "from docx import Document\n",
    "from docx.shared import Inches, RGBColor\n",
    "\n",
    "from io import StringIO\n",
    "\n",
    "from tqdm.notebook import tqdm_notebook\n",
    "tqdm_notebook().pandas()\n",
    "\n",
    "from pylatexenc.latexwalker import LatexWalker, LatexMacroNode, LatexCharsNode, LatexEnvironmentNode"
   ]
  },
  {
   "cell_type": "code",
   "execution_count": 2,
   "id": "5f9291c9-145e-41c1-a8e3-65c9131429c7",
   "metadata": {
    "tags": [
     "parameters",
     "base_name",
     "work_bucket",
     "external_id",
     "human_title"
    ]
   },
   "outputs": [],
   "source": [
    "# base_name = '2020_Andrews_GWAS_review_nihms-1645148'\n",
    "# work_bucket = 'priority_1'\n",
    "# external_id ='2023_05_10_82e0e0b9013821c98816g'\n",
    "# human_title = '2020 Andrews GWAS'"
   ]
  },
  {
   "cell_type": "code",
   "execution_count": 3,
   "id": "20dc02f2-8ce9-4202-a87d-e478be21d3da",
   "metadata": {
    "tags": []
   },
   "outputs": [],
   "source": [
    "data_path = os.getenv('DATA_PATH')\n",
    "file_path = lambda *args: os.path.join(data_path, 'diygenomics-projects', 'experiment-a', work_bucket,\n",
    "                                       base_name, 'mathpix', *args)\n",
    "\n",
    "index_col = 'uuid'\n",
    "\n",
    "image_results_file = 'image_results.csv'\n",
    "laytex_file = f'{external_id}.tex'\n",
    "json_mmd_file = f'{external_id}.lines.mmd.json'\n",
    "\n",
    "\n",
    "table_font_size = docx.shared.Pt(8)"
   ]
  },
  {
   "cell_type": "code",
   "execution_count": 4,
   "id": "f921352d-f572-4aaf-88a4-d0292851ea7d",
   "metadata": {},
   "outputs": [],
   "source": [
    "def fix_snps_table(df):\n",
    "    for index, row in df.iterrows():\n",
    "        if 'P value' in df.columns:\n",
    "            df.at[index, 'P value'] = row['P value'].replace('xx', 'x')\n",
    "    \n",
    "    return df"
   ]
  },
  {
   "cell_type": "code",
   "execution_count": 5,
   "id": "69eff573-41cd-456b-88bb-54f555ea23f6",
   "metadata": {
    "tags": []
   },
   "outputs": [],
   "source": [
    "def get_chart_title(target_text, data):\n",
    "    previous_line = None\n",
    "    for page in data['pages']:\n",
    "        for line in page['lines']:\n",
    "            if target_text in line['text']:\n",
    "                break\n",
    "            \n",
    "            previous_line = line['text']\n",
    "            if '![](https://cdn.mathpix.com' in previous_line:\n",
    "                previous_line = None\n",
    "\n",
    "        if target_text in line['text']:\n",
    "            break\n",
    "    return previous_line"
   ]
  },
  {
   "cell_type": "code",
   "execution_count": 6,
   "id": "2dfc5e2f-59c6-419c-bbc8-e57ae52fb047",
   "metadata": {},
   "outputs": [],
   "source": [
    "def add_df_to_doc(current_df, document):\n",
    "    table = document.add_table(current_df.shape[0]+1, current_df.shape[1])\n",
    "    table.style = 'Table Grid'\n",
    "    \n",
    "    hdr_cells = table.rows[0].cells\n",
    "    for i in range(current_df.shape[1]):\n",
    "        hdr_cells[i].text = current_df.columns[i]\n",
    "        \n",
    "    for i in range(current_df.shape[0]):\n",
    "        row_cells = table.rows[i+1].cells\n",
    "        for j in range(current_df.shape[1]):\n",
    "            row_cells[j].text = str(current_df.values[i,j])\n",
    "            \n",
    "    for row in table.rows:\n",
    "        for cell in row.cells:\n",
    "            for paragraph in cell.paragraphs:\n",
    "                for run in paragraph.runs:\n",
    "                    run.font.size = table_font_size"
   ]
  },
  {
   "cell_type": "code",
   "execution_count": 7,
   "id": "9d4d8e62-e253-4377-8923-6c5adb0f1a96",
   "metadata": {
    "tags": []
   },
   "outputs": [],
   "source": [
    "with open(file_path(json_mmd_file), 'r') as f:\n",
    "    mmd_file = json.load(f)"
   ]
  },
  {
   "cell_type": "code",
   "execution_count": 8,
   "id": "c801b7f0-1866-49bd-a6be-06b3f3efd85b",
   "metadata": {
    "tags": []
   },
   "outputs": [],
   "source": [
    "with open(file_path(external_id, laytex_file), 'r') as f:\n",
    "    latex_code = f.read()\n",
    "    \n",
    "walker = LatexWalker(latex_code)"
   ]
  },
  {
   "cell_type": "code",
   "execution_count": 9,
   "id": "bc26411b-06d2-4f5d-9348-27994e03b2a2",
   "metadata": {
    "tags": []
   },
   "outputs": [],
   "source": [
    "# title_nodes = []\n",
    "title = None\n",
    "add_title_nodes = False\n",
    "\n",
    "for node in walker.get_latex_nodes():\n",
    "    if isinstance(node, list):\n",
    "        for sub_node in node:\n",
    "            if isinstance(sub_node, LatexEnvironmentNode):\n",
    "                children = sub_node.nodelist\n",
    "                for child_node in children:\n",
    "                    if isinstance(child_node, LatexMacroNode) and child_node.macroname == 'maketitle':\n",
    "                        add_title_nodes = True\n",
    "                    # elif isinstance(child_node, LatexMacroNode) and child_node.macroname == 'section' and add_title_nodes:\n",
    "                    #     add_title_nodes = False\n",
    "                        \n",
    "                    if isinstance(child_node, LatexCharsNode) and add_title_nodes:\n",
    "                        title = child_node.chars\n",
    "                        break"
   ]
  },
  {
   "cell_type": "code",
   "execution_count": 10,
   "id": "9b7e77c2-7072-40fd-a9d6-465ff61ad7f6",
   "metadata": {
    "tags": []
   },
   "outputs": [],
   "source": [
    "df_image_results = pd.read_csv(file_path(external_id, image_results_file), index_col=index_col)"
   ]
  },
  {
   "cell_type": "code",
   "execution_count": 11,
   "id": "ab3cca0c-6a81-49f9-b4dc-b6900aee10c3",
   "metadata": {
    "tags": []
   },
   "outputs": [],
   "source": [
    "datatables = []\n",
    "asciimath = []\n",
    "additional_text = []\n",
    "\n",
    "for index, row in df_image_results.iterrows():\n",
    "    tsv_data = None\n",
    "    asciimath_data = None\n",
    "    mathpix_response = ast.literal_eval(row['mathpix_response'])\n",
    "    if 'data' in mathpix_response:\n",
    "        data = mathpix_response['data']\n",
    "        if len(data) > 0:\n",
    "            for image_details in data:\n",
    "                if image_details['type'] == 'tsv':\n",
    "                    tsv_data = image_details['value']\n",
    "                elif image_details['type'] == 'asciimath':\n",
    "                    asciimath_data = image_details['value']\n",
    "            if tsv_data:\n",
    "                df_image = pd.read_csv(StringIO(tsv_data), sep='\\t')\n",
    "                datatables.append({'data': df_image, 'file_name': row['file_name'], 'include_report': True, 'export': True})\n",
    "            elif asciimath_data:\n",
    "                asciimath.append(asciimath_data) \n",
    "        else:\n",
    "            additional_text.append(mathpix_response['text'])"
   ]
  },
  {
   "cell_type": "code",
   "execution_count": 12,
   "id": "0ee10c47-6f08-416e-819b-5c94214ae68a",
   "metadata": {
    "tags": []
   },
   "outputs": [],
   "source": [
    "document = Document()\n",
    "word_file = file_path('insights.docx')"
   ]
  },
  {
   "cell_type": "code",
   "execution_count": 13,
   "id": "c061439e-0028-4f95-a681-a943079bdf7b",
   "metadata": {
    "tags": []
   },
   "outputs": [
    {
     "data": {
      "text/plain": [
       "<docx.text.paragraph.Paragraph at 0x12edf7ad0>"
      ]
     },
     "execution_count": 13,
     "metadata": {},
     "output_type": "execute_result"
    }
   ],
   "source": [
    "document.add_heading(human_title)\n",
    "document.add_heading('Relevant Identifiers')\n",
    "document.add_paragraph(title.rstrip())\n",
    "document.add_heading('Extracted Tables')"
   ]
  },
  {
   "cell_type": "code",
   "execution_count": 14,
   "id": "78b306f5-5a39-4899-b8f8-667860e1478e",
   "metadata": {
    "tags": []
   },
   "outputs": [
    {
     "data": {
      "text/plain": [
       "4"
      ]
     },
     "execution_count": 14,
     "metadata": {},
     "output_type": "execute_result"
    }
   ],
   "source": [
    "len(datatables)"
   ]
  },
  {
   "cell_type": "code",
   "execution_count": 15,
   "id": "8274ca7d-c9f1-48bc-94ce-c5f172a91bb3",
   "metadata": {
    "tags": []
   },
   "outputs": [],
   "source": [
    "# datatables[3]"
   ]
  },
  {
   "cell_type": "code",
   "execution_count": 16,
   "id": "fa5920c1-2892-4833-9d8f-b1baeaf760cc",
   "metadata": {
    "tags": []
   },
   "outputs": [],
   "source": [
    "# index = 3\n",
    "# datatables[index]['include_report'] = True\n",
    "# datatables[index]['export'] = True"
   ]
  },
  {
   "cell_type": "code",
   "execution_count": 17,
   "id": "a56639d6-bab1-41d7-a0b4-f0ae48e27a8d",
   "metadata": {
    "tags": []
   },
   "outputs": [],
   "source": [
    "report_datatables = []\n",
    "\n",
    "for data_info in datatables:\n",
    "    if data_info['include_report'] == True:\n",
    "        df_snps = data_info['data']\n",
    "        df_snps = fix_snps_table(df_snps)\n",
    "        \n",
    "        title_line = get_chart_title(data_info['file_name'], mmd_file)\n",
    "        \n",
    "        df_snps.attrs['title'] = title_line\n",
    "        report_datatables.append(df_snps)\n",
    "        \n",
    "        df_snps['uuid'] = [uuid.uuid4() for _ in range(len(df_snps))]\n",
    "        df_snps.set_index('uuid', inplace=True)\n",
    "        extracted_table_file_name = data_info['file_name'].replace('.', '_').replace('(', '_').replace(')', '_')\n",
    "        df_snps.to_csv(file_path(f'extracted_table_for_{extracted_table_file_name}.csv'))\n",
    "        \n",
    "datatables_sorted = sorted(report_datatables, key=lambda x: len(x), reverse=True)\n",
    "\n",
    "for current_df in datatables_sorted:\n",
    "    current_df.rename(columns={col: '' if col.startswith('Unnamed') else col for col in current_df.columns}, inplace=True)\n",
    "    document.add_paragraph(current_df.attrs['title'])\n",
    "    add_df_to_doc(current_df, document)\n",
    "    document.add_paragraph('', style='Normal')"
   ]
  },
  {
   "cell_type": "code",
   "execution_count": 18,
   "id": "94b66e71-c84d-4574-b05e-c862666140d4",
   "metadata": {
    "tags": []
   },
   "outputs": [],
   "source": [
    "document.save(word_file) "
   ]
  },
  {
   "cell_type": "code",
   "execution_count": 19,
   "id": "a3e66ec2-1cc3-4ece-9f75-0d794a7b063c",
   "metadata": {},
   "outputs": [
    {
     "data": {
      "application/scrapbook.scrap.text+json": {
       "data": "completed",
       "encoder": "text",
       "name": "status",
       "version": 1
      }
     },
     "metadata": {
      "scrapbook": {
       "data": true,
       "display": false,
       "name": "status"
      }
     },
     "output_type": "display_data"
    }
   ],
   "source": [
    "sb.glue('status', 'completed')"
   ]
  },
  {
   "cell_type": "code",
   "execution_count": null,
   "id": "dbc096b8-04c6-46fc-a7f6-77a0e8250ff4",
   "metadata": {},
   "outputs": [],
   "source": []
  }
 ],
 "metadata": {
  "kernelspec": {
   "display_name": "Python 3 (ipykernel)",
   "language": "python",
   "name": "python3"
  },
  "language_info": {
   "codemirror_mode": {
    "name": "ipython",
    "version": 3
   },
   "file_extension": ".py",
   "mimetype": "text/x-python",
   "name": "python",
   "nbconvert_exporter": "python",
   "pygments_lexer": "ipython3",
   "version": "3.11.0"
  }
 },
 "nbformat": 4,
 "nbformat_minor": 5
}
