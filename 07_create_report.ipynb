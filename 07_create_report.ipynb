{
 "cells": [
  {
   "cell_type": "code",
   "execution_count": 9,
   "id": "07333587-6562-47a6-9bd6-3313550d3138",
   "metadata": {},
   "outputs": [],
   "source": [
    "import ast\n",
    "import os\n",
    "import pandas as pd\n",
    "\n",
    "# from docx import Document\n",
    "# from docx.shared import Inches, RGBColor\n",
    "\n",
    "from pylatexenc.latex2text import LatexNodes2Text"
   ]
  },
  {
   "cell_type": "code",
   "execution_count": 3,
   "id": "20dc02f2-8ce9-4202-a87d-e478be21d3da",
   "metadata": {},
   "outputs": [],
   "source": [
    "product_name = 'mel_swan'\n",
    "project_name = 'diygenomics'\n",
    "\n",
    "original_file = '2021_Wightman-Posthuma_A_genomewide_association_study_with_112_563_individuals_identifies_new_risk_loci_for_Alzheimers_disease'\n",
    "external_id = '2023_05_02_27142069922ab9506d3dg'\n",
    "\n",
    "data_path = os.getenv('DATA_PATH')\n",
    "file_path = lambda *args: os.path.join(data_path, 'eric-client-projects', product_name, project_name, 'experiment-a', \n",
    "                                       original_file, 'mathpix', *args)\n",
    "\n",
    "index_col = 'uuid'\n",
    "\n",
    "summary_file = 'summary_of_summaries'\n",
    "topic_file = 'topics'\n",
    "image_results = 'image_results.csv'"
   ]
  },
  {
   "cell_type": "code",
   "execution_count": 4,
   "id": "9b7e77c2-7072-40fd-a9d6-465ff61ad7f6",
   "metadata": {
    "tags": []
   },
   "outputs": [],
   "source": [
    "df_image_results = pd.read_csv(file_path(external_id, image_results), index_col=index_col)"
   ]
  },
  {
   "cell_type": "code",
   "execution_count": 24,
   "id": "d95c7ac1-be48-4369-bf94-7fac0892cbeb",
   "metadata": {
    "tags": []
   },
   "outputs": [
    {
     "data": {
      "text/plain": [
       "'\\\\begin{array}{|c|c|c|c|c|c|c|c|}\\n\\\\hline \\\\text { Genomic locus } & \\\\text { Gene } & \\\\text { Position (GRCh37) } & \\\\text { Lead variant } & \\\\text { A1 } & A 1 \\\\text { frequency } & P \\\\text { value } & N \\\\\\\\\\n\\\\hline 1 & \\\\text { AGRN } & \\\\text { 1:985,377 } & \\\\text { rs113020870 } & \\\\mathrm{T} & 0.0041 & 3.83 \\\\times 10^{-8} & 776,379 \\\\\\\\\\n\\\\hline 2 & \\\\text { CR1 } & 1: 207,750,568 & \\\\text { rs679515 } & \\\\text { C } & 0.82 & 2.42 \\\\times 10^{-25} & 762,176 \\\\\\\\\\n\\\\hline 3 & \\\\text { NCK2 } & 2: 106,235,428 & \\\\text { rs115186657 } & \\\\text { C } & 0.0035 & 1.33 \\\\times 10^{-8} & 727,537 \\\\\\\\\\n\\\\hline 4 & \\\\text { BIN1 } & \\\\text { 2:127,891,427 } & \\\\text { rs4663105 } & \\\\text { C } & 0.41 & 3.92 \\\\times 10^{-58} & 1,078,540 \\\\\\\\\\n\\\\hline 5 & \\\\text { INPPD5 } & 2: 234,082,577 & \\\\text { rs7597763 } & \\\\text { C } & 0.45 & 4.65 \\\\times 10^{-9} & 819,541 \\\\\\\\\\n\\\\hline 6 & \\\\text { CLNK } & 4: 11,014,822 & \\\\text { rs4504245 } & \\\\text { G } & 0.79 & 5.23 \\\\times 10^{-12} & 1,080,458 \\\\\\\\\\n\\\\hline 7 & \\\\text { TNIP1 } & 5: 150,432,388 & \\\\text { rs871269 } & \\\\text { T } & 0.32 & 1.37 \\\\times 10^{-9} & 1,089,904 \\\\\\\\\\n\\\\hline 8 & \\\\text { HAVCR2 } & 5: 156,526,331 & \\\\text { rs6891966 } & \\\\text { G } & 0.77 & 7.91 \\\\times 10^{-10} & 1,089,230 \\\\\\\\\\n\\\\hline 9 & \\\\text { HLA-DRB1 } & 6: 32,583,813 & \\\\text { rs1846190 } & \\\\text { A } & 0.30 & 2.66 \\\\times 10^{-14} & 754,040 \\\\\\\\\\n\\\\hline 10 & \\\\text { TREM2 } & 6: 40,942,196 & \\\\text { rs187370608 } & \\\\text { G } & 0.997 & 1.26 \\\\times 10^{-25} & 791,668 \\\\\\\\\\n\\\\hline 11 & C D 2 A P & 6: 47,552,180 & \\\\text { rs9369716 } & \\\\mathrm{T} & 0.27 & 1.70 \\\\times 10^{-17} & 1,052,285 \\\\\\\\\\n\\\\hline 12 & \\\\text { TMEM106B } & 7: 12,268,758 & \\\\text { rs5011436 } & \\\\text { C } & 0.41 & 2.70 \\\\times 10^{-9} & 1,123,678 \\\\\\\\\\n\\\\hline 13 & \\\\text { ZCWPW } 1 / N Y A P 1 & \\\\text { 7:99,932,049 } & \\\\text { rs7384878 } & \\\\mathrm{T} & 0.69 & 9.41 \\\\times 10^{-16} & 1,084,138 \\\\\\\\\\n\\\\hline 14 & \\\\text { EPHA1-AS1 } & \\\\text { 7:143,104,331 } & \\\\text { rs3935067 } & \\\\text { G } & 0.62 & 4.69 \\\\times 10^{-11} & 1,117,025 \\\\\\\\\\n\\\\hline 15 & \\\\text { CLU } & \\\\text { 8:27,466,315 } & \\\\text { rs1532278 } & \\\\text { T } & 0.39 & 1.57 \\\\times 10^{-22} & 1,126,563 \\\\\\\\\\n\\\\hline 16 & \\\\text { SHARPIN } & 8: 145,108,151 & \\\\text { rs61732533 } & \\\\text { G } & 0.95 & 3.14 \\\\times 10^{-9} & 1,122,653 \\\\\\\\\\n\\\\hline 17 & \\\\text { USP6NL/ECHDC3 } & 10: 11,718,713 & \\\\text { rs7912495 } & \\\\text { G } & 0.46 & 7.68 \\\\times 10^{-15} & 1,120,367 \\\\\\\\\\n\\\\hline 18 & \\\\text { CCDC6 } & \\\\text { 10:61,738,152 } & \\\\text { rs7902657 } & \\\\text { T } & 0.54 & 3.68 \\\\times 10^{-8} & 1,126,388 \\\\\\\\\\n\\\\hline 19 & \\\\text { MADD/SPI1 } & 11: 47,380,340 & \\\\text { rs3740688 } & \\\\mathrm{T} & 0.54 & 8.78 \\\\times 10^{-9} & 1,123,185 \\\\\\\\\\n\\\\hline 20 & M S 4 A 4 A & 11: 60,021,948 & \\\\text { rs1582763 } & \\\\text { G } & 0.62 & 3.40 \\\\times 10^{-33} & 1,125,804 \\\\\\\\\\n\\\\hline 21 & \\\\text { PICALM } & 11: 85,800,279 & \\\\text { rs561655 } & \\\\text { G } & 0.35 & 1.24 \\\\times 10^{-26} & 1,126,563 \\\\\\\\\\n\\\\hline 22 & \\\\text { SORL1 } & \\\\text { 11:121,435,587 } & \\\\text { rs11218343 } & \\\\mathrm{T} & 0.96 & 1.33 \\\\times 10^{-13} & 1,125,100 \\\\\\\\\\n\\\\hline 23 & \\\\text { FERMT2 } & 14: 53,298,853 & \\\\text { rs7146179 } & \\\\text { G } & 0.89 & 6.99 \\\\times 10^{-11} & 1,089,904 \\\\\\\\\\n\\\\hline 24 & \\\\text { RIN3 } & 14: 92,938,855 & \\\\text { rs12590654 } & \\\\text { G } & 0.67 & 6.63 \\\\times 10^{-17} & 1,116,967 \\\\\\\\\\n\\\\hline 25 & \\\\text { ADAM10 } & 15: 59,057,023 & \\\\text { rs602602 } & \\\\text { T } & 0.70 & 6.22 \\\\times 10^{-15} & 1,124,268 \\\\\\\\\\n\\\\hline 26 & A P H 1 B & 15: 63,569,902 & \\\\text { rs117618017 } & \\\\mathrm{T} & 0.13 & 7.00 \\\\times 10^{-12} & 889,854 \\\\\\\\\\n\\\\hline 27 & \\\\text { SCIMP/RABEP1 } & 17: 4,969,940 & \\\\text { rs7209200 } & \\\\text { T } & 0.33 & 3.18 \\\\times 10^{-8} & 1,125,637 \\\\\\\\\\n\\\\hline 28 & \\\\text { GRN } & 17: 42,442,344 & \\\\text { rs708382 } & \\\\mathrm{T} & 0.61 & 1.98 \\\\times 10^{-9} & 1,125,622 \\\\\\\\\\n\\\\hline 29 & A B I 3 & 17: 47,450,775 & \\\\text { rs28394864 } & \\\\text { G } & 0.54 & 4.90 \\\\times 10^{-10} & 1,084,218 \\\\\\\\\\n\\\\hline 30 & \\\\text { TSPOAP1-AS1 } & 17: 56,409,089 & \\\\text { rs2632516 } & \\\\text { G } & 0.54 & 7.46 \\\\times 10^{-10} & 1,082,451 \\\\\\\\\\n\\\\hline 31 & \\\\text { ACE } & 17: 61,545,779 & \\\\text { rs6504163 } & \\\\mathrm{T} & 0.61 & 1.23 \\\\times 10^{-9} & 1,083,145 \\\\\\\\\\n\\\\hline 32 & A B C A 7 & \\\\text { 19:1,050,874 } & \\\\text { rs12151021 } & \\\\text { G } & 0.68 & 2.81 \\\\times 10^{-15} & 1,082,434 \\\\\\\\\\n\\\\hline 33 & A P O E & 19: 45,411,941 & \\\\text { rs429358 } & \\\\mathrm{T} & 0.84 & <1.0 \\\\times 10^{-300} & 1,126,190 \\\\\\\\\\n\\\\hline 34 & \\\\text { NTN5 } & 19: 49,213,504 & \\\\text { rs2452170 } & \\\\text { G } & 0.47 & 1.72 \\\\times 10^{-8} & 1,088,626 \\\\\\\\\\n\\\\hline 35 & \\\\text { CD33 } & 19: 51,737,991 & \\\\text { rs1354106 } & \\\\text { G } & 0.37 & 2.21 \\\\times 10^{-10} & 716,038 \\\\\\\\\\n\\\\hline 36 & \\\\text { LILRB2 } & \\\\text { 19:54,825,174 } & \\\\text { rs1761461 } & \\\\text { C } & 0.49 & 1.56 \\\\times 10^{-9} & 1,116,336 \\\\\\\\\\n\\\\hline 37 & \\\\text { CASS4 } & 20: 54,995,699 & \\\\text { rs6069737 } & \\\\mathrm{T} & 0.083 & 6.73 \\\\times 10^{-16} & 1,087,703 \\\\\\\\\\n\\\\hline 38 & A P P & 21: 27,520,931 & \\\\text { rs2154482 } & \\\\text { T } & 0.44 & 7.66 \\\\times 10^{-10} & 1,124,606 \\\\\\\\\\n\\\\hline\\n\\\\end{array}'"
      ]
     },
     "execution_count": 24,
     "metadata": {},
     "output_type": "execute_result"
    }
   ],
   "source": [
    "mathpix_response = ast.literal_eval(df_image_results.iloc[6]['mathpix_response'])\n",
    "# LatexNodes2Text().latex_to_text(mathpix_response['latex_styled'])\n",
    "mathpix_response['latex_styled']"
   ]
  },
  {
   "cell_type": "code",
   "execution_count": null,
   "id": "4b8cb383-94f7-4bf8-b933-5526c7fc07cd",
   "metadata": {},
   "outputs": [],
   "source": [
    "file_list = os.listdir(file_path('charts'))\n",
    "df_charts = pd.DataFrame({'filename': file_list})\n",
    "\n",
    "topics_files = df_charts[df_charts['filename'].str.startswith('topic_')]\n",
    "topics_files = topics_files[~topics_files['filename'].str.contains(topic_file)]\n",
    "topics_files = sorted(topics_files['filename'].tolist())"
   ]
  },
  {
   "cell_type": "code",
   "execution_count": null,
   "id": "55561a25-1c44-4210-88da-ece73f18df02",
   "metadata": {},
   "outputs": [],
   "source": [
    "with open(file_path(f'{summary_file}.txt'), 'r') as file:\n",
    "    main_summary = file.read()"
   ]
  },
  {
   "cell_type": "code",
   "execution_count": null,
   "id": "0ee10c47-6f08-416e-819b-5c94214ae68a",
   "metadata": {},
   "outputs": [],
   "source": [
    "document = Document()\n",
    "word_file = file_path('insights.docx')"
   ]
  },
  {
   "cell_type": "code",
   "execution_count": null,
   "id": "c061439e-0028-4f95-a681-a943079bdf7b",
   "metadata": {},
   "outputs": [],
   "source": [
    "document.add_heading(f'Insights for {project_name.capitalize()}')\n",
    "document.add_heading('Summary', level=2)\n",
    "document.add_paragraph(main_summary)"
   ]
  },
  {
   "cell_type": "code",
   "execution_count": null,
   "id": "ffdceb15-17a7-4f20-b854-148bd89b8e21",
   "metadata": {},
   "outputs": [],
   "source": [
    "table = document.add_table(rows=4, cols=1)\n",
    "p = table.rows[2].cells[0].paragraphs[0]\n",
    "run = p.add_run('Topics')\n",
    "run.bold = True\n",
    "font = run.font\n",
    "font.color.rgb = RGBColor(0x42, 0x24, 0xE9)\n",
    "sentiment_container = table.rows[3].cells[0].add_paragraph().add_run()\n",
    "sentiment_container.add_picture(file_path('charts', f'{topic_file}_{i}_star.png'), width=Inches(6.0))"
   ]
  },
  {
   "cell_type": "code",
   "execution_count": null,
   "id": "94b66e71-c84d-4574-b05e-c862666140d4",
   "metadata": {},
   "outputs": [],
   "source": [
    "document.save(word_file) "
   ]
  }
 ],
 "metadata": {
  "kernelspec": {
   "display_name": "Python 3 (ipykernel)",
   "language": "python",
   "name": "python3"
  },
  "language_info": {
   "codemirror_mode": {
    "name": "ipython",
    "version": 3
   },
   "file_extension": ".py",
   "mimetype": "text/x-python",
   "name": "python",
   "nbconvert_exporter": "python",
   "pygments_lexer": "ipython3",
   "version": "3.11.0"
  }
 },
 "nbformat": 4,
 "nbformat_minor": 5
}
