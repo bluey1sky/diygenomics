{
 "cells": [
  {
   "cell_type": "code",
   "execution_count": null,
   "id": "8107e708-486f-48be-9691-94e3794bcb40",
   "metadata": {
    "tags": []
   },
   "outputs": [],
   "source": [
    "%load_ext autoreload\n",
    "%autoreload 2\n",
    "\n",
    "import json\n",
    "import os\n",
    "import pandas as pd\n",
    "\n",
    "from functions import gpt"
   ]
  },
  {
   "cell_type": "code",
   "execution_count": null,
   "id": "95a967e5-b905-4e83-b4b8-66ad2d2660ba",
   "metadata": {
    "tags": []
   },
   "outputs": [],
   "source": [
    "product_name = 'mel_swan'\n",
    "project_name = 'diygenomics'\n",
    "\n",
    "data_path = os.getenv('DATA_PATH')\n",
    "file_path = lambda *args: os.path.join(data_path, 'eric-client-projects', product_name, project_name, 'experiment-a', *args)\n",
    "\n",
    "model = 'gpt-4' # 'gpt-3.5-turbo' # 'gpt-4'\n",
    "\n",
    "# openai.api_key = os.getenv(\"DIYGENOMICS_OPENAI_API_KEY\")"
   ]
  },
  {
   "cell_type": "code",
   "execution_count": null,
   "id": "ffe11d90-28c3-4798-b5a0-be8949e8ecbe",
   "metadata": {},
   "outputs": [],
   "source": [
    "system_prompt = \"\"\"You are an academic researcher in information systems biology investigating possible links between DNA, \n",
    "RNA expression, and blood biomarkers for disease, especially aging and neurodegenerative pathologies \n",
    "(Alzheimer’s disease, Parkinson’s disease). \n",
    "- Please extract any gene that codes mentioned along with any relevant identifiers. \n",
    "- Please format your response in JSON.\n",
    "- If you do not know the answer return {}\n",
    "\"\"\""
   ]
  },
  {
   "cell_type": "code",
   "execution_count": null,
   "id": "51b87ab8-13f9-484d-bf67-de8176c4dcf8",
   "metadata": {},
   "outputs": [],
   "source": []
  }
 ],
 "metadata": {
  "kernelspec": {
   "display_name": "Python 3 (ipykernel)",
   "language": "python",
   "name": "python3"
  },
  "language_info": {
   "codemirror_mode": {
    "name": "ipython",
    "version": 3
   },
   "file_extension": ".py",
   "mimetype": "text/x-python",
   "name": "python",
   "nbconvert_exporter": "python",
   "pygments_lexer": "ipython3",
   "version": "3.11.0"
  }
 },
 "nbformat": 4,
 "nbformat_minor": 5
}
