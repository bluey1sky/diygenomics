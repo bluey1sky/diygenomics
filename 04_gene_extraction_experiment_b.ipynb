{
 "cells": [
  {
   "cell_type": "code",
   "execution_count": null,
   "id": "8107e708-486f-48be-9691-94e3794bcb40",
   "metadata": {
    "tags": []
   },
   "outputs": [],
   "source": [
    "%load_ext autoreload\n",
    "%autoreload 2\n",
    "\n",
    "import json\n",
    "import os\n",
    "import pandas as pd\n",
    "\n",
    "from functions import gpt\n",
    "\n",
    "from tqdm.notebook import tqdm_notebook\n",
    "tqdm_notebook().pandas()\n",
    "\n",
    "pd.set_option('display.max_colwidth', None)"
   ]
  },
  {
   "cell_type": "code",
   "execution_count": null,
   "id": "95a967e5-b905-4e83-b4b8-66ad2d2660ba",
   "metadata": {
    "tags": []
   },
   "outputs": [],
   "source": [
    "original_file = '2021_Wightman-Posthuma_A_genomewide_association_study_with_112_563_individuals_identifies_new_risk_loci_for_Alzheimers_disease'\n",
    "external_id = '2023_05_02_27142069922ab9506d3dg'\n",
    "input_file = f'truth_{external_id}.chunks.csv'\n",
    "output_file = f'gpt_snps_{external_id}.csv'\n",
    "\n",
    "data_path = os.getenv('DATA_PATH')\n",
    "file_path = lambda *args: os.path.join(data_path, 'diygenomics-projects', 'experiment-a', \n",
    "                                       original_file, 'mathpix', *args)\n",
    "\n",
    "model = 'gpt-4' # 'gpt-3.5-turbo' # 'gpt-4'\n",
    "index_col = 'uuid'"
   ]
  },
  {
   "cell_type": "code",
   "execution_count": null,
   "id": "ffe11d90-28c3-4798-b5a0-be8949e8ecbe",
   "metadata": {},
   "outputs": [],
   "source": [
    "system_prompt = \"\"\"You are an academic researcher in information systems biology investigating possible links between DNA, \n",
    "RNA expression, and blood biomarkers for disease, especially aging and neurodegenerative pathologies \n",
    "(Alzheimer’s disease, Parkinson’s disease). \n",
    "- Please extract any SNP (Single Nucleotide Polymorphism) identifiers mentioned along with any relevant identifiers. \n",
    "- Please format your response in JSON. You only speak JSON. Do not write text that isn't JSON.\n",
    "- If you do not know the answer return {}\n",
    "- At the end of your answer, rate your confidence in the answer using following the format where x is the confidence score of your output by 10: \n",
    "    Confidence: x/10\n",
    "\"\"\""
   ]
  },
  {
   "cell_type": "code",
   "execution_count": null,
   "id": "1ebb7d0f-3529-4e0e-98fc-ba221e753184",
   "metadata": {
    "tags": []
   },
   "outputs": [],
   "source": [
    "df = pd.read_csv(file_path(input_file), index_col=index_col)"
   ]
  },
  {
   "cell_type": "code",
   "execution_count": null,
   "id": "51b87ab8-13f9-484d-bf67-de8176c4dcf8",
   "metadata": {},
   "outputs": [],
   "source": [
    "json_errors = {}\n",
    "general_errors = {}\n",
    "\n",
    "def extract_genes(row):  \n",
    "    response = None\n",
    "\n",
    "    if len(row['text']) > 0:\n",
    "        possible_response = gpt.chat_create(system_prompt, row['text'], model, output_json=True)\n",
    "        if 'json_error' in possible_response:\n",
    "            json_errors[row.name] = response\n",
    "        elif 'general_error' in possible_response:\n",
    "            general_errors[row.name] = response\n",
    "        else:\n",
    "            response = possible_response\n",
    "        \n",
    "    return response"
   ]
  },
  {
   "cell_type": "code",
   "execution_count": null,
   "id": "0eba8e99-b308-4d44-980e-f99de9d236e7",
   "metadata": {
    "tags": []
   },
   "outputs": [],
   "source": [
    "df['snps'] = df.progress_apply(lambda row: extract_genes(row), axis=1)"
   ]
  },
  {
   "cell_type": "code",
   "execution_count": null,
   "id": "14dd41f1-38ea-4ec5-8f31-85db48354b59",
   "metadata": {
    "tags": []
   },
   "outputs": [],
   "source": [
    "with open(file_path('gpt_snps_json_errors.json'), 'w') as file:\n",
    "    json.dump(json_errors, file)\n",
    "    \n",
    "with open(file_path('gpt_snps_general_errors.json'), 'w') as file:\n",
    "    json.dump(general_errors, file)"
   ]
  },
  {
   "cell_type": "code",
   "execution_count": null,
   "id": "0cc57b03-d95f-4ae4-a348-8d81059a5daa",
   "metadata": {
    "tags": []
   },
   "outputs": [],
   "source": [
    "df['snps'].to_csv(file_path(output_file))"
   ]
  },
  {
   "cell_type": "code",
   "execution_count": null,
   "id": "54fe456c-a5c3-4704-b4e0-526334185fbc",
   "metadata": {},
   "outputs": [],
   "source": []
  }
 ],
 "metadata": {
  "kernelspec": {
   "display_name": "Python 3 (ipykernel)",
   "language": "python",
   "name": "python3"
  },
  "language_info": {
   "codemirror_mode": {
    "name": "ipython",
    "version": 3
   },
   "file_extension": ".py",
   "mimetype": "text/x-python",
   "name": "python",
   "nbconvert_exporter": "python",
   "pygments_lexer": "ipython3",
   "version": "3.11.0"
  }
 },
 "nbformat": 4,
 "nbformat_minor": 5
}
