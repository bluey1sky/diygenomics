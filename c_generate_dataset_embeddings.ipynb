{
 "cells": [
  {
   "cell_type": "code",
   "execution_count": 11,
   "id": "05371758-d0ce-42da-bcd9-6afb0fc7fb7a",
   "metadata": {},
   "outputs": [
    {
     "name": "stdout",
     "output_type": "stream",
     "text": [
      "The autoreload extension is already loaded. To reload it, use:\n",
      "  %reload_ext autoreload\n"
     ]
    }
   ],
   "source": [
    "%load_ext autoreload\n",
    "%autoreload 2\n",
    "\n",
    "import csv\n",
    "import json\n",
    "import numpy as np\n",
    "import os\n",
    "import pandas as pd\n",
    "# import papermill as pm\n",
    "# import scrapbook as sb\n",
    "import torch\n",
    "from torch import nn\n",
    "from torch.utils.data import TensorDataset, DataLoader\n",
    "\n",
    "pd.set_option('display.max_colwidth', None)"
   ]
  },
  {
   "cell_type": "code",
   "execution_count": 2,
   "id": "ddd34dc6-5187-4d5f-9d91-b18bdcadee48",
   "metadata": {
    "tags": [
     "parameters",
     "base_name",
     "project_folder",
     "sub_category",
     "work_bucket",
     "external_id"
    ]
   },
   "outputs": [],
   "source": [
    "base_name = \"2021_Hashimoto_Neural_ODE_and_holographic_QCD_PUB\"\n",
    "project_folder = \"diygenomics-projects\"\n",
    "sub_category = \"math\"\n",
    "work_bucket = \"AdS-CFT\"\n",
    "\n",
    "model_path = 'lstm_character_level_v1'"
   ]
  },
  {
   "cell_type": "code",
   "execution_count": 3,
   "id": "83a4f990-9522-4e4f-9555-c785f898f6cd",
   "metadata": {},
   "outputs": [],
   "source": [
    "data_path = os.getenv('DATA_PATH')\n",
    "file_path = lambda *args: os.path.join(data_path, project_folder, sub_category, work_bucket,\n",
    "                                       base_name, 'mathpix', *args)\n",
    "\n",
    "index_col = 'uuid'\n",
    "openai_model = 'text-embedding-ada-002'\n",
    "\n",
    "input_file = 'extracted_annotated_math.csv'\n",
    "output_file = 'extracted_annotated_math.csv'"
   ]
  },
  {
   "cell_type": "code",
   "execution_count": 4,
   "id": "0c1705b1-9c38-46f1-9fbe-62ac2f977707",
   "metadata": {
    "tags": []
   },
   "outputs": [],
   "source": [
    "df = pd.read_csv(file_path(input_file), index_col=index_col)"
   ]
  },
  {
   "cell_type": "code",
   "execution_count": 13,
   "id": "e5e60da3-3cb7-4925-a733-9a827b8155f1",
   "metadata": {},
   "outputs": [],
   "source": [
    "latex_corpus = df['math'].astype(str).str.cat(sep=' ')"
   ]
  },
  {
   "cell_type": "code",
   "execution_count": 8,
   "id": "a9291828-8a9b-417b-b0da-b4addeebd168",
   "metadata": {},
   "outputs": [],
   "source": [
    "class LSTMTextGenerator:\n",
    "    def __init__(self, corpus, seq_length=100, hidden_size=256, lr=0.001, epochs=50, batch_size=64):\n",
    "        self.device = torch.device('cuda' if torch.cuda.is_available() else 'cpu')\n",
    "        self.corpus = corpus\n",
    "        self.seq_length = seq_length\n",
    "        self.hidden_size = hidden_size\n",
    "        self.lr = lr\n",
    "        self.epochs = epochs\n",
    "        self.batch_size = batch_size\n",
    "        self.dataX, self.dataY, self.char_to_int, self.int_to_char = self.prepare_data()\n",
    "        self.model = self.build_model().to(self.device)\n",
    "        self.criterion = nn.CrossEntropyLoss()\n",
    "        self.optimizer = torch.optim.Adam(self.model.parameters(), lr=self.lr)\n",
    "        \n",
    "    class CharPredictor(nn.Module):\n",
    "        def __init__(self, input_size, hidden_size, output_size):\n",
    "            super().__init__()\n",
    "            self.lstm = nn.LSTM(input_size, hidden_size, batch_first=True)\n",
    "            self.fc = nn.Linear(hidden_size, output_size)\n",
    "\n",
    "        def forward(self, x):\n",
    "            out, _ = self.lstm(x)\n",
    "            out = self.fc(out[:, -1, :])\n",
    "            return out\n",
    "\n",
    "        def get_embeddings(self, x):\n",
    "            out, _ = self.lstm(x)\n",
    "            return out  # return LSTM outputs as embeddings\n",
    "        \n",
    "    def get_embeddings(self, text):\n",
    "        text_int = [self.char_to_int[char] for char in text]\n",
    "        text_int = np.reshape(text_int, (1, len(text_int), 1))\n",
    "        text_tensor = torch.from_numpy(text_int).float()\n",
    "\n",
    "        # Get the current device (CPU or GPU)\n",
    "        device = torch.device(\"cuda\" if torch.cuda.is_available() else \"cpu\")\n",
    "\n",
    "        # Move the input tensor to the current device\n",
    "        text_tensor = text_tensor.to(device)\n",
    "\n",
    "        with torch.no_grad():\n",
    "            embeddings = self.model.get_embeddings(text_tensor)\n",
    "\n",
    "        return embeddings.cpu().numpy()\n",
    "\n",
    "    def prepare_data(self):\n",
    "        chars = sorted(list(set(self.corpus)))\n",
    "        char_to_int = {ch: i for i, ch in enumerate(chars)}\n",
    "        int_to_char = {i: ch for i, ch in enumerate(chars)}\n",
    "\n",
    "        dataX, dataY = [], []\n",
    "        for i in range(0, len(self.corpus) - self.seq_length, 1):\n",
    "            seq_in = self.corpus[i:i + self.seq_length]\n",
    "            seq_out = self.corpus[i + self.seq_length]\n",
    "            dataX.append([char_to_int[char] for char in seq_in])\n",
    "            dataY.append(char_to_int[seq_out])\n",
    "\n",
    "        return np.array(dataX), np.array(dataY), char_to_int, int_to_char\n",
    "\n",
    "    def build_model(self):\n",
    "        return self.CharPredictor(1, self.hidden_size, len(self.char_to_int))\n",
    "\n",
    "    def create_data_loader(self, X, y):\n",
    "        dataset = TensorDataset(X, y)\n",
    "        dataloader = DataLoader(dataset, batch_size=self.batch_size, shuffle=True)\n",
    "        return dataloader\n",
    "    \n",
    "    def predict(self, input_sequence, predict_length=100):\n",
    "        self.model.eval()  # Set the model to evaluation mode\n",
    "\n",
    "        # Convert char to int for input sequence\n",
    "        input_sequence = [self.char_to_int[ch] for ch in input_sequence]\n",
    "        input_sequence = np.reshape(input_sequence, (1, len(input_sequence), 1))\n",
    "        input_sequence = torch.from_numpy(input_sequence).float().to(self.device)\n",
    "\n",
    "        predicted_output = ''\n",
    "        with torch.no_grad():\n",
    "            for _ in range(predict_length):\n",
    "                output = self.model(input_sequence)\n",
    "                _, predicted = torch.max(output.data, 1)\n",
    "                predicted_output += self.int_to_char[predicted.item()]\n",
    "\n",
    "                # Use the predicted character to generate the next character\n",
    "                input_sequence = torch.cat((input_sequence[:, 1:, :], predicted.float().unsqueeze(0).unsqueeze(2)), dim=1)\n",
    "\n",
    "        return predicted_output\n",
    "\n",
    "    def train(self):\n",
    "        X_train, X_test, y_train, y_test = train_test_split(self.dataX, self.dataY, test_size=0.2, random_state=42)\n",
    "        X_train = np.reshape(X_train, (len(X_train), self.seq_length, 1))\n",
    "        X_test = np.reshape(X_test, (len(X_test), self.seq_length, 1))\n",
    "        X_train = torch.from_numpy(X_train).float().to(self.device)\n",
    "        y_train = torch.from_numpy(y_train).long().to(self.device)\n",
    "        X_test = torch.from_numpy(X_test).float().to(self.device)\n",
    "        y_test = torch.from_numpy(y_test).long().to(self.device)\n",
    "\n",
    "        train_loader = self.create_data_loader(X_train, y_train)\n",
    "        test_loader = self.create_data_loader(X_test, y_test)\n",
    "\n",
    "        for epoch in range(self.epochs):\n",
    "            for batch in train_loader:\n",
    "                x, y = batch\n",
    "                self.optimizer.zero_grad()\n",
    "                output = self.model(x)\n",
    "                loss = self.criterion(output, y)\n",
    "                loss.backward()\n",
    "                self.optimizer.step()\n",
    "\n",
    "            print(f'Epoch: {epoch+1}, Loss: {loss.item()}')\n",
    "            torch.save(self.model.state_dict(), file_path(model_path, f'model_epoch_{epoch+1}.pth'))\n",
    "\n",
    "        self.model.eval()\n",
    "        with torch.no_grad():\n",
    "            correct = 0\n",
    "            total = 0\n",
    "            for x, y in test_loader:\n",
    "                output = self.model(x)\n",
    "                _, predicted = torch.max(output.data, 1)\n",
    "                total += y.size(0)\n",
    "                correct += (predicted == y).sum().item()\n",
    "            print('Test Accuracy: %d %%' % (100 * correct / total)) "
   ]
  },
  {
   "cell_type": "code",
   "execution_count": 15,
   "id": "cd2cd233-0d15-45d8-a3e5-3a85495444be",
   "metadata": {},
   "outputs": [
    {
     "data": {
      "text/plain": [
       "'/home/ubuntu/data/diygenomics-projects/math/AdS-CFT/2021_Hashimoto_Neural_ODE_and_holographic_QCD_PUB/mathpix/lstm_character_level_v1/model_epoch_50.pth'"
      ]
     },
     "execution_count": 15,
     "metadata": {},
     "output_type": "execute_result"
    }
   ],
   "source": [
    "file_path(model_path, f'model_epoch_50.pth')"
   ]
  },
  {
   "cell_type": "code",
   "execution_count": 19,
   "id": "94e6e480-cc3c-400a-94c7-767c212ab292",
   "metadata": {},
   "outputs": [
    {
     "data": {
      "text/plain": [
       "CharPredictor(\n",
       "  (lstm): LSTM(1, 1024, batch_first=True)\n",
       "  (fc): Linear(in_features=1024, out_features=68, bias=True)\n",
       ")"
      ]
     },
     "execution_count": 19,
     "metadata": {},
     "output_type": "execute_result"
    }
   ],
   "source": [
    "text_generator = LSTMTextGenerator(latex_corpus, hidden_size=1024)\n",
    "text_generator.model.load_state_dict(torch.load(file_path(model_path, f'model_epoch_50.pth')))\n",
    "text_generator.model.eval()"
   ]
  },
  {
   "cell_type": "code",
   "execution_count": 29,
   "id": "1d1476bd-f9b2-4e97-84e9-dc9c301e49bb",
   "metadata": {
    "tags": []
   },
   "outputs": [],
   "source": [
    "def get_embedding(text):\n",
    "    return text_generator.get_embeddings(text).tolist()[0][0]"
   ]
  },
  {
   "cell_type": "code",
   "execution_count": 30,
   "id": "19a63826-fbc4-4ed0-a2ff-ecb0633b9cfe",
   "metadata": {
    "tags": []
   },
   "outputs": [],
   "source": [
    "df['lstm_character_level_v1_clean_math_embeddings'] = df['clean_math'].apply(get_embedding)"
   ]
  },
  {
   "cell_type": "code",
   "execution_count": 33,
   "id": "3746308f-e2b6-45a2-b596-52aabeae340f",
   "metadata": {
    "tags": []
   },
   "outputs": [],
   "source": [
    "df.to_csv(file_path(output_file), quoting=csv.QUOTE_MINIMAL)"
   ]
  },
  {
   "cell_type": "code",
   "execution_count": null,
   "id": "4bdc6301-f3eb-45a9-bc1c-d529bceb7d1e",
   "metadata": {},
   "outputs": [],
   "source": []
  }
 ],
 "metadata": {
  "kernelspec": {
   "display_name": "Python 3 (ipykernel)",
   "language": "python",
   "name": "python3"
  },
  "language_info": {
   "codemirror_mode": {
    "name": "ipython",
    "version": 3
   },
   "file_extension": ".py",
   "mimetype": "text/x-python",
   "name": "python",
   "nbconvert_exporter": "python",
   "pygments_lexer": "ipython3",
   "version": "3.9.13"
  }
 },
 "nbformat": 4,
 "nbformat_minor": 5
}
