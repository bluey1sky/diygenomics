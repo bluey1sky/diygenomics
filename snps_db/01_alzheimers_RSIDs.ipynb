{
 "cells": [
  {
   "cell_type": "code",
   "execution_count": 1,
   "id": "f717b7db-6f11-4cac-95a5-194188fcce07",
   "metadata": {
    "tags": []
   },
   "outputs": [
    {
     "data": {
      "application/vnd.jupyter.widget-view+json": {
       "model_id": "2af6c72a446c48beb9b8e7059185b7f8",
       "version_major": 2,
       "version_minor": 0
      },
      "text/plain": [
       "0it [00:00, ?it/s]"
      ]
     },
     "metadata": {},
     "output_type": "display_data"
    }
   ],
   "source": [
    "%load_ext autoreload\n",
    "%autoreload 2\n",
    "\n",
    "import csv\n",
    "import json\n",
    "import openai\n",
    "import os\n",
    "import pandas as pd\n",
    "import uuid\n",
    "\n",
    "import torch\n",
    "\n",
    "from sentence_transformers import SentenceTransformer\n",
    "from tqdm.notebook import tqdm_notebook\n",
    "from transformers import AutoModel, AutoTokenizer\n",
    "\n",
    "from tqdm.notebook import tqdm_notebook\n",
    "tqdm_notebook().pandas()\n",
    "\n",
    "pd.set_option('display.max_colwidth', None)"
   ]
  },
  {
   "cell_type": "code",
   "execution_count": 2,
   "id": "2c30a1c8-6828-4da9-bf58-2d7963759ff7",
   "metadata": {
    "tags": []
   },
   "outputs": [],
   "source": [
    "project_folder = \"diygenomics-projects\"\n",
    "sub_category = \"DATA\"\n",
    "work_bucket = \"RSIDs\"\n",
    "\n",
    "input_file = 'Alzheimers RSIDs - consolidated 061823.csv'\n",
    "output_file = 'truth_alzheimers_RSIDs_consolidated_061823.csv'\n",
    "\n",
    "index_col = 'uuid'\n",
    "\n",
    "openai_model = 'text-embedding-ada-002'"
   ]
  },
  {
   "cell_type": "code",
   "execution_count": 3,
   "id": "f5d066c9-c3b4-4960-9f83-5e6ae457122c",
   "metadata": {
    "tags": []
   },
   "outputs": [],
   "source": [
    "data_path = os.getenv('DATA_PATH')\n",
    "file_path = lambda *args: os.path.join(data_path, project_folder, sub_category, work_bucket, *args)"
   ]
  },
  {
   "cell_type": "code",
   "execution_count": 4,
   "id": "8705e099-b71b-4c27-922b-93c068b828e5",
   "metadata": {
    "tags": []
   },
   "outputs": [],
   "source": [
    "base_df = pd.read_csv(file_path(input_file))"
   ]
  },
  {
   "cell_type": "code",
   "execution_count": 5,
   "id": "9a4c68bd-4d0e-46db-ba77-217bf79bf877",
   "metadata": {
    "tags": []
   },
   "outputs": [],
   "source": [
    "if os.path.exists(file_path(output_file)):\n",
    "    df = pd.read_csv(file_path(output_file), index_col=index_col)\n",
    "else:\n",
    "    df = base_df\n",
    "    df['uuid'] = [uuid.uuid4() for _ in range(len(df))]\n",
    "    df.set_index('uuid', inplace=True)"
   ]
  },
  {
   "cell_type": "code",
   "execution_count": 6,
   "id": "ba620ed3-1bc1-4d5b-853d-2b750b177e37",
   "metadata": {},
   "outputs": [
    {
     "data": {
      "text/plain": [
       "314"
      ]
     },
     "execution_count": 6,
     "metadata": {},
     "output_type": "execute_result"
    }
   ],
   "source": [
    "len(df)"
   ]
  },
  {
   "cell_type": "code",
   "execution_count": 7,
   "id": "a0d2ac64-9ccc-4369-89c3-99350b291d6c",
   "metadata": {
    "tags": []
   },
   "outputs": [],
   "source": [
    "df = df[(~df['chr'].isna()) & (~df['gene'].isna()) & (~df['position'].isna()) & (~df['rsid'].isna())]"
   ]
  },
  {
   "cell_type": "code",
   "execution_count": 8,
   "id": "cf2c59b7-647a-4cf2-8985-cdb5e9a82fcf",
   "metadata": {
    "tags": []
   },
   "outputs": [
    {
     "data": {
      "text/plain": [
       "276"
      ]
     },
     "execution_count": 8,
     "metadata": {},
     "output_type": "execute_result"
    }
   ],
   "source": [
    "len(df)"
   ]
  },
  {
   "cell_type": "code",
   "execution_count": 9,
   "id": "877beaeb-2ce2-46df-acd0-70f5f16ff7cc",
   "metadata": {
    "tags": []
   },
   "outputs": [],
   "source": [
    "def get_embedding(text):\n",
    "    return model.encode(text).tolist()"
   ]
  },
  {
   "cell_type": "code",
   "execution_count": 10,
   "id": "ef631810-2059-4ca0-a465-70eade36fc57",
   "metadata": {
    "tags": []
   },
   "outputs": [],
   "source": [
    "def check_nan(value):\n",
    "    if pd.isna(value):\n",
    "        value = ''\n",
    "    return value\n",
    "\n",
    "def create_combined_datapoint_060323(row):\n",
    "    value =  f\"{row['chr']}|{row['position']}|{row['rsid']}|{check_nan(row['A1'])}|{check_nan(row['A2'])}\"\n",
    "    value += f\"|{check_nan(row['AF-MAF'])}|{check_nan(row['OR-Z'])}|{check_nan(row['95% CI'])}\"\n",
    "    value += f\"|{check_nan(row['stage'])}|{check_nan(row['protein'])}|{check_nan(row['probe'])}\"\n",
    "\t\t\t\t\t\n",
    "    return value\n",
    "\n",
    "def create_combined_datapoint_061823(row):\n",
    "    value =  f\"{row['chr']}|{row['gene']}|{row['position']}|{row['rsid']}|{check_nan(row['AF-MAF'])}\"\n",
    "    value += f\"|{check_nan(row['OR-Z'])}|{check_nan(row['95% CI'])}\"\n",
    "    value += f\"|{check_nan(row['protein'])}|{check_nan(row['probe'])}\"\n",
    "\t\t\t\t\t\n",
    "    return value"
   ]
  },
  {
   "cell_type": "code",
   "execution_count": 11,
   "id": "cd18832f-83ec-48bc-9889-597a8a805efb",
   "metadata": {
    "tags": []
   },
   "outputs": [
    {
     "data": {
      "application/vnd.jupyter.widget-view+json": {
       "model_id": "68c7093785774ea28bc8c3b99a6f3023",
       "version_major": 2,
       "version_minor": 0
      },
      "text/plain": [
       "  0%|          | 0/276 [00:00<?, ?it/s]"
      ]
     },
     "metadata": {},
     "output_type": "display_data"
    },
    {
     "name": "stderr",
     "output_type": "stream",
     "text": [
      "/var/folders/7_/yy9g2__x67z57sxy1p8rztph0000gn/T/ipykernel_62217/448432458.py:1: SettingWithCopyWarning: \n",
      "A value is trying to be set on a copy of a slice from a DataFrame.\n",
      "Try using .loc[row_indexer,col_indexer] = value instead\n",
      "\n",
      "See the caveats in the documentation: https://pandas.pydata.org/pandas-docs/stable/user_guide/indexing.html#returning-a-view-versus-a-copy\n",
      "  df['combined_data'] = df.progress_apply(lambda row: create_combined_datapoint_061823(row), axis=1)\n"
     ]
    }
   ],
   "source": [
    "df['combined_data'] = df.progress_apply(lambda row: create_combined_datapoint_061823(row), axis=1)"
   ]
  },
  {
   "cell_type": "code",
   "execution_count": 12,
   "id": "4fb561d5-6225-4951-a149-0aa26b3c7398",
   "metadata": {
    "tags": []
   },
   "outputs": [
    {
     "data": {
      "application/vnd.jupyter.widget-view+json": {
       "model_id": "bc812e6f5e5348f08219c1c0856d6f14",
       "version_major": 2,
       "version_minor": 0
      },
      "text/plain": [
       "  0%|          | 0/276 [00:00<?, ?it/s]"
      ]
     },
     "metadata": {},
     "output_type": "display_data"
    },
    {
     "name": "stderr",
     "output_type": "stream",
     "text": [
      "/var/folders/7_/yy9g2__x67z57sxy1p8rztph0000gn/T/ipykernel_62217/334974729.py:1: SettingWithCopyWarning: \n",
      "A value is trying to be set on a copy of a slice from a DataFrame.\n",
      "Try using .loc[row_indexer,col_indexer] = value instead\n",
      "\n",
      "See the caveats in the documentation: https://pandas.pydata.org/pandas-docs/stable/user_guide/indexing.html#returning-a-view-versus-a-copy\n",
      "  df['openai_combined_data_embeddings'] = df['combined_data'].progress_apply(lambda x: openai.Embedding.create(input=x, engine=openai_model, temperature=0,)['data'][0]['embedding'])\n"
     ]
    }
   ],
   "source": [
    "df['openai_combined_data_embeddings'] = df['combined_data'].progress_apply(lambda x: openai.Embedding.create(input=x, engine=openai_model, temperature=0,)['data'][0]['embedding'])"
   ]
  },
  {
   "cell_type": "code",
   "execution_count": 13,
   "id": "219bdabd-53bd-4526-8cfb-040718400724",
   "metadata": {
    "tags": []
   },
   "outputs": [
    {
     "name": "stderr",
     "output_type": "stream",
     "text": [
      "/var/folders/7_/yy9g2__x67z57sxy1p8rztph0000gn/T/ipykernel_62217/3900631620.py:2: SettingWithCopyWarning: \n",
      "A value is trying to be set on a copy of a slice from a DataFrame.\n",
      "Try using .loc[row_indexer,col_indexer] = value instead\n",
      "\n",
      "See the caveats in the documentation: https://pandas.pydata.org/pandas-docs/stable/user_guide/indexing.html#returning-a-view-versus-a-copy\n",
      "  df['codesearch_combined_data_embeddings'] = df['combined_data'].apply(get_embedding)\n"
     ]
    }
   ],
   "source": [
    "model = SentenceTransformer('flax-sentence-embeddings/st-codesearch-distilroberta-base')\n",
    "df['codesearch_combined_data_embeddings'] = df['combined_data'].apply(get_embedding)"
   ]
  },
  {
   "cell_type": "code",
   "execution_count": 14,
   "id": "417a4c20-ddeb-4e65-b16f-0882e9e765d0",
   "metadata": {
    "tags": []
   },
   "outputs": [
    {
     "name": "stderr",
     "output_type": "stream",
     "text": [
      "/var/folders/7_/yy9g2__x67z57sxy1p8rztph0000gn/T/ipykernel_62217/3644977432.py:2: SettingWithCopyWarning: \n",
      "A value is trying to be set on a copy of a slice from a DataFrame.\n",
      "Try using .loc[row_indexer,col_indexer] = value instead\n",
      "\n",
      "See the caveats in the documentation: https://pandas.pydata.org/pandas-docs/stable/user_guide/indexing.html#returning-a-view-versus-a-copy\n",
      "  df['multi_qa_combined_data_embeddings'] = df['combined_data'].apply(get_embedding)\n"
     ]
    }
   ],
   "source": [
    "model = SentenceTransformer('sentence-transformers/multi-qa-MiniLM-L6-cos-v1')\n",
    "df['multi_qa_combined_data_embeddings'] = df['combined_data'].apply(get_embedding)"
   ]
  },
  {
   "cell_type": "code",
   "execution_count": 15,
   "id": "0373309d-88e1-4ab4-884f-f8ee39876935",
   "metadata": {
    "tags": []
   },
   "outputs": [
    {
     "name": "stderr",
     "output_type": "stream",
     "text": [
      "Some weights of the model checkpoint at witiko/mathberta were not used when initializing RobertaModel: ['lm_head.dense.bias', 'lm_head.layer_norm.weight', 'lm_head.bias', 'lm_head.dense.weight', 'lm_head.layer_norm.bias']\n",
      "- This IS expected if you are initializing RobertaModel from the checkpoint of a model trained on another task or with another architecture (e.g. initializing a BertForSequenceClassification model from a BertForPreTraining model).\n",
      "- This IS NOT expected if you are initializing RobertaModel from the checkpoint of a model that you expect to be exactly identical (initializing a BertForSequenceClassification model from a BertForSequenceClassification model).\n",
      "Some weights of RobertaModel were not initialized from the model checkpoint at witiko/mathberta and are newly initialized: ['roberta.pooler.dense.bias', 'roberta.pooler.dense.weight']\n",
      "You should probably TRAIN this model on a down-stream task to be able to use it for predictions and inference.\n"
     ]
    }
   ],
   "source": [
    "model_name = 'witiko/mathberta'\n",
    "tokenizer = AutoTokenizer.from_pretrained(model_name)\n",
    "model = AutoModel.from_pretrained(model_name)"
   ]
  },
  {
   "cell_type": "code",
   "execution_count": 16,
   "id": "e491c3f7-8387-4357-80e2-8594d6b52c7d",
   "metadata": {
    "tags": []
   },
   "outputs": [],
   "source": [
    "def get_model_embeddings(text):\n",
    "    if len(text) > 514:\n",
    "        text = text[:514]\n",
    "    tokenized_text = tokenizer.tokenize(text)\n",
    "    input_ids = tokenizer.convert_tokens_to_ids(tokenized_text)\n",
    "    input_ids = torch.tensor([input_ids])\n",
    "    with torch.no_grad():\n",
    "        outputs = model(input_ids)\n",
    "        embeddings = outputs.last_hidden_state\n",
    "    return embeddings.numpy().tolist()[0][0]"
   ]
  },
  {
   "cell_type": "code",
   "execution_count": 17,
   "id": "6ce62c35-188c-4720-93c1-a28dab7e636d",
   "metadata": {
    "tags": []
   },
   "outputs": [
    {
     "name": "stderr",
     "output_type": "stream",
     "text": [
      "/var/folders/7_/yy9g2__x67z57sxy1p8rztph0000gn/T/ipykernel_62217/4141093550.py:1: SettingWithCopyWarning: \n",
      "A value is trying to be set on a copy of a slice from a DataFrame.\n",
      "Try using .loc[row_indexer,col_indexer] = value instead\n",
      "\n",
      "See the caveats in the documentation: https://pandas.pydata.org/pandas-docs/stable/user_guide/indexing.html#returning-a-view-versus-a-copy\n",
      "  df['mathbert_combined_data_embeddings'] = df['combined_data'].apply(get_model_embeddings)\n"
     ]
    }
   ],
   "source": [
    "df['mathbert_combined_data_embeddings'] = df['combined_data'].apply(get_model_embeddings)"
   ]
  },
  {
   "cell_type": "code",
   "execution_count": 29,
   "id": "882b7256-993f-4a7c-8e6f-5143b490088d",
   "metadata": {
    "tags": []
   },
   "outputs": [
    {
     "data": {
      "application/vnd.jupyter.widget-view+json": {
       "model_id": "a42825b6727b44a88e1a33a954c8878b",
       "version_major": 2,
       "version_minor": 0
      },
      "text/plain": [
       "  0%|          | 0/276 [00:00<?, ?it/s]"
      ]
     },
     "metadata": {},
     "output_type": "display_data"
    },
    {
     "name": "stderr",
     "output_type": "stream",
     "text": [
      "/var/folders/7_/yy9g2__x67z57sxy1p8rztph0000gn/T/ipykernel_62217/3425236935.py:4: SettingWithCopyWarning: \n",
      "A value is trying to be set on a copy of a slice from a DataFrame.\n",
      "Try using .loc[row_indexer,col_indexer] = value instead\n",
      "\n",
      "See the caveats in the documentation: https://pandas.pydata.org/pandas-docs/stable/user_guide/indexing.html#returning-a-view-versus-a-copy\n",
      "  df['tooltip'] = df.progress_apply(lambda row: create_tooltip_061823(row), axis=1)\n"
     ]
    }
   ],
   "source": [
    "def create_tooltip_061823(row):\n",
    "    return f\"Gene: {row['gene']}\\nRSID: {row['rsid']}\"\n",
    "\n",
    "df['tooltip'] = df.progress_apply(lambda row: create_tooltip_061823(row), axis=1)"
   ]
  },
  {
   "cell_type": "code",
   "execution_count": 32,
   "id": "fa114940-393a-47e8-9707-1ed2f4f98510",
   "metadata": {
    "tags": []
   },
   "outputs": [],
   "source": [
    "df.to_csv(file_path(output_file), quoting=csv.QUOTE_MINIMAL)"
   ]
  },
  {
   "cell_type": "code",
   "execution_count": 19,
   "id": "54ace4a8-a1c3-489e-a58b-a1edf65e7aa8",
   "metadata": {
    "tags": []
   },
   "outputs": [],
   "source": [
    "# sb.glue('status', 'completed')"
   ]
  },
  {
   "cell_type": "code",
   "execution_count": null,
   "id": "55672a74-89d2-4f75-a31a-eb317cdf3ba3",
   "metadata": {},
   "outputs": [],
   "source": []
  }
 ],
 "metadata": {
  "kernelspec": {
   "display_name": "Python 3 (ipykernel)",
   "language": "python",
   "name": "python3"
  },
  "language_info": {
   "codemirror_mode": {
    "name": "ipython",
    "version": 3
   },
   "file_extension": ".py",
   "mimetype": "text/x-python",
   "name": "python",
   "nbconvert_exporter": "python",
   "pygments_lexer": "ipython3",
   "version": "3.11.0"
  }
 },
 "nbformat": 4,
 "nbformat_minor": 5
}
