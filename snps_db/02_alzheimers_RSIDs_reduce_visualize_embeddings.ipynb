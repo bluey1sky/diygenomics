{
 "cells": [
  {
   "cell_type": "code",
   "execution_count": 1,
   "id": "8a4fb52c-2634-4295-aa2c-1f60744a6b98",
   "metadata": {
    "tags": []
   },
   "outputs": [
    {
     "name": "stderr",
     "output_type": "stream",
     "text": [
      "/Users/Eric/anaconda3/envs/diygenomics/lib/python3.11/site-packages/umap/distances.py:1063: NumbaDeprecationWarning: The 'nopython' keyword argument was not supplied to the 'numba.jit' decorator. The implicit default value for this argument is currently False, but it will be changed to True in Numba 0.59.0. See https://numba.readthedocs.io/en/stable/reference/deprecation.html#deprecation-of-object-mode-fall-back-behaviour-when-using-jit for details.\n",
      "  @numba.jit()\n",
      "/Users/Eric/anaconda3/envs/diygenomics/lib/python3.11/site-packages/umap/distances.py:1071: NumbaDeprecationWarning: The 'nopython' keyword argument was not supplied to the 'numba.jit' decorator. The implicit default value for this argument is currently False, but it will be changed to True in Numba 0.59.0. See https://numba.readthedocs.io/en/stable/reference/deprecation.html#deprecation-of-object-mode-fall-back-behaviour-when-using-jit for details.\n",
      "  @numba.jit()\n",
      "/Users/Eric/anaconda3/envs/diygenomics/lib/python3.11/site-packages/umap/distances.py:1086: NumbaDeprecationWarning: The 'nopython' keyword argument was not supplied to the 'numba.jit' decorator. The implicit default value for this argument is currently False, but it will be changed to True in Numba 0.59.0. See https://numba.readthedocs.io/en/stable/reference/deprecation.html#deprecation-of-object-mode-fall-back-behaviour-when-using-jit for details.\n",
      "  @numba.jit()\n",
      "/Users/Eric/anaconda3/envs/diygenomics/lib/python3.11/site-packages/umap/umap_.py:660: NumbaDeprecationWarning: The 'nopython' keyword argument was not supplied to the 'numba.jit' decorator. The implicit default value for this argument is currently False, but it will be changed to True in Numba 0.59.0. See https://numba.readthedocs.io/en/stable/reference/deprecation.html#deprecation-of-object-mode-fall-back-behaviour-when-using-jit for details.\n",
      "  @numba.jit()\n"
     ]
    }
   ],
   "source": [
    "import altair as alt\n",
    "import ast\n",
    "import base64\n",
    "import matplotlib.pyplot as plt\n",
    "import numpy as np\n",
    "import os\n",
    "import pandas as pd\n",
    "import scrapbook as sb\n",
    "import umap\n",
    "import uuid\n",
    "\n",
    "from PIL import Image\n",
    "from io import BytesIO\n",
    "from sklearn.preprocessing import StandardScaler\n",
    "\n",
    "pd.set_option('display.max_colwidth', None)"
   ]
  },
  {
   "cell_type": "code",
   "execution_count": 2,
   "id": "d9b241d8-c45a-4da3-a3fa-51317ec5077c",
   "metadata": {
    "tags": [
     "parameters",
     "base_name",
     "project_folder",
     "sub_category",
     "work_bucket",
     "external_id"
    ]
   },
   "outputs": [],
   "source": [
    "project_folder = \"diygenomics-projects\"\n",
    "sub_category = \"DATA\"\n",
    "work_bucket = \"RSIDs\"\n",
    "\n",
    "version = '_061823'\n",
    "input_file = f'truth_alzheimers_RSIDs_consolidated{version}.csv'"
   ]
  },
  {
   "cell_type": "code",
   "execution_count": 3,
   "id": "ae61970d-3c72-46d9-a14d-639516ed4ed6",
   "metadata": {
    "tags": []
   },
   "outputs": [],
   "source": [
    "data_path = os.getenv('DATA_PATH')\n",
    "file_path = lambda *args: os.path.join(data_path, project_folder, sub_category, work_bucket, *args)\n",
    "\n",
    "index_col = 'uuid'\n",
    "\n",
    "embeddings_folder = f'reduced_embeddings{version}'\n",
    "charts_folder = f'embedding_charts{version}'\n",
    "\n",
    "if not os.path.exists(file_path(embeddings_folder)):\n",
    "    os.makedirs(file_path(embeddings_folder))\n",
    "\n",
    "if not os.path.exists(file_path(charts_folder)):\n",
    "    os.makedirs(file_path(charts_folder))\n",
    "    \n",
    "scaler = StandardScaler()"
   ]
  },
  {
   "cell_type": "code",
   "execution_count": 4,
   "id": "3d5ca067-b9b0-425b-b528-ce6d1a883627",
   "metadata": {
    "tags": []
   },
   "outputs": [],
   "source": [
    "df = pd.read_csv(file_path(input_file), index_col=index_col)"
   ]
  },
  {
   "cell_type": "code",
   "execution_count": 5,
   "id": "912a2cf8-322a-4c12-9cfa-0ba09b624c70",
   "metadata": {
    "tags": []
   },
   "outputs": [],
   "source": [
    "df['openai_combined_data_embeddings'] = df['openai_combined_data_embeddings'].apply(eval)\n",
    "df['codesearch_combined_data_embeddings'] = df['codesearch_combined_data_embeddings'].apply(eval)\n",
    "df['multi_qa_combined_data_embeddings'] = df['multi_qa_combined_data_embeddings'].apply(eval)\n",
    "df['mathbert_combined_data_embeddings'] = df['mathbert_combined_data_embeddings'].apply(eval)"
   ]
  },
  {
   "cell_type": "code",
   "execution_count": 6,
   "id": "4f60811c-1d51-4803-b33e-64d97e44973c",
   "metadata": {
    "tags": []
   },
   "outputs": [],
   "source": [
    "def create_or_load_embedding(column):\n",
    "    embeddings_file = file_path(embeddings_folder, f'{column}_reduced_embeddings.csv')\n",
    "    \n",
    "    if os.path.exists(embeddings_file):\n",
    "        embedding_df = pd.read_csv(embeddings_file, index_col=index_col)\n",
    "    else:\n",
    "        scaled_data = scaler.fit_transform(df[column].to_list())\n",
    "\n",
    "        reducer = umap.UMAP(random_state=42)\n",
    "        embedding = reducer.fit_transform(scaled_data) \n",
    "\n",
    "        embedding_df = pd.DataFrame(embedding, columns=['x', 'y'])\n",
    "\n",
    "        embedding_df['uuid'] = df.index\n",
    "        embedding_df['combined_data'] = df['combined_data'].reset_index(drop=True)\n",
    "        embedding_df['tooltip'] = df['tooltip'].reset_index(drop=True)\n",
    "        \n",
    "        embedding_df.set_index('uuid', inplace=True)\n",
    "        \n",
    "        embedding_df.to_csv(embeddings_file)\n",
    "    \n",
    "    return embedding_df\n",
    "\n",
    "def create_embedding_viz(column):\n",
    "    embedding_df = create_or_load_embedding(column)\n",
    "    embedding_df = embedding_df.reset_index(drop=True)\n",
    "\n",
    "    chart = alt.Chart(embedding_df).mark_circle().encode(\n",
    "        x='x',\n",
    "        y='y',\n",
    "        tooltip=['tooltip']\n",
    "    ).interactive()\n",
    "    \n",
    "    chart = chart.configure_title(\n",
    "        font='Times New Roman'\n",
    "    ).configure_axis(\n",
    "        labelFont='Times New Roman',\n",
    "        titleFont='Times New Roman'\n",
    "    ).configure_legend(\n",
    "        labelFont='Times New Roman',\n",
    "        titleFont='Times New Roman'\n",
    "    ).configure_text(\n",
    "        font='Times New Roman'\n",
    "    )\n",
    "\n",
    "    chart.save(file_path(charts_folder, f'{column}_circle.html'), embed_options={\"downloadFileName\": column})"
   ]
  },
  {
   "cell_type": "code",
   "execution_count": 7,
   "id": "8939dd02-42aa-45b3-936b-cc479cec36d7",
   "metadata": {
    "tags": []
   },
   "outputs": [],
   "source": [
    "create_embedding_viz('openai_combined_data_embeddings')"
   ]
  },
  {
   "cell_type": "code",
   "execution_count": 8,
   "id": "12e15943-6cd8-4e37-b69d-a94166681403",
   "metadata": {
    "tags": []
   },
   "outputs": [
    {
     "name": "stderr",
     "output_type": "stream",
     "text": [
      "OMP: Info #276: omp_set_nested routine deprecated, please use omp_set_max_active_levels instead.\n"
     ]
    }
   ],
   "source": [
    "create_embedding_viz('multi_qa_combined_data_embeddings')"
   ]
  },
  {
   "cell_type": "code",
   "execution_count": 9,
   "id": "dd4ef1e1-cba2-4877-a59d-0191cf9f6017",
   "metadata": {
    "tags": []
   },
   "outputs": [],
   "source": [
    "create_embedding_viz('codesearch_combined_data_embeddings')"
   ]
  },
  {
   "cell_type": "code",
   "execution_count": 10,
   "id": "fdf8c491-f74d-42bc-bfd4-3faa353c3e04",
   "metadata": {
    "tags": []
   },
   "outputs": [],
   "source": [
    "create_embedding_viz('mathbert_combined_data_embeddings')"
   ]
  },
  {
   "cell_type": "code",
   "execution_count": 11,
   "id": "aa712f85-8a08-469c-8219-2530b9aaeb62",
   "metadata": {
    "tags": []
   },
   "outputs": [],
   "source": [
    "def get_circle_chart(column):\n",
    "    embedding_df = create_or_load_embedding(column)\n",
    "    embedding_df = embedding_df.reset_index(drop=True)\n",
    "\n",
    "    chart = alt.Chart(embedding_df).mark_circle().encode(\n",
    "        x='x',\n",
    "        y='y',\n",
    "        tooltip=['tooltip']\n",
    "    ).properties(\n",
    "        title=column\n",
    "    ).interactive()\n",
    "    \n",
    "    return chart\n",
    "\n",
    "def create_group_embedding_viz(column_a, column_b, column_c, column_d):\n",
    "    chart_a = get_circle_chart(column_a)\n",
    "    chart_b = get_circle_chart(column_b)\n",
    "    chart_c = get_circle_chart(column_c)\n",
    "    chart_d = get_circle_chart(column_d)\n",
    "\n",
    "    combined_chart = alt.hconcat(\n",
    "        alt.vconcat(chart_a, chart_b),\n",
    "        alt.vconcat(chart_c, chart_d)\n",
    "    )\n",
    "\n",
    "    combined_chart = combined_chart.configure_title(\n",
    "        font='Times New Roman'\n",
    "    ).configure_axis(\n",
    "        labelFont='Times New Roman',\n",
    "        titleFont='Times New Roman'\n",
    "    ).configure_legend(\n",
    "        labelFont='Times New Roman',\n",
    "        titleFont='Times New Roman'\n",
    "    ).configure_text(\n",
    "        font='Times New Roman'\n",
    "    )\n",
    "\n",
    "    combined_chart.save(file_path(charts_folder, f'combined_circle.html'), embed_options={\"downloadFileName\": 'combined_circle'})"
   ]
  },
  {
   "cell_type": "code",
   "execution_count": 12,
   "id": "5aabdd96-c233-4083-a897-43f86ce51c2c",
   "metadata": {
    "tags": []
   },
   "outputs": [],
   "source": [
    "create_group_embedding_viz('openai_combined_data_embeddings', 'multi_qa_combined_data_embeddings', \n",
    "                           'codesearch_combined_data_embeddings', 'mathbert_combined_data_embeddings')"
   ]
  },
  {
   "cell_type": "code",
   "execution_count": null,
   "id": "a47f9b0f-9a87-4115-896a-d32505f4e03d",
   "metadata": {},
   "outputs": [],
   "source": [
    "# sb.glue('status', 'completed')"
   ]
  }
 ],
 "metadata": {
  "kernelspec": {
   "display_name": "Python 3 (ipykernel)",
   "language": "python",
   "name": "python3"
  },
  "language_info": {
   "codemirror_mode": {
    "name": "ipython",
    "version": 3
   },
   "file_extension": ".py",
   "mimetype": "text/x-python",
   "name": "python",
   "nbconvert_exporter": "python",
   "pygments_lexer": "ipython3",
   "version": "3.11.0"
  }
 },
 "nbformat": 4,
 "nbformat_minor": 5
}
