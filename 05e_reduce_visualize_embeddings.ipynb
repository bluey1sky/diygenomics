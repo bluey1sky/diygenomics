{
 "cells": [
  {
   "cell_type": "code",
   "execution_count": null,
   "id": "8a4fb52c-2634-4295-aa2c-1f60744a6b98",
   "metadata": {
    "tags": []
   },
   "outputs": [],
   "source": [
    "import altair as alt\n",
    "import ast\n",
    "import base64\n",
    "import numpy as np\n",
    "import os\n",
    "import pandas as pd\n",
    "import umap\n",
    "\n",
    "from PIL import Image\n",
    "from io import BytesIO\n",
    "from sklearn.preprocessing import StandardScaler\n",
    "\n",
    "pd.set_option('display.max_colwidth', None)"
   ]
  },
  {
   "cell_type": "code",
   "execution_count": null,
   "id": "d9b241d8-c45a-4da3-a3fa-51317ec5077c",
   "metadata": {
    "tags": []
   },
   "outputs": [],
   "source": [
    "base_name = \"2021_Hashimoto_Neural_ODE_and_holographic_QCD_PUB\"\n",
    "project_folder = \"diygenomics-projects\"\n",
    "sub_category = \"math\"\n",
    "work_bucket = \"AdS-CFT\"\n",
    "external_id = \"2023_05_22_92dc0613b4493d7b5847g\""
   ]
  },
  {
   "cell_type": "code",
   "execution_count": null,
   "id": "ae61970d-3c72-46d9-a14d-639516ed4ed6",
   "metadata": {
    "tags": []
   },
   "outputs": [],
   "source": [
    "data_path = os.getenv('DATA_PATH')\n",
    "file_path = lambda *args: os.path.join(data_path, project_folder, sub_category, work_bucket,\n",
    "                                       base_name, 'mathpix', *args)\n",
    "\n",
    "index_col = 'uuid'\n",
    "\n",
    "if not os.path.exists(file_path('math_embedding_charts')):\n",
    "    os.makedirs(file_path('math_embedding_charts'))\n",
    "    \n",
    "scaler = StandardScaler()"
   ]
  },
  {
   "cell_type": "code",
   "execution_count": null,
   "id": "3d5ca067-b9b0-425b-b528-ce6d1a883627",
   "metadata": {
    "tags": []
   },
   "outputs": [],
   "source": [
    "df = pd.read_csv(file_path('extracted_annotated_math.csv'), index_col=index_col)"
   ]
  },
  {
   "cell_type": "code",
   "execution_count": null,
   "id": "912a2cf8-322a-4c12-9cfa-0ba09b624c70",
   "metadata": {
    "tags": []
   },
   "outputs": [],
   "source": [
    "df['openai_math_embeddings'] = df['openai_math_embeddings'].apply(eval)\n",
    "df['openai_sympy_embeddings'] = df['openai_sympy_embeddings'].apply(eval)\n",
    "df['openai_clean_math_embeddings'] = df['openai_clean_math_embeddings'].apply(eval)"
   ]
  },
  {
   "cell_type": "code",
   "execution_count": null,
   "id": "f82cda92-a0da-4589-b0d7-835f49cb6df5",
   "metadata": {
    "tags": []
   },
   "outputs": [],
   "source": [
    "df['codesearch_math_embeddings'] = df['codesearch_math_embeddings'].apply(eval)\n",
    "df['codesearch_sympy_embeddings'] = df['codesearch_sympy_embeddings'].apply(eval)\n",
    "df['codesearch_clean_math_embeddings'] = df['codesearch_clean_math_embeddings'].apply(eval)"
   ]
  },
  {
   "cell_type": "code",
   "execution_count": null,
   "id": "dde36096-f0e9-4dd3-8280-cce974f67f33",
   "metadata": {
    "tags": []
   },
   "outputs": [],
   "source": [
    "df['multi_qa_math_embeddings'] = df['multi_qa_math_embeddings'].apply(eval)\n",
    "df['multi_qa_sympy_embeddings'] = df['multi_qa_sympy_embeddings'].apply(eval)\n",
    "df['multi_qa_clean_math_embeddings'] = df['multi_qa_clean_math_embeddings'].apply(eval)"
   ]
  },
  {
   "cell_type": "code",
   "execution_count": null,
   "id": "05ae51ec-160b-48f0-aa00-df0fd7468f79",
   "metadata": {
    "tags": []
   },
   "outputs": [],
   "source": [
    "df['mathbert_math_embeddings'] = df['mathbert_math_embeddings'].apply(eval)\n",
    "df['mathbert_sympy_embeddings'] = df['mathbert_sympy_embeddings'].apply(eval)\n",
    "df['mathbert_clean_math_embeddings'] = df['mathbert_clean_math_embeddings'].apply(eval)"
   ]
  },
  {
   "cell_type": "code",
   "execution_count": null,
   "id": "4829f74f-bed6-4d91-950d-61371c30da71",
   "metadata": {
    "tags": []
   },
   "outputs": [],
   "source": [
    "def format_image(im):\n",
    "    with BytesIO() as buffer:\n",
    "        im.save(buffer, 'png')\n",
    "        data = base64.encodebytes(buffer.getvalue()).decode('utf-8')\n",
    "    \n",
    "    return f'data:image/png;base64,{data}'\n",
    "\n",
    "def load_local_image(image_name):\n",
    "    img = Image.open(file_path('math_images', image_name))\n",
    "    img.thumbnail((250, 250))\n",
    "    return format_image(img)\n",
    "\n",
    "df['embedded_math_image'] = df['display_math_image'].apply(load_local_image)"
   ]
  },
  {
   "cell_type": "code",
   "execution_count": null,
   "id": "4f60811c-1d51-4803-b33e-64d97e44973c",
   "metadata": {
    "tags": []
   },
   "outputs": [],
   "source": [
    "def create_embedding_viz(column, output_file):\n",
    "    scaled_data = scaler.fit_transform(df[column].to_list())\n",
    "\n",
    "    reducer = umap.UMAP(random_state=42)\n",
    "    embedding = reducer.fit_transform(scaled_data) \n",
    "    \n",
    "    embedding_df = pd.DataFrame(embedding, columns=['x', 'y'])\n",
    "\n",
    "    embedding_df['image'] = df['embedded_math_image'].reset_index(drop=True)\n",
    "    \n",
    "    chart = alt.Chart(embedding_df).mark_circle().encode(\n",
    "        x='x',\n",
    "        y='y',\n",
    "        tooltip=['image']\n",
    "    ).interactive()\n",
    "\n",
    "    chart.save(file_path('math_embedding_charts', output_file))"
   ]
  },
  {
   "cell_type": "code",
   "execution_count": null,
   "id": "8939dd02-42aa-45b3-936b-cc479cec36d7",
   "metadata": {
    "tags": []
   },
   "outputs": [],
   "source": [
    "create_embedding_viz('openai_math_embeddings', 'openai_math_embeddings.html')\n",
    "create_embedding_viz('openai_sympy_embeddings', 'openai_sympy_embeddings.html')\n",
    "create_embedding_viz('openai_clean_math_embeddings', 'openai_clean_math_embeddings.html')"
   ]
  },
  {
   "cell_type": "code",
   "execution_count": null,
   "id": "12e15943-6cd8-4e37-b69d-a94166681403",
   "metadata": {
    "tags": []
   },
   "outputs": [],
   "source": [
    "create_embedding_viz('multi_qa_math_embeddings', 'multi_qa_math_embeddings.html')\n",
    "create_embedding_viz('multi_qa_sympy_embeddings', 'multi_qa_sympy_embeddings.html')\n",
    "create_embedding_viz('multi_qa_clean_math_embeddings', 'multi_qa_clean_math_embeddings.html')"
   ]
  },
  {
   "cell_type": "code",
   "execution_count": null,
   "id": "dd4ef1e1-cba2-4877-a59d-0191cf9f6017",
   "metadata": {
    "tags": []
   },
   "outputs": [],
   "source": [
    "create_embedding_viz('codesearch_math_embeddings', 'codesearch_math_embeddings.html')\n",
    "create_embedding_viz('codesearch_sympy_embeddings', 'codesearch_sympy_embeddings.html')\n",
    "create_embedding_viz('codesearch_clean_math_embeddings', 'codesearch_clean_math_embeddings.html')"
   ]
  },
  {
   "cell_type": "code",
   "execution_count": null,
   "id": "fdf8c491-f74d-42bc-bfd4-3faa353c3e04",
   "metadata": {
    "tags": []
   },
   "outputs": [],
   "source": [
    "create_embedding_viz('mathbert_math_embeddings', 'mathbert_math_embeddings.html')\n",
    "create_embedding_viz('mathbert_sympy_embeddings', 'mathbert_sympy_embeddings.html')\n",
    "create_embedding_viz('mathbert_clean_math_embeddings', 'mathbert_clean_math_embeddings.html')"
   ]
  },
  {
   "cell_type": "code",
   "execution_count": null,
   "id": "b3746bfc-30fc-4897-aed0-953b6057c581",
   "metadata": {},
   "outputs": [],
   "source": []
  }
 ],
 "metadata": {
  "kernelspec": {
   "display_name": "Python 3 (ipykernel)",
   "language": "python",
   "name": "python3"
  },
  "language_info": {
   "codemirror_mode": {
    "name": "ipython",
    "version": 3
   },
   "file_extension": ".py",
   "mimetype": "text/x-python",
   "name": "python",
   "nbconvert_exporter": "python",
   "pygments_lexer": "ipython3",
   "version": "3.11.0"
  }
 },
 "nbformat": 4,
 "nbformat_minor": 5
}
