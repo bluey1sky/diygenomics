{
 "cells": [
  {
   "cell_type": "code",
   "execution_count": null,
   "id": "96b99b0d-8b03-4424-b6d0-918d87b0621a",
   "metadata": {
    "tags": []
   },
   "outputs": [],
   "source": [
    "import base64\n",
    "import json\n",
    "import os\n",
    "import requests"
   ]
  },
  {
   "cell_type": "code",
   "execution_count": null,
   "id": "e992942a-1d70-4be3-a506-0e8095d983bc",
   "metadata": {
    "tags": []
   },
   "outputs": [],
   "source": [
    "data_path = os.getenv('DATA_PATH')\n",
    "file_path = lambda *args: os.path.join(data_path, 'diygenomics-projects', 'experiment-a', *args)\n",
    "\n",
    "file_name = '2021_Wightman-Posthuma_A_genomewide_association_study_with_112_563_individuals_identifies_new_risk_loci_for_Alzheimers_disease.pdf'\n",
    "\n",
    "endpoint = 'https://api.mathpix.com/v3/'\n",
    "extensions = ['.mmd', '.docx', '.tex', '.html', '.lines.json', '.lines.mmd.json']\n",
    "app_id = os.getenv('MATHPIX_APP_ID')\n",
    "app_key = os.getenv('MATHPIX_APP_KEY')\n",
    "\n",
    "headers = {\n",
    "    'app_id': app_id,\n",
    "    'app_key': app_key,\n",
    "}\n",
    "\n",
    "conversion_options = {\n",
    "    'conversion_formats': {'docx': True, 'tex.zip': True},\n",
    "    'math_inline_delimiters': ['$', '$'],\n",
    "    'rm_spaces': True\n",
    "}\n",
    "\n",
    "base_name = os.path.splitext(os.path.basename(file_name))[0].replace(' ', '_')\n",
    "\n",
    "if not os.path.exists(file_path(base_name)):\n",
    "    os.mkdir(file_path(base_name))\n",
    "    \n",
    "if not os.path.exists(file_path(base_name, 'mathpix')):\n",
    "    os.mkdir(file_path(base_name, 'mathpix'))"
   ]
  },
  {
   "cell_type": "code",
   "execution_count": null,
   "id": "3270a598-f363-44d0-b17c-4faa34cd0091",
   "metadata": {},
   "outputs": [],
   "source": [
    "def download_file(pdf_id, extension):\n",
    "    file_with_extension = f'{pdf_id}{extension}'\n",
    "    url = os.path.join(endpoint, 'pdf', file_with_extension) \n",
    "    response = requests.get(url, headers=headers)\n",
    "    if extension == '.tex':\n",
    "        file_with_extension = f'{file_with_extension}.zip'\n",
    "        \n",
    "    if extension == '.mmd':\n",
    "        with open(file_path(base_name, 'mathpix', file_with_extension), \"w\") as f:\n",
    "                f.write(response.text) \n",
    "    else:\n",
    "         with open(file_path(base_name, 'mathpix', file_with_extension), \"wb\") as f:\n",
    "                f.write(response.content)        "
   ]
  },
  {
   "cell_type": "code",
   "execution_count": null,
   "id": "b6f2cce8-e6bb-4d34-8533-df5f1aa760a4",
   "metadata": {
    "tags": []
   },
   "outputs": [],
   "source": [
    "r = requests.post(os.path.join(endpoint, 'pdf'),\n",
    "    headers=headers,\n",
    "    data={\n",
    "        'options_json': json.dumps(conversion_options)\n",
    "    },\n",
    "    files={\n",
    "        'file': open(file_path(file_name), 'rb')\n",
    "    }\n",
    ")"
   ]
  },
  {
   "cell_type": "code",
   "execution_count": null,
   "id": "4e1bf51d-4ade-48c8-b433-826ab6e0c54f",
   "metadata": {
    "tags": []
   },
   "outputs": [],
   "source": [
    "pdf_id = r.json()['pdf_id']"
   ]
  },
  {
   "cell_type": "code",
   "execution_count": null,
   "id": "b4905039-4f7a-41f7-ad62-d2f4a97cd95f",
   "metadata": {
    "tags": []
   },
   "outputs": [],
   "source": [
    "# check conversion status\n",
    "# TODO wait until complete then next step\n",
    "r = requests.post(os.path.join(endpoint, 'converter', pdf_id),\n",
    "    headers=headers\n",
    ")"
   ]
  },
  {
   "cell_type": "code",
   "execution_count": null,
   "id": "742ad854-9c02-4438-a713-3c97fe36f682",
   "metadata": {
    "tags": []
   },
   "outputs": [],
   "source": [
    "for extension in extensions:\n",
    "    download_file(pdf_id, extension)"
   ]
  }
 ],
 "metadata": {
  "kernelspec": {
   "display_name": "Python 3 (ipykernel)",
   "language": "python",
   "name": "python3"
  },
  "language_info": {
   "codemirror_mode": {
    "name": "ipython",
    "version": 3
   },
   "file_extension": ".py",
   "mimetype": "text/x-python",
   "name": "python",
   "nbconvert_exporter": "python",
   "pygments_lexer": "ipython3",
   "version": "3.11.0"
  }
 },
 "nbformat": 4,
 "nbformat_minor": 5
}
