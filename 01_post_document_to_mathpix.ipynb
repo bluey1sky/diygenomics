{
 "cells": [
  {
   "cell_type": "code",
   "execution_count": null,
   "id": "96b99b0d-8b03-4424-b6d0-918d87b0621a",
   "metadata": {
    "tags": []
   },
   "outputs": [],
   "source": [
    "import base64\n",
    "import json\n",
    "import os\n",
    "import papermill as pm\n",
    "import requests\n",
    "import scrapbook as sb\n",
    "import time"
   ]
  },
  {
   "cell_type": "code",
   "execution_count": null,
   "id": "fb964ab4-682e-4578-a615-1eeed537f47c",
   "metadata": {
    "tags": [
     "parameters",
     "data_path",
     "file_path",
     "work_bucket"
    ]
   },
   "outputs": [],
   "source": [
    "# file_name\n",
    "# base_name\n",
    "# work_bucket"
   ]
  },
  {
   "cell_type": "code",
   "execution_count": null,
   "id": "e992942a-1d70-4be3-a506-0e8095d983bc",
   "metadata": {
    "tags": [
     "file_name",
     "base_name",
     "work_bucket"
    ]
   },
   "outputs": [],
   "source": [
    "data_path = os.getenv('DATA_PATH')\n",
    "file_path = lambda *args: os.path.join(data_path, 'diygenomics-projects', 'experiment-a', work_bucket, *args)\n",
    "\n",
    "endpoint = 'https://api.mathpix.com/v3/'\n",
    "extensions = ['.md', '.mmd', '.docx', '.tex', '.html', '.lines.json', '.lines.mmd.json']\n",
    "app_id = os.getenv('MATHPIX_APP_ID')\n",
    "app_key = os.getenv('MATHPIX_APP_KEY')\n",
    "\n",
    "headers = {\n",
    "    'app_id': app_id,\n",
    "    'app_key': app_key,\n",
    "}\n",
    "\n",
    "conversion_options = {\n",
    "    'conversion_formats': {'docx': True, 'tex.zip': True},\n",
    "    'math_inline_delimiters': ['$', '$'],\n",
    "    'rm_spaces': True\n",
    "}"
   ]
  },
  {
   "cell_type": "code",
   "execution_count": null,
   "id": "3270a598-f363-44d0-b17c-4faa34cd0091",
   "metadata": {},
   "outputs": [],
   "source": [
    "def download_file(pdf_id, extension):\n",
    "    file_with_extension = f'{pdf_id}{extension}'\n",
    "    url = os.path.join(endpoint, 'pdf', file_with_extension) \n",
    "    response = requests.get(url, headers=headers)\n",
    "    if extension == '.tex':\n",
    "        file_with_extension = f'{file_with_extension}.zip'\n",
    "        \n",
    "    if extension == '.mmd':\n",
    "        with open(file_path(base_name, 'mathpix', file_with_extension), \"w\") as f:\n",
    "                f.write(response.text) \n",
    "    else:\n",
    "         with open(file_path(base_name, 'mathpix', file_with_extension), \"wb\") as f:\n",
    "                f.write(response.content)        "
   ]
  },
  {
   "cell_type": "code",
   "execution_count": null,
   "id": "b6f2cce8-e6bb-4d34-8533-df5f1aa760a4",
   "metadata": {
    "tags": []
   },
   "outputs": [],
   "source": [
    "pdf_id = None\n",
    "\n",
    "while True:\n",
    "    r = requests.post(os.path.join(endpoint, 'pdf'),\n",
    "        headers=headers,\n",
    "        data={\n",
    "            'options_json': json.dumps(conversion_options)\n",
    "        },\n",
    "        files={\n",
    "            'file': open(file_path(file_name), 'rb')\n",
    "        }\n",
    "    )\n",
    "    \n",
    "    try:\n",
    "        json_data = r.json()\n",
    "        if 'pdf_id' in json_data:\n",
    "            pdf_id = json_data['pdf_id']\n",
    "            break\n",
    "    except ValueError:\n",
    "        print(f'Invalid JSON response.\\n{r}')\n",
    "    time.sleep(60)"
   ]
  },
  {
   "cell_type": "code",
   "execution_count": null,
   "id": "4e1bf51d-4ade-48c8-b433-826ab6e0c54f",
   "metadata": {
    "tags": []
   },
   "outputs": [],
   "source": [
    "print(pdf_id)"
   ]
  },
  {
   "cell_type": "code",
   "execution_count": null,
   "id": "5888b4e2-1635-45a6-a02c-273c496f0839",
   "metadata": {},
   "outputs": [],
   "source": [
    "status = None\n",
    "\n",
    "while True:\n",
    "    r = requests.get(os.path.join(endpoint, 'converter', pdf_id), headers=headers)\n",
    "    try:\n",
    "        json_data = r.json()\n",
    "        if 'status' in json_data:\n",
    "            status = json_data['status']\n",
    "            if status == 'completed' or status == 'error':\n",
    "                break\n",
    "    except ValueError:\n",
    "        print(f'Invalid JSON response. {r}')\n",
    "    time.sleep(60)"
   ]
  },
  {
   "cell_type": "code",
   "execution_count": null,
   "id": "742ad854-9c02-4438-a713-3c97fe36f682",
   "metadata": {
    "tags": []
   },
   "outputs": [],
   "source": [
    "if status == 'completed':\n",
    "    for extension in extensions:\n",
    "        download_file(pdf_id, extension)"
   ]
  },
  {
   "cell_type": "code",
   "execution_count": null,
   "id": "a68a1789-51bb-49df-82c5-f497f1fa98d5",
   "metadata": {},
   "outputs": [],
   "source": [
    "sb.glue('external_id', pdf_id)\n",
    "sb.glue('status', status)"
   ]
  },
  {
   "cell_type": "code",
   "execution_count": null,
   "id": "effc9940-22af-4c14-b197-54a6be009342",
   "metadata": {},
   "outputs": [],
   "source": [
    "# r = requests.get(os.path.join(endpoint, 'pdf', pdf_id), headers=headers)"
   ]
  }
 ],
 "metadata": {
  "kernelspec": {
   "display_name": "Python 3 (ipykernel)",
   "language": "python",
   "name": "python3"
  },
  "language_info": {
   "codemirror_mode": {
    "name": "ipython",
    "version": 3
   },
   "file_extension": ".py",
   "mimetype": "text/x-python",
   "name": "python",
   "nbconvert_exporter": "python",
   "pygments_lexer": "ipython3",
   "version": "3.11.0"
  }
 },
 "nbformat": 4,
 "nbformat_minor": 5
}
